{
 "cells": [
  {
   "cell_type": "markdown",
   "id": "6d47d103",
   "metadata": {
    "slideshow": {
     "slide_type": "slide"
    }
   },
   "source": [
    "<font size=\"6\">ING325 - Mecánica de Fluidos</font>\n",
    "# Conceptos básicos y propiedades de los fluidos\n",
    "<br><br><br><br>\n",
    "Profesor: Francisco Ramírez Cuevas<br>\n",
    "Fecha: 2 de Marzo 2023"
   ]
  },
  {
   "cell_type": "markdown",
   "id": "fed7c571",
   "metadata": {
    "cell_style": "center",
    "slideshow": {
     "slide_type": "slide"
    }
   },
   "source": [
    "## Complejidad de algoritmos"
   ]
  },
  {
   "cell_type": "markdown",
   "id": "81ec5c39",
   "metadata": {},
   "source": [
    "### ¿Qué es un algoritmo?\n",
    "Un algoritmo es una serie ordenada de operaciones sistemáticas que permite hacer un cálculo y hallar la solución de un tipo de problemas."
   ]
  },
  {
   "cell_type": "markdown",
   "id": "94ec6498",
   "metadata": {
    "cell_style": "split"
   },
   "source": [
    "Por ejemplo:"
   ]
  },
  {
   "cell_type": "code",
   "execution_count": 1,
   "id": "26d3ba5d",
   "metadata": {
    "cell_style": "split"
   },
   "outputs": [],
   "source": [
    "def f(n):\n",
    "    out = 0\n",
    "    for i in range(n):\n",
    "        for j in range(n):\n",
    "            out += i*j\n",
    "    return out"
   ]
  },
  {
   "cell_type": "markdown",
   "id": "bca6defb",
   "metadata": {
    "slideshow": {
     "slide_type": "slide"
    }
   },
   "source": [
    "La complejidad de un algoritmo es la **relación entre el tamaño del input $N$** y la **cantidad de operaciones para completarlo**.\n",
    "Una forma de determinar la complejidad del algoritmo es **contabilizar las operaciones básicas**:\n",
    "- sumas\n",
    "- restas\n",
    "- multiplicaciones\n",
    "- divisiones\n",
    "- asignación de variables\n",
    "- llamados a otras funciones"
   ]
  },
  {
   "cell_type": "markdown",
   "id": "b55b80d6",
   "metadata": {
    "slideshow": {
     "slide_type": "slide"
    }
   },
   "source": [
    "Por ejemplo, en el siguiente algoritmo:"
   ]
  },
  {
   "cell_type": "code",
   "execution_count": 2,
   "id": "721f9f8b",
   "metadata": {
    "cell_style": "split",
    "slideshow": {
     "slide_type": "-"
    }
   },
   "outputs": [],
   "source": [
    "def f(n):\n",
    "    out = 0\n",
    "    for i in range(n):\n",
    "        for j in range(n):\n",
    "            out += i*j\n",
    "    return out"
   ]
  },
  {
   "cell_type": "markdown",
   "id": "8d77c677",
   "metadata": {
    "cell_style": "split"
   },
   "source": [
    "El número de operaciones son:\n",
    "- sumas: $N^2$\n",
    "- restas: 0\n",
    "- multiplicaciones: $N^2$\n",
    "- divisiones: 0\n",
    "- asignación de variables: $2N^2 + N + 1$\n",
    "- llamados a otras funciones: 0"
   ]
  },
  {
   "cell_type": "markdown",
   "id": "3fc3f8b3",
   "metadata": {},
   "source": [
    "Así, el **total de operaciónes** para completar el algoritmo es $4N^2+N+1$."
   ]
  },
  {
   "cell_type": "markdown",
   "id": "c8724cdd",
   "metadata": {
    "slideshow": {
     "slide_type": "slide"
    }
   },
   "source": [
    "### Notación *Big-O*\n",
    "A medida que el tamaño de $N$ aumenta, las operaciones de mayor orden se hacen dominantes. Así, podemos decir que la complejidad del algoritmo anterior es del orden $O(N^2)$. Esta notación, denominada ***Big-O***, es comúnmente utiilzada para **determinar la complejidad del algoritmo cuando $N$ es de gran tamaño**."
   ]
  },
  {
   "cell_type": "markdown",
   "id": "bb31908e",
   "metadata": {},
   "source": [
    "> **Nota** Un algoritmo tiene complejidad **polynomial** cuando es del tipo $O(N^c)$, donde $c$ es una constante."
   ]
  },
  {
   "cell_type": "markdown",
   "id": "8f0793f2",
   "metadata": {
    "slideshow": {
     "slide_type": "slide"
    }
   },
   "source": [
    "Analicemos la complejidad del siguiente algortimo:"
   ]
  },
  {
   "cell_type": "code",
   "execution_count": 3,
   "id": "17b1d4d4",
   "metadata": {
    "cell_style": "split"
   },
   "outputs": [],
   "source": [
    "def my_divide_by_two(n):\n",
    "    \n",
    "    out = 0\n",
    "    while n > 1:\n",
    "        n /= 2\n",
    "        out += 1\n",
    "        \n",
    "    return out"
   ]
  },
  {
   "cell_type": "markdown",
   "id": "c9281b75",
   "metadata": {
    "cell_style": "split"
   },
   "source": [
    "A medida que $N$ crece podemos ver que la parte dominante de este algoritmo esta dentro de la operación ```while```."
   ]
  },
  {
   "cell_type": "markdown",
   "id": "794e3ff6",
   "metadata": {
    "slideshow": {
     "slide_type": "-"
    }
   },
   "source": [
    "Si analizamos el número de iteraciones $I$ para un determinado $N$, notaremos que estos están en la relacción $N/2^I = 1$, es decir $I\\approx \\log N$. Así, la complejidad de este algoritmo es $O(\\log N)$."
   ]
  },
  {
   "cell_type": "markdown",
   "id": "4ac282e6",
   "metadata": {},
   "source": [
    "> **Nota** Un algoritmo tiene complejidad **logaritmica** cuando es del tipo $O(\\log N)$."
   ]
  },
  {
   "cell_type": "markdown",
   "id": "2e84ee01",
   "metadata": {
    "slideshow": {
     "slide_type": "slide"
    }
   },
   "source": [
    "### Serie de Fibonacci y complejidad exponencial\n",
    "\n",
    "Una operación matemática puede ser ejecutada mediante algoritmos con diferente complejidad. Por ejemplo, consideremos la serie de Fibonacci.\n",
    "\n",
    "<img src=\"./imagenes/Fibonacci.jpg\" width=\"350\" align= center>"
   ]
  },
  {
   "cell_type": "markdown",
   "id": "3465e62c",
   "metadata": {},
   "source": [
    "Esta operación puede ejecutarse de dos maneras: (1) de forma iterativa, (2) de forma recursiva"
   ]
  },
  {
   "cell_type": "markdown",
   "id": "4af43915",
   "metadata": {
    "slideshow": {
     "slide_type": "slide"
    }
   },
   "source": [
    "**(1) Forma iterativa.** complejidad $O(N)$"
   ]
  },
  {
   "cell_type": "code",
   "execution_count": 2,
   "id": "23be1674",
   "metadata": {
    "cell_style": "split",
    "slideshow": {
     "slide_type": "-"
    }
   },
   "outputs": [],
   "source": [
    "def my_fib_iter(n):\n",
    "    \n",
    "    out = [1, 1]\n",
    "    \n",
    "    for i in range(2, n+1):\n",
    "        out.append(out[i - 1] + out[i - 2])\n",
    "        \n",
    "    return out[-1]"
   ]
  },
  {
   "cell_type": "code",
   "execution_count": 3,
   "id": "dac3fc73",
   "metadata": {
    "cell_style": "split"
   },
   "outputs": [
    {
     "data": {
      "text/plain": [
       "13"
      ]
     },
     "execution_count": 3,
     "metadata": {},
     "output_type": "execute_result"
    }
   ],
   "source": [
    "my_fib_iter(6)"
   ]
  },
  {
   "cell_type": "markdown",
   "id": "99f48d12",
   "metadata": {
    "slideshow": {
     "slide_type": "slide"
    }
   },
   "source": [
    "**(2) Forma recursiva.** complejidad $O\\left(2^N\\right)$"
   ]
  },
  {
   "cell_type": "code",
   "execution_count": 6,
   "id": "87d8a76d",
   "metadata": {
    "cell_style": "split",
    "slideshow": {
     "slide_type": "-"
    }
   },
   "outputs": [],
   "source": [
    "def my_fib_rec(n):\n",
    "    \n",
    "    if n < 2:\n",
    "        out = 1\n",
    "    else:\n",
    "        out = my_fib_rec(n-1) + my_fib_rec(n-2)\n",
    "        \n",
    "    return out"
   ]
  },
  {
   "cell_type": "code",
   "execution_count": 7,
   "id": "27ba2d54",
   "metadata": {
    "cell_style": "split",
    "scrolled": true
   },
   "outputs": [
    {
     "data": {
      "text/plain": [
       "8"
      ]
     },
     "execution_count": 7,
     "metadata": {},
     "output_type": "execute_result"
    }
   ],
   "source": [
    "my_fib_rec(5)"
   ]
  },
  {
   "cell_type": "markdown",
   "id": "f565f89c",
   "metadata": {},
   "source": [
    "> **Nota** Un algoritmo tiene complejidad **exponencial** cuando es del tipo $O(c^N)$, donde $c$ es una constante."
   ]
  },
  {
   "cell_type": "markdown",
   "id": "3b8ed34f",
   "metadata": {
    "cell_style": "center",
    "slideshow": {
     "slide_type": "slide"
    }
   },
   "source": [
    "### Notación *Big-O* y tiempo de computación\n",
    "La complejidad en la notación *Big-O* nos entrega una referencia del tiempo computacional dedicado para un determinado algoritmo."
   ]
  },
  {
   "cell_type": "markdown",
   "id": "1b626be9",
   "metadata": {
    "cell_style": "split"
   },
   "source": [
    "<img src=\"./imagenes/08.02.01-complexity.png\" width=\"300\" align= center>"
   ]
  },
  {
   "cell_type": "markdown",
   "id": "bb5b2d5b",
   "metadata": {
    "cell_style": "split",
    "slideshow": {
     "slide_type": "-"
    }
   },
   "source": [
    "Así, por ejemplo, si consideramos un procesador Intel i7-12700K - 5GHz *($\\approx$ 5 billones de operaciones por segundo)*:\n",
    "- ```my_fib_iter(100)``` <br>tomaría $\\approx$ 0.2 nanosegundos\n",
    "<br>\n",
    "- ```my_fib_recur(100)``` <br>tomaría $\\approx$ 8 trillones de años"
   ]
  },
  {
   "cell_type": "markdown",
   "id": "92d442ae",
   "metadata": {
    "cell_style": "center",
    "slideshow": {
     "slide_type": "slide"
    }
   },
   "source": [
    "Podemos evaluar el tiempo de ejecución con la sentencia ```%time```"
   ]
  },
  {
   "cell_type": "code",
   "execution_count": 8,
   "id": "784d7a13",
   "metadata": {
    "cell_style": "center"
   },
   "outputs": [
    {
     "name": "stdout",
     "output_type": "stream",
     "text": [
      "CPU times: total: 0 ns\n",
      "Wall time: 0 ns\n"
     ]
    }
   ],
   "source": [
    "%time a = my_fib_iter(30)"
   ]
  },
  {
   "cell_type": "code",
   "execution_count": 9,
   "id": "38947902",
   "metadata": {
    "cell_style": "center",
    "scrolled": true
   },
   "outputs": [
    {
     "name": "stdout",
     "output_type": "stream",
     "text": [
      "CPU times: total: 422 ms\n",
      "Wall time: 420 ms\n"
     ]
    }
   ],
   "source": [
    "%time a = my_fib_rec(30) #Nota. No probar N>30"
   ]
  },
  {
   "cell_type": "markdown",
   "id": "fc0b4fef",
   "metadata": {},
   "source": [
    "> **nota** En general, se deben evitar los algoritmos de complejidad exponencial"
   ]
  },
  {
   "cell_type": "markdown",
   "id": "d12f2f56",
   "metadata": {
    "slideshow": {
     "slide_type": "slide"
    }
   },
   "source": [
    "## Representación binaria y errores de reondeo\n",
    "En un computador, la información es almacenada en formato binario. Un **bit** puede tener dos valores: 0 o 1.\n",
    "El computador es capaz de interpretar número utilizando códigos binarios.\n",
    "\n",
    "Por ejemplo, el código de 8 bits $001000101$ es equivalente a:\n",
    "\n",
    "\\begin{equation*}\n",
    " 0\\cdot2^7 + 0\\cdot2^6 + 1\\cdot2^5 + 0\\cdot2^4 + 0\\cdot2^3 + 1\\cdot2^2 + 0\\cdot2^1 + 1\\cdot2^0 = 37\n",
    "\\end{equation*}"
   ]
  },
  {
   "cell_type": "markdown",
   "id": "a965b73c",
   "metadata": {
    "slideshow": {
     "slide_type": "slide"
    }
   },
   "source": [
    "Cada variable tiene una cantidad de bits asociada.\n",
    "\n",
    "|Tipo|Nombre|Número de bits|Rango de valores|\n",
    "|:-:|:-:|:-:|:-:|\n",
    "|bool|Boolean|1|```True``` o ```Flase```|\n",
    "|int32|Single precision integer|32|-2147483648 a 2147483647|\n",
    "|float64|Double presition float|64|$(-1)^s2^{e - 1024}\\left(1 + f\\right)$<br /> $s$: 1 bit; <br /> $e$: 11 bits; <br /> $f$: 52 bits|"
   ]
  },
  {
   "cell_type": "markdown",
   "id": "aa74068b",
   "metadata": {
    "slideshow": {
     "slide_type": "slide"
    }
   },
   "source": [
    "En python el tipo de variable se asigna dinámicamente. El número de bits depende de la versión de Python y el formato de la máquina en número de bits. Por ejemplo, para una máquina de 64 bits:"
   ]
  },
  {
   "cell_type": "code",
   "execution_count": 10,
   "id": "4cd7e653",
   "metadata": {},
   "outputs": [
    {
     "data": {
      "text/plain": [
       "int"
      ]
     },
     "execution_count": 10,
     "metadata": {},
     "output_type": "execute_result"
    }
   ],
   "source": [
    "type(34) #int64"
   ]
  },
  {
   "cell_type": "code",
   "execution_count": 11,
   "id": "f056a05f",
   "metadata": {},
   "outputs": [
    {
     "data": {
      "text/plain": [
       "float"
      ]
     },
     "execution_count": 11,
     "metadata": {},
     "output_type": "execute_result"
    }
   ],
   "source": [
    "type(0.4e8) #float64"
   ]
  },
  {
   "cell_type": "markdown",
   "id": "f2f5afa6",
   "metadata": {},
   "source": [
    "Usando \"Numpy\", podemos controlar el número de bits asignados a una determinada variable"
   ]
  },
  {
   "cell_type": "code",
   "execution_count": 12,
   "id": "649e3cc8",
   "metadata": {
    "scrolled": true
   },
   "outputs": [
    {
     "data": {
      "text/plain": [
       "array([0], dtype=int16)"
      ]
     },
     "execution_count": 12,
     "metadata": {},
     "output_type": "execute_result"
    }
   ],
   "source": [
    "import numpy as np\n",
    "np.zeros(1, dtype='int16')"
   ]
  },
  {
   "cell_type": "markdown",
   "id": "99aa0c63",
   "metadata": {
    "slideshow": {
     "slide_type": "slide"
    }
   },
   "source": [
    "### Redondeo en variables tipo `float`"
   ]
  },
  {
   "cell_type": "markdown",
   "id": "a957680b",
   "metadata": {
    "cell_style": "center",
    "slideshow": {
     "slide_type": "-"
    }
   },
   "source": [
    "En variables tipo `float`, para un determinado número de bits, existe un máximo y mínimo valor que puede ser representado. En Python, valores mayores o menores a estos son representados como `inf` o `0`, respectivamente."
   ]
  },
  {
   "cell_type": "markdown",
   "id": "b5f35804",
   "metadata": {
    "cell_style": "center",
    "slideshow": {
     "slide_type": "slide"
    }
   },
   "source": [
    "Podemos deterinar estos límites mediante la librería `sys`"
   ]
  },
  {
   "cell_type": "code",
   "execution_count": 13,
   "id": "6a2f6efc",
   "metadata": {
    "cell_style": "center"
   },
   "outputs": [
    {
     "data": {
      "text/plain": [
       "sys.float_info(max=1.7976931348623157e+308, max_exp=1024, max_10_exp=308, min=2.2250738585072014e-308, min_exp=-1021, min_10_exp=-307, dig=15, mant_dig=53, epsilon=2.220446049250313e-16, radix=2, rounds=1)"
      ]
     },
     "execution_count": 13,
     "metadata": {},
     "output_type": "execute_result"
    }
   ],
   "source": [
    "import sys\n",
    "sys.float_info"
   ]
  },
  {
   "cell_type": "code",
   "execution_count": 14,
   "id": "178d7f45",
   "metadata": {
    "cell_style": "center"
   },
   "outputs": [
    {
     "data": {
      "text/plain": [
       "inf"
      ]
     },
     "execution_count": 14,
     "metadata": {},
     "output_type": "execute_result"
    }
   ],
   "source": [
    "2e+308 #mayor al maximo 1.7976931348623157e+308"
   ]
  },
  {
   "cell_type": "code",
   "execution_count": 15,
   "id": "1b6cc7e9",
   "metadata": {
    "cell_style": "center"
   },
   "outputs": [
    {
     "data": {
      "text/plain": [
       "0.0"
      ]
     },
     "execution_count": 15,
     "metadata": {},
     "output_type": "execute_result"
    }
   ],
   "source": [
    "1e-324 # menor al mínimo no normalizado 5e-324"
   ]
  },
  {
   "cell_type": "code",
   "execution_count": 16,
   "id": "8fd226f4",
   "metadata": {},
   "outputs": [
    {
     "data": {
      "text/plain": [
       "5e-324"
      ]
     },
     "execution_count": 16,
     "metadata": {},
     "output_type": "execute_result"
    }
   ],
   "source": [
    "# Mínimo no normalizado\n",
    "sys.float_info.min * sys.float_info.epsilon"
   ]
  },
  {
   "cell_type": "markdown",
   "id": "b27b7c49",
   "metadata": {
    "slideshow": {
     "slide_type": "slide"
    }
   },
   "source": [
    "### Errores de redondeo en variables tipo ```float```\n",
    "Las **variables del tipo ```int```** no son divisibles y, por lo tanto, **no sufren errores de redondeo**:"
   ]
  },
  {
   "cell_type": "code",
   "execution_count": 17,
   "id": "eab7a5ff",
   "metadata": {
    "scrolled": true
   },
   "outputs": [
    {
     "data": {
      "text/plain": [
       "True"
      ]
     },
     "execution_count": 17,
     "metadata": {},
     "output_type": "execute_result"
    }
   ],
   "source": [
    "5 - 2 == 3"
   ]
  },
  {
   "cell_type": "markdown",
   "id": "ca6e9895",
   "metadata": {
    "slideshow": {
     "slide_type": "slide"
    }
   },
   "source": [
    "Sin embargo, una **variable del tipo ```float```** es divisible. Esto significa que existe una cantidad de dígitos significativos reservados para un número, lo que **puede inducir errores de redondeo**:"
   ]
  },
  {
   "cell_type": "code",
   "execution_count": 18,
   "id": "04c7c883",
   "metadata": {},
   "outputs": [
    {
     "data": {
      "text/plain": [
       "False"
      ]
     },
     "execution_count": 18,
     "metadata": {},
     "output_type": "execute_result"
    }
   ],
   "source": [
    "0.1 + 0.2 + 0.3 == 0.6"
   ]
  },
  {
   "cell_type": "markdown",
   "id": "eebe355a",
   "metadata": {},
   "source": [
    "Para este tipo de operaciones es recomendable utilizar la función ```round```"
   ]
  },
  {
   "cell_type": "code",
   "execution_count": 19,
   "id": "3770c75b",
   "metadata": {},
   "outputs": [
    {
     "data": {
      "text/plain": [
       "True"
      ]
     },
     "execution_count": 19,
     "metadata": {},
     "output_type": "execute_result"
    }
   ],
   "source": [
    "round(0.1 + 0.2 + 0.3) == round(0.6)"
   ]
  },
  {
   "cell_type": "markdown",
   "id": "ef783661",
   "metadata": {
    "slideshow": {
     "slide_type": "slide"
    }
   },
   "source": [
    "### Acumulacion de errores de reondeo\n",
    "Cuando un código ejecuta una secuencia de operaciones, los errores de redonde suelen amplficarse."
   ]
  },
  {
   "cell_type": "code",
   "execution_count": 20,
   "id": "cde06dea",
   "metadata": {},
   "outputs": [
    {
     "data": {
      "text/plain": [
       "1.0"
      ]
     },
     "execution_count": 20,
     "metadata": {},
     "output_type": "execute_result"
    }
   ],
   "source": [
    "# Si ejecutamos esta operación una vez\n",
    "1 + 1/3 - 1/3"
   ]
  },
  {
   "cell_type": "code",
   "execution_count": 21,
   "id": "2ab68f06",
   "metadata": {},
   "outputs": [],
   "source": [
    "def add_and_subtract(iterations):\n",
    "    result = 1\n",
    "    \n",
    "    for i in range(iterations):\n",
    "        result += 1/3\n",
    "\n",
    "    for i in range(iterations):\n",
    "        result -= 1/3\n",
    "    return result"
   ]
  },
  {
   "cell_type": "code",
   "execution_count": 22,
   "id": "c9afc4c7",
   "metadata": {
    "scrolled": true,
    "slideshow": {
     "slide_type": "slide"
    }
   },
   "outputs": [
    {
     "data": {
      "text/plain": [
       "1.0000000000000002"
      ]
     },
     "execution_count": 22,
     "metadata": {},
     "output_type": "execute_result"
    }
   ],
   "source": [
    "add_and_subtract(100) # Si ejecutamos esta operación 100 veces"
   ]
  },
  {
   "cell_type": "code",
   "execution_count": 23,
   "id": "31df9e86",
   "metadata": {},
   "outputs": [
    {
     "data": {
      "text/plain": [
       "1.0000000000000064"
      ]
     },
     "execution_count": 23,
     "metadata": {},
     "output_type": "execute_result"
    }
   ],
   "source": [
    "add_and_subtract(1000) # Si ejecutamos esta operación 1000 veces"
   ]
  },
  {
   "cell_type": "code",
   "execution_count": 24,
   "id": "6fe496cb",
   "metadata": {},
   "outputs": [
    {
     "data": {
      "text/plain": [
       "1.0000000000001166"
      ]
     },
     "execution_count": 24,
     "metadata": {},
     "output_type": "execute_result"
    }
   ],
   "source": [
    "add_and_subtract(10000) # Si ejecutamos esta operación 10000 veces"
   ]
  },
  {
   "cell_type": "markdown",
   "id": "e35e3393",
   "metadata": {
    "slideshow": {
     "slide_type": "slide"
    }
   },
   "source": [
    "## Identificación de errores y debugging\n",
    "Cuando los códigos de programación son grandes, a veces es necesario utlizar herramientas de ***debugging***. Estas herramientas nos permiten revisar las distintas etapas dentro de un algoritmo.\n",
    "\n",
    "Podemos llamar al debugger agregando mediante la librería *python debugger* ```pdb```."
   ]
  },
  {
   "cell_type": "markdown",
   "id": "b0db5dc8",
   "metadata": {},
   "source": [
    "Por ejemplo, consideremos la siguiente función"
   ]
  },
  {
   "cell_type": "code",
   "execution_count": 25,
   "id": "ad0834fd",
   "metadata": {},
   "outputs": [],
   "source": [
    "def square_number(x):\n",
    "    sq = x**2\n",
    "    sq += x\n",
    "    \n",
    "    return sq"
   ]
  },
  {
   "cell_type": "code",
   "execution_count": 26,
   "id": "7460a4e4",
   "metadata": {
    "scrolled": true,
    "slideshow": {
     "slide_type": "slide"
    }
   },
   "outputs": [
    {
     "ename": "TypeError",
     "evalue": "unsupported operand type(s) for ** or pow(): 'str' and 'int'",
     "output_type": "error",
     "traceback": [
      "\u001b[1;31m---------------------------------------------------------------------------\u001b[0m",
      "\u001b[1;31mTypeError\u001b[0m                                 Traceback (most recent call last)",
      "Input \u001b[1;32mIn [26]\u001b[0m, in \u001b[0;36m<cell line: 1>\u001b[1;34m()\u001b[0m\n\u001b[1;32m----> 1\u001b[0m \u001b[43msquare_number\u001b[49m\u001b[43m(\u001b[49m\u001b[38;5;124;43m'\u001b[39;49m\u001b[38;5;124;43m10\u001b[39;49m\u001b[38;5;124;43m'\u001b[39;49m\u001b[43m)\u001b[49m\n",
      "Input \u001b[1;32mIn [25]\u001b[0m, in \u001b[0;36msquare_number\u001b[1;34m(x)\u001b[0m\n\u001b[0;32m      1\u001b[0m \u001b[38;5;28;01mdef\u001b[39;00m \u001b[38;5;21msquare_number\u001b[39m(x):\n\u001b[1;32m----> 2\u001b[0m     sq \u001b[38;5;241m=\u001b[39m \u001b[43mx\u001b[49m\u001b[38;5;241;43m*\u001b[39;49m\u001b[38;5;241;43m*\u001b[39;49m\u001b[38;5;241;43m2\u001b[39;49m\n\u001b[0;32m      3\u001b[0m     sq \u001b[38;5;241m+\u001b[39m\u001b[38;5;241m=\u001b[39m x\n\u001b[0;32m      5\u001b[0m     \u001b[38;5;28;01mreturn\u001b[39;00m sq\n",
      "\u001b[1;31mTypeError\u001b[0m: unsupported operand type(s) for ** or pow(): 'str' and 'int'"
     ]
    }
   ],
   "source": [
    "square_number('10')"
   ]
  },
  {
   "cell_type": "markdown",
   "id": "f97c52f2",
   "metadata": {
    "slideshow": {
     "slide_type": "slide"
    }
   },
   "source": [
    "Agregando la sentencia ```%pdb on``` antes de llamar la función podemos analizar el codigo y detectar posibles fuentes de error."
   ]
  },
  {
   "cell_type": "code",
   "execution_count": 27,
   "id": "6a7af355",
   "metadata": {
    "scrolled": false
   },
   "outputs": [
    {
     "name": "stdout",
     "output_type": "stream",
     "text": [
      "Automatic pdb calling has been turned ON\n"
     ]
    },
    {
     "ename": "TypeError",
     "evalue": "unsupported operand type(s) for ** or pow(): 'str' and 'int'",
     "output_type": "error",
     "traceback": [
      "\u001b[1;31m---------------------------------------------------------------------------\u001b[0m",
      "\u001b[1;31mTypeError\u001b[0m                                 Traceback (most recent call last)",
      "Input \u001b[1;32mIn [27]\u001b[0m, in \u001b[0;36m<cell line: 3>\u001b[1;34m()\u001b[0m\n\u001b[0;32m      1\u001b[0m \u001b[38;5;66;03m# llamamos al debugger de python\u001b[39;00m\n\u001b[0;32m      2\u001b[0m get_ipython()\u001b[38;5;241m.\u001b[39mrun_line_magic(\u001b[38;5;124m'\u001b[39m\u001b[38;5;124mpdb\u001b[39m\u001b[38;5;124m'\u001b[39m, \u001b[38;5;124m'\u001b[39m\u001b[38;5;124mon\u001b[39m\u001b[38;5;124m'\u001b[39m)\n\u001b[1;32m----> 3\u001b[0m \u001b[43msquare_number\u001b[49m\u001b[43m(\u001b[49m\u001b[38;5;124;43m'\u001b[39;49m\u001b[38;5;124;43m10\u001b[39;49m\u001b[38;5;124;43m'\u001b[39;49m\u001b[43m)\u001b[49m\n",
      "Input \u001b[1;32mIn [25]\u001b[0m, in \u001b[0;36msquare_number\u001b[1;34m(x)\u001b[0m\n\u001b[0;32m      1\u001b[0m \u001b[38;5;28;01mdef\u001b[39;00m \u001b[38;5;21msquare_number\u001b[39m(x):\n\u001b[1;32m----> 2\u001b[0m     sq \u001b[38;5;241m=\u001b[39m \u001b[43mx\u001b[49m\u001b[38;5;241;43m*\u001b[39;49m\u001b[38;5;241;43m*\u001b[39;49m\u001b[38;5;241;43m2\u001b[39;49m\n\u001b[0;32m      3\u001b[0m     sq \u001b[38;5;241m+\u001b[39m\u001b[38;5;241m=\u001b[39m x\n\u001b[0;32m      5\u001b[0m     \u001b[38;5;28;01mreturn\u001b[39;00m sq\n",
      "\u001b[1;31mTypeError\u001b[0m: unsupported operand type(s) for ** or pow(): 'str' and 'int'"
     ]
    },
    {
     "name": "stdout",
     "output_type": "stream",
     "text": [
      "> \u001b[1;32mc:\\users\\francisco.ramirez.c\\appdata\\local\\temp\\ipykernel_13000\\2802720476.py\u001b[0m(2)\u001b[0;36msquare_number\u001b[1;34m()\u001b[0m\n",
      "\n",
      "ipdb> help\n",
      "\n",
      "Documented commands (type help <topic>):\n",
      "========================================\n",
      "EOF    commands   enable    ll        pp       s                until \n",
      "a      condition  exit      longlist  psource  skip_hidden      up    \n",
      "alias  cont       h         n         q        skip_predicates  w     \n",
      "args   context    help      next      quit     source           whatis\n",
      "b      continue   ignore    p         r        step             where \n",
      "break  d          interact  pdef      restart  tbreak         \n",
      "bt     debug      j         pdoc      return   u              \n",
      "c      disable    jump      pfile     retval   unalias        \n",
      "cl     display    l         pinfo     run      undisplay      \n",
      "clear  down       list      pinfo2    rv       unt            \n",
      "\n",
      "Miscellaneous help topics:\n",
      "==========================\n",
      "exec  pdb\n",
      "\n",
      "ipdb> h a\n",
      "a(rgs)\n",
      "        Print the argument list of the current function.\n",
      "ipdb> a\n",
      "x = '10'\n",
      "ipdb> h p\n",
      "p expression\n",
      "        Print the value of the expression.\n",
      "ipdb> p x**2\n",
      "*** TypeError: unsupported operand type(s) for ** or pow(): 'str' and 'int'\n",
      "ipdb> p locals()\n",
      "{'x': '10'}\n",
      "ipdb> quit\n"
     ]
    }
   ],
   "source": [
    "# llamamos al debugger de python\n",
    "%pdb on\n",
    "square_number('10')"
   ]
  },
  {
   "cell_type": "code",
   "execution_count": 28,
   "id": "81889fe8",
   "metadata": {},
   "outputs": [
    {
     "name": "stdout",
     "output_type": "stream",
     "text": [
      "Automatic pdb calling has been turned OFF\n"
     ]
    }
   ],
   "source": [
    "# detenemos el debugger\n",
    "%pdb off"
   ]
  },
  {
   "cell_type": "markdown",
   "id": "ae7e6754",
   "metadata": {
    "slideshow": {
     "slide_type": "slide"
    }
   },
   "source": [
    "También podemos agregar *breakpoints* en distintas líneas de código para detener el *debugger*. "
   ]
  },
  {
   "cell_type": "code",
   "execution_count": 29,
   "id": "4d4e6572",
   "metadata": {},
   "outputs": [],
   "source": [
    "import pdb\n",
    "def square_number(x):\n",
    "    \n",
    "    pdb.set_trace() # agregamos un 1er breakpoint\n",
    "    sq = x**2\n",
    "    \n",
    "    pdb.set_trace() # agregamos un 2do breakpoint\n",
    "    \n",
    "    sq += x\n",
    "    \n",
    "    return sq"
   ]
  },
  {
   "cell_type": "code",
   "execution_count": 31,
   "id": "7a0fdefd",
   "metadata": {
    "slideshow": {
     "slide_type": "slide"
    }
   },
   "outputs": [
    {
     "name": "stdout",
     "output_type": "stream",
     "text": [
      "> \u001b[1;32mc:\\users\\francisco.ramirez.c\\appdata\\local\\temp\\ipykernel_13000\\1502937933.py\u001b[0m(5)\u001b[0;36msquare_number\u001b[1;34m()\u001b[0m\n",
      "\n",
      "ipdb> a\n",
      "x = 3\n",
      "ipdb> p locals()\n",
      "{'x': 3}\n",
      "ipdb> sq\n",
      "*** NameError: name 'sq' is not defined\n",
      "ipdb> continue\n",
      "> \u001b[1;32mc:\\users\\francisco.ramirez.c\\appdata\\local\\temp\\ipykernel_13000\\1502937933.py\u001b[0m(9)\u001b[0;36msquare_number\u001b[1;34m()\u001b[0m\n",
      "\n",
      "ipdb> p locals()\n",
      "{'x': 3, 'sq': 9}\n",
      "ipdb> sq\n",
      "9\n",
      "ipdb> p sq - x\n",
      "6\n",
      "ipdb> quit\n"
     ]
    }
   ],
   "source": [
    "square_number(3)"
   ]
  },
  {
   "cell_type": "markdown",
   "id": "b0485bbc",
   "metadata": {
    "slideshow": {
     "slide_type": "slide"
    }
   },
   "source": [
    "Algunos comandos útiles de ```pdb```:\n",
    "- ```help```: lista de todos los comandos del debugger\n",
    "- ```h ``` *#comando*: detalle del funcionamiento de un comando en específico\n",
    "- ```a``` o ```args```: muestra el valor del argumento de la función\n",
    "- ```p```: imprime el valor de una expresión específica. Usar ```locals()``` para mostrar valor de variables locales\n",
    "- ```pdb.trace()```: agrega un *breakpoint* (pausa en el código)\n",
    "- ```continue```: continua con el código despues de un *breakpoint*\n",
    "- ```quit```: finaliza el debugger."
   ]
  },
  {
   "cell_type": "markdown",
   "id": "33d3b1b6",
   "metadata": {},
   "source": [
    "## Referencias\n",
    "Kong Q., Siauw T., Bayen A. M. “[Python Programming and Numerical Methods – A Guide for Engineers and Scientists](https://pythonnumericalmethods.berkeley.edu/notebooks/Index.html)”, 1st Ed., Academic Press, 2021\n",
    "- Capitulo 8 (Complejidad de algoritmos)\n",
    "- Capítulo 9 (Representación binaria y errores de redondeo)\n",
    "- Calítulo 10 (Identificación de errores y debugging)"
   ]
  }
 ],
 "metadata": {
  "kernelspec": {
   "display_name": "Python 3 (ipykernel)",
   "language": "python",
   "name": "python3"
  },
  "language_info": {
   "codemirror_mode": {
    "name": "ipython",
    "version": 3
   },
   "file_extension": ".py",
   "mimetype": "text/x-python",
   "name": "python",
   "nbconvert_exporter": "python",
   "pygments_lexer": "ipython3",
   "version": "3.10.8"
  },
  "latex_envs": {
   "LaTeX_envs_menu_present": true,
   "autoclose": false,
   "autocomplete": true,
   "bibliofile": "biblio.bib",
   "cite_by": "apalike",
   "current_citInitial": 1,
   "eqLabelWithNumbers": true,
   "eqNumInitial": 1,
   "hotkeys": {
    "equation": "Ctrl-E",
    "itemize": "Ctrl-I"
   },
   "labels_anchors": false,
   "latex_user_defs": false,
   "report_style_numbering": false,
   "user_envs_cfg": false
  },
  "rise": {
   "height": "100%",
   "theme": "simple",
   "width": "100%"
  },
  "toc": {
   "base_numbering": "",
   "nav_menu": {},
   "number_sections": false,
   "sideBar": true,
   "skip_h1_title": true,
   "title_cell": "Contenidos",
   "title_sidebar": "Contenidos",
   "toc_cell": false,
   "toc_position": {
    "height": "calc(100% - 180px)",
    "left": "10px",
    "top": "150px",
    "width": "303.837px"
   },
   "toc_section_display": true,
   "toc_window_display": false
  },
  "varInspector": {
   "cols": {
    "lenName": 16,
    "lenType": 16,
    "lenVar": 40
   },
   "kernels_config": {
    "python": {
     "delete_cmd_postfix": "",
     "delete_cmd_prefix": "del ",
     "library": "var_list.py",
     "varRefreshCmd": "print(var_dic_list())"
    },
    "r": {
     "delete_cmd_postfix": ") ",
     "delete_cmd_prefix": "rm(",
     "library": "var_list.r",
     "varRefreshCmd": "cat(var_dic_list()) "
    }
   },
   "types_to_exclude": [
    "module",
    "function",
    "builtin_function_or_method",
    "instance",
    "_Feature"
   ],
   "window_display": false
  }
 },
 "nbformat": 4,
 "nbformat_minor": 5
}
