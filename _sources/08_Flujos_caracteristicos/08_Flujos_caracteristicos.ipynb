{
 "cells": [
  {
   "cell_type": "markdown",
   "id": "4769825b",
   "metadata": {
    "slideshow": {
     "slide_type": "slide"
    }
   },
   "source": [
    "# Análisis de las ecuaciones de Navier-Stokes"
   ]
  },
  {
   "cell_type": "markdown",
   "id": "56dcb86e",
   "metadata": {
    "slideshow": {
     "slide_type": "slide"
    }
   },
   "source": [
    "## Introducción\n",
    "\n",
    "En la unidad anterior dedujimos las ecuaciones de conservación de masa y momento lineal en su forma diferencial. Respecto a esta última, derivamos las ecuaciones de Navier-Stokes, las cuales corresponden a un caso particular para:\n",
    "\n",
    "- Fluido incompresible\n",
    "- Fluido Newtoniano"
   ]
  },
  {
   "cell_type": "markdown",
   "id": "e8296a5f",
   "metadata": {
    "slideshow": {
     "slide_type": "fragment"
    }
   },
   "source": [
    "\n",
    "Estas ecuaciones son la base de la mecánica de fluidos. Técnicamente, cualquier problema de la mecánica de fluidos asociado a las condiciones *incompresible-newtoniano* puede ser caracterizado a partir de la solución de estas ecuaciones. Sin embargo, la complejidad asociada al número de incógnitas, variables independientes, y sobre todo a su condición no-lineal, hacen imposible su solución, salvo en casos particulares."
   ]
  },
  {
   "cell_type": "markdown",
   "id": "1adfb2f9",
   "metadata": {
    "slideshow": {
     "slide_type": "fragment"
    }
   },
   "source": [
    "En esta unidad analizaremos estas ecuaciones y mostraremos su comportamiento para estos casos."
   ]
  },
  {
   "cell_type": "markdown",
   "id": "4149086b",
   "metadata": {
    "slideshow": {
     "slide_type": "slide"
    }
   },
   "source": [
    "## Soluciones de N-S y continuidad\n",
    "\n",
    "A pesar de su complejidad, existen problemas sencillos donde las ecuaciones de Navier-Stokes en conjunto con la ecuación de continuidad tienen solución analítica."
   ]
  },
  {
   "cell_type": "markdown",
   "id": "e8782171",
   "metadata": {
    "slideshow": {
     "slide_type": "fragment"
    }
   },
   "source": [
    "Para poder resolver estas ecuaciones es fundamental aplicar las *condiciones iniciales y de borde adecuadas*. Si analizamos estas ecuaciones involucradas, notamos que tenemos que tenemos **derivadas de primer orden en el tiempo ($t$)** y **derivadas de segundo orden en el espacio ($x$, $y$, $z$)**. En general, necesitaremos:\n",
    "\n",
    "- Una condición inicial\n",
    "- Dos condiciones de borde en $x$, $y$, $z$."
   ]
  },
  {
   "cell_type": "markdown",
   "id": "3110cff1",
   "metadata": {
    "slideshow": {
     "slide_type": "fragment"
    }
   },
   "source": [
    "Considerando las incognitas $u$, $v$, $w$ y $p$, esto nos da como resultado **4 condiciones iniciales  y 12 condiciones de borde.**"
   ]
  },
  {
   "cell_type": "markdown",
   "id": "2c39b938",
   "metadata": {
    "slideshow": {
     "slide_type": "fragment"
    }
   },
   "source": [
    "En la práctica, sin embargo, es común aplicar supuestos que permiten reducir el tamaño de la ecuación diferencial."
   ]
  },
  {
   "cell_type": "markdown",
   "id": "dd9a7898",
   "metadata": {
    "slideshow": {
     "slide_type": "slide"
    }
   },
   "source": [
    "### Supuestos típicos"
   ]
  },
  {
   "cell_type": "markdown",
   "id": "f8c912a1",
   "metadata": {
    "slideshow": {
     "slide_type": "fragment"
    }
   },
   "source": [
    "#### Flujo estacionario\n",
    "Este supuesto asume que la variación temporal es despreciable. Las ecuaciónes se simplifican a:\n",
    "\n",
    "\\begin{align}\n",
    "\\begin{aligned}\n",
    "\\nabla\\cdot\\vec{V} &= 0 \\\\\n",
    "\\rho\\vec{V}\\cdot\\nabla\\vec{V} &= -\\nabla p + \\rho\\vec{g} + \\mu\\nabla^2\\vec{V}\n",
    "\\end{aligned}\n",
    "\\end{align}"
   ]
  },
  {
   "cell_type": "markdown",
   "id": "00c353b4",
   "metadata": {
    "slideshow": {
     "slide_type": "slide"
    }
   },
   "source": [
    "#### Flujo bidimensional\n",
    "Este supuesto es útil para reducir una de las tres componentes de la velocidad. En coordenadas cartesianas, la bidimensionalidad permitiría, por ejemplo, ignorar la componente $z$, es decir $w = 0$. Las ecuaciones de continuidad y Navier-Stokes se simplifican a:"
   ]
  },
  {
   "cell_type": "markdown",
   "id": "486ce942",
   "metadata": {
    "slideshow": {
     "slide_type": "fragment"
    }
   },
   "source": [
    "**Encuación de continuidad flujo incompresible**\n",
    "\n",
    "\\begin{equation*}\n",
    "\\frac{\\partial u}{\\partial x} + \\frac{\\partial v}{\\partial y} = 0\n",
    "\\end{equation*}\n",
    "\n",
    "**Navier-Stokes**\n",
    "\n",
    "\\begin{align*}\n",
    "\\rho \\left(\\frac{\\partial u}{\\partial t} + u\\frac{\\partial u}{\\partial x} + v\\frac{\\partial u}{\\partial y}\\right) &= -\\frac{\\partial p}{\\partial x} + \\mu \\left(\\frac{\\partial^2 u}{\\partial x^2} + \\frac{\\partial^2 u}{\\partial y^2}\\right) + g_x\n",
    "\\\\\n",
    "\\rho \\left(\\frac{\\partial v}{\\partial t} + u\\frac{\\partial v}{\\partial x} + v\\frac{\\partial v}{\\partial y}\\right) &= -\\frac{\\partial p}{\\partial y} + \\mu \\left(\\frac{\\partial^2 v}{\\partial x^2} + \\frac{\\partial^2 v}{\\partial y^2}\\right) + g_y\n",
    "\\end{align*}\n"
   ]
  },
  {
   "cell_type": "markdown",
   "id": "7f1a8998",
   "metadata": {},
   "source": [
    "Notar que, en este caso, si $g_z \\neq 0$ la componente $z$ de las ecuaciones de Navier-Stokes quedaría como:\n",
    "\n",
    "\\begin{equation*}\n",
    "0 = \\frac{\\partial p}{\\partial z} + \\rho g_z\n",
    "\\end{equation*}\n",
    "\n",
    "Que corresponde a la ecuación para presión hidrostática."
   ]
  },
  {
   "cell_type": "markdown",
   "id": "2b7f9901",
   "metadata": {
    "slideshow": {
     "slide_type": "slide"
    }
   },
   "source": [
    "El razonamiento análogo en coordenadas cilindricas se denomina, **flujo con simetría axial o axial-simétrico**. En este caso $\\frac{\\partial}{\\partial \\theta} = 0$, y las ecuaciones se simplifican a:"
   ]
  },
  {
   "cell_type": "markdown",
   "id": "421876ab",
   "metadata": {
    "slideshow": {
     "slide_type": "fragment"
    }
   },
   "source": [
    "**Encuación de continuidad flujo incompresible**\n",
    "\n",
    "\\begin{equation*}\n",
    "\\frac{1}{r}\\frac{\\partial}{\\partial r}(ru_r) + \\frac{\\partial u_z}{\\partial z} = 0\n",
    "\\end{equation*}\n",
    "\n",
    "**Navier-Stokes**\n",
    "    \n",
    "\\begin{align*}\n",
    "\\rho \\left(\\frac{\\partial u_r}{\\partial t} + u_r\\frac{\\partial  u_r}{\\partial r} + u_z\\frac{\\partial u_r}{\\partial z}\\right) &= -\\frac{\\partial p}{\\partial r} + \\mu\\left[\\frac{1}{r}\\frac{\\partial}{\\partial r}\\left(r\\frac{\\partial u_r}{\\partial r}\\right)  - \\frac{u_r}{r^2}  + \\frac{\\partial^2 u_r}{\\partial z^2}\\right] + \\frac{g_r}{\\rho} \n",
    "    \\\\\n",
    "\\rho \\left(\\frac{\\partial u_z}{\\partial t} + u_r\\frac{\\partial  u_z}{\\partial r} + u_z\\frac{\\partial u_z}{\\partial z}\\right) &= -\\frac{\\partial p}{\\partial z} + \\mu\\left[\\frac{1}{r}\\frac{\\partial}{\\partial r}\\left(r\\frac{\\partial u_z}{\\partial r}\\right) + \\frac{\\partial^2 u_z}{\\partial z^2} \\right] + \\frac{g_z}{\\rho}\n",
    "\\end{align*}\n"
   ]
  },
  {
   "cell_type": "markdown",
   "id": "9757445f",
   "metadata": {
    "slideshow": {
     "slide_type": "slide"
    }
   },
   "source": [
    "#### Flujo desarrollado\n",
    "\n",
    "Este supuesto se aplica para **despreciar la tasa de cambio en la dirección paralela a alguna de las componentes de velocidad**."
   ]
  },
  {
   "cell_type": "markdown",
   "id": "26c0f4dc",
   "metadata": {
    "slideshow": {
     "slide_type": "fragment"
    }
   },
   "source": [
    "El concepto nace del flujo en tuberías, donde la tasa de cambio de la componente longitudinal, $\\frac{\\partial u_z}{\\partial z} \\approx 0$ despues de la región de desarrollo del flujo. \n",
    "\n",
    "<img src=\"./figures/condicion_flujo_desarrollado.png\" width=\"800px\" align= center>"
   ]
  },
  {
   "cell_type": "markdown",
   "id": "028c29cf",
   "metadata": {
    "slideshow": {
     "slide_type": "slide"
    }
   },
   "source": [
    "Sin embargo, se puede aplicar a otros problemas como veremos más adelante."
   ]
  },
  {
   "cell_type": "markdown",
   "id": "a0c84ad3",
   "metadata": {
    "slideshow": {
     "slide_type": "slide"
    }
   },
   "source": [
    "### Condiciones de borde típicas\n",
    "\n",
    "Una vez establecidos los supuestos, es necesario implementar las condiciones de borde necesarias para resolver el problema."
   ]
  },
  {
   "cell_type": "markdown",
   "id": "9cf43d7a",
   "metadata": {},
   "source": [
    "Las más comunes son.\n",
    "\n",
    "<img src=\"./figures/condicion_de_frontera.png\" width=\"800px\" align= center>"
   ]
  },
  {
   "cell_type": "markdown",
   "id": "0452078e",
   "metadata": {
    "slideshow": {
     "slide_type": "slide"
    }
   },
   "source": [
    "### Flujos característicos"
   ]
  },
  {
   "cell_type": "markdown",
   "id": "246cb0a7",
   "metadata": {},
   "source": [
    "Existen 3 problemas característicos que pueden ser resueltos analiticamente a partir de las ecuaciones de continuidad y Navier-Stokes.\n",
    "\n",
    "<img src=\"./figures/tipos_de_flujo.png\" width=\"800px\" align= center>"
   ]
  },
  {
   "cell_type": "markdown",
   "id": "34bd2773",
   "metadata": {
    "slideshow": {
     "slide_type": "fragment"
    }
   },
   "source": [
    "La solución a estos problemas se verá en la sesión de cátedra."
   ]
  },
  {
   "cell_type": "markdown",
   "id": "33d3b1b6",
   "metadata": {
    "slideshow": {
     "slide_type": "slide"
    }
   },
   "source": [
    "## Referencias\n",
    "**Çengel Y. A. y Cimbala M. J. *Mecánica de Fluidos: Fundamentos y Aplicaciones*, 4ta Ed., McGraw Hill, 2018**\n",
    "- Capitulo 9. Análisis diferencial de flujo de fluidos\n",
    "- Capitulo 10. Soluciones aproximadas de la ecuación de Navier-Stokes\n",
    "\n",
    "**White F. M. *Mecánica de Fluidos*, 5ta Ed., McGraw Hill, 2004**\n",
    "- Capítulo 4. Relaciones diferenciales para una partícula fluida\n"
   ]
  }
 ],
 "metadata": {
  "celltoolbar": "Slideshow",
  "kernelspec": {
   "display_name": "Python 3 (ipykernel)",
   "language": "python",
   "name": "python3"
  },
  "language_info": {
   "codemirror_mode": {
    "name": "ipython",
    "version": 3
   },
   "file_extension": ".py",
   "mimetype": "text/x-python",
   "name": "python",
   "nbconvert_exporter": "python",
   "pygments_lexer": "ipython3",
   "version": "3.10.8"
  },
  "latex_envs": {
   "LaTeX_envs_menu_present": true,
   "autoclose": false,
   "autocomplete": true,
   "bibliofile": "biblio.bib",
   "cite_by": "apalike",
   "current_citInitial": 1,
   "eqLabelWithNumbers": true,
   "eqNumInitial": 1,
   "hotkeys": {
    "equation": "Ctrl-E",
    "itemize": "Ctrl-I"
   },
   "labels_anchors": false,
   "latex_user_defs": false,
   "report_style_numbering": false,
   "user_envs_cfg": false
  },
  "rise": {
   "height": "100%",
   "theme": "simple",
   "width": "100%"
  },
  "toc": {
   "base_numbering": "1",
   "nav_menu": {},
   "number_sections": true,
   "sideBar": true,
   "skip_h1_title": true,
   "title_cell": "Contenidos",
   "title_sidebar": "Contenidos",
   "toc_cell": false,
   "toc_position": {
    "height": "calc(100% - 180px)",
    "left": "10px",
    "top": "150px",
    "width": "303.833px"
   },
   "toc_section_display": true,
   "toc_window_display": false
  },
  "varInspector": {
   "cols": {
    "lenName": 16,
    "lenType": 16,
    "lenVar": 40
   },
   "kernels_config": {
    "python": {
     "delete_cmd_postfix": "",
     "delete_cmd_prefix": "del ",
     "library": "var_list.py",
     "varRefreshCmd": "print(var_dic_list())"
    },
    "r": {
     "delete_cmd_postfix": ") ",
     "delete_cmd_prefix": "rm(",
     "library": "var_list.r",
     "varRefreshCmd": "cat(var_dic_list()) "
    }
   },
   "types_to_exclude": [
    "module",
    "function",
    "builtin_function_or_method",
    "instance",
    "_Feature"
   ],
   "window_display": false
  }
 },
 "nbformat": 4,
 "nbformat_minor": 5
}
