{
 "cells": [
  {
   "cell_type": "markdown",
   "id": "4769825b",
   "metadata": {
    "slideshow": {
     "slide_type": "slide"
    }
   },
   "source": [
    "# Turbomáquinas"
   ]
  },
  {
   "cell_type": "markdown",
   "id": "02a4645d",
   "metadata": {
    "slideshow": {
     "slide_type": "slide"
    }
   },
   "source": [
    "## Introducción"
   ]
  },
  {
   "cell_type": "markdown",
   "id": "2d48dac4",
   "metadata": {
    "slideshow": {
     "slide_type": "fragment"
    }
   },
   "source": [
    "Definimos como **bomba** a cualquier máquina hidráulica que *entrega* energía a un fluido. Por otro lado, definimos como **turbina** a las máquinas que *extraen* energía de un fluido."
   ]
  },
  {
   "cell_type": "markdown",
   "id": "3f932ef2",
   "metadata": {},
   "source": [
    "<img src=\"./figures/bombas_vs_turbinas.png\" width=\"800px\" align= center>"
   ]
  },
  {
   "cell_type": "markdown",
   "id": "7f293ab7",
   "metadata": {
    "slideshow": {
     "slide_type": "slide"
    }
   },
   "source": [
    "En el caso de interacción con líquidos:\n",
    "\n",
    "- **La energía suministrada por bombas se manifiesta como un aumento de presión del fluido**. La velocidad del fluido no aumenta, necesariamente.\n",
    "\n",
    "- **La energía extraida por turbinas se manifiesta como una disminución de presión del fluido**. La velocidad del fluido no aumenta, necesariamente.\n"
   ]
  },
  {
   "cell_type": "markdown",
   "id": "9d786a47",
   "metadata": {},
   "source": [
    "<img src=\"./figures/hydraulic_pump_turbine.png\" width=\"800px\" align= center>"
   ]
  },
  {
   "cell_type": "markdown",
   "id": "a7e474f6",
   "metadata": {
    "slideshow": {
     "slide_type": "slide"
    }
   },
   "source": [
    "### Máquinas hidráulicas para gases\n",
    "\n",
    "En el caso de gases, la clasificación del tipo de bomba depende de la función:\n",
    "- **Ventilador** diseñado para aumentar la velocidad ($V_\\mathrm{sale}\\gg V_\\mathrm{entra}$), con un aumento mínimo en la presión ($\\Delta P$, bajo).\n",
    "- **Compresor** diseñado para aumentar la presión ($\\Delta P$, alto), con bajo aumento en la velocidad ($V_\\mathrm{sale}\\sim V_\\mathrm{entra}$)."
   ]
  },
  {
   "cell_type": "markdown",
   "id": "57158b09",
   "metadata": {},
   "source": [
    "<img src=\"./figures/gas_pump.png\" width=\"800px\" align= center>"
   ]
  },
  {
   "cell_type": "markdown",
   "id": "2366e18b",
   "metadata": {
    "slideshow": {
     "slide_type": "slide"
    }
   },
   "source": [
    "En el caso de turbinas, la transferencia de energía generalmente se manifiesta en una disminución de la velocidad o presión dependiendo del tipo. Por ejemplo, en el caso de turbinas abiertas, la velocidad cambia y la presión se mantiene apróximadamente constante.\n",
    "\n",
    "<img src=\"./figures/wind_turbine.png\" width=\"800px\" align= center>\n",
    "\n",
    "En turbinas cerradas, los gases experimentan cambios en ambos, presión y velocidad."
   ]
  },
  {
   "cell_type": "markdown",
   "id": "39ace571",
   "metadata": {
    "slideshow": {
     "slide_type": "slide"
    }
   },
   "source": [
    "### Clasificación de máquinas hidráulicas\n",
    "\n",
    "Existen dos grandes tipos de máquinas hidráulicas"
   ]
  },
  {
   "cell_type": "markdown",
   "id": "030b04bd",
   "metadata": {
    "slideshow": {
     "slide_type": "slide"
    }
   },
   "source": [
    "**Máquinas de desplazamiento positivo**\n",
    "El fluido se dirige hacia adentro de un *volúmen cerrado deformable o con fronteras móviles*, que permite la succión o impulsión del fluído."
   ]
  },
  {
   "cell_type": "markdown",
   "id": "7b0ae75c",
   "metadata": {
    "slideshow": {
     "slide_type": "fragment"
    }
   },
   "source": [
    "<img src=\"./figures/desplazamiento_positivo.png\" width=\"800px\" align= center>"
   ]
  },
  {
   "cell_type": "markdown",
   "id": "b736b0da",
   "metadata": {
    "slideshow": {
     "slide_type": "slide"
    }
   },
   "source": [
    "**Máquinas dinámicas** En este caso, el volúmen no es cerrrado. Los álabes rotatorios suministran energía al fluido o la extraen de él."
   ]
  },
  {
   "cell_type": "markdown",
   "id": "0580d881",
   "metadata": {
    "slideshow": {
     "slide_type": "fragment"
    }
   },
   "source": [
    "Ejemplos de máquinas dinámicas son las bombas centrífugas y las turbinas hidráulicas."
   ]
  },
  {
   "cell_type": "markdown",
   "id": "4e9b3a09",
   "metadata": {
    "slideshow": {
     "slide_type": "fragment"
    }
   },
   "source": [
    "> En este curso nos enfocaremos en máquinas dinámicas. **Específicamente, bombas centrífugas y turbinas eólicas**"
   ]
  }
 ],
 "metadata": {
  "celltoolbar": "Slideshow",
  "kernelspec": {
   "display_name": "Python 3 (ipykernel)",
   "language": "python",
   "name": "python3"
  },
  "language_info": {
   "codemirror_mode": {
    "name": "ipython",
    "version": 3
   },
   "file_extension": ".py",
   "mimetype": "text/x-python",
   "name": "python",
   "nbconvert_exporter": "python",
   "pygments_lexer": "ipython3",
   "version": "3.11.6"
  },
  "latex_envs": {
   "LaTeX_envs_menu_present": true,
   "autoclose": false,
   "autocomplete": true,
   "bibliofile": "biblio.bib",
   "cite_by": "apalike",
   "current_citInitial": 1,
   "eqLabelWithNumbers": true,
   "eqNumInitial": 1,
   "hotkeys": {
    "equation": "Ctrl-E",
    "itemize": "Ctrl-I"
   },
   "labels_anchors": false,
   "latex_user_defs": false,
   "report_style_numbering": false,
   "user_envs_cfg": false
  },
  "rise": {
   "height": "100%",
   "theme": "simple",
   "width": "100%"
  },
  "toc": {
   "base_numbering": "1",
   "nav_menu": {},
   "number_sections": true,
   "sideBar": true,
   "skip_h1_title": true,
   "title_cell": "Contenidos",
   "title_sidebar": "Contenidos",
   "toc_cell": false,
   "toc_position": {
    "height": "calc(100% - 180px)",
    "left": "10px",
    "top": "150px",
    "width": "303.833px"
   },
   "toc_section_display": true,
   "toc_window_display": false
  },
  "varInspector": {
   "cols": {
    "lenName": 16,
    "lenType": 16,
    "lenVar": 40
   },
   "kernels_config": {
    "python": {
     "delete_cmd_postfix": "",
     "delete_cmd_prefix": "del ",
     "library": "var_list.py",
     "varRefreshCmd": "print(var_dic_list())"
    },
    "r": {
     "delete_cmd_postfix": ") ",
     "delete_cmd_prefix": "rm(",
     "library": "var_list.r",
     "varRefreshCmd": "cat(var_dic_list()) "
    }
   },
   "types_to_exclude": [
    "module",
    "function",
    "builtin_function_or_method",
    "instance",
    "_Feature"
   ],
   "window_display": false
  }
 },
 "nbformat": 4,
 "nbformat_minor": 5
}