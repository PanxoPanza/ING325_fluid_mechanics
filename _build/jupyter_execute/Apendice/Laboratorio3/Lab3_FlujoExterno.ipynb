{
 "cells": [
  {
   "cell_type": "markdown",
   "id": "41d5bfbf",
   "metadata": {},
   "source": [
    "# Laboratorio 3. Flujo externo"
   ]
  },
  {
   "cell_type": "markdown",
   "id": "6d3cc1b0",
   "metadata": {},
   "source": [
    "## Descripción práctica\n",
    "\n",
    "El objetivo de esta experiencia de laboratorio es estudiar y comprender el fenómeno de fuerza de arrastre en distintos cuerpos sometidos a un flujo externo."
   ]
  },
  {
   "cell_type": "markdown",
   "id": "8056cdfd",
   "metadata": {},
   "source": [
    "<img src=\"./figuras/Tunel_de_viento.png\" width=\"600px\" align= center>\n",
    "\n",
    "<center> <small><b>Figura 1.</b> Túnel de viento AEROLAB</small></center>"
   ]
  },
  {
   "cell_type": "markdown",
   "id": "aa060f84",
   "metadata": {},
   "source": [
    "La experiencia consiste en obtener experimentalmente los coeficientes de arrastre para diferentes geometrías utilizando un túnel de viento **(Figura 1)**. El tunel de viento, del fabricante AEROLAB, permite la creación de corrientes de flujo de aire de manera controlada a través de una sección de pruebas. La velocidad del flujo es controlada a través del panel de control. Los objetos de prueba son montados sobre un dinamometro, el cual mide la fuerza axial (*Axial force*), transversal (*Normal force*) y torque flector (*Pitching moment*)."
   ]
  },
  {
   "cell_type": "markdown",
   "id": "eea40697",
   "metadata": {},
   "source": [
    "## Metodología experimental\n",
    "\n",
    "La actividad consiste en medir el coeficiente de arrastre ($C_D$) en función del número de Reynodls $\\mathrm{Re}_D$ en 4 cuerpos romos:\n",
    "\n",
    "- Disco circular en posición vertical ($D = 3~\\mathrm{in}$)\n",
    "- Esfera pequeña ($D = 3~\\mathrm{in}$)\n",
    "- Esfera grande ($D = 4~\\mathrm{in}$)"
   ]
  },
  {
   "cell_type": "markdown",
   "id": "9c4c9008",
   "metadata": {},
   "source": [
    "### Resumen de pasos"
   ]
  },
  {
   "cell_type": "markdown",
   "id": "29bbb47f",
   "metadata": {},
   "source": [
    "**Paso 0. Abrir panel de control** \n",
    "\n",
    "Una vez que el equipo esté encendido, abrir la aplicación *AeroWare* para el control del túnel de viento (Figura 2)\n",
    "\n",
    "<img src=\"./figuras/Paneldecontrol.png\" width=\"600px\" align= center>\n",
    "\n",
    "<center> <small><b>Figura 2.</b> Ventana Windows computador  </small></center>"
   ]
  },
  {
   "cell_type": "markdown",
   "id": "dd5b0030",
   "metadata": {},
   "source": [
    "**Paso 1. Montaje del objeto a ensayar**\n",
    "\n",
    "> **Nota.** El detalle para el procedimento de montaje se verá en la sesión de inducción.\n",
    "\n",
    "- Abrir la compuerta del compartimiento de montaje.\n",
    "- Instalar el objeto en el dinamómetro.\n",
    "- Fijar el objeto al dinamómetro usando el tornillo pasador (*evitar apretar el tornillo excesivamente*).\n",
    "- Cerrar la compuerta del compartimiento de montaje.\n",
    "- Aplicar los seguros en la compuerta.\n"
   ]
  },
  {
   "cell_type": "markdown",
   "id": "cdffab8e",
   "metadata": {},
   "source": [
    "**Paso 2. Habilitar el sistema de adquisición de datos (DAQ)**\n",
    "\n",
    "Una vez ya abierto el panel de control (**Figura 3**), haga click en *Enable DAQ* para poder comenzar a utilizar el equipo. \n",
    "\n",
    "<img src=\"./figuras/EnableDAQ.jpg\" width=\"600px\" align= center>\n",
    "\n",
    "<center> <small><b>Figura 3.</b> Enable DAQ  </small></center>"
   ]
  },
  {
   "cell_type": "markdown",
   "id": "63f278ae",
   "metadata": {},
   "source": [
    "**Paso 3. Ajustar parámetros ambientales**\n",
    "\n",
    "En la pestaña \"Signals\", ajustar los valores correspondientes a las variables ambientales, tales como temperatura, humedad y presión barométrica en el panel de control (**Figura 4**).\n",
    "\n",
    "<img src=\"./figuras/Parámetros.jpg\" width=\"600px\" align= center>\n",
    "\n",
    "<center> <small><b>Figura 4.</b> Configuración parámetros ambientales  </small></center>"
   ]
  },
  {
   "cell_type": "markdown",
   "id": "37c6c0b9",
   "metadata": {},
   "source": [
    "**Paso 4. Tarar presión dinámica y modular**\n",
    "\n",
    "En la pestaña \"Signals\", tarar los valores de presión modular (*Module Pressure*) y dinámica (*Dynamic Pressure*) en cero para poder comenzar a variar las velocidades en el túnel de viento (**Figura 5**)\n",
    "\n",
    "<img src=\"./figuras/Tarar.jpg\" width=\"600px\" align= center>\n",
    "\n",
    "<center> <small><b>Figura 5.</b> Tarar en cero presiónes </small></center>"
   ]
  },
  {
   "cell_type": "markdown",
   "id": "6fe68792",
   "metadata": {},
   "source": [
    "**Paso 5. Tarar fuerzas y torques en el dinamómetro**\n",
    "\n",
    "En la pestaña \"PGB Sting\", tarar los valores de *Axial force*, *Normal force* y *Pitching Moment* (**Figura 6**)\n",
    "\n",
    "<img src=\"./figuras/PGB_string.png\" width=\"600px\" align= center>\n",
    "\n",
    "<center> <small><b>Figura 6.</b> Tarar en cero presiónes</small></center>"
   ]
  },
  {
   "cell_type": "markdown",
   "id": "84a04bfe",
   "metadata": {},
   "source": [
    "**Paso 6. Ajustar velocidades del túnel**\n",
    "\n",
    "Antes de encender el motor del ventilador, en el recuadro *Velocity Setpoint*, ajustar la velocidad del túnel a un valor inicial moderado ($V \\lesssim 10~\\mathrm{m/s}$) (**Figura 7**).\n",
    "\n",
    "> **Nota** Verificar que el boton de control de velocidad este en modo *Velocity Control*.\n",
    "\n",
    "<img src=\"./figuras/Velocidad.jpg\" width=\"600px\" align= center>\n",
    "\n",
    "<center> <small><b>Figura 7.</b> Configuración velocidad en el túnel de viento</small></center>"
   ]
  },
  {
   "cell_type": "markdown",
   "id": "4dbbd47a",
   "metadata": {},
   "source": [
    "**Paso 7. Encendido Túnel**\n",
    "\n",
    "- Hacer click en *Start Tunnel* para encender el equipo (**Figura 8**).\n",
    "- Luego, en la pestaña \"*PGB Sting*\" desmarcar todas las casillas del gráfico, excepto *PGB axial*.\n",
    "\n",
    "<img src=\"./figuras/StarTunnel.jpg\" width=\"600px\" align= center>\n",
    "\n",
    "<center> <small><b>Figura 8.</b> Encendido turbina Túnel de viento</small></center>"
   ]
  },
  {
   "cell_type": "markdown",
   "id": "9172a0b4",
   "metadata": {},
   "source": [
    "**Paso 8. Registro de datos**\n",
    "- Ajuste la velocidad del tunel a los valores indicados en la tabla adjunta\n",
    "- Para cada velocidad, esperar hasta que los valores de fuerza se estabilicen\n",
    "- Registrar la fuerza axial y velocidad\n",
    "- Repetir el procedimiento para una nueva velocidad"
   ]
  },
  {
   "cell_type": "markdown",
   "id": "9dc7872e",
   "metadata": {},
   "source": [
    "**Paso 9. Detención del equipo**\n",
    "\n",
    "Una vez realizadas las mediciones, se debe hacer detención y término de uso del panel de control. Para poder llevar a cabo esta tarea, se debe seguir las siguientes indicaciones:\n",
    "- Ajustar la velocidad del túnel de viento, de manera paulatina, a una velocidad de $10~\\mathrm{m/s}$.\n",
    "- Hacer click en el botón *Stop Tunnel*.\n",
    "- Desmontar el objeto\n",
    "\n",
    "<img src=\"./figuras/StopTunnel.jpg\" width=\"600px\" align= center>\n",
    "\n",
    "<center> <small><b>Figura 9.</b> Detener tunel de viento</small></center>\n",
    "\n",
    ">*Nota.* En caso que corresponda, repetir procedimiento desde el paso 1."
   ]
  },
  {
   "cell_type": "markdown",
   "id": "56784e76",
   "metadata": {},
   "source": [
    "**Finalizar experiencia**\n",
    "\n",
    "- Hacer click en *Disable DAQ* (Para ello, vuelva a hacer click en *Enable DAQ*).\n",
    "- Cerrar el panel de control de AEROLAB. Este punto solamente puede ser llevado a cabo una vez se haya deshabilitado el DAQ del panel de control (**Figura 10**).\n",
    "\n",
    "<img src=\"./figuras/Cerrar.jpg\" width=\"600px\" align= center>\n",
    "\n",
    "<center> <small><b>Figura 10.</b> Mensaje que aparece cuando se cierra el panel de control</small></center>"
   ]
  },
  {
   "cell_type": "markdown",
   "id": "022391fc",
   "metadata": {},
   "source": [
    "## Actividades a realizar"
   ]
  },
  {
   "cell_type": "markdown",
   "id": "1ff7c58f",
   "metadata": {},
   "source": [
    "### Actividad 1. Coeficientes de arrastre para esferas\n",
    "**Determinar el coeficiente de arrastre ($C_D$) de ambas esferas en función de $\\mathrm{Re}_D$ y comparar con valores en la literatura. Luego responder las preguntas del cuestionario.**\n",
    "\n",
    "**Procedimiento**\n",
    "- Para cada velocidad, determinar $C_D$ y $\\mathrm{Re}_D$ asociado utilizando las expresiones vistas en clase (repetir el procedimiento para la esfera pequeña y grande)\n",
    "- Extraer los datos de $C_D$ vs $\\mathrm{Re}_D$ para una esfera indicados en la **Figura 11**. \n",
    ">**Sugerencia.** Utilizar la aplicación libre [WebPlotDigitizer](https://automeris.io/WebPlotDigitizer/) para extraer los datos tabulados. El siguiente [tutorial](https://www.youtube.com/watch?v=P7GbGdMvopU) explica como usar la aplicación.\n",
    "\n",
    "<img src=\"./figuras/arrastre_esfera_cilindro(libro).png\" width=\"600px\" align= center>\n",
    "\n",
    "<center> <small><b>Figura 11.</b> Coeficiente de arrastre para una esfera y un cilindro (Çengel y Cimbala, Mecánica de Fluidos: Fundamentos y Aplicaciones, 4ta Ed., McGraw Hill, 2018)</small></center>\n",
    "\n",
    "- En una mismo gráfico $C_D$ vs $\\mathrm{Re}_D$, muestre la curva con los valores extraidos de la imagen (tabulados) y los datos obtenidos experimentalmente. *Mantener los límites de los ejes vertical y horizontal de la figura original*. *Utilice **línea contínua de color** <b><u>negra</u></b> para los **datos tabulados**, y **círculos** de color <b><span style=\"color:red\">rojo</span></b>  (esfera grande) y  <b><span style=\"color:blue\">azul</span></b> (esfera pequeña) para los **datos obtenidos experimentalmente**.*\n",
    "\n",
    "- Determine el error absoluto y relativo para cada $C_D$ obtenido experimentalmente.\n",
    "\n",
    "**Cuestionario**\n",
    "\n",
    "- ¿En qué rango de Reynolds se ubican los valores obtenidos experimentalmente? \n",
    "- ¿Para qué valores de velocidad del viento se obtuvo mejor precisión? \n",
    "- En base a los 5 regimenes de flujo para arrastre en esferas discutidos en clase ¿A qué tipo de flujo corresponde?\n",
    "- ¿Que cambios al experimento sugiere para trabajar en otros régimenes de flujo?"
   ]
  },
  {
   "cell_type": "markdown",
   "id": "a96f0d96",
   "metadata": {},
   "source": [
    "### Actividad 2. Coeficiente de arrastre para disco y cuerpo aerodinámico\n",
    "\n",
    "**Determinar el coeficiente de arrastre ($C_D$) del disco circular y el cuerpo aerodinámico.**\n",
    "\n",
    "**Procedimiento**\n",
    "- Para cada velocidad, determinar $C_D$ y $\\mathrm{Re}_D$ asociado utilizando las expresiones vistas en clase.\n",
    "- Comparar con los valores reportados en la literatura calculando el error relativo y absoluto."
   ]
  },
  {
   "cell_type": "markdown",
   "id": "3f37c1f1",
   "metadata": {},
   "source": [
    "### Actividad 3. Ejercicio propuesto\n",
    "\n",
    "Resolver el problema propuesto al final de la experiencia."
   ]
  }
 ],
 "metadata": {
  "kernelspec": {
   "display_name": "Python 3 (ipykernel)",
   "language": "python",
   "name": "python3"
  },
  "language_info": {
   "codemirror_mode": {
    "name": "ipython",
    "version": 3
   },
   "file_extension": ".py",
   "mimetype": "text/x-python",
   "name": "python",
   "nbconvert_exporter": "python",
   "pygments_lexer": "ipython3",
   "version": "3.9.12"
  },
  "toc": {
   "base_numbering": 1,
   "nav_menu": {},
   "number_sections": false,
   "sideBar": true,
   "skip_h1_title": true,
   "title_cell": "Table of Contents",
   "title_sidebar": "Contents",
   "toc_cell": false,
   "toc_position": {},
   "toc_section_display": true,
   "toc_window_display": false
  }
 },
 "nbformat": 4,
 "nbformat_minor": 5
}