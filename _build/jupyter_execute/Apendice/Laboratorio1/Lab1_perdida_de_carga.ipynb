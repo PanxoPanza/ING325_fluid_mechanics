{
 "cells": [
  {
   "cell_type": "markdown",
   "id": "403679fb",
   "metadata": {},
   "source": [
    "# Laboratorio 1. Pérdidas de carga\n"
   ]
  },
  {
   "cell_type": "markdown",
   "id": "bf872661",
   "metadata": {},
   "source": [
    "## Descripción de la práctica."
   ]
  },
  {
   "cell_type": "markdown",
   "id": "162c8011",
   "metadata": {},
   "source": [
    "El objetivo de esta experiencia de laboratorio es estudiar y comprender los fenomenos de flujo interno y pérdida de carga que sufre el fluido al atravesar los diferentes elementos de una instalación hidráulica, como pueden ser tuberías, válvulas, curvas, entre otros.\n"
   ]
  },
  {
   "cell_type": "markdown",
   "id": "93b70702",
   "metadata": {},
   "source": [
    "<img src=\"./figuras/banco_de_ensayo.jpg\" width=\"600px\" align= center>\n",
    "\n",
    "<center> Banco de ensayo de pérdida de carga</center>"
   ]
  },
  {
   "cell_type": "markdown",
   "id": "3285df2d",
   "metadata": {},
   "source": [
    "La experiencia consiste en medir el caudal que circula por una cañeria y la caída de presión que sufre el fluido que lo atraviesa, utilizando el banco de ensayo en la figura. A partir de estas mediciones, y mediante la ecuación de conservación de energía, podrán obtener la pérdida de carga existente que se verá afectado el fluido. La posibilidad de modificar el caudal de fluido que circula por el sistema permitirá el estudio de la influencia del número de Reynolds en el valor obtenido de las pérdidas de carga.\n",
    "\n",
    "Debido a que las diferencias de presiones en la cañería son comúnmente pequeñas, el banco de ensayo utiliza mediciones piezométricas conectadas a un conjunto de sensores/indicadores de presión. Los datos recolectados por estos sensores son contínuamente monitoreados por sistema de adquisición de datos."
   ]
  },
  {
   "cell_type": "markdown",
   "id": "63df52aa",
   "metadata": {},
   "source": [
    "## Metodología experimental"
   ]
  },
  {
   "cell_type": "markdown",
   "id": "fff42f28",
   "metadata": {},
   "source": [
    "El video a continuación detalla los pasos para poder llevar a cabo la experiencia"
   ]
  },
  {
   "cell_type": "code",
   "execution_count": 1,
   "id": "a850ee44",
   "metadata": {
    "scrolled": true,
    "tags": [
     "remove-input"
    ]
   },
   "outputs": [
    {
     "data": {
      "image/jpeg": "[encoded data removed]",
      "text/html": [
       "\n",
       "<iframe\n",
       "    width=\"600\"\n",
       "    height=\"300\"\n",
       "    src=\"https://www.youtube.com/embed/1uBQakG5eu8?playsinline=0\"\n",
       "    frameborder=\"0\"\n",
       "    allowfullscreen\n",
       "\n",
       "></iframe>\n"
      ],
      "text/plain": [
       "<IPython.lib.display.YouTubeVideo at 0x7fd8a4188a00>"
      ]
     },
     "execution_count": 1,
     "metadata": {
      "filenames": {
       "image/jpeg": "/mnt/c/Users/frami/OneDrive - Universidad Adolfo Ibanez/Teaching_courses/ING325 - Mecanica_de_Fluidos/material_catedra/_build/jupyter_execute/Apendice/Laboratorio1/Lab1_perdida_de_carga_7_0.jpg"
      }
     },
     "output_type": "execute_result"
    }
   ],
   "source": [
    "from IPython.display import YouTubeVideo\n",
    "YouTubeVideo('1uBQakG5eu8', width=600,  playsinline=0)"
   ]
  },
  {
   "cell_type": "markdown",
   "id": "1fb3860a",
   "metadata": {},
   "source": [
    "### Resumen de los pasos"
   ]
  },
  {
   "cell_type": "markdown",
   "id": "74969e3c",
   "metadata": {},
   "source": [
    "**Paso 0. Medir dimensiones de la cañería**\n",
    "1. Utilizando un pie de metro, medir el díametro externo $D_e$\n",
    "2. Utilizando una huincha, medir el largo $L$ que separa los puntos de medición de presión.\n",
    "3. Determinar el diámetro interno $D$, a través de catálogos comerciales (se entregará esta información)."
   ]
  },
  {
   "cell_type": "markdown",
   "id": "d43c6b75",
   "metadata": {},
   "source": [
    "**Paso 1. Configuración del Software**\n",
    "\n",
    "1. Hacer click en Setup.\n",
    "2. Deshabilitar los canales que no se vayan a utilizar para la medición.\n",
    "3. Cambiar las unidades de medida a Pascales $(\\mathrm{N/m^2})$\n",
    "4. Graficar los canales utilizados durante la experiencia y posterior a eso seleccionar la opción de muestreo de estadisticas \n",
    "de datos."
   ]
  },
  {
   "cell_type": "markdown",
   "id": "7566f877",
   "metadata": {},
   "source": [
    "**Paso 2: Registrar la caída de presión en función del caudal**\n",
    "1. Ajustar la frecuencia eléctrica del motor de la bomba centrifuga.\n",
    "2. Medir el tiempo en el que pasan 10 litros (0.01 m$^3$) por el medidor de volumen.\n",
    "3. Luego de 6 a 7 segundos detener la toma de datos y registrar los valores de presión en los puntos incial y final.\n",
    "4. Reiniciar la medición en el software y volver al punto 1"
   ]
  },
  {
   "cell_type": "markdown",
   "id": "3c069f30",
   "metadata": {},
   "source": [
    "**Paso 3. Detener el sistema y proceder con la toma de muestras en otra cañería**\n",
    "1. Apagar el equipo desde el panel central, presionando el boton rojo al costado de la perilla donde se modificaba la frecuencia.\n",
    "2. Cerrar válvulas de bola de la tubería recién utilizada.\n",
    "3. Abrir las válvulas de la tubería a ensayar\n",
    "4. Volver a encender el equipo.\n",
    "5. Realizar las mediciones, comenzando del paso 0"
   ]
  },
  {
   "cell_type": "markdown",
   "id": "07f38ffe",
   "metadata": {},
   "source": [
    "## Actividades a realizar\n",
    "\n",
    "Posterior a la experiencia, se deben realizar las siguientes actividades. Los resultados de estas actividades deben ser detalladas en el informe"
   ]
  },
  {
   "cell_type": "markdown",
   "id": "e51a484b",
   "metadata": {},
   "source": [
    "### Actividad 1. Variación de la pérdida de carga en función del caudal\n",
    "\n",
    "**Graficar la variación de la pérdida de carga lineal ($h_{pl}$) en función del caudal, para dos tuberías de diferente material.**\n",
    "\n",
    "\n",
    "**Procedimiento.** Para cada valor de caudal ($Q$): \n",
    "- Medir las presiones al inicio ($P_i$) y al final ($P_f$) de un tramo de cañería. \n",
    "- A través de la diferencia de presiones ($\\Delta P = P_f - P_i$), calcular la pérdida de carga lineal mediante: \n",
    "    \\begin{equation*}\n",
    "    h_{pl} = \\frac{\\Delta P}{\\rho g},\\quad(\\mathrm{m}) \n",
    "    \\end{equation*}\n",
    "    donde $\\rho$ es la densidad del fluido de trabajo, y $g$ la aceleración de gravedad. \n",
    "- Graficar el resulado en un gráfico $h_{pl}$ vs $Q$.\n",
    "\n",
    "Una vez finalizado, repetir el mismo procedimiento con otra tubería de diferente material."
   ]
  },
  {
   "cell_type": "markdown",
   "id": "dd677c32",
   "metadata": {},
   "source": [
    "### Actividad 2. Pérdidas Lineales y Rugosidad\n",
    "\n",
    "**Determinar la rugosidad absoluta de las tuberías analizadas, a partir de los valores obtenidos experimentalmente.**\n",
    "\n",
    "**Procedimiento** Para cada valor de caudal ($Q$) y pérdida de carga lineal ($h_{pl}$): \n",
    "- Determinar el número de Reynolds \n",
    "    \\begin{equation*}\n",
    "    \\mathrm{Re} = \\frac{VD}{\\nu},\n",
    "    \\end{equation*}\n",
    "    donde $V$ es la velocidad promediom en el ducto, $D$ es el diámetro de la cañería y $\\nu$ es la viscosidad cinemática.\n",
    "\n",
    "- Calcular el valor del coeficiente de fricción ($f$) mediante la ecuación de Darcy-Weisbach:\n",
    "    \\begin{equation*}\n",
    "        h_{pl} = f \\frac{L}{D} \\frac{V^2}{2 g},\\quad(\\mathrm{m})\n",
    "    \\end{equation*}\n",
    "    donde $L$ es el largo de la cañería.\n",
    "- Determinar la rugosidad relativa ($\\epsilon_r$) mediante la ecuación de Colebrook:\n",
    "    \\begin{equation*}\n",
    "\\frac{1}{\\sqrt{f}} = - 2 \\log\\left(\\frac{\\epsilon_R}{3.7} + \\frac{2.51}{\\mathrm{Re}_D\\sqrt{f}}\\right)\n",
    "\\end{equation*}\n",
    "- Determinar la rugosidad absoluta mediante $\\epsilon = D\\epsilon_R$\n",
    "\n",
    "El valor final de $\\epsilon$ corresponderá al promedio de todos los valores estimados para cada caudal."
   ]
  },
  {
   "cell_type": "markdown",
   "id": "8af82c04",
   "metadata": {},
   "source": [
    "### Actividad 3. Ejercicio propuesto\n",
    "Resolver el ejercicion propuesto al final la experiencia"
   ]
  }
 ],
 "metadata": {
  "kernelspec": {
   "display_name": "Python 3 (ipykernel)",
   "language": "python",
   "name": "python3"
  },
  "language_info": {
   "codemirror_mode": {
    "name": "ipython",
    "version": 3
   },
   "file_extension": ".py",
   "mimetype": "text/x-python",
   "name": "python",
   "nbconvert_exporter": "python",
   "pygments_lexer": "ipython3",
   "version": "3.10.8"
  },
  "toc": {
   "base_numbering": 1,
   "nav_menu": {},
   "number_sections": false,
   "sideBar": true,
   "skip_h1_title": true,
   "title_cell": "Tabla de contenidos",
   "title_sidebar": "Contenidos",
   "toc_cell": false,
   "toc_position": {},
   "toc_section_display": true,
   "toc_window_display": false
  }
 },
 "nbformat": 4,
 "nbformat_minor": 5
}