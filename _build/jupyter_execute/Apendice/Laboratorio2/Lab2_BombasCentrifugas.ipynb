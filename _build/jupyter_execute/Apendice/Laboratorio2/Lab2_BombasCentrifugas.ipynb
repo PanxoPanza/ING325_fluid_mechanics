{
 "cells": [
  {
   "cell_type": "markdown",
   "id": "c1b344ba",
   "metadata": {},
   "source": [
    "# Laboratorio 2: Bombas Centrifugas"
   ]
  },
  {
   "cell_type": "markdown",
   "id": "d2474d1c",
   "metadata": {},
   "source": [
    "## Descripción de la práctica"
   ]
  },
  {
   "cell_type": "markdown",
   "id": "ff83eddf",
   "metadata": {},
   "source": [
    "El objetivo de esta experiencia es estudiar y comprender las curvas caracterisiticas de una bomba centrifuga y la utilización de esta en un sistema de conducción de flujo de fluido."
   ]
  },
  {
   "cell_type": "markdown",
   "id": "e97c2c90",
   "metadata": {},
   "source": [
    "<img src=\"./figuras/banco_de_ensayo.jpg\" width=\"600px\" align= center>\n",
    "\n",
    "<center> Banco de ensayo de bombas centrífugas</center>"
   ]
  },
  {
   "cell_type": "markdown",
   "id": "bbcfe719",
   "metadata": {},
   "source": [
    "La experiencia consiste en medir el caudal y la diferencia de presiones que sufre el agua al circular a través de una bomba centrífuga. Estos valores serán contrastados con la potencia de la bomba, la cual se determinará a través del potencial eléctrico (voltaje) y corriente suministrados. Por último, la temperatura del agua también será monitoriada para posterior estimación de la densidad y viscosidad.\n",
    "\n",
    "La experiencia considera el ensayo con una bomba, y luego con dos bombas en paralelo."
   ]
  },
  {
   "cell_type": "markdown",
   "id": "fb95bdac",
   "metadata": {},
   "source": [
    "## Metodología experimental"
   ]
  },
  {
   "cell_type": "markdown",
   "id": "9d4afcdd",
   "metadata": {},
   "source": [
    "El video a continuación detalla los pasos para poder llevar a cabo la experiencia"
   ]
  },
  {
   "cell_type": "code",
   "execution_count": 1,
   "id": "e268e0cc",
   "metadata": {
    "tags": [
     "remove-input"
    ]
   },
   "outputs": [
    {
     "data": {
      "image/jpeg": "[encoded data removed]",
      "text/html": [
       "\n",
       "<iframe\n",
       "    width=\"600\"\n",
       "    height=\"400\"\n",
       "    src=\"https://www.youtube.com/embed/SqieHq9g4Ig?playsinline=0\"\n",
       "    frameborder=\"0\"\n",
       "    allowfullscreen\n",
       "\n",
       "></iframe>\n"
      ],
      "text/plain": [
       "<IPython.lib.display.YouTubeVideo at 0x7f7390fa5090>"
      ]
     },
     "execution_count": 1,
     "metadata": {
      "filenames": {
       "image/jpeg": "/mnt/c/Users/frami/OneDrive - Universidad Adolfo Ibanez/Teaching_courses/ING325 - Mecanica_de_Fluidos/material_catedra/_build/jupyter_execute/Apendice/Laboratorio2/Lab2_BombasCentrifugas_7_0.jpg"
      }
     },
     "output_type": "execute_result"
    }
   ],
   "source": [
    "from IPython.display import YouTubeVideo\n",
    "YouTubeVideo('SqieHq9g4Ig', width=600, height=400,  playsinline=0)"
   ]
  },
  {
   "cell_type": "markdown",
   "id": "074498f7",
   "metadata": {},
   "source": [
    "### Ensayo con una bomba. Resumen de los pasos "
   ]
  },
  {
   "cell_type": "markdown",
   "id": "20f07da6",
   "metadata": {},
   "source": [
    "**Paso 1. Configuración del sistema**\n",
    "\n",
    "1. Encender equipo desde el panel principal\n",
    "2. Girar reostato en el panel izquierdo hasta obtener una velocidad de 2600 rpm.\n",
    "3. Verificar que la válvula de compuerta este 100% abierta"
   ]
  },
  {
   "cell_type": "markdown",
   "id": "2ebb04f6",
   "metadata": {},
   "source": [
    "**Paso 2. Registrar diferencia de presiones, voltaje y corriente en función del caudal**\n",
    "1. Cronometrar el tiempo en el que pasan 10 litros (0.01m$^3$) en el medidor de volúmen\n",
    "2. Registrar las presiones a la entrada y salida de la bomba\n",
    "3. Registrar la diferencia de potencial indicada en el voltímetro (panel a la izquierda)\n",
    "4. Registrar la corriente indicada en el amperímetro (panel a la izquierda)\n",
    "5. Registrar temperatura del agua\n",
    "6. Girar la válvula en 180° en dirección del reloj\n",
    "7. Repetir desde el punto 1"
   ]
  },
  {
   "cell_type": "markdown",
   "id": "e35d0c79",
   "metadata": {},
   "source": [
    "**Paso 3. Detener el sistema**\n",
    "1. Reducir la velocidad de giro a 0 rpm\n",
    "2. Apagar el equipo girando el switch principal"
   ]
  },
  {
   "cell_type": "markdown",
   "id": "4a5af714",
   "metadata": {},
   "source": [
    "### Ensayo con dos bombas en paralelo. Resumen de los pasos "
   ]
  },
  {
   "cell_type": "markdown",
   "id": "606a16ed",
   "metadata": {},
   "source": [
    "**Paso 1. Configuración del sistema**\n",
    "\n",
    "1. Encender equipo desde el panel principal\n",
    "2. Girar ambos reostatos en el panel izquierdo hasta obtener una velocidad de 2600 rpm en cada bomba\n",
    "3. Verificar que la válvula de compuerta superior este 100% abierta\n",
    "4. Verificar que la válvula de compuerta inferior este cerrada"
   ]
  },
  {
   "cell_type": "markdown",
   "id": "7f49b9e1",
   "metadata": {},
   "source": [
    "**Paso 2. Registrar diferencia de presiones, voltaje y corriente en función del caudal**\n",
    "\n",
    "*Repetir los pasos indicados en el paso 2 del ensayo anterior*"
   ]
  },
  {
   "cell_type": "markdown",
   "id": "91aceb54",
   "metadata": {},
   "source": [
    "**Paso 3. Detener el sistema**\n",
    "1. Reducir la velocidad de giro a 0 rpm en ambas bombas\n",
    "2. Apagar el equipo girando el switch principal"
   ]
  },
  {
   "cell_type": "markdown",
   "id": "b46807b9",
   "metadata": {},
   "source": [
    "## Actividades a realizar\n",
    "Posterior a la experiencia, se deben realizar las siguientes actividades. Los resultados de estas actividades deben ser detalladas en el informe"
   ]
  },
  {
   "cell_type": "markdown",
   "id": "4747d0f5",
   "metadata": {},
   "source": [
    "### Actividad 1. Obtención de curvas características de una bomba centrífuga\n",
    "\n",
    "Representar gráficamente las curvas caracterísitcas de una bomba centrífuga girando a aproximadamente $2600~\\mathrm{rpm}$.\n",
    "\n",
    "1. Altura hidrostática, $H_m$ ($\\mathrm{m.c.a}$)\n",
    "2. Potencia de accionamiento, $P_a$ ($\\mathrm{kW}$)\n",
    "3. Potencia util, $P_u$ ($\\mathrm{kW}$)\n",
    "4. Eficiencia de la bomba, $\\eta_t$ ($\\%$)"
   ]
  },
  {
   "cell_type": "markdown",
   "id": "67e5e7e3",
   "metadata": {},
   "source": [
    "### Actividad 2. Obtención de curvas características de dos bomba centrífugas en paralelo\n",
    "\n",
    "Representar gráficamente las curvas características de bombas centrífugas conectadas en paralelo girando a aproximadamente $2600~\\mathrm{rpm}$.\n",
    "\n",
    "1. Altura hidrostática, $H_m$ ($\\mathrm{m.c.a}$)\n",
    "2. Potencia de accionamiento, $P_a$ ($\\mathrm{kW}$)\n",
    "3. Potencia util, $P_u$ ($\\mathrm{kW}$)\n",
    "4. Eficiencia de la bomba, $\\eta_t$ ($\\%$)"
   ]
  },
  {
   "cell_type": "markdown",
   "id": "9e175514",
   "metadata": {},
   "source": [
    "### Actividad 3. Ejercicio propuesto\n",
    "Resolver el ejercicion propuesto al final la experiencia"
   ]
  }
 ],
 "metadata": {
  "celltoolbar": "Tags",
  "kernelspec": {
   "display_name": "Python 3 (ipykernel)",
   "language": "python",
   "name": "python3"
  },
  "language_info": {
   "codemirror_mode": {
    "name": "ipython",
    "version": 3
   },
   "file_extension": ".py",
   "mimetype": "text/x-python",
   "name": "python",
   "nbconvert_exporter": "python",
   "pygments_lexer": "ipython3",
   "version": "3.10.8"
  },
  "toc": {
   "base_numbering": 1,
   "nav_menu": {},
   "number_sections": false,
   "sideBar": true,
   "skip_h1_title": true,
   "title_cell": "Tabla de contenidos",
   "title_sidebar": "Contenidos",
   "toc_cell": false,
   "toc_position": {},
   "toc_section_display": true,
   "toc_window_display": false
  }
 },
 "nbformat": 4,
 "nbformat_minor": 5
}