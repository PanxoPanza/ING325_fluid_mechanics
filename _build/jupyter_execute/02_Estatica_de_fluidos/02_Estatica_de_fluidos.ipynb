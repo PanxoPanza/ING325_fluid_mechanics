{
 "cells": [
  {
   "cell_type": "markdown",
   "id": "6d47d103",
   "metadata": {
    "slideshow": {
     "slide_type": "slide"
    }
   },
   "source": [
    "<font size=\"6\">ING325 - Mecánica de Fluidos</font>\n",
    "# Estática de fluidos\n",
    "<br><br><br><br>\n",
    "Profesor: Francisco Ramírez Cuevas<br>\n",
    "Fecha: 9 de Marzo 2023"
   ]
  },
  {
   "cell_type": "markdown",
   "id": "815da5e9",
   "metadata": {
    "slideshow": {
     "slide_type": "slide"
    }
   },
   "source": [
    "## Presión hidroestática"
   ]
  },
  {
   "cell_type": "markdown",
   "id": "5c25574e",
   "metadata": {
    "slideshow": {
     "slide_type": "slide"
    }
   },
   "source": [
    "### Presión en un líquido"
   ]
  },
  {
   "cell_type": "markdown",
   "id": "ad708f3a",
   "metadata": {
    "slideshow": {
     "slide_type": "fragment"
    }
   },
   "source": [
    "Analicemos el problema de uno y dos cuerpos sólidos en reposo, ambos con densidad $\\rho$."
   ]
  },
  {
   "cell_type": "markdown",
   "id": "9e31d693",
   "metadata": {
    "cell_style": "split",
    "slideshow": {
     "slide_type": "fragment"
    }
   },
   "source": [
    "<img src=\"./figures/stationary_solids.png\" width=\"300px\" align= center>"
   ]
  },
  {
   "cell_type": "markdown",
   "id": "5ea99475",
   "metadata": {
    "cell_style": "split",
    "slideshow": {
     "slide_type": "fragment"
    }
   },
   "source": [
    "Como ilustra el diagrama de cuerpo libre, el cuerpo sólido de volumen $V$ está sugeto a fuerzas iguales y contrarias, equivalentes al peso del mismo, $\\rho V g$."
   ]
  },
  {
   "cell_type": "markdown",
   "id": "a5e47477",
   "metadata": {
    "cell_style": "split",
    "slideshow": {
     "slide_type": "fragment"
    }
   },
   "source": [
    "En el caso de dos sólidos con volúmenes $V_1$ y $V_2$, el de más abajo está sugeto a la fuerza por su propio peso y el peso del cuerpo sobre el mismo. La fuerza resultante en el cuerpo de abajo es, $\\rho V_1g + \\rho V_2g$"
   ]
  },
  {
   "cell_type": "markdown",
   "id": "3018e5fc",
   "metadata": {
    "slideshow": {
     "slide_type": "slide"
    }
   },
   "source": [
    "La situación es similar para un líquido contenido en un estanque. Es decir, un elemento diferencial a una distancia $h$ de la superficie libre está sujeto a una fuerza equivalente a la columna de fluido sobre él."
   ]
  },
  {
   "cell_type": "markdown",
   "id": "fe69569f",
   "metadata": {
    "cell_style": "split",
    "slideshow": {
     "slide_type": "fragment"
    }
   },
   "source": [
    "<img src=\"./figures/hydrostatic_presure.png\" width=\"300px\" align= center>"
   ]
  },
  {
   "cell_type": "markdown",
   "id": "0c2d78ad",
   "metadata": {
    "cell_style": "split",
    "slideshow": {
     "slide_type": "-"
    }
   },
   "source": [
    "\n",
    "\n",
    "Si asumimos que el área diferencial es $dA$ y la densidad del líquido $\\rho$, la fuerza resultante es: $\\rho g h dA$.\n",
    "\n",
    "Luego la **presión estática**, **definida como la fuerza por unidad de área**, es $P = \\rho g h$."
   ]
  },
  {
   "cell_type": "markdown",
   "id": "995bf284",
   "metadata": {
    "cell_style": "center",
    "slideshow": {
     "slide_type": "fragment"
    }
   },
   "source": [
    "Debido a que el líquido es un elemento deformable e incompresible, la presión estática actúa sobre todas las caras del elemento diferencial."
   ]
  },
  {
   "cell_type": "markdown",
   "id": "7a37e064",
   "metadata": {
    "cell_style": "split",
    "slideshow": {
     "slide_type": "slide"
    }
   },
   "source": [
    "<img src=\"./figures/pressure_point.png\" width=\"200px\" align= center>"
   ]
  },
  {
   "cell_type": "markdown",
   "id": "529ece89",
   "metadata": {
    "cell_style": "split"
   },
   "source": [
    "En general, la presión en un punto es igual en todas las direcciones. Esto se conoce como el ***principio de Pascal***"
   ]
  },
  {
   "cell_type": "markdown",
   "id": "690fe88c",
   "metadata": {
    "slideshow": {
     "slide_type": "slide"
    }
   },
   "source": [
    "### Unidades de medida de la presión"
   ]
  },
  {
   "cell_type": "markdown",
   "id": "5ce7e63e",
   "metadata": {},
   "source": [
    "La unidad de medida fundamental de la presión es el **pascal** ($\\mathrm{Pa}$):\n",
    "\n",
    "\\begin{equation}\n",
    "1~\\mathrm{Pa} = 1~\\mathrm{N}/\\mathrm{m}^2\n",
    "\\end{equation}"
   ]
  },
  {
   "cell_type": "markdown",
   "id": "06cf3c79",
   "metadata": {
    "cell_style": "center",
    "slideshow": {
     "slide_type": "fragment"
    }
   },
   "source": [
    "Sin embargo, en la práctica, esta unidad es muy pequeña. Es, por lo tanto, común el uso de múltiplos como el *kilopascal* ($1~\\mathrm{kPa} = 10^3~\\mathrm{Pa}$)."
   ]
  },
  {
   "cell_type": "markdown",
   "id": "4d82d658",
   "metadata": {
    "cell_style": "split",
    "slideshow": {
     "slide_type": "fragment"
    }
   },
   "source": [
    "Otras unidades comúnes son:\n",
    "\n",
    "\\begin{align*}\n",
    "1~\\mathrm{MPa} &= 10^3~\\mathrm{kPa} \\\\\n",
    "1~\\mathrm{bar} &= 100~\\mathrm{kPa}  \\\\\n",
    "1~\\mathrm{atm} &= 101.32~\\mathrm{kPa} \\\\\n",
    "1~\\mathrm{kgf/cm}^2 &= 98.07~\\mathrm{kPa} \\\\\n",
    "1~\\mathrm{psi} &= 6.895~\\mathrm{kPa}\n",
    "\\end{align*}"
   ]
  },
  {
   "cell_type": "markdown",
   "id": "d8bec463",
   "metadata": {
    "cell_style": "split",
    "slideshow": {
     "slide_type": "fragment"
    }
   },
   "source": [
    "Como recomendación para el curso, **convertir siempre las unidades a *kilopascal***"
   ]
  },
  {
   "cell_type": "markdown",
   "id": "c0fc2a8e",
   "metadata": {
    "slideshow": {
     "slide_type": "slide"
    }
   },
   "source": [
    "### Presión atmosférica"
   ]
  },
  {
   "cell_type": "markdown",
   "id": "b997f62d",
   "metadata": {},
   "source": [
    "De igual forma, los gases atmosféricos, atraídos por la fuerza de gravedad, generan una presión sobre todos los cuerpos en la tierra."
   ]
  },
  {
   "cell_type": "markdown",
   "id": "77a9f3c7",
   "metadata": {
    "cell_style": "split",
    "slideshow": {
     "slide_type": "-"
    }
   },
   "source": [
    "<img src=\"./figures/atmospheric_presure.png\" width=\"350px\" align= center>"
   ]
  },
  {
   "cell_type": "markdown",
   "id": "eb04616c",
   "metadata": {
    "cell_style": "split",
    "slideshow": {
     "slide_type": "fragment"
    }
   },
   "source": [
    "**La presión atmosférica**, así, es el resultado de la columna de gases atmosférico sobre una superficie."
   ]
  },
  {
   "cell_type": "markdown",
   "id": "c750c303",
   "metadata": {
    "cell_style": "split",
    "slideshow": {
     "slide_type": "fragment"
    }
   },
   "source": [
    "**La presión absoluta ($P_\\mathrm{abs}$)** en un elemento diferencial de fluido en un estanque es, así:\n",
    "\n",
    "\\begin{equation}\n",
    "P_\\mathrm{abs} = P_\\mathrm{atm} + \\rho gh\n",
    "\\end{equation}"
   ]
  },
  {
   "cell_type": "markdown",
   "id": "45c473e9",
   "metadata": {
    "cell_style": "center",
    "slideshow": {
     "slide_type": "slide"
    }
   },
   "source": [
    "La presión atmosférica también cambia con la altura.  Sin embargo, el cambio de presión se percibe en logitudes de escala de $1000~\\mathrm{m}$, debido a que la densidad de los gases atmosféricos es mucho menor que los líquidos."
   ]
  },
  {
   "cell_type": "markdown",
   "id": "eb6b2a70",
   "metadata": {
    "cell_style": "split"
   },
   "source": [
    "<img src=\"./figures/atmospheric_pressure_altitude.png\" width=\"350px\" align= center>"
   ]
  },
  {
   "cell_type": "markdown",
   "id": "80273ff6",
   "metadata": {
    "cell_style": "split",
    "slideshow": {
     "slide_type": "fragment"
    }
   },
   "source": [
    "En la figura, $P_{\\mathrm{O}_2}$, es la *presión parcial de oxígeno* (no es relevante para el curso)."
   ]
  },
  {
   "cell_type": "markdown",
   "id": "4c650d62",
   "metadata": {
    "cell_style": "split",
    "slideshow": {
     "slide_type": "fragment"
    }
   },
   "source": [
    "Debido a la caída de la presión con la altura, la densidad del aire disminuye y la cantidad de oxígeno por $\\mathrm{m}^3$ es menor.  "
   ]
  },
  {
   "cell_type": "markdown",
   "id": "4e01a548",
   "metadata": {
    "cell_style": "split",
    "slideshow": {
     "slide_type": "fragment"
    }
   },
   "source": [
    "**A 25 °C al nivel del mar, la presión atmosférica es $1~\\mathrm{atm} = 101.325~\\mathrm{kPa}$.**"
   ]
  },
  {
   "cell_type": "markdown",
   "id": "88399eae",
   "metadata": {
    "slideshow": {
     "slide_type": "slide"
    }
   },
   "source": [
    "En resumen, **la presión hidroestática en un punto depende de la columna de fluido sobre él y, por lo tanto, cambia sólamente con la profundidad**.\n",
    "\n",
    "<img src=\"./figures/equal_hydrostatic_presure.png\" width=\"800px\" align= center>"
   ]
  },
  {
   "cell_type": "markdown",
   "id": "478e0759",
   "metadata": {
    "slideshow": {
     "slide_type": "fragment"
    }
   },
   "source": [
    "> Notar que **la presión en dos fluidos distintos a la misma profundidad no es la misma**, debido a la diferencia de densidades."
   ]
  },
  {
   "cell_type": "markdown",
   "id": "8a78a8db",
   "metadata": {
    "slideshow": {
     "slide_type": "slide"
    }
   },
   "source": [
    "A partir del principio de Pascal, podemos explicar el funcionamiento de una gata hidráulica"
   ]
  },
  {
   "cell_type": "markdown",
   "id": "00c9cdf3",
   "metadata": {
    "cell_style": "split"
   },
   "source": [
    "<img src=\"./figures/gata_hidraulica.png\" width=\"300px\" align= center>"
   ]
  },
  {
   "cell_type": "markdown",
   "id": "f2ef2e77",
   "metadata": {
    "cell_style": "split",
    "slideshow": {
     "slide_type": "fragment"
    }
   },
   "source": [
    "En el ejemplo, $A_1 < A_2$."
   ]
  },
  {
   "cell_type": "markdown",
   "id": "ec7c2924",
   "metadata": {
    "cell_style": "split",
    "slideshow": {
     "slide_type": "fragment"
    }
   },
   "source": [
    "Considerando que ***el fluído contenido es incompresible***, $P_1 = P_2 = F_1/A_1 = F_2/A_2$, donde concluimos que:\n",
    "\n",
    "\\begin{equation*}\n",
    "F_1 = F_2 \\frac{A_1}{A_2} < F_2\n",
    "\\end{equation*}"
   ]
  },
  {
   "cell_type": "markdown",
   "id": "db2f2ab5",
   "metadata": {
    "slideshow": {
     "slide_type": "slide"
    }
   },
   "source": [
    "### Presión en gases\n",
    "\n",
    "Los gases se expanden constantemente. Así, la presión en un tanque cerrado es igual en todas las direcciones."
   ]
  },
  {
   "cell_type": "markdown",
   "id": "98ea11cb",
   "metadata": {
    "cell_style": "split",
    "slideshow": {
     "slide_type": "fragment"
    }
   },
   "source": [
    "<img src=\"./figures/presure_gass.jpg\" width=\"600px\" align= center>"
   ]
  },
  {
   "cell_type": "markdown",
   "id": "d08d8be6",
   "metadata": {
    "cell_style": "split"
   },
   "source": [
    "En la figura de la **izquierda**, el líquido está en un contenedor vacío. Debido a que el exterior también es vacío, la columna de líquido en el tubo tiene la misma altura."
   ]
  },
  {
   "cell_type": "markdown",
   "id": "8d179d1e",
   "metadata": {
    "cell_style": "split"
   },
   "source": [
    "En la **derecha**, el gas producto de la evaporación del líquido genera una presión igual en todas las direcciones. "
   ]
  },
  {
   "cell_type": "markdown",
   "id": "8b6e26e8",
   "metadata": {
    "cell_style": "center",
    "slideshow": {
     "slide_type": "fragment"
    }
   },
   "source": [
    "La presión absoluta ejercida por el gas, está dada por la diferencia de altura en el tubo, $P_\\mathrm{abs} = \\rho_\\mathrm{tubo} h g$, donde $\\rho_\\mathrm{tubo}$ es la densidad del líquido en el tubo ($P_\\mathrm{atm} = 0$, en este caso)."
   ]
  },
  {
   "cell_type": "markdown",
   "id": "1fc6254b",
   "metadata": {
    "slideshow": {
     "slide_type": "slide"
    }
   },
   "source": [
    "### Instrumentos para medir la presión"
   ]
  },
  {
   "cell_type": "markdown",
   "id": "5f4c1174",
   "metadata": {
    "cell_style": "center",
    "slideshow": {
     "slide_type": "fragment"
    }
   },
   "source": [
    "Llamamos ***presión manométrica ($P_\\mathrm{man}$), a la diferencia entre la presión absoluta y la presión atmosférica***,\n",
    "\n",
    "\\begin{equation}\n",
    "P_\\mathrm{man} = P_\\mathrm{abs} - P_\\mathrm{atm}\n",
    "\\end{equation}\n",
    "\n",
    "El instrumento para medir $P_\\mathrm{man}$ es el **manómetro**\n",
    "<img src=\"./figures/manometer.png\" width=\"700px\" align= center>"
   ]
  },
  {
   "cell_type": "markdown",
   "id": "46b6af3c",
   "metadata": {
    "slideshow": {
     "slide_type": "slide"
    }
   },
   "source": [
    "Llamamos ***presión vacuométrica o de vacío ($P_\\mathrm{vac}$), a la diferencia entre la presión atmosférica y la absoluta***,\n",
    "\n",
    "\\begin{equation}\n",
    "P_\\mathrm{vac} = P_\\mathrm{atm} - P_\\mathrm{abs}\n",
    "\\end{equation}"
   ]
  },
  {
   "cell_type": "markdown",
   "id": "fa2490bd",
   "metadata": {
    "cell_style": "split"
   },
   "source": [
    "El instrumento de medida se llama **vacuómetro**.\n",
    "<img src=\"./figures/vacuometer.jpg\" width=\"300px\" align= center>"
   ]
  },
  {
   "cell_type": "markdown",
   "id": "f6904dde",
   "metadata": {
    "cell_style": "split"
   },
   "source": [
    "Por lo general, la presión de vacío se indica con un valor negativo, para mejor interpretación, es decir $P_\\mathrm{vac} = P_\\mathrm{abs} - P_\\mathrm{atm}$."
   ]
  },
  {
   "cell_type": "markdown",
   "id": "197692dd",
   "metadata": {
    "slideshow": {
     "slide_type": "slide"
    }
   },
   "source": [
    "El término ***presión barómetrica es equivalente a la presión atmosférica ($P_\\mathrm{atm}$)***. \n",
    "\n",
    "Comúnmente, se mide en *milimetros de Mercurio*, $\\mathrm{mmHg}$, o *hectapascales*, $\\mathrm{hPa}$. El instrumento de medida es el **barómetro**."
   ]
  },
  {
   "cell_type": "markdown",
   "id": "5fa9967f",
   "metadata": {},
   "source": [
    "<img src=\"./figures/barometer.png\" width=\"700px\" align= center>"
   ]
  },
  {
   "cell_type": "markdown",
   "id": "bb2aea36",
   "metadata": {
    "slideshow": {
     "slide_type": "fragment"
    }
   },
   "source": [
    "La conversión de unidades es $760~\\mathrm{mmHg} = 1013.2~\\mathrm{hPa} = 1~\\mathrm{atm}$"
   ]
  },
  {
   "cell_type": "markdown",
   "id": "5f29da03",
   "metadata": {
    "slideshow": {
     "slide_type": "slide"
    }
   },
   "source": [
    "La siguiente figura ilustra todas las presiones\n",
    "<img src=\"./figures/all_pressures.png\" width=\"700px\" align= center>"
   ]
  },
  {
   "cell_type": "markdown",
   "id": "a774ddc6",
   "metadata": {
    "slideshow": {
     "slide_type": "slide"
    }
   },
   "source": [
    "## Fuerza hidrostática sobre superficies"
   ]
  },
  {
   "cell_type": "markdown",
   "id": "64bdd0b6",
   "metadata": {
    "slideshow": {
     "slide_type": "slide"
    }
   },
   "source": [
    "### Superficicies planas\n",
    "\n",
    "El principio de Pascal nos permite determinar la fuerza resultante sobre superficies planas. En el caso de **superficies rectangulares**, *la distribución de presiones forma un trapecio rectángulo de sección cuadrada*. **Las fórmulas de fuerza resultante ($F_R$) y línea de acción ($y_p$),** así, corresponden al **área y centroide del trapecio, respectivamente**.\n",
    "\n",
    "<img src=\"./figures/force_rectangular_plate.png\" width=\"900px\" align= center>"
   ]
  },
  {
   "cell_type": "markdown",
   "id": "0d0a0ed5",
   "metadata": {
    "slideshow": {
     "slide_type": "slide"
    }
   },
   "source": [
    "En el caso de superficies de geometría irregular, las solución es más compleja.\n",
    "\n",
    "<img src=\"./figures/force_irregular_plate.png\" width=\"750px\" align= center>"
   ]
  },
  {
   "cell_type": "markdown",
   "id": "ea894eb7",
   "metadata": {
    "slideshow": {
     "slide_type": "fragment"
    }
   },
   "source": [
    "Para una superficie de área $A$, es posible demostrar que la fuerza resultante es:\n",
    "\n",
    "\\begin{equation}\n",
    "F_R = (P_0 + \\rho g h_C)A\n",
    "\\end{equation}\n",
    "\n",
    "donde $h_C = y_C\\sin\\theta$ es la **distancia vertical del centroide de la superfice ($y_C$) al nivel libre del líquido**."
   ]
  },
  {
   "cell_type": "markdown",
   "id": "d5188522",
   "metadata": {
    "cell_style": "split",
    "slideshow": {
     "slide_type": "slide"
    }
   },
   "source": [
    "<img src=\"./figures/yforce_irregular_plate.png\" width=\"370px\" align= center>"
   ]
  },
  {
   "cell_type": "markdown",
   "id": "79e9a01e",
   "metadata": {
    "cell_style": "split"
   },
   "source": [
    "La línea de acción ($y_p$), está dada por la relación:\n",
    "\n",
    "\\begin{equation}\n",
    "y_pF_R = P_0y_CA + \\rho g \\sin\\theta I_{xx,O}\n",
    "\\end{equation}\n",
    "\n",
    "donde $I_{xx,O} = \\int y^2dA$ es el *segundo momento de inercia del área*"
   ]
  },
  {
   "cell_type": "markdown",
   "id": "9ba404b8",
   "metadata": {
    "slideshow": {
     "slide_type": "fragment"
    }
   },
   "source": [
    "La demostración de las ecuaciones para $F_R$ y $y_p$, se deja como ejercicio."
   ]
  },
  {
   "cell_type": "markdown",
   "id": "50e8d634",
   "metadata": {
    "cell_style": "center",
    "slideshow": {
     "slide_type": "slide"
    }
   },
   "source": [
    "### Superficies curvas\n",
    "\n",
    "En el caso de superficies curvas, la fuerza resultante se puede obtener mediante un diagrama de cuerpo libre sobre un volumen de fluido, convenientemente seleccionado. \n",
    "\n",
    "<img src=\"./figures/Force_curved_surface_theory.png\" width=\"800px\" align= center>"
   ]
  },
  {
   "cell_type": "markdown",
   "id": "fdf820d5",
   "metadata": {
    "slideshow": {
     "slide_type": "fragment"
    }
   },
   "source": [
    "Según el diagrama, tenemos: $F_H = F_x$, y $F_V = F_y + W$, donde $W$ es el peso del bloque de fluido."
   ]
  },
  {
   "cell_type": "markdown",
   "id": "31ebf4da",
   "metadata": {
    "slideshow": {
     "slide_type": "slide"
    }
   },
   "source": [
    "Podemos aplicar la misma técnica para una superficie curva en la parte superior."
   ]
  },
  {
   "cell_type": "markdown",
   "id": "c9f56ff1",
   "metadata": {
    "cell_style": "split"
   },
   "source": [
    "<img src=\"./figures/Force_curved_surface_upwards.png\" width=\"300px\" align= center>"
   ]
  },
  {
   "cell_type": "markdown",
   "id": "69e04955",
   "metadata": {
    "cell_style": "split",
    "slideshow": {
     "slide_type": "fragment"
    }
   },
   "source": [
    "En este ejemplo,\n",
    "\\begin{align*}\n",
    "F_H &= F_x \\\\\n",
    "F_V &= F_y - W\n",
    "\\end{align*}"
   ]
  },
  {
   "cell_type": "markdown",
   "id": "333e92de",
   "metadata": {
    "cell_style": "center",
    "slideshow": {
     "slide_type": "slide"
    }
   },
   "source": [
    "**Cuando la superficie es un arco circular, la línea de acción de la fuerza resultante coincide con el centro del arco**"
   ]
  },
  {
   "cell_type": "markdown",
   "id": "82f1ec6d",
   "metadata": {
    "cell_style": "split"
   },
   "source": [
    "<img src=\"./figures/Force_curved_surface_excercise.png\" width=\"300px\" align= center>"
   ]
  },
  {
   "cell_type": "markdown",
   "id": "c66ff806",
   "metadata": {
    "cell_style": "split",
    "slideshow": {
     "slide_type": "fragment"
    }
   },
   "source": [
    "Esto se debe a que la presión en cada punto de la superficie es normal a su área y, por lo tanto, su línea de acción pasa por el centro del arco circular."
   ]
  },
  {
   "cell_type": "markdown",
   "id": "ba78f63b",
   "metadata": {
    "slideshow": {
     "slide_type": "slide"
    }
   },
   "source": [
    "### Flotación\n",
    "\n",
    "Analicemos la fuerza resultante que actúa sobre una placa horizontal sumergida en un fluido de densidad $\\rho$."
   ]
  },
  {
   "cell_type": "markdown",
   "id": "8cae4413",
   "metadata": {
    "cell_style": "split"
   },
   "source": [
    "<img src=\"./figures/Buoyancy_derivation.png\" width=\"300px\" align= center>"
   ]
  },
  {
   "cell_type": "markdown",
   "id": "7971c2d3",
   "metadata": {
    "cell_style": "split",
    "slideshow": {
     "slide_type": "fragment"
    }
   },
   "source": [
    "La fuerza resultante en los bordes es 0 debido al equilibro de fuerzas."
   ]
  },
  {
   "cell_type": "markdown",
   "id": "8e7ea428",
   "metadata": {
    "cell_style": "split",
    "slideshow": {
     "slide_type": "fragment"
    }
   },
   "source": [
    "Por otro lado, el balance entre la fuerza inferior y superior es:\n",
    "\n",
    "\\begin{align*}\n",
    "F_B &= F_\\mathrm{inf} - F_\\mathrm{sup} \\\\\n",
    "    &= \\rho g(s+h)A - \\rho gsA \\\\\n",
    "    &= \\rho ghA \\\\\n",
    "    &= \\rho gV\n",
    "\\end{align*}\n",
    "\n",
    "donde $V$ es el volúmen de la placa."
   ]
  },
  {
   "cell_type": "markdown",
   "id": "4cd1f40b",
   "metadata": {
    "slideshow": {
     "slide_type": "slide"
    }
   },
   "source": [
    "El resultado es similar en cuerpos de forma arbitraria. Concluimos que ***la fuerza de flotación que actúa sobre un cuerpo sumergido, es igual al peso del volumen de líquido desplazado por el cuerpo***"
   ]
  },
  {
   "cell_type": "markdown",
   "id": "1ae81996",
   "metadata": {
    "cell_style": "split",
    "slideshow": {
     "slide_type": "fragment"
    }
   },
   "source": [
    "<img src=\"./figures/Buoyancy_principle.png\" width=\"350px\" align= center>"
   ]
  },
  {
   "cell_type": "markdown",
   "id": "f4a0dcde",
   "metadata": {
    "cell_style": "split",
    "slideshow": {
     "slide_type": "fragment"
    }
   },
   "source": [
    "La posición de un cuerpo, así, depende de la relación entre la densidad del cuerpo $\\rho$ y la densidad del fluido $\\rho_f$\n",
    "\n",
    "<img src=\"./figures/Buoyancy_example.png\" width=\"350px\" align= center>"
   ]
  },
  {
   "cell_type": "markdown",
   "id": "33d3b1b6",
   "metadata": {
    "slideshow": {
     "slide_type": "slide"
    }
   },
   "source": [
    "## Referencias\n",
    "**Çengel Y. A. y Cimbala M. J. *Mecánica de Fluidos: Fundamentos y Aplicaciones*, 4ta Ed., McGraw Hill, 2018**\n",
    "- Capitulo 3: Presión y estática de fluidos\n",
    "\n",
    "**White F. M. *Mecánica de Fluidos*, 5ta Ed., McGraw Hill, 2004**\n",
    "- Capitulo 2: Distribución de presiones en un fluido"
   ]
  }
 ],
 "metadata": {
  "celltoolbar": "Slideshow",
  "kernelspec": {
   "display_name": "Python 3 (ipykernel)",
   "language": "python",
   "name": "python3"
  },
  "language_info": {
   "codemirror_mode": {
    "name": "ipython",
    "version": 3
   },
   "file_extension": ".py",
   "mimetype": "text/x-python",
   "name": "python",
   "nbconvert_exporter": "python",
   "pygments_lexer": "ipython3",
   "version": "3.10.8"
  },
  "latex_envs": {
   "LaTeX_envs_menu_present": true,
   "autoclose": false,
   "autocomplete": true,
   "bibliofile": "biblio.bib",
   "cite_by": "apalike",
   "current_citInitial": 1,
   "eqLabelWithNumbers": true,
   "eqNumInitial": 1,
   "hotkeys": {
    "equation": "Ctrl-E",
    "itemize": "Ctrl-I"
   },
   "labels_anchors": false,
   "latex_user_defs": false,
   "report_style_numbering": false,
   "user_envs_cfg": false
  },
  "rise": {
   "height": "100%",
   "theme": "simple",
   "width": "100%"
  },
  "toc": {
   "base_numbering": "",
   "nav_menu": {},
   "number_sections": false,
   "sideBar": true,
   "skip_h1_title": true,
   "title_cell": "Contenidos",
   "title_sidebar": "Contenidos",
   "toc_cell": false,
   "toc_position": {
    "height": "calc(100% - 180px)",
    "left": "10px",
    "top": "150px",
    "width": "303.833px"
   },
   "toc_section_display": true,
   "toc_window_display": false
  },
  "varInspector": {
   "cols": {
    "lenName": 16,
    "lenType": 16,
    "lenVar": 40
   },
   "kernels_config": {
    "python": {
     "delete_cmd_postfix": "",
     "delete_cmd_prefix": "del ",
     "library": "var_list.py",
     "varRefreshCmd": "print(var_dic_list())"
    },
    "r": {
     "delete_cmd_postfix": ") ",
     "delete_cmd_prefix": "rm(",
     "library": "var_list.r",
     "varRefreshCmd": "cat(var_dic_list()) "
    }
   },
   "types_to_exclude": [
    "module",
    "function",
    "builtin_function_or_method",
    "instance",
    "_Feature"
   ],
   "window_display": false
  }
 },
 "nbformat": 4,
 "nbformat_minor": 5
}