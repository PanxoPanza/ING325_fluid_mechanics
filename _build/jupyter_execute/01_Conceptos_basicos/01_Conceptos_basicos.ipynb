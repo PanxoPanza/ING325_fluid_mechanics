{
 "cells": [
  {
   "cell_type": "markdown",
   "id": "6d47d103",
   "metadata": {
    "slideshow": {
     "slide_type": "slide"
    }
   },
   "source": [
    "# Introducción a la mecánica de fluidos"
   ]
  },
  {
   "cell_type": "markdown",
   "id": "815da5e9",
   "metadata": {
    "slideshow": {
     "slide_type": "slide"
    }
   },
   "source": [
    "## Aspectos generales"
   ]
  },
  {
   "cell_type": "markdown",
   "id": "fed7c571",
   "metadata": {
    "cell_style": "center",
    "slideshow": {
     "slide_type": "slide"
    }
   },
   "source": [
    "### Definición de un fluido\n",
    "\n",
    "- Sustancia en fase líquida o gaseosa\n",
    "- En comparación con un sólido, los enlaces entre moléculas son débiles y no elásticos."
   ]
  },
  {
   "cell_type": "markdown",
   "id": "c53f515e",
   "metadata": {},
   "source": [
    "<img src=\"./figures/matter_phase.png\" width=\"650px\" align= center>"
   ]
  },
  {
   "cell_type": "markdown",
   "id": "9f017cc3",
   "metadata": {
    "slideshow": {
     "slide_type": "slide"
    }
   },
   "source": [
    "A partir de esta configuración molecular:\n",
    "- Un sólido se caracteriza por ser un elemento rígido que opone resistencia ante un esfuerzo (dentro del límite elástico)\n",
    "- Un fluido, en cambio, se deforma constantemente tomando la forma del recipiente que lo contiene."
   ]
  },
  {
   "cell_type": "markdown",
   "id": "083a03c1",
   "metadata": {},
   "source": [
    "\n",
    "<img src=\"./figures/solid_vs_fluid.png\" width=\"600px\" align= center>"
   ]
  },
  {
   "cell_type": "markdown",
   "id": "91501c50",
   "metadata": {
    "slideshow": {
     "slide_type": "slide"
    }
   },
   "source": [
    "- En el caso de un líquido, **el volumen del fluido se mantiene relativamente constante** debido a las fuerzas de cohesión. Así, un líquido forma una superficie libre.\n",
    "- El gas, por otro lado, se expande constantemente ya que las fuerzas de coheción son débiles."
   ]
  },
  {
   "cell_type": "markdown",
   "id": "8fb615b6",
   "metadata": {
    "slideshow": {
     "slide_type": "slide"
    }
   },
   "source": [
    "### Clasificación de flujos"
   ]
  },
  {
   "cell_type": "markdown",
   "id": "882840ad",
   "metadata": {
    "slideshow": {
     "slide_type": "fragment"
    }
   },
   "source": [
    "***Flujo externo/interno.***\n",
    "Se define dependiendo si el fluido fluye por un canal confinado (interno), o sobre alrededor de una superficie (externo)."
   ]
  },
  {
   "cell_type": "markdown",
   "id": "444a8b13",
   "metadata": {},
   "source": [
    "\n",
    "<img src=\"./figures/external_vs_internal_flow.png\" width=\"700px\" align= center>"
   ]
  },
  {
   "cell_type": "markdown",
   "id": "1391b5a9",
   "metadata": {
    "slideshow": {
     "slide_type": "slide"
    }
   },
   "source": [
    "***Flujo compresible/incompresible.*** Corresponde a la variación de la densidad (masa/volumen) del fluido en un flujo.\n",
    "- Flujo incompresible: la densidad se mantiene relativamente constante\n",
    "- Flujo compresible: la densidad varía en el flujo"
   ]
  },
  {
   "cell_type": "markdown",
   "id": "43cc3207",
   "metadata": {
    "slideshow": {
     "slide_type": "fragment"
    }
   },
   "source": [
    "Como regla general, **el flujo con líquidos es típicamente incompresible**. En el caso de **gases, los flujos se pueden aproximar como incompresibles cuando $\\mathrm{Ma} < 0.3$**, donde\n",
    "\n",
    "\\begin{equation*}\n",
    "\\mathrm{Ma} = \\frac{\\mathrm{Velocidad~del~flujo}}{\\mathrm{Velocidad~del~sonido}},\n",
    "\\end{equation*}\n",
    "\n",
    "es el **número de Mach.**"
   ]
  },
  {
   "cell_type": "markdown",
   "id": "4f9ab0ab",
   "metadata": {
    "slideshow": {
     "slide_type": "slide"
    }
   },
   "source": [
    "***Flujo Laminar/Turbulento.*** Define el grado de orden de un flujo"
   ]
  },
  {
   "cell_type": "markdown",
   "id": "e9a0d503",
   "metadata": {
    "cell_style": "split"
   },
   "source": [
    "\n",
    "<img src=\"./figures/laminar_vs_turbulent.png\" width=\"400px\" align= center>"
   ]
  },
  {
   "cell_type": "markdown",
   "id": "d0b510a3",
   "metadata": {
    "cell_style": "split"
   },
   "source": [
    "- Flujo laminar: flujo suave y ordenado donde las líneas de flujo adyacentes se mueve en forma de láminas (o capas). Se presenta comúnmente en flujos a bajas velocidades\n",
    "\n",
    "- Flujo turbulento: caracterizado por fluctuaciones caóticas, comúnmente en velocidades altas."
   ]
  },
  {
   "cell_type": "markdown",
   "id": "a442792f",
   "metadata": {
    "slideshow": {
     "slide_type": "slide"
    }
   },
   "source": [
    "***Flujo transiente/estacionario*** define la variación temporal de un flujo."
   ]
  },
  {
   "cell_type": "markdown",
   "id": "e3322908",
   "metadata": {
    "cell_style": "split"
   },
   "source": [
    "<img src=\"./figures/stationary_flow.png\" width=\"380px\" align= center>"
   ]
  },
  {
   "cell_type": "markdown",
   "id": "a6bb144f",
   "metadata": {
    "cell_style": "split"
   },
   "source": [
    "Un flujo es estacionario si no hay cambio de las propiedades en un punto con el tiempo. En caso contrario, el flujo es transciente.\n",
    "\n",
    "Si el flujo es estacionario las propiedades del fluido pueden cambiar en el espacio, pero en un punto fijo permanecen constantes."
   ]
  },
  {
   "cell_type": "markdown",
   "id": "d5819f88",
   "metadata": {
    "slideshow": {
     "slide_type": "slide"
    }
   },
   "source": [
    "### Mécanica de fluidos en la ingeniería\n",
    "Existen innumerables aplicaciones donde la mecánica de fluidos juega un rol central, tales como conversión de energía, procesos industriales (como minería), medio ambiente, aerodinámica, etc."
   ]
  },
  {
   "cell_type": "markdown",
   "id": "b26c5a62",
   "metadata": {},
   "source": [
    "<img src=\"./figures/aplicaciones.png\" width=\"800\" align= center>"
   ]
  },
  {
   "cell_type": "markdown",
   "id": "bec731bc",
   "metadata": {
    "slideshow": {
     "slide_type": "slide"
    }
   },
   "source": [
    "## Propiedades de los fluidos"
   ]
  },
  {
   "cell_type": "markdown",
   "id": "bbf84341",
   "metadata": {
    "slideshow": {
     "slide_type": "slide"
    }
   },
   "source": [
    "### Densidad y variables asociadas"
   ]
  },
  {
   "cell_type": "markdown",
   "id": "863738ce",
   "metadata": {
    "slideshow": {
     "slide_type": "fragment"
    }
   },
   "source": [
    "**Densidad ($\\rho$).** Se define como *la masa por unidad de volúmen*."
   ]
  },
  {
   "cell_type": "markdown",
   "id": "a7329ce5",
   "metadata": {
    "slideshow": {
     "slide_type": "fragment"
    }
   },
   "source": [
    "Comúnmente se mide en $\\mathrm{kg/m^3}$ o $\\mathrm{g/cm^3}$."
   ]
  },
  {
   "cell_type": "markdown",
   "id": "d4fba5b8",
   "metadata": {
    "slideshow": {
     "slide_type": "fragment"
    }
   },
   "source": [
    "El recíproco de la densidad es el **volumen específico** $v = 1/\\rho$."
   ]
  },
  {
   "cell_type": "markdown",
   "id": "2eb81fef",
   "metadata": {
    "slideshow": {
     "slide_type": "slide"
    }
   },
   "source": [
    "La densidad de una sustancia depende de la temperatura y la presión:"
   ]
  },
  {
   "cell_type": "markdown",
   "id": "5609c56a",
   "metadata": {
    "slideshow": {
     "slide_type": "fragment"
    }
   },
   "source": [
    "- **Líquidos.** ***La variación de la densidad con la presión es despreciable***. Por ejemplo, la densidad del agua a $20°\\mathrm{C}$ cambia de $998~\\mathrm{kg/m}^3$ a $1~\\mathrm{atm}$ a $1003~\\mathrm{kg/m}^3$ a $100~\\mathrm{atm}$. ***Frente a cambios de temperatura, la densidad sufre cambios un poco más significativos, aunque es posible despreciarlos en algunos casos.***"
   ]
  },
  {
   "cell_type": "markdown",
   "id": "6b19febc",
   "metadata": {
    "slideshow": {
     "slide_type": "fragment"
    }
   },
   "source": [
    "\n",
    "\n",
    "- **Gases.** ***Generalmente obedecen a la ley de gas ideal $PMv=RT$***, donde $P$ es la presión absoluta, $M$ es la masa molar del gas, $T$ es la temperatura y $R = 8.3145~\\mathrm{kJ/kmol~K}$ es la constante universal del gas ideal."
   ]
  },
  {
   "cell_type": "markdown",
   "id": "fa63d181",
   "metadata": {
    "cell_style": "center",
    "slideshow": {
     "slide_type": "slide"
    }
   },
   "source": [
    "**Gravedad específica ($\\mathrm{GE}$).** Se define como *la razón de la densidad de una sustancia a la densidad de una sustancia estándar, a una temperatura específica* (por lo general, agua a $4°\\mathrm{C}$, tal que $\\rho_{\\mathrm{H}_2\\mathrm{O}} = 1000~\\mathrm{kg/m}^3$)."
   ]
  },
  {
   "cell_type": "markdown",
   "id": "9b6f9ab3",
   "metadata": {
    "cell_style": "split",
    "slideshow": {
     "slide_type": "fragment"
    }
   },
   "source": [
    " Es decir:\n",
    "\\begin{equation}\n",
    "\\mathrm{GE} = \\frac{\\rho}{\\rho_{\\mathrm{H}_2\\mathrm{O}}}\n",
    "\\end{equation}"
   ]
  },
  {
   "cell_type": "markdown",
   "id": "6c453fa9",
   "metadata": {
    "cell_style": "split"
   },
   "source": [
    "<img src=\"./figures/specific_gravity.png\" width=\"300\" align= center>"
   ]
  },
  {
   "cell_type": "markdown",
   "id": "7a273927",
   "metadata": {
    "slideshow": {
     "slide_type": "slide"
    }
   },
   "source": [
    "**Peso específico ($\\gamma$).** Se define como el *peso por unidad de volúmen*, y se expresa como:\n",
    "\n",
    "\\begin{equation}\n",
    "\\gamma = \\rho g\\quad\\quad\\frac{\\mathrm{N}}{m^3}\n",
    "\\end{equation}\n",
    "\n",
    "donde $g$ es la aceleración gravitacional."
   ]
  },
  {
   "cell_type": "markdown",
   "id": "07cb04ce",
   "metadata": {
    "slideshow": {
     "slide_type": "slide"
    }
   },
   "source": [
    "### Viscosidad\n",
    "\n",
    "Corresponde a la resistencia de un fluido al movimiento o, en otras palabras, a la \"fluidez\". **Esta propiedad establece una relación entre los esfuerzos cortantes ($\\tau$) y la taza de deformación de un fluido.**"
   ]
  },
  {
   "cell_type": "markdown",
   "id": "55c72bd2",
   "metadata": {
    "slideshow": {
     "slide_type": "fragment"
    }
   },
   "source": [
    "Recordemos que, a diferencia de un sólido, un fluido se deforma constantemente frente a un esfuerzo cortante. Así, **en el caso de fluidos es importante considerar *la taza de cambio de la deformación en el tiempo***, y no la deformación instantanea (como en el caso de sólidos)."
   ]
  },
  {
   "cell_type": "markdown",
   "id": "3f969cb9",
   "metadata": {
    "slideshow": {
     "slide_type": "slide"
    }
   },
   "source": [
    "Un ejemplo simple es el que se ilustra en la figura. En este caso, el cuerpo (sólido o líquido) entre dos placas planas es sometido a una fuerza cortante debido al movimiento relativo entre ellas.\n",
    "<img src=\"./figures/fluid_solid.png\" width=\"600\" align= center>"
   ]
  },
  {
   "cell_type": "markdown",
   "id": "feb2d1e9",
   "metadata": {
    "slideshow": {
     "slide_type": "fragment"
    }
   },
   "source": [
    "Al aplicar una fuerza $F$ constante, el fluido se deforma contínuamente, mientras que el sólido alcanza una deformación máxima (bajo el límite elástico del sólido). En ambos casos, **el esfuerzo cortante se define como $\\tau = F/A$ donde $A$ es el área de contacto entre el cuerpo y la placa.**"
   ]
  },
  {
   "cell_type": "markdown",
   "id": "8f3ea0e8",
   "metadata": {
    "slideshow": {
     "slide_type": "slide"
    }
   },
   "source": [
    "Matemáticamente, **la taza de deformación** corresponde al ***cambio de la velocidad de un fluido en el espacio***. En el ejemplo, el movimiento de las placas induce un perfil de velocidades como se indica en la figura, donde $u$ es la velocidad en la dirección $x$."
   ]
  },
  {
   "cell_type": "markdown",
   "id": "7a4623a5",
   "metadata": {
    "cell_style": "split",
    "slideshow": {
     "slide_type": "-"
    }
   },
   "source": [
    "<img src=\"./figures/deformation_rate.png\" width=\"300px\" align= center>"
   ]
  },
  {
   "cell_type": "markdown",
   "id": "38165237",
   "metadata": {
    "cell_style": "split",
    "slideshow": {
     "slide_type": "fragment"
    }
   },
   "source": [
    "En algunos fluidos (como el agua, aire y aceites), la tasa de deformación es proporcional al esfuerzo cortante\n",
    "\n",
    "\\begin{equation}\n",
    "\\tau = \\mu\\frac{du}{dy},\\quad\\quad\\frac{\\mathrm{N}}{\\mathrm{m}^2}\n",
    "\\end{equation}\n",
    "\n",
    "y se denominan **fluidos newtonianos.** "
   ]
  },
  {
   "cell_type": "markdown",
   "id": "3f464349",
   "metadata": {
    "cell_style": "split"
   },
   "source": [
    "En esta relación $\\mu$ es la **viscocidad dinámica**. Comúnmente, se mide en $\\mathrm{kg/m}\\cdot\\mathrm{s}$,  $\\mathrm{Pa}\\cdot\\mathrm{s}$, o *centipose* $\\mathrm{cP} = 0.001~\\mathrm{kg/m}\\cdot\\mathrm{s}$. "
   ]
  },
  {
   "cell_type": "markdown",
   "id": "58b4fd34",
   "metadata": {
    "slideshow": {
     "slide_type": "slide"
    }
   },
   "source": [
    "En un fluido newtoniano, la gráfica esfuerzo de corte vs taza de deformación sigue una línea recta cuya pendiente está defnida por $\\mu$."
   ]
  },
  {
   "cell_type": "markdown",
   "id": "a0e8605a",
   "metadata": {
    "cell_style": "center"
   },
   "source": [
    "\n",
    "<img src=\"./figures/newtonian_fluids.png\" width=\"700\" align= center>"
   ]
  },
  {
   "cell_type": "markdown",
   "id": "027e8b28",
   "metadata": {
    "cell_style": "center",
    "slideshow": {
     "slide_type": "slide"
    }
   },
   "source": [
    "Los fluidos que no siguen esta relación lineal se conocen como **no newtonianos.**"
   ]
  },
  {
   "cell_type": "markdown",
   "id": "0ebd3cf2",
   "metadata": {
    "cell_style": "split",
    "slideshow": {
     "slide_type": "-"
    }
   },
   "source": [
    "\n",
    "<img src=\"./figures/non-newtonian_fluid.png\" width=\"300\" align= center>"
   ]
  },
  {
   "cell_type": "markdown",
   "id": "2ba4a0c3",
   "metadata": {
    "cell_style": "split",
    "slideshow": {
     "slide_type": "fragment"
    }
   },
   "source": [
    "En esta categoría tenemos:\n",
    "- ***Seudoplástico,*** tales como pinturas, y otros fluidos con partículas en suspención.\n",
    "- ***Dialante,*** tales como soluciones con almidon o arena.\n",
    "- ***Plástico de Bingham,*** tales como Pasta de dientes, mayonesa, ketchup, etc."
   ]
  },
  {
   "cell_type": "markdown",
   "id": "5375522b",
   "metadata": {
    "slideshow": {
     "slide_type": "slide"
    }
   },
   "source": [
    "Un ejemplo interesante de un fluido no newtoniano, es la mezcla de almidón de maíz con agua (también conocida *Oobleck*). Otro ejemplo conocido, es el *Slime*."
   ]
  },
  {
   "cell_type": "code",
   "execution_count": 1,
   "id": "aa7580fd",
   "metadata": {
    "tags": [
     "remove-input"
    ]
   },
   "outputs": [
    {
     "data": {
      "image/jpeg": "[encoded data removed]",
      "text/html": [
       "\n",
       "<iframe\n",
       "    width=\"700\"\n",
       "    height=\"400\"\n",
       "    src=\"https://www.youtube.com/embed/RIUEZ3AhrVE\"\n",
       "    frameborder=\"0\"\n",
       "    allowfullscreen\n",
       "\n",
       "></iframe>\n"
      ],
      "text/plain": [
       "<IPython.lib.display.YouTubeVideo at 0x7fee85104c10>"
      ]
     },
     "execution_count": 1,
     "metadata": {
      "filenames": {
       "image/jpeg": "/mnt/c/Users/frami/OneDrive - Universidad Adolfo Ibanez/Teaching_courses/ING325 - Mecanica_de_Fluidos/material_catedra/_build/jupyter_execute/01_Conceptos_basicos/01_Conceptos_basicos_46_0.jpg"
      }
     },
     "output_type": "execute_result"
    }
   ],
   "source": [
    "from IPython.display import YouTubeVideo\n",
    "YouTubeVideo('RIUEZ3AhrVE', width=700, height=400)"
   ]
  },
  {
   "cell_type": "markdown",
   "id": "9cefd82d",
   "metadata": {
    "slideshow": {
     "slide_type": "slide"
    }
   },
   "source": [
    "Con frecuencia, en algunas ecuaciones aparece la razón entre la viscocidad dinámica y a densidad. Esta variables, denominada **viscocidad cinemática  ($\\nu = \\mu/\\rho$),** representa la capacidad de fluidez frente a la fuerza de gravedad."
   ]
  },
  {
   "cell_type": "markdown",
   "id": "31cdaa8a",
   "metadata": {
    "cell_style": "split"
   },
   "source": [
    "<img src=\"./figures/Viscosities.gif\" width=\"400\" align= center>"
   ]
  },
  {
   "cell_type": "markdown",
   "id": "8216f07a",
   "metadata": {
    "cell_style": "split",
    "slideshow": {
     "slide_type": "fragment"
    }
   },
   "source": [
    "Generalmente, ambas viscocidades cambian proporcionalmente\n",
    "\n",
    "<img src=\"./figures/viscosity_table.png\" width=\"450\" align= center>"
   ]
  },
  {
   "cell_type": "markdown",
   "id": "aff6f128",
   "metadata": {
    "slideshow": {
     "slide_type": "fragment"
    }
   },
   "source": [
    "Debido a que los métodos para medir viscocidad cinemática y dinámica son diferentes, es común encontrar ambas unidades en tablas"
   ]
  },
  {
   "cell_type": "markdown",
   "id": "950dbd0d",
   "metadata": {
    "cell_style": "split",
    "slideshow": {
     "slide_type": "slide"
    }
   },
   "source": [
    "<img src=\"./figures/viscocity_vs_temperature.png\" width=\"400\" align= center>"
   ]
  },
  {
   "cell_type": "markdown",
   "id": "0ea4bceb",
   "metadata": {
    "cell_style": "split",
    "slideshow": {
     "slide_type": "-"
    }
   },
   "source": [
    "El cambio en la viscocidad con la temperatura es diferente dependiendo de si es un gas o un líquido."
   ]
  },
  {
   "cell_type": "markdown",
   "id": "5c972b4b",
   "metadata": {
    "cell_style": "split",
    "slideshow": {
     "slide_type": "fragment"
    }
   },
   "source": [
    "Si la temperatura aumenta: \n",
    "- **líquidos:** $\\mu$ disminuye.\n",
    "\n",
    "- **gases:** $\\mu$ aumenta."
   ]
  },
  {
   "cell_type": "markdown",
   "id": "2563284a",
   "metadata": {
    "cell_style": "split",
    "slideshow": {
     "slide_type": "fragment"
    }
   },
   "source": [
    "Esto ocurre debido a las diferencias en la estructura molecular de gases y líquidos"
   ]
  },
  {
   "cell_type": "markdown",
   "id": "33d3b1b6",
   "metadata": {
    "slideshow": {
     "slide_type": "slide"
    }
   },
   "source": [
    "## Referencias\n",
    "**Çengel Y. A. y Cimbala M. J. *Mecánica de Fluidos: Fundamentos y Aplicaciones*, 4ta Ed., McGraw Hill, 2018**\n",
    "- Capitulo 1: Introducción y conceptos básicos\n",
    "- Capítulo 2: Propiedades de los fluidos\n",
    "\n",
    "**White F. M. *Mecánica de Fluidos*, 5ta Ed., McGraw Hill, 2004**\n",
    "- Capitulo 1: Introducción"
   ]
  }
 ],
 "metadata": {
  "celltoolbar": "Slideshow",
  "kernelspec": {
   "display_name": "Python 3 (ipykernel)",
   "language": "python",
   "name": "python3"
  },
  "language_info": {
   "codemirror_mode": {
    "name": "ipython",
    "version": 3
   },
   "file_extension": ".py",
   "mimetype": "text/x-python",
   "name": "python",
   "nbconvert_exporter": "python",
   "pygments_lexer": "ipython3",
   "version": "3.10.8"
  },
  "latex_envs": {
   "LaTeX_envs_menu_present": true,
   "autoclose": false,
   "autocomplete": true,
   "bibliofile": "biblio.bib",
   "cite_by": "apalike",
   "current_citInitial": 1,
   "eqLabelWithNumbers": true,
   "eqNumInitial": 1,
   "hotkeys": {
    "equation": "Ctrl-E",
    "itemize": "Ctrl-I"
   },
   "labels_anchors": false,
   "latex_user_defs": false,
   "report_style_numbering": false,
   "user_envs_cfg": false
  },
  "rise": {
   "height": "100%",
   "theme": "simple",
   "width": "100%"
  },
  "toc": {
   "base_numbering": "1",
   "nav_menu": {},
   "number_sections": true,
   "sideBar": true,
   "skip_h1_title": true,
   "title_cell": "Contenidos",
   "title_sidebar": "Contenidos",
   "toc_cell": false,
   "toc_position": {
    "height": "calc(100% - 180px)",
    "left": "10px",
    "top": "150px",
    "width": "303.837px"
   },
   "toc_section_display": true,
   "toc_window_display": false
  },
  "varInspector": {
   "cols": {
    "lenName": 16,
    "lenType": 16,
    "lenVar": 40
   },
   "kernels_config": {
    "python": {
     "delete_cmd_postfix": "",
     "delete_cmd_prefix": "del ",
     "library": "var_list.py",
     "varRefreshCmd": "print(var_dic_list())"
    },
    "r": {
     "delete_cmd_postfix": ") ",
     "delete_cmd_prefix": "rm(",
     "library": "var_list.r",
     "varRefreshCmd": "cat(var_dic_list()) "
    }
   },
   "types_to_exclude": [
    "module",
    "function",
    "builtin_function_or_method",
    "instance",
    "_Feature"
   ],
   "window_display": false
  }
 },
 "nbformat": 4,
 "nbformat_minor": 5
}