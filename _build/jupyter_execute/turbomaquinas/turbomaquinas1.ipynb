{
 "cells": [
  {
   "cell_type": "markdown",
   "id": "e96cca10",
   "metadata": {
    "slideshow": {
     "slide_type": "slide"
    }
   },
   "source": [
    "# Bombas"
   ]
  },
  {
   "cell_type": "markdown",
   "id": "773670ff",
   "metadata": {},
   "source": [
    "## Tipos de bombas"
   ]
  },
  {
   "cell_type": "markdown",
   "id": "65920785",
   "metadata": {
    "slideshow": {
     "slide_type": "slide"
    }
   },
   "source": [
    "### Bombas de desplazamiento positivo\n",
    "Ideales cuando se necesitan altas presiones, como el bombeo de líquidos viscosos o mezclas, lodos, etc. También son útiles cuando se necesita despachar cantidades de líquido con precisión (aplicaciones médicas).\n",
    "\n",
    "<img src=\"./figures/Bombas_de_desplazamiento_positivo.png\" width=\"800px\" align= center>"
   ]
  },
  {
   "cell_type": "markdown",
   "id": "5aa42d5d",
   "metadata": {
    "slideshow": {
     "slide_type": "slide"
    }
   },
   "source": [
    "**Ventajas**\n",
    "- Menor esfuerzo cortante inducido (mejor para líquidos sensibles al esfuerzo cortante, como sangre)\n",
    "- Es capaz de elevar un líquido varios metros debajo de la bomba\n",
    "- Menor velocidad de funcionamiento lo que prolonga la vida útil de los sellos"
   ]
  },
  {
   "cell_type": "markdown",
   "id": "73668d31",
   "metadata": {
    "slideshow": {
     "slide_type": "fragment"
    }
   },
   "source": [
    "**Desventajas**\n",
    "- Se requiere cambiar la velocidad de rotación para cambiar  el caudal (difícil)\n",
    "- Muy sensible a fallas por bloqueo en el flujo. Se necesitan válvulas de seguridad"
   ]
  },
  {
   "cell_type": "markdown",
   "id": "9d0dae49",
   "metadata": {
    "slideshow": {
     "slide_type": "slide"
    }
   },
   "source": [
    "### Bombas dinámicas\n",
    "\n",
    "Ideales cuando se requiere proporcionar caudales altos. Podemos clasificarlas en tres tipos:\n",
    "\n",
    "<img src=\"./figures/bombas_dinamicas.png\" width=\"800px\" align= center>"
   ]
  },
  {
   "cell_type": "markdown",
   "id": "b3dc71bc",
   "metadata": {
    "slideshow": {
     "slide_type": "slide"
    }
   },
   "source": [
    "Un ejemplo de bomba de flujo radial es la **bomba centrífuga**\n",
    "\n",
    "<img src=\"./figures/centrifugal_pump.png\" width=\"700px\" align= center>"
   ]
  },
  {
   "cell_type": "markdown",
   "id": "ec76d008",
   "metadata": {
    "slideshow": {
     "slide_type": "slide"
    }
   },
   "source": [
    "**Ventajas** \n",
    "- Entregan mayor caudal que las de desplazamiento positivo\n",
    "- Permiten una descarga más estacionaria, idependiente de los cambios de presión en el sistema."
   ]
  },
  {
   "cell_type": "markdown",
   "id": "315d0427",
   "metadata": {
    "slideshow": {
     "slide_type": "fragment"
    }
   },
   "source": [
    "**Desventajas**\n",
    "- Poco efectivas para bombar líquidos muy viscosos\n",
    "- No pueden succionar líquido si están vacías (llenas de gas) y, por lo tanto, se debe remover el gas interior antes de arrancar el sistema (cebado de la bomba)."
   ]
  },
  {
   "cell_type": "markdown",
   "id": "8485a7cd",
   "metadata": {
    "slideshow": {
     "slide_type": "slide"
    }
   },
   "source": [
    "## Análisis teórico de bombas\n",
    "\n",
    "Los **parámetros fundamentales** para caracterizar una bomba son:"
   ]
  },
  {
   "cell_type": "markdown",
   "id": "42694894",
   "metadata": {
    "cell_style": "split"
   },
   "source": [
    "<img src=\"./figures/pump_analysis.png\" width=\"350px\" align= center>"
   ]
  },
  {
   "cell_type": "markdown",
   "id": "a6c63d6d",
   "metadata": {
    "cell_style": "split"
   },
   "source": [
    "- Gasto volumétrico, $Q = \\dot{m}/\\rho,\\quad(\\mathrm{m}^3/s)$\n",
    "\n",
    "- Carga hidrostática neta, $H_\\mathrm{b} \\approx \\Delta P/\\rho g,\\quad(\\mathrm{m})$\n",
    "\n",
    "- Potencia útil: $\n",
    "\\dot{W}_\\mathrm{util} = \\rho g QH_\\mathrm{b},\\quad(\\mathrm{W})$\n",
    "\n",
    "- Potencia al freno o de accionamiento $\\dot{W}_\\mathrm{bhp} = \\omega M_\\mathrm{flecha},\\quad(\\mathrm{W})$\n",
    "\n",
    "- Eficiencia de la bomba $\\eta_\\mathrm{bomba} = \\dot{W}_\\mathrm{util}/\\dot{W}_\\mathrm{bhp}$\n",
    "\n",
    "donde $\\omega$ es la velocidad de rotación ($\\mathrm{rpm}$) y $M_\\mathrm{flecha}$ es el torque aplicado"
   ]
  },
  {
   "cell_type": "markdown",
   "id": "100416e9",
   "metadata": {
    "slideshow": {
     "slide_type": "slide"
    }
   },
   "source": [
    "Estos parámetros están interrelacionados, y cambian según el caudal a suministrar. La gráfica está representada por las **curvas de rendimiento**"
   ]
  },
  {
   "cell_type": "markdown",
   "id": "8db80b3e",
   "metadata": {
    "cell_style": "split"
   },
   "source": [
    "<img src=\"./figures/curva_característica_bomba.png\" width=\"350px\" align= center>"
   ]
  },
  {
   "cell_type": "markdown",
   "id": "cf9e520f",
   "metadata": {
    "cell_style": "split"
   },
   "source": [
    "De está gráfica distinguimos tres puntos importantes:\n",
    "- Carga al cierre, $Q = 0$\n",
    "- Descarga libre, $H_b = 0$\n",
    "- Punto de máxima eficiencia o nominal, $\\mathrm{PME}$"
   ]
  },
  {
   "cell_type": "markdown",
   "id": "292dd8b5",
   "metadata": {
    "slideshow": {
     "slide_type": "slide"
    }
   },
   "source": [
    "En condiciones estacionarias, la bomba operará en su curva de rendimiento. Así, **el punto de operación** en un sistema de cañerías se determina cuando la **curva de demanda del sistema coincide con la curva de rendimiento de la bomba**. "
   ]
  },
  {
   "cell_type": "markdown",
   "id": "45b163f6",
   "metadata": {
    "cell_style": "split"
   },
   "source": [
    "<img src=\"./figures/punto_de_operacion.png\" width=\"350px\" align= center>"
   ]
  },
  {
   "cell_type": "markdown",
   "id": "4b803159",
   "metadata": {
    "cell_style": "split"
   },
   "source": [
    "En el punto de operación, la altura hidrostática requerida para impulsar el fluido por las cañerías, $H_\\mathrm{req}$ y la altura hidrostática disponible por la bomba, $H_\\mathrm{dis}$\n",
    "\n",
    "\\begin{equation*}\n",
    "H_\\mathrm{req} = H_\\mathrm{dis}\n",
    "\\end{equation*}"
   ]
  },
  {
   "cell_type": "markdown",
   "id": "559d9909",
   "metadata": {
    "slideshow": {
     "slide_type": "slide"
    }
   },
   "source": [
    "Consideremos el siguiente ejemplo"
   ]
  },
  {
   "cell_type": "markdown",
   "id": "be39b093",
   "metadata": {
    "cell_style": "split"
   },
   "source": [
    "<img src=\"./figures/ejemplo_punto_operacion.png\" width=\"400px\" align= center>"
   ]
  },
  {
   "cell_type": "markdown",
   "id": "67652380",
   "metadata": {
    "cell_style": "split",
    "slideshow": {
     "slide_type": "fragment"
    }
   },
   "source": [
    "Por balance de energía tenemos:\n",
    "\\begin{equation*}\n",
    "H_\\mathrm{b} = \\left(\\frac{V^2}{2g} + \\frac{P}{\\rho g} + z\\right)\\Bigg|_\\mathrm{~entra}^\\mathrm{~sale} + h_L\n",
    "\\end{equation*}"
   ]
  },
  {
   "cell_type": "markdown",
   "id": "f1ad744a",
   "metadata": {
    "cell_style": "split",
    "slideshow": {
     "slide_type": "fragment"
    }
   },
   "source": [
    "Evaluando a la entrada y salida, y la considerando la relación $Q = V_\\mathrm{sale}A_d$, donde $A_d$ es el área transversal del ducto:\n",
    "\n",
    "\\begin{equation*}\n",
    "H_\\mathrm{req}(Q) = \\Delta z+\\left(1 + f\\frac{L}{D}+\\sum_i K_i\\right)\\frac{Q^2}{2gA_d^2}\n",
    "\\end{equation*}\n",
    "\n",
    "> notar que $f$ depende de $\\mathrm{Re}_D$ y $\\varepsilon_R$"
   ]
  },
  {
   "cell_type": "markdown",
   "id": "6e5a45e4",
   "metadata": {
    "cell_style": "center",
    "slideshow": {
     "slide_type": "slide"
    }
   },
   "source": [
    "Esta curva aumenta con $Q$. El punto de operación estará en la intersección de esta curva con la curva de rendimiento de la bomba"
   ]
  },
  {
   "cell_type": "markdown",
   "id": "c8730fda",
   "metadata": {
    "slideshow": {
     "slide_type": "slide"
    }
   },
   "source": [
    "En la práctica los fabricantes entregan una serie de curvas características (velocidad constante) que consideran varios diámetros de rodete para una misma carcaza."
   ]
  },
  {
   "cell_type": "markdown",
   "id": "24484687",
   "metadata": {
    "cell_style": "center"
   },
   "source": [
    "<div class=\"full-width\">\n",
    "\n",
    "<img src=\"./figures/curva_caracteristica.png\" width=\"900px\" align= center>\n",
    "    \n",
    "</div>"
   ]
  },
  {
   "cell_type": "markdown",
   "id": "7b066357",
   "metadata": {
    "slideshow": {
     "slide_type": "slide"
    }
   },
   "source": [
    "En la gráfica se aprecia una curva de **carga de aspiración neta positiva (*net positive suction head*, NPSH** por sus siglas en ingles). Esta curva indica **el NPSH mínimo para evitar la cavitación de la bomba.**"
   ]
  },
  {
   "cell_type": "markdown",
   "id": "6681f425",
   "metadata": {
    "slideshow": {
     "slide_type": "fragment"
    }
   },
   "source": [
    "> La **cavitación** corresponde al desgaste en los álabes de la bomba producto del colapso de burbujas de vapor. Esto **se produce cuando la presión del líquido a la entrada de la bomba es menor que la presión de vapor a la temperatura de operación**."
   ]
  },
  {
   "cell_type": "markdown",
   "id": "a0ec6820",
   "metadata": {
    "slideshow": {
     "slide_type": "slide"
    }
   },
   "source": [
    "Para diseñar el sistema, el **NPSH real debe ser mayor o igual que el NPSH mínimo requerido**. \n"
   ]
  },
  {
   "cell_type": "markdown",
   "id": "b519b536",
   "metadata": {
    "cell_style": "split"
   },
   "source": [
    "<img src=\"./figures/NPSH.png\" width=\"300px\" align= center>"
   ]
  },
  {
   "cell_type": "markdown",
   "id": "6603bfdf",
   "metadata": {
    "cell_style": "split",
    "slideshow": {
     "slide_type": "fragment"
    }
   },
   "source": [
    "El **NPSH real** se calcula a partir de un **balance de energía entre el punto de succión y la entrada de la bomba**, considerando el **caso crítico en que el fluido ingresa a la bomba a velocidad 0 y a la presión de vapor a la temperatura de operación ($P_v$)**."
   ]
  },
  {
   "cell_type": "markdown",
   "id": "c08e9169",
   "metadata": {
    "cell_style": "center",
    "slideshow": {
     "slide_type": "fragment"
    }
   },
   "source": [
    "\n",
    "\n",
    "\\begin{equation*}\n",
    "\\mathrm{NPSH}_\\mathrm{real} = \\left(\\frac{P}{\\rho g} + \\frac{V^2}{2g} + z\\right)_\\mathrm{succión} - h_L - z_\\mathrm{entrada} - \\frac{P_v}{\\rho g}\n",
    "\\end{equation*}"
   ]
  },
  {
   "cell_type": "markdown",
   "id": "16e04283",
   "metadata": {
    "slideshow": {
     "slide_type": "slide"
    }
   },
   "source": [
    "## Bombas en serie y paralelo\n",
    "Utilizamos sistemas de bombeos en serie y paralelo para aumentar la altura hidroestática o el caudal total, respectivamente."
   ]
  },
  {
   "cell_type": "markdown",
   "id": "b3b43da0",
   "metadata": {},
   "source": [
    "<img src=\"./figures/series_parallel_pump.png\" width=\"800px\" align= center>"
   ]
  },
  {
   "cell_type": "markdown",
   "id": "b1b32b8b",
   "metadata": {
    "slideshow": {
     "slide_type": "fragment"
    }
   },
   "source": [
    "Al operar bombas en serie o paralelo, las curvas de rendimiento se modifican"
   ]
  },
  {
   "cell_type": "markdown",
   "id": "5c9a958e",
   "metadata": {
    "slideshow": {
     "slide_type": "slide"
    }
   },
   "source": [
    "**Bombas en serie**\n",
    "<img src=\"./figures/series_pump_curve.png\" width=\"700px\" align= center>"
   ]
  },
  {
   "cell_type": "markdown",
   "id": "fac64e60",
   "metadata": {
    "slideshow": {
     "slide_type": "slide"
    }
   },
   "source": [
    "**Bombas en paralelo**\n",
    "<img src=\"./figures/parallel_pump_curve.png\" width=\"700px\" align= center>"
   ]
  },
  {
   "cell_type": "markdown",
   "id": "33d3b1b6",
   "metadata": {
    "slideshow": {
     "slide_type": "slide"
    }
   },
   "source": [
    "## Referencias\n",
    "**Çengel Y. A. y Cimbala M. J. *Mecánica de Fluidos: Fundamentos y Aplicaciones*, 4ta Ed., McGraw Hill, 2018**\n",
    "- Capitulo 14: Turbomáquinas\n",
    "\n",
    "**White F. M. *Mecánica de Fluidos*, 5ta Ed., McGraw Hill, 2004**\n",
    "- Capítulo 11: Turbomáquinas"
   ]
  }
 ],
 "metadata": {
  "celltoolbar": "Slideshow",
  "kernelspec": {
   "display_name": "Python 3 (ipykernel)",
   "language": "python",
   "name": "python3"
  },
  "language_info": {
   "codemirror_mode": {
    "name": "ipython",
    "version": 3
   },
   "file_extension": ".py",
   "mimetype": "text/x-python",
   "name": "python",
   "nbconvert_exporter": "python",
   "pygments_lexer": "ipython3",
   "version": "3.9.12"
  },
  "latex_envs": {
   "LaTeX_envs_menu_present": true,
   "autoclose": false,
   "autocomplete": true,
   "bibliofile": "biblio.bib",
   "cite_by": "apalike",
   "current_citInitial": 1,
   "eqLabelWithNumbers": true,
   "eqNumInitial": 1,
   "hotkeys": {
    "equation": "Ctrl-E",
    "itemize": "Ctrl-I"
   },
   "labels_anchors": false,
   "latex_user_defs": false,
   "report_style_numbering": false,
   "user_envs_cfg": false
  },
  "rise": {
   "height": "100%",
   "theme": "simple",
   "width": "100%"
  },
  "toc": {
   "base_numbering": "1",
   "nav_menu": {},
   "number_sections": true,
   "sideBar": true,
   "skip_h1_title": true,
   "title_cell": "Contenidos",
   "title_sidebar": "Contenidos",
   "toc_cell": false,
   "toc_position": {
    "height": "calc(100% - 180px)",
    "left": "10px",
    "top": "150px",
    "width": "303.833px"
   },
   "toc_section_display": true,
   "toc_window_display": false
  },
  "varInspector": {
   "cols": {
    "lenName": 16,
    "lenType": 16,
    "lenVar": 40
   },
   "kernels_config": {
    "python": {
     "delete_cmd_postfix": "",
     "delete_cmd_prefix": "del ",
     "library": "var_list.py",
     "varRefreshCmd": "print(var_dic_list())"
    },
    "r": {
     "delete_cmd_postfix": ") ",
     "delete_cmd_prefix": "rm(",
     "library": "var_list.r",
     "varRefreshCmd": "cat(var_dic_list()) "
    }
   },
   "types_to_exclude": [
    "module",
    "function",
    "builtin_function_or_method",
    "instance",
    "_Feature"
   ],
   "window_display": false
  }
 },
 "nbformat": 4,
 "nbformat_minor": 5
}