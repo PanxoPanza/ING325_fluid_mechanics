{
 "cells": [
  {
   "cell_type": "markdown",
   "id": "e96cca10",
   "metadata": {
    "slideshow": {
     "slide_type": "slide"
    }
   },
   "source": [
    "# Turbinas"
   ]
  },
  {
   "cell_type": "markdown",
   "id": "773670ff",
   "metadata": {
    "slideshow": {
     "slide_type": "slide"
    }
   },
   "source": [
    "## Tipos de turbinas"
   ]
  },
  {
   "cell_type": "markdown",
   "id": "65920785",
   "metadata": {
    "slideshow": {
     "slide_type": "slide"
    }
   },
   "source": [
    "### Turbinas de desplazamiento positivo\n",
    "Se utilizan como dispositivos para medir flujo. El ejemplo más conocido es el medidor de agua doméstico, el cual utiliza un *disco nutante*\n",
    "\n",
    "<img src=\"./figures/turbina_desplazamiento_positivo.png\" width=\"700px\" align= center>"
   ]
  },
  {
   "cell_type": "markdown",
   "id": "9d0dae49",
   "metadata": {
    "slideshow": {
     "slide_type": "slide"
    }
   },
   "source": [
    "### Turbinas dinámicas\n",
    "Se utilizan como dispositivos para medir flujo y también como generadores de potencia."
   ]
  },
  {
   "cell_type": "markdown",
   "id": "64c3558c",
   "metadata": {
    "slideshow": {
     "slide_type": "slide"
    }
   },
   "source": [
    " Respecto a las turbinas dinámicas para producir potencia, tenemos:\n",
    " - **Turbinas de impulso o acción**: Generan energía a partir del cambio de momentum lineal del fluido\n",
    " - **Turbinas de reacción:** Generan energía a partir de cambios de presión y velocidad"
   ]
  },
  {
   "cell_type": "markdown",
   "id": "3ad57836",
   "metadata": {
    "slideshow": {
     "slide_type": "fragment"
    }
   },
   "source": [
    "<img src=\"./figures/impulse_vs_reaction_turbine.png\" width=\"700px\" align= center>"
   ]
  },
  {
   "cell_type": "markdown",
   "id": "3dbef708",
   "metadata": {
    "slideshow": {
     "slide_type": "fragment"
    }
   },
   "source": [
    "> Una turbina de reacción, la dirección del flujo no cambia tan significativamente como en una turbina de impulso"
   ]
  },
  {
   "cell_type": "markdown",
   "id": "5221ad2a",
   "metadata": {
    "slideshow": {
     "slide_type": "slide"
    }
   },
   "source": [
    "La diferencia principal entre ambas turbinas está en la demanda de carga hidrostática y caudal. En este aspecto, **las turbinas de impulso demandan cargas hidrostáticas mayores que las de reacción, aunque requieren caudales menores.**"
   ]
  },
  {
   "cell_type": "markdown",
   "id": "4eb3c559",
   "metadata": {
    "slideshow": {
     "slide_type": "slide"
    }
   },
   "source": [
    "## Eficiencia en turbinas"
   ]
  },
  {
   "cell_type": "markdown",
   "id": "ca202c87",
   "metadata": {
    "cell_style": "split"
   },
   "source": [
    "La eficiencia de una turbina está definida por:\n",
    "\n",
    "\\begin{equation}\n",
    "\\eta_\\mathrm{turbina} = \\frac{\\dot{W}_\\mathrm{bhp}}{\\dot{W}_\\mathrm{util}}\n",
    "\\end{equation}\n",
    "\n",
    "donde $\\dot{W}_\\mathrm{bhp}$ es la potencia entregada por el rodete, y $\\dot{W}_\\mathrm{util} = \\rho g HQ$ es la potencia util disponible por el sistema."
   ]
  },
  {
   "cell_type": "markdown",
   "id": "d203a577",
   "metadata": {
    "cell_style": "split"
   },
   "source": [
    "<img src=\"./figures/turbine_efficiency.png\" width=\"550px\" align= center>"
   ]
  },
  {
   "cell_type": "markdown",
   "id": "58131206",
   "metadata": {
    "slideshow": {
     "slide_type": "slide"
    }
   },
   "source": [
    "## Hidroturbinas\n",
    "\n",
    "Definimos como *hidroturbina* a una turbina que opera con líquidos como fluidos de trabajo."
   ]
  },
  {
   "cell_type": "markdown",
   "id": "f59bacd2",
   "metadata": {
    "slideshow": {
     "slide_type": "fragment"
    }
   },
   "source": [
    "A continuación mencionamos las turbinas más comúnes."
   ]
  },
  {
   "cell_type": "markdown",
   "id": "23f27a12",
   "metadata": {
    "slideshow": {
     "slide_type": "slide"
    }
   },
   "source": [
    "### Turbina Pelton (impulso)"
   ]
  },
  {
   "cell_type": "markdown",
   "id": "18b0055f",
   "metadata": {},
   "source": [
    "<img src=\"./figures/Pelton_turbine.png\" width=\"700px\" align= center>"
   ]
  },
  {
   "cell_type": "markdown",
   "id": "65e07967",
   "metadata": {
    "slideshow": {
     "slide_type": "fragment"
    }
   },
   "source": [
    "En una turbina Pelton, el chorro a alta velocidad transfiere la energía a los álabes o *cangilones*. Los cangilones están diseñados para dividir el flujo y cambiar la dirección del flujo lo más cercano a 180°"
   ]
  },
  {
   "cell_type": "markdown",
   "id": "a5174e51",
   "metadata": {
    "slideshow": {
     "slide_type": "slide"
    }
   },
   "source": [
    "<img src=\"./figures/Pelton_turbine_theory.png\" width=\"700px\" align= center>"
   ]
  },
  {
   "cell_type": "markdown",
   "id": "1754ce73",
   "metadata": {
    "slideshow": {
     "slide_type": "fragment"
    }
   },
   "source": [
    "Mediante un análisis teorico simple podemos deducir la siguiente fórmula para la potencia del rotor en turbinas Pelton:\n",
    "\n",
    "\\begin{equation}\n",
    "\\dot{W}_\\mathrm{bhp} = \\rho r\\omega Q\\left(V_j - r\\omega\\right)\\left(1 - \\cos \\beta\\right)\n",
    "\\end{equation}\n",
    "\n",
    "donde $V_j$ es la velocidad del flujo incidente en el rotor, $\\beta$ es el ángulo del borde divisor, $\\omega$ es la velocidad de rotación y  $Q$ es el caudal."
   ]
  },
  {
   "cell_type": "markdown",
   "id": "c16b8684",
   "metadata": {
    "slideshow": {
     "slide_type": "slide"
    }
   },
   "source": [
    "En la práctica, el ángulo divisor $\\beta \\approx 160°  - 165°$ para maximizar la potencia."
   ]
  },
  {
   "cell_type": "markdown",
   "id": "e187c12c",
   "metadata": {
    "slideshow": {
     "slide_type": "fragment"
    }
   },
   "source": [
    "Respecto a la velocidad de rotación $\\omega$, se puede demostrar que la máxima potencia se alcanza cuando\n",
    "\n",
    "\\begin{equation*}\n",
    "r\\omega = \\frac{V_j}{2}\n",
    "\\end{equation*}"
   ]
  },
  {
   "cell_type": "markdown",
   "id": "cb61fb70",
   "metadata": {
    "slideshow": {
     "slide_type": "slide"
    }
   },
   "source": [
    "### Turbina Francis (reacción)\n",
    "\n",
    "Es una turbina de reacción de flujo interno. Su configuración geométrica es similar a una bomba centrífuga, pero con el flujo en dirección contraria."
   ]
  },
  {
   "cell_type": "markdown",
   "id": "90440897",
   "metadata": {},
   "source": [
    "<img src=\"./figures/Francis_turbine.png\" width=\"800px\" align= center>"
   ]
  },
  {
   "cell_type": "markdown",
   "id": "c9b2bd91",
   "metadata": {
    "slideshow": {
     "slide_type": "slide"
    }
   },
   "source": [
    "### Turbina Kaplan (reacción)\n",
    "\n",
    "Es una turbina de reacción de tipo hélice. Su configuración geométrica es similar a un ventilador de flujo axial, pero en sentido opuesto."
   ]
  },
  {
   "cell_type": "markdown",
   "id": "f78ad384",
   "metadata": {},
   "source": [
    "<img src=\"./figures/Kaplan_turbine.png\" width=\"800px\" align= center>"
   ]
  },
  {
   "cell_type": "markdown",
   "id": "c6756ee9",
   "metadata": {
    "slideshow": {
     "slide_type": "slide"
    }
   },
   "source": [
    "### Análisis comparativo\n",
    "\n",
    "La selección del tipo de turbina depende de la altura hidrostática y caudal disponible, en este sentido:\n",
    "- Turbina Pelton: Altura hidrostática alta, caudal bajo\n",
    "- Turbina Francis: Altura hidrostática media, caudal medio\n",
    "- Turbina Kaplan: Altura hidrostática baja, caudal alto"
   ]
  },
  {
   "cell_type": "markdown",
   "id": "c3e1b131",
   "metadata": {
    "slideshow": {
     "slide_type": "slide"
    }
   },
   "source": [
    "## Turbinas para gases\n",
    "En el caso de gases, las turbinas más comunes son de reacción."
   ]
  },
  {
   "cell_type": "markdown",
   "id": "56e6595e",
   "metadata": {
    "slideshow": {
     "slide_type": "slide"
    }
   },
   "source": [
    "### Turbinas de vapor y gases de combustión\n",
    "\n",
    "Se utilizan para la generación de energía en centrales térmicas basadas en combustión de gases, concentración solar o energía nuclear. "
   ]
  },
  {
   "cell_type": "markdown",
   "id": "d455cd20",
   "metadata": {
    "slideshow": {
     "slide_type": "fragment"
    }
   },
   "source": [
    "La mayoría de las turbinas en esta categoría operan en etapas múltiples de flujo axial."
   ]
  },
  {
   "cell_type": "code",
   "execution_count": 1,
   "id": "45becd05",
   "metadata": {
    "slideshow": {
     "slide_type": "fragment"
    },
    "tags": [
     "remove-input"
    ]
   },
   "outputs": [
    {
     "data": {
      "image/jpeg": "[encoded data removed]",
      "text/html": [
       "\n",
       "        <iframe\n",
       "            width=\"700\"\n",
       "            height=\"400\"\n",
       "            src=\"https://www.youtube.com/embed/SPg7hOxFItI\"\n",
       "            frameborder=\"0\"\n",
       "            allowfullscreen\n",
       "            \n",
       "        ></iframe>\n",
       "        "
      ],
      "text/plain": [
       "<IPython.lib.display.YouTubeVideo at 0x7f7f54446250>"
      ]
     },
     "execution_count": 1,
     "metadata": {},
     "output_type": "execute_result"
    }
   ],
   "source": [
    "from IPython.display import YouTubeVideo\n",
    "YouTubeVideo('SPg7hOxFItI', width=700, height=400)"
   ]
  },
  {
   "cell_type": "markdown",
   "id": "756d8a5f",
   "metadata": {
    "slideshow": {
     "slide_type": "slide"
    }
   },
   "source": [
    "### Turbinas eólicas"
   ]
  },
  {
   "cell_type": "markdown",
   "id": "fbcc66cf",
   "metadata": {
    "slideshow": {
     "slide_type": "fragment"
    }
   },
   "source": [
    "Se utilizan para la generación de energía a partir de las corrientes de viento"
   ]
  },
  {
   "cell_type": "markdown",
   "id": "60c49dab",
   "metadata": {
    "slideshow": {
     "slide_type": "fragment"
    }
   },
   "source": [
    "Existen diversos tipos. Sin embargo, la clasificación más general es respecto a la dirección de su eje de rotación. A partir de esto tenemos:\n",
    "\n",
    "- Turbinas de viento de eje horizontal (HAWT, por sus siglas en ingles)\n",
    "- Turbinas de viento de eje vertical (VAWT, por sus siglas en ingles)"
   ]
  },
  {
   "cell_type": "markdown",
   "id": "5751ca26",
   "metadata": {
    "slideshow": {
     "slide_type": "slide"
    }
   },
   "source": [
    "<img src=\"./figures/wind_turbines.png\" width=\"750px\" align= center>"
   ]
  },
  {
   "cell_type": "markdown",
   "id": "d7291a08",
   "metadata": {
    "slideshow": {
     "slide_type": "slide"
    }
   },
   "source": [
    "### Análsis teórico de eficiencia\n",
    "Es posible realizar un análisis teórico simplificado para determinar la potencia entregada y la eficienca de una turbina eólica."
   ]
  },
  {
   "cell_type": "markdown",
   "id": "cb78172d",
   "metadata": {
    "slideshow": {
     "slide_type": "slide"
    }
   },
   "source": [
    "El volúmen de control es el que se indica en la figura. El cambio de sección es el resultado de la reducción en la velocidad del viento producida por la transferencia de energía hacia la turbina."
   ]
  },
  {
   "cell_type": "markdown",
   "id": "22d2ec67",
   "metadata": {
    "slideshow": {
     "slide_type": "-"
    }
   },
   "source": [
    "<img src=\"./figures/wind_turbine_analysis.png\" width=\"800px\" align= center>"
   ]
  },
  {
   "cell_type": "markdown",
   "id": "e253123f",
   "metadata": {
    "slideshow": {
     "slide_type": "slide"
    }
   },
   "source": [
    "A partir de este esquema podemos determinar una expresión para la potencia de eje que entrega la turbina:\n",
    "\\begin{equation}\n",
    "\\dot{W}_\\mathrm{bhp} = \\frac{1}{4}\\rho A(V_1^2 - V_2 ^2)(V_1 + V_2)\n",
    "\\end{equation}"
   ]
  },
  {
   "cell_type": "markdown",
   "id": "d58a52a5",
   "metadata": {
    "cell_style": "split",
    "slideshow": {
     "slide_type": "fragment"
    }
   },
   "source": [
    "donde $A$ es el **área de disco**, definida como el área normal a la dirección del viento barrida por los álabes"
   ]
  },
  {
   "cell_type": "markdown",
   "id": "43899215",
   "metadata": {
    "cell_style": "split"
   },
   "source": [
    "<img src=\"./figures/wind_turbine_disk_area.png\" width=\"400px\" align= center>"
   ]
  },
  {
   "cell_type": "markdown",
   "id": "4cd8ad0d",
   "metadata": {
    "slideshow": {
     "slide_type": "slide"
    }
   },
   "source": [
    "Definimos como **coeficiente de potencia ($C_p$),** a la fracción de la potencia disponible del viento ($\\frac{1}{2}\\rho V^3 A$) extraida por la turbina:\n",
    "\\begin{equation}\n",
    "C_P = \\frac{\\dot{W}_\\mathrm{bhp}}{\\frac{1}{2}\\rho V^3A}\n",
    "\\end{equation}"
   ]
  },
  {
   "cell_type": "markdown",
   "id": "a2484561",
   "metadata": {
    "cell_style": "center",
    "slideshow": {
     "slide_type": "slide"
    }
   },
   "source": [
    "El coeficiente de potencia es un parámetro característico de cada turbina.\n",
    "\n",
    "<img src=\"./figures/coeficiente_de_potencia_wind.png\" width=\"700px\" align= center>"
   ]
  },
  {
   "cell_type": "markdown",
   "id": "a7268d3b",
   "metadata": {
    "slideshow": {
     "slide_type": "fragment"
    }
   },
   "source": [
    "El **límite de Betz** define el límite superior para la eficiencia de una turbina."
   ]
  },
  {
   "cell_type": "markdown",
   "id": "33d3b1b6",
   "metadata": {
    "slideshow": {
     "slide_type": "slide"
    }
   },
   "source": [
    "\n",
    "## Referencias\n",
    "**Çengel Y. A. y Cimbala M. J. *Mecánica de Fluidos: Fundamentos y Aplicaciones*, 4ta Ed., McGraw Hill, 2018**\n",
    "- Capitulo 14: Turbomáquinas\n",
    "\n",
    "**White F. M. *Mecánica de Fluidos*, 5ta Ed., McGraw Hill, 2004**\n",
    "- Capítulo 11: Turbomáquinas"
   ]
  }
 ],
 "metadata": {
  "celltoolbar": "Slideshow",
  "kernelspec": {
   "display_name": "Python 3 (ipykernel)",
   "language": "python",
   "name": "python3"
  },
  "language_info": {
   "codemirror_mode": {
    "name": "ipython",
    "version": 3
   },
   "file_extension": ".py",
   "mimetype": "text/x-python",
   "name": "python",
   "nbconvert_exporter": "python",
   "pygments_lexer": "ipython3",
   "version": "3.11.6"
  },
  "latex_envs": {
   "LaTeX_envs_menu_present": true,
   "autoclose": false,
   "autocomplete": true,
   "bibliofile": "biblio.bib",
   "cite_by": "apalike",
   "current_citInitial": 1,
   "eqLabelWithNumbers": true,
   "eqNumInitial": 1,
   "hotkeys": {
    "equation": "Ctrl-E",
    "itemize": "Ctrl-I"
   },
   "labels_anchors": false,
   "latex_user_defs": false,
   "report_style_numbering": false,
   "user_envs_cfg": false
  },
  "rise": {
   "height": "100%",
   "theme": "simple",
   "width": "100%"
  },
  "toc": {
   "base_numbering": "1",
   "nav_menu": {},
   "number_sections": true,
   "sideBar": true,
   "skip_h1_title": true,
   "title_cell": "Contenidos",
   "title_sidebar": "Contenidos",
   "toc_cell": false,
   "toc_position": {
    "height": "calc(100% - 180px)",
    "left": "10px",
    "top": "150px",
    "width": "303.833px"
   },
   "toc_section_display": true,
   "toc_window_display": false
  },
  "varInspector": {
   "cols": {
    "lenName": 16,
    "lenType": 16,
    "lenVar": 40
   },
   "kernels_config": {
    "python": {
     "delete_cmd_postfix": "",
     "delete_cmd_prefix": "del ",
     "library": "var_list.py",
     "varRefreshCmd": "print(var_dic_list())"
    },
    "r": {
     "delete_cmd_postfix": ") ",
     "delete_cmd_prefix": "rm(",
     "library": "var_list.r",
     "varRefreshCmd": "cat(var_dic_list()) "
    }
   },
   "types_to_exclude": [
    "module",
    "function",
    "builtin_function_or_method",
    "instance",
    "_Feature"
   ],
   "window_display": false
  }
 },
 "nbformat": 4,
 "nbformat_minor": 5
}