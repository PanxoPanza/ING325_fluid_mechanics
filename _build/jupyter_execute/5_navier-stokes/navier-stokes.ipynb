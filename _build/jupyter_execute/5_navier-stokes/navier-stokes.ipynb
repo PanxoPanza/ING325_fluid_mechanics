{
 "cells": [
  {
   "cell_type": "markdown",
   "id": "4769825b",
   "metadata": {
    "slideshow": {
     "slide_type": "slide"
    }
   },
   "source": [
    "# Ecuación de Navier-Stokes"
   ]
  },
  {
   "cell_type": "markdown",
   "id": "56dcb86e",
   "metadata": {
    "slideshow": {
     "slide_type": "slide"
    }
   },
   "source": [
    "## Introducción\n",
    "\n",
    "En la unidad anterior dedujimos las ecuaciones de conservación de masa y momento lineal en su forma diferencial. Estas ecuaciones se aplican para cualquier tipo de fluido en régimen laminar."
   ]
  },
  {
   "cell_type": "markdown",
   "id": "e8296a5f",
   "metadata": {
    "slideshow": {
     "slide_type": "fragment"
    }
   },
   "source": [
    "En el caso de un fluido newtoniano, podemos realizar aún más simplificaciones."
   ]
  },
  {
   "cell_type": "markdown",
   "id": "66cfc99b",
   "metadata": {
    "slideshow": {
     "slide_type": "fragment"
    }
   },
   "source": [
    "El resultado es la conocida ecuación de Navier-Stokes, que constituye la base fundamental de la mecánica de fluidos. **Técnicamente, cualquier problema de la mecánica de fluidos asociado a las condiciones *incompresible-newtoniano* puede ser caracterizado a partir de la solución de la ecuación de Navier-Stokes.**"
   ]
  },
  {
   "cell_type": "markdown",
   "id": "3d136dc6",
   "metadata": {
    "slideshow": {
     "slide_type": "fragment"
    }
   },
   "source": [
    "Sin embargo, la complejidad asociada al número de incógnitas, variables independientes, y sobre todo a su condición no-lineal, hacen imposible su solución, salvo en casos particulares que revisaremos al final de la unidad."
   ]
  },
  {
   "cell_type": "markdown",
   "id": "c23cdb61",
   "metadata": {
    "slideshow": {
     "slide_type": "slide"
    }
   },
   "source": [
    "## Esfuerzo y deformación de un fluido\n",
    "\n",
    "Previo a derivar las ecuaciones de Navier-Stokes, es importante discutir algunas formulaciones básicas respecto a la tasa de deformación y su relación con los esfuerzos para un fluido newtoniano."
   ]
  },
  {
   "cell_type": "markdown",
   "id": "9481749f",
   "metadata": {
    "slideshow": {
     "slide_type": "slide"
    }
   },
   "source": [
    "### Tensor de tasa de deformación ($\\bar{\\varepsilon}$)\n",
    "\n",
    "Un elemento fluido puede ser sometido a dos tipos de razones de deformación:"
   ]
  },
  {
   "cell_type": "markdown",
   "id": "d41b1e7f",
   "metadata": {
    "cell_style": "center"
   },
   "source": [
    "<img src=\"./figures/movimiento_fluido.png\" width=\"350px\" align= center>"
   ]
  },
  {
   "cell_type": "markdown",
   "id": "30da8fd2",
   "metadata": {
    "slideshow": {
     "slide_type": "slide"
    }
   },
   "source": [
    "En tres dimensiones, podemos representar todos las razones de deformación usando el **tensor de la tasa de deformación**:\n",
    "\n",
    "\\begin{equation*}\n",
    "\\bar{\\varepsilon} =\n",
    "\\begin{bmatrix}\n",
    "\\varepsilon_{xx} & \\varepsilon_{xy} & \\varepsilon_{xz} \\\\\n",
    "\\varepsilon_{yx} & \\varepsilon_{yy} & \\varepsilon_{yz} \\\\\n",
    "\\varepsilon_{zx} & \\varepsilon_{zy} & \\varepsilon_{zz}\n",
    "\\end{bmatrix} = \n",
    "\\begin{bmatrix}\n",
    "\\frac{\\partial u}{\\partial x} & \n",
    "\\frac{1}{2}\\left(\\frac{\\partial u}{\\partial y} + \\frac{\\partial v}{\\partial x}\\right) & \n",
    "\\frac{1}{2}\\left(\\frac{\\partial u}{\\partial z} + \\frac{\\partial w}{\\partial x}\\right) \n",
    "\\\\\n",
    "\\frac{1}{2}\\left(\\frac{\\partial v}{\\partial x} + \\frac{\\partial u}{\\partial y}\\right) & \n",
    "\\frac{\\partial v}{\\partial y} & \n",
    "\\frac{1}{2}\\left(\\frac{\\partial v}{\\partial z}  + \\frac{\\partial w}{\\partial y}\\right)\n",
    "\\\\\n",
    "\\frac{1}{2}\\left(\\frac{\\partial w}{\\partial x} + \\frac{\\partial u}{\\partial z}\\right) & \n",
    "\\frac{1}{2}\\left(\\frac{\\partial w}{\\partial y} + \\frac{\\partial v}{\\partial z}\\right) & \n",
    "\\frac{\\partial w}{\\partial z}\n",
    "\\end{bmatrix}\n",
    "\\end{equation*}"
   ]
  },
  {
   "cell_type": "markdown",
   "id": "a00a6e39",
   "metadata": {
    "slideshow": {
     "slide_type": "fragment"
    }
   },
   "source": [
    "Los **elementos de la diagonal** ($\\varepsilon_{xx}$, $\\varepsilon_{yy}$ y $\\varepsilon_{zz}$) representan la **deformación por esfuerzos normales**. El **resto de los elementos**, corresponde a la **deformación por esfuerzos cortantes**."
   ]
  },
  {
   "cell_type": "markdown",
   "id": "eed2c98c",
   "metadata": {
    "slideshow": {
     "slide_type": "fragment"
    }
   },
   "source": [
    "Usando el operador $\\nabla$, el tensor de deformación se puede representar como:\n",
    "\n",
    "\\begin{equation}\n",
    "\\bar{\\varepsilon} = \\frac{1}{2}\\left[\\left(\\nabla\\vec{V}\\right) + \\left(\\nabla\\vec{V}\\right)^T \\right] \n",
    "\\end{equation}"
   ]
  },
  {
   "cell_type": "markdown",
   "id": "7eb14998",
   "metadata": {
    "slideshow": {
     "slide_type": "slide"
    }
   },
   "source": [
    "### Tensor de esfuerzos"
   ]
  },
  {
   "cell_type": "markdown",
   "id": "bb1f9ad9",
   "metadata": {
    "slideshow": {
     "slide_type": "-"
    }
   },
   "source": [
    "Si el fluido es newtoniano, el tensor esfuerzos de corte es directamente proporcional a la razón de deformación:\n",
    "\n",
    "\\begin{equation}\n",
    "\\bar{\\tau} = 2\\mu \\bar{\\varepsilon}= \\mu\\left[\\left(\\nabla\\vec{V}\\right) + \\left(\\nabla\\vec{V}\\right)^T \\right]\n",
    "\\end{equation}\n",
    "\n",
    "done $\\mu$ es la viscosidad dinámica del fluido"
   ]
  },
  {
   "cell_type": "markdown",
   "id": "f152d82f",
   "metadata": {
    "slideshow": {
     "slide_type": "slide"
    }
   },
   "source": [
    "## Ecuación de Navier-Stokes"
   ]
  },
  {
   "cell_type": "markdown",
   "id": "d34d251f",
   "metadata": {
    "slideshow": {
     "slide_type": "slide"
    }
   },
   "source": [
    "### Derivación de la ecuación principal"
   ]
  },
  {
   "cell_type": "markdown",
   "id": "8ff21609",
   "metadata": {},
   "source": [
    "Comenzamos este análisis a partir de la ecuación de conservación de momento lineal en su forma diferencial, o ecuación de Cauchy:\n",
    "\n",
    "\\begin{equation*}\n",
    "\\rho\\frac{d\\vec{V}}{dt} = - \\nabla p + \\nabla\\cdot\\bar{\\tau} + \\rho\\vec{g}\n",
    "\\end{equation*}"
   ]
  },
  {
   "cell_type": "markdown",
   "id": "1953b2a5",
   "metadata": {
    "slideshow": {
     "slide_type": "slide"
    }
   },
   "source": [
    "En el caso de un fluido newtoniano, es posible demostrar que:\n",
    "\n",
    "\\begin{align*}\n",
    "\\nabla\\cdot\\bar{\\tau} = \\mu\\left[\\nabla^2\\vec{V} + \\vec{V}\\left(\\nabla\\cdot\\vec{V}\\right)\\right]\n",
    "\\end{align*}"
   ]
  },
  {
   "cell_type": "markdown",
   "id": "ac80a1c3",
   "metadata": {
    "slideshow": {
     "slide_type": "fragment"
    }
   },
   "source": [
    "En el caso particular de un flujo incompresible, la ecuación de coservación de masa es:\n",
    "\n",
    "\\begin{equation}\n",
    "\\nabla\\cdot\\vec{V} = 0\n",
    "\\end{equation}"
   ]
  },
  {
   "cell_type": "markdown",
   "id": "8ce8a609",
   "metadata": {
    "slideshow": {
     "slide_type": "fragment"
    }
   },
   "source": [
    "Para este caso particular, tenemos entonces:\n",
    "\n",
    "\\begin{align*}\n",
    "\\nabla\\cdot\\bar{\\tau} = \\mu\\nabla^2\\vec{V}\n",
    "\\end{align*}"
   ]
  },
  {
   "cell_type": "markdown",
   "id": "3167b3bb",
   "metadata": {
    "slideshow": {
     "slide_type": "slide"
    }
   },
   "source": [
    "Reemplazando este resultado en la ecuación de Cauchy:\n",
    "\n",
    "\\begin{equation}\n",
    "\\rho\\frac{d\\vec{V}}{dt} = - \\nabla p + \\mu\\nabla^2\\vec{V} + \\rho\\vec{g}\n",
    "\\end{equation}"
   ]
  },
  {
   "cell_type": "markdown",
   "id": "19ed5af9",
   "metadata": {
    "slideshow": {
     "slide_type": "fragment"
    }
   },
   "source": [
    "Esta es la **ecuacion de Navier-Stokes.** Corresponde a una ecuación diferencial parcial de segundo orden, no lineal y no estacionaria."
   ]
  },
  {
   "cell_type": "markdown",
   "id": "3ff2270f",
   "metadata": {
    "slideshow": {
     "slide_type": "fragment"
    }
   },
   "source": [
    "Notar que la ecuación de Navier Stokes es una ecuación vectorial y por lo tanto, está conformada por 3 ecuaciones. Sin embargo, el problema de fluidos tiene 4 incognitas $u$, $v$, $w$ y la presión $p$."
   ]
  },
  {
   "cell_type": "markdown",
   "id": "cae6a83a",
   "metadata": {
    "slideshow": {
     "slide_type": "fragment"
    }
   },
   "source": [
    "Para poder resolver este problema, necesitamos una cuarta ecuación la cual corresponde a la continuidad para flujo incompresible, $\\nabla\\cdot \\vec{V} = 0$."
   ]
  },
  {
   "cell_type": "markdown",
   "id": "6a80d8fb",
   "metadata": {
    "slideshow": {
     "slide_type": "slide"
    }
   },
   "source": [
    "### Navier-Stokes en coordenadas cartesianas\n",
    "En coordenadas cartesianas, tenemos que el vector $\\vec{V}$ se descompone en las componentes $u$, $v$ y $w$. Las ecuaciónes de continuidad y Navier-Stokes toman la siguiente forma:"
   ]
  },
  {
   "cell_type": "markdown",
   "id": "486ce942",
   "metadata": {
    "slideshow": {
     "slide_type": "fragment"
    }
   },
   "source": [
    "**Encuación de continuidad flujo incompresible**\n",
    "\n",
    "\\begin{equation*}\n",
    "\\frac{\\partial u}{\\partial x} + \\frac{\\partial v}{\\partial y} + \\frac{\\partial w}{\\partial z} = 0\n",
    "\\end{equation*}\n",
    "\n",
    "**Navier-Stokes**\n",
    "\n",
    "\\begin{align*}\n",
    "\\rho \\left(\\frac{\\partial u}{\\partial t} + u\\frac{\\partial u}{\\partial x} + v\\frac{\\partial u}{\\partial y} + w\\frac{\\partial u}{\\partial z}\\right) &= -\\frac{\\partial p}{\\partial x} + \\mu \\left(\\frac{\\partial^2 u}{\\partial x^2} + \\frac{\\partial^2 u}{\\partial y^2} + \\frac{\\partial^2 u}{\\partial z^2}\\right) + \\rho g_x\n",
    "\\\\\n",
    "\\rho \\left(\\frac{\\partial v}{\\partial t} + u\\frac{\\partial v}{\\partial x} + v\\frac{\\partial v}{\\partial y} + w\\frac{\\partial v}{\\partial z}\\right) &= -\\frac{\\partial p}{\\partial y} + \\mu \\left(\\frac{\\partial^2 v}{\\partial x^2} + \\frac{\\partial^2 v}{\\partial y^2} + \\frac{\\partial^2 v}{\\partial z^2}\\right) + \\rho g_y\n",
    "\\\\\n",
    "\\rho \\left(\\frac{\\partial w}{\\partial t} + u\\frac{\\partial w}{\\partial x} + v\\frac{\\partial w}{\\partial y} + w\\frac{\\partial w}{\\partial z}\\right) &= -\\frac{\\partial p}{\\partial z} + \\mu \\left(\\frac{\\partial^2 w}{\\partial x^2} + \\frac{\\partial^2 w}{\\partial y^2} + \\frac{\\partial^2 w}{\\partial z^2}\\right) + \\rho g_z\n",
    "\\end{align*}\n"
   ]
  },
  {
   "cell_type": "markdown",
   "id": "62916f63",
   "metadata": {
    "slideshow": {
     "slide_type": "slide"
    }
   },
   "source": [
    "### Navier-Stokes en coordenadas cilíndricas\n",
    "\n",
    "En el caso de coordenadas cilíndricas ($r$, $\\theta$, $z$), los operadores toman las siguientes formas:"
   ]
  },
  {
   "cell_type": "markdown",
   "id": "d8a2bb7c",
   "metadata": {
    "slideshow": {
     "slide_type": "fragment"
    }
   },
   "source": [
    "**Operador Gradiente**\n",
    "\n",
    "\\begin{equation*}\n",
    "\\nabla f\n",
    "= \\frac{\\partial f}{\\partial r} \\hat{r}\n",
    "+ \\frac{1}{r}\\frac{\\partial f}{\\partial \\theta} \\hat{\\theta}\n",
    "+ \\frac{\\partial f}{\\partial z} \\hat{z}\n",
    "\\end{equation*}\n",
    "\n",
    "**Operador divergente**\n",
    "\n",
    "\\begin{equation*}\n",
    "\\nabla\\cdot \\vec{f}\n",
    "= \\frac{1}{r}\\frac{\\partial}{\\partial r}(rf_r) \n",
    "+ \\frac{1}{r}\\frac{\\partial f_\\theta}{\\partial \\theta} \n",
    "+ \\frac{\\partial f_z}{\\partial z} \\hat{z}\n",
    "\\end{equation*}\n",
    "\n",
    "**Derivada convectiva**\n",
    "\n",
    "\\begin{equation*}\n",
    "\\vec{V}\\cdot\\nabla = u_r\\frac{\\partial }{\\partial r} + \\frac{u_\\theta}{r}\\frac{\\partial }{\\partial \\theta} + u_z\\frac{\\partial}{\\partial z}\n",
    "\\end{equation*}\n",
    "\n",
    "**Operador laplaciano**\n",
    "\n",
    "\\begin{equation*}\n",
    "\\nabla^2 = \\frac{1}{r}\\frac{\\partial}{\\partial r}\\left(r\\frac{\\partial }{\\partial r}\\right) + \\frac{1}{r^2}\\frac{\\partial^2 }{\\partial \\theta^2} + \\frac{\\partial^2 }{\\partial z^2}\n",
    "\\end{equation*}"
   ]
  },
  {
   "cell_type": "markdown",
   "id": "7b5cd2a0",
   "metadata": {
    "slideshow": {
     "slide_type": "slide"
    }
   },
   "source": [
    "A partir de esto, las ecuaciones de continuidad y Navier-Stokes quedan de la siguiente forma:"
   ]
  },
  {
   "cell_type": "markdown",
   "id": "436e24dc",
   "metadata": {
    "slideshow": {
     "slide_type": "fragment"
    }
   },
   "source": [
    "**Encuación de continuidad flujo incompresible**\n",
    "\n",
    "\\begin{equation*}\n",
    "\\frac{1}{r}\\frac{\\partial}{\\partial r}(ru_r) + \\frac{1}{r}\\frac{\\partial u_\\theta}{\\partial \\theta} + \\frac{\\partial u_z}{\\partial z} = 0\n",
    "\\end{equation*}\n",
    "\n",
    "**Navier-Stokes**\n",
    "    \n",
    "\\begin{align*}\n",
    "\\rho \\left(\\frac{\\partial u_r}{\\partial t} + \\vec{V}\\cdot\\nabla u_r-\\frac{1}{r}u_\\theta^2\\right) &= -\\frac{\\partial p}{\\partial r} + \\mu\\left(\\nabla^2 u_r  - \\frac{u_r}{r^2} - \\frac{2}{r^2}\\frac{\\partial u_\\theta}{\\partial \\theta}\\right) + \\rho g_r\n",
    "    \\\\\n",
    "\\rho \\left(\\frac{\\partial u_\\theta}{\\partial t} + \\vec{V}\\cdot\\nabla u_\\theta+\\frac{1}{r}u_\\theta u_r\\right) &= -\\frac{1}{r}\\frac{\\partial p}{\\partial \\theta} + \\mu \\left(\\nabla^2 u_\\theta - \\frac{u_\\theta}{r^2} + \\frac{2}{r^2}\\frac{\\partial u_r}{\\partial \\theta}\\right) + \\rho g_\\theta \n",
    "    \\\\\n",
    "\\rho \\left(\\frac{\\partial u_z}{\\partial t} + \\vec{V}\\cdot\\nabla u_z\\right) &= -\\frac{\\partial p}{\\partial z} + \\mu\\nabla^2 u_z + \\rho g_z\n",
    "\\end{align*}\n",
    "\n",
    "donde $u_r$, $u_\\theta$ y $u_z$ son las componentes de la velocidad en la dirección radial, azimutal y longitudinal, respectivamente."
   ]
  },
  {
   "cell_type": "markdown",
   "id": "c392b36b",
   "metadata": {
    "slideshow": {
     "slide_type": "slide"
    }
   },
   "source": [
    "El tensor de esfuerzos es:\n",
    "\n",
    "\\begin{equation}\n",
    "\\bar{\\tau} = \\mu\n",
    "\\begin{bmatrix}\n",
    "2 \\dfrac{\\partial u_r}{\\partial r} & \n",
    "\\dfrac{1}{r}\\left(\\dfrac{\\partial u_r}{\\partial \\theta} -u_\\theta\\right) + \\dfrac{\\partial u_\\theta}{\\partial r} & \n",
    "\\dfrac{\\partial u_r}{\\partial z} + \\dfrac{\\partial u_z}{\\partial r} \n",
    "\\\\\n",
    "\\dfrac{1}{r}\\left(\\dfrac{\\partial u_r}{\\partial \\theta} -u_\\theta\\right) + \\dfrac{\\partial u_\\theta}{\\partial r} & \n",
    "\\dfrac{2}{r}\\left(\\dfrac{\\partial u_\\theta}{\\partial \\theta} + u_r\\right) & \n",
    "\\dfrac{1}{r}\\dfrac{\\partial u_z}{\\partial \\theta} + \\dfrac{\\partial u_\\theta}{\\partial z}\n",
    "\\\\\n",
    "\\dfrac{\\partial u_r}{\\partial z} + \\dfrac{\\partial u_z}{\\partial r} & \n",
    "\\dfrac{1}{r}\\dfrac{\\partial u_z}{\\partial \\theta} + \\dfrac{\\partial u_\\theta}{\\partial z} & \n",
    "2\\dfrac{\\partial u_z}{\\partial z}\n",
    "\\end{bmatrix}\n",
    "\\end{equation}"
   ]
  },
  {
   "cell_type": "markdown",
   "id": "4149086b",
   "metadata": {
    "slideshow": {
     "slide_type": "slide"
    }
   },
   "source": [
    "## Soluciones de N-S y continuidad\n",
    "\n",
    "A pesar de su complejidad, existen problemas sencillos donde las ecuaciones de Navier-Stokes en conjunto con la ecuación de continuidad tienen solución analítica."
   ]
  },
  {
   "cell_type": "markdown",
   "id": "e8782171",
   "metadata": {
    "slideshow": {
     "slide_type": "fragment"
    }
   },
   "source": [
    "Para poder resolver estas ecuaciones es fundamental aplicar las *condiciones iniciales y de borde adecuadas*. Si analizamos estas ecuaciones involucradas, notamos que tenemos **derivadas de primer orden en el tiempo ($t$)** y **derivadas de segundo orden en el espacio ($x$, $y$, $z$)**. En general, necesitaremos:\n",
    "\n",
    "- Una condición inicial\n",
    "- Dos condiciones de borde en $x$, $y$, $z$."
   ]
  },
  {
   "cell_type": "markdown",
   "id": "3110cff1",
   "metadata": {
    "slideshow": {
     "slide_type": "fragment"
    }
   },
   "source": [
    "Considerando las incognitas $u$, $v$, $w$ y $p$, esto nos da como resultado **4 condiciones iniciales  y 12 condiciones de borde.**"
   ]
  },
  {
   "cell_type": "markdown",
   "id": "2c39b938",
   "metadata": {
    "slideshow": {
     "slide_type": "slide"
    }
   },
   "source": [
    "En la práctica, sin embargo, es común aplicar supuestos que permiten reducir el tamaño de la ecuación diferencial."
   ]
  },
  {
   "cell_type": "markdown",
   "id": "dd9a7898",
   "metadata": {
    "slideshow": {
     "slide_type": "slide"
    }
   },
   "source": [
    "### Supuestos típicos"
   ]
  },
  {
   "cell_type": "markdown",
   "id": "f8c912a1",
   "metadata": {
    "slideshow": {
     "slide_type": "fragment"
    }
   },
   "source": [
    "#### Flujo estacionario\n",
    "Este supuesto asume que la variación temporal es despreciable ($\\frac{\\partial}{\\partial t} = 0$). Las ecuaciónes se simplifican a:\n",
    "\n",
    "**Ecuación de continuidad flujo incompresible**\n",
    "\n",
    "\\begin{equation*}\n",
    "\\nabla\\cdot\\vec{V} = 0\n",
    "\\end{equation*}\n",
    "\n",
    "**Navier Stokes**\n",
    "\n",
    "\\begin{equation*}\n",
    "\\rho\\vec{V}\\cdot\\nabla\\vec{V} = -\\nabla p + \\rho\\vec{g} + \\mu\\nabla^2\\vec{V}\n",
    "\\end{equation*}"
   ]
  },
  {
   "cell_type": "markdown",
   "id": "00c353b4",
   "metadata": {
    "slideshow": {
     "slide_type": "slide"
    }
   },
   "source": [
    "#### Flujo bidimensional\n",
    "Este supuesto es útil para reducir una de las tres componentes de la velocidad. En coordenadas cartesianas, la bidimensionalidad permitiría, por ejemplo, ignorar la componente $z$, es decir $w = 0$ y $\\frac{\\partial}{\\partial z} = 0$. Las ecuaciones de continuidad y Navier-Stokes se simplifican a:"
   ]
  },
  {
   "cell_type": "markdown",
   "id": "4e5440fa",
   "metadata": {
    "slideshow": {
     "slide_type": "fragment"
    }
   },
   "source": [
    "**Ecuación de continuidad flujo incompresible**\n",
    "\n",
    "\\begin{equation*}\n",
    "\\frac{\\partial u}{\\partial x} + \\frac{\\partial v}{\\partial y} = 0\n",
    "\\end{equation*}\n",
    "\n",
    "**Navier-Stokes**\n",
    "\n",
    "\\begin{align*}\n",
    "\\rho \\left(\\frac{\\partial u}{\\partial t} + u\\frac{\\partial u}{\\partial x} + v\\frac{\\partial u}{\\partial y}\\right) &= -\\frac{\\partial p}{\\partial x} + \\mu \\left(\\frac{\\partial^2 u}{\\partial x^2} + \\frac{\\partial^2 u}{\\partial y^2}\\right) + \\rho g_x\n",
    "\\\\\n",
    "\\rho \\left(\\frac{\\partial v}{\\partial t} + u\\frac{\\partial v}{\\partial x} + v\\frac{\\partial v}{\\partial y}\\right) &= -\\frac{\\partial p}{\\partial y} + \\mu \\left(\\frac{\\partial^2 v}{\\partial x^2} + \\frac{\\partial^2 v}{\\partial y^2}\\right) + \\rho g_y\n",
    "\\end{align*}\n"
   ]
  },
  {
   "cell_type": "markdown",
   "id": "7f1a8998",
   "metadata": {
    "slideshow": {
     "slide_type": "slide"
    }
   },
   "source": [
    "Notar que, en este caso, si la gravedad actúara en la dirección $\\hat{z}$ (es decir, $g_z \\neq 0$), la componente $z$ de las ecuaciones de Navier-Stokes quedaría como:\n",
    "\n",
    "\\begin{equation*}\n",
    "0 = \\frac{\\partial p}{\\partial z} + \\rho g_z\n",
    "\\end{equation*}\n",
    "\n",
    "Que corresponde a la ecuación para presión hidrostática."
   ]
  },
  {
   "cell_type": "markdown",
   "id": "2b7f9901",
   "metadata": {
    "slideshow": {
     "slide_type": "slide"
    }
   },
   "source": [
    "El razonamiento análogo en coordenadas cilindricas se denomina, **flujo con simetría axial o axial-simétrico**."
   ]
  },
  {
   "cell_type": "markdown",
   "id": "421876ab",
   "metadata": {
    "slideshow": {
     "slide_type": "fragment"
    }
   },
   "source": [
    "En este caso, $u_\\theta = 0$ y $\\frac{\\partial}{\\partial \\theta} = 0$, y las ecuaciones se simplifican a:\n",
    "\n",
    "**Ecuación de continuidad flujo incompresible**\n",
    "\n",
    "\\begin{equation*}\n",
    "\\frac{1}{r}\\frac{\\partial}{\\partial r}(ru_r) + \\frac{\\partial u_z}{\\partial z} = 0\n",
    "\\end{equation*}\n",
    "\n",
    "**Navier-Stokes**\n",
    "    \n",
    "\\begin{align*}\n",
    "\\rho \\left(\\frac{\\partial u_r}{\\partial t} + u_r\\frac{\\partial  u_r}{\\partial r} + u_z\\frac{\\partial u_r}{\\partial z}\\right) &= -\\frac{\\partial p}{\\partial r} + \\mu\\left[\\frac{1}{r}\\frac{\\partial}{\\partial r}\\left(r\\frac{\\partial u_r}{\\partial r}\\right)  - \\frac{u_r}{r^2}  + \\frac{\\partial^2 u_r}{\\partial z^2}\\right] + \\rho g_r \n",
    "    \\\\\n",
    "\\rho \\left(\\frac{\\partial u_z}{\\partial t} + u_r\\frac{\\partial  u_z}{\\partial r} + u_z\\frac{\\partial u_z}{\\partial z}\\right) &= -\\frac{\\partial p}{\\partial z} + \\mu\\left[\\frac{1}{r}\\frac{\\partial}{\\partial r}\\left(r\\frac{\\partial u_z}{\\partial r}\\right) + \\frac{\\partial^2 u_z}{\\partial z^2} \\right] + \\rho g_z\n",
    "\\end{align*}\n"
   ]
  },
  {
   "cell_type": "markdown",
   "id": "9757445f",
   "metadata": {
    "slideshow": {
     "slide_type": "slide"
    }
   },
   "source": [
    "#### Flujo desarrollado\n",
    "\n",
    "Este supuesto se aplica para **despreciar la tasa de cambio en la dirección paralela a alguna de las componentes de velocidad**."
   ]
  },
  {
   "cell_type": "markdown",
   "id": "26c0f4dc",
   "metadata": {
    "slideshow": {
     "slide_type": "fragment"
    }
   },
   "source": [
    "El concepto nace del flujo en tuberías, donde la tasa de cambio de la componente longitudinal, $\\frac{\\partial u_z}{\\partial z} \\approx 0$ despues de la región de desarrollo del flujo. \n",
    "\n",
    "<img src=\"./figures/condicion_flujo_desarrollado.png\" width=\"800px\" align= center>"
   ]
  },
  {
   "cell_type": "markdown",
   "id": "028c29cf",
   "metadata": {
    "slideshow": {
     "slide_type": "slide"
    }
   },
   "source": [
    "Sin embargo, se puede aplicar a otros problemas como veremos más adelante."
   ]
  },
  {
   "cell_type": "markdown",
   "id": "a0c84ad3",
   "metadata": {
    "slideshow": {
     "slide_type": "slide"
    }
   },
   "source": [
    "### Condiciones de borde típicas\n",
    "\n",
    "Una vez establecidos los supuestos, es necesario implementar las condiciones de borde necesarias para resolver el problema."
   ]
  },
  {
   "cell_type": "markdown",
   "id": "9cf43d7a",
   "metadata": {
    "slideshow": {
     "slide_type": "fragment"
    }
   },
   "source": [
    "Las más comunes son.\n",
    "\n",
    "<img src=\"./figures/condicion_de_frontera.png\" width=\"800px\" align= center>"
   ]
  },
  {
   "cell_type": "markdown",
   "id": "4aa7f045",
   "metadata": {
    "slideshow": {
     "slide_type": "slide"
    }
   },
   "source": [
    "La **condición de interface constituye una condición generalizada del contacto de un fluido con una frontera mobil**."
   ]
  },
  {
   "cell_type": "markdown",
   "id": "b76e831b",
   "metadata": {
    "slideshow": {
     "slide_type": "fragment"
    }
   },
   "source": [
    "Por ejemplo, si el fluido está en contacto con una pared móvil a velocidad $V_\\mathrm{pared}$, la condición de borde es:\n",
    "\n",
    "\\begin{equation}\n",
    "u(y=y_0) = V_\\mathrm{pared}\n",
    "\\end{equation}\n",
    "\n",
    "donde $y_0$ es la posición de la interface entre el fluido y la pared."
   ]
  },
  {
   "cell_type": "markdown",
   "id": "fa9d96e3",
   "metadata": {
    "slideshow": {
     "slide_type": "fragment"
    }
   },
   "source": [
    "El caso de una pared fija ($V_\\mathrm{pared} = 0$), obtenemos la **condición de no-deslizamiento:**\n",
    "\n",
    "\\begin{equation}\n",
    "u(y=y_0) = 0\n",
    "\\end{equation}"
   ]
  },
  {
   "cell_type": "markdown",
   "id": "0452078e",
   "metadata": {
    "slideshow": {
     "slide_type": "slide"
    }
   },
   "source": [
    "### Flujos característicos"
   ]
  },
  {
   "cell_type": "markdown",
   "id": "246cb0a7",
   "metadata": {},
   "source": [
    "Existen 3 problemas característicos que pueden ser resueltos analiticamente a partir de las ecuaciones de continuidad y Navier-Stokes.\n",
    "\n",
    "<img src=\"./figures/tipos_de_flujo.png\" width=\"800px\" align= center>"
   ]
  },
  {
   "cell_type": "markdown",
   "id": "34bd2773",
   "metadata": {
    "slideshow": {
     "slide_type": "fragment"
    }
   },
   "source": [
    "La solución a estos problemas se verá en la sesión de cátedra."
   ]
  },
  {
   "cell_type": "markdown",
   "id": "33d3b1b6",
   "metadata": {
    "slideshow": {
     "slide_type": "slide"
    }
   },
   "source": [
    "## Referencias\n",
    "**Çengel Y. A. y Cimbala M. J. *Mecánica de Fluidos: Fundamentos y Aplicaciones*, 4ta Ed., McGraw Hill, 2018**\n",
    "- Capitulo 9. Análisis diferencial de flujo de fluidos\n",
    "- Capitulo 10. Soluciones aproximadas de la ecuación de Navier-Stokes\n",
    "\n",
    "**White F. M. *Mecánica de Fluidos*, 5ta Ed., McGraw Hill, 2004**\n",
    "- Capítulo 4. Relaciones diferenciales para una partícula fluida\n"
   ]
  }
 ],
 "metadata": {
  "celltoolbar": "Slideshow",
  "kernelspec": {
   "display_name": "Python 3 (ipykernel)",
   "language": "python",
   "name": "python3"
  },
  "language_info": {
   "codemirror_mode": {
    "name": "ipython",
    "version": 3
   },
   "file_extension": ".py",
   "mimetype": "text/x-python",
   "name": "python",
   "nbconvert_exporter": "python",
   "pygments_lexer": "ipython3",
   "version": "3.11.6"
  },
  "latex_envs": {
   "LaTeX_envs_menu_present": true,
   "autoclose": false,
   "autocomplete": true,
   "bibliofile": "biblio.bib",
   "cite_by": "apalike",
   "current_citInitial": 1,
   "eqLabelWithNumbers": true,
   "eqNumInitial": 1,
   "hotkeys": {
    "equation": "Ctrl-E",
    "itemize": "Ctrl-I"
   },
   "labels_anchors": false,
   "latex_user_defs": false,
   "report_style_numbering": false,
   "user_envs_cfg": false
  },
  "rise": {
   "height": "100%",
   "theme": "simple",
   "width": "100%"
  },
  "toc": {
   "base_numbering": "1",
   "nav_menu": {},
   "number_sections": true,
   "sideBar": true,
   "skip_h1_title": true,
   "title_cell": "Contenidos",
   "title_sidebar": "Contenidos",
   "toc_cell": false,
   "toc_position": {
    "height": "calc(100% - 180px)",
    "left": "10px",
    "top": "150px",
    "width": "303.833px"
   },
   "toc_section_display": true,
   "toc_window_display": false
  },
  "varInspector": {
   "cols": {
    "lenName": 16,
    "lenType": 16,
    "lenVar": 40
   },
   "kernels_config": {
    "python": {
     "delete_cmd_postfix": "",
     "delete_cmd_prefix": "del ",
     "library": "var_list.py",
     "varRefreshCmd": "print(var_dic_list())"
    },
    "r": {
     "delete_cmd_postfix": ") ",
     "delete_cmd_prefix": "rm(",
     "library": "var_list.r",
     "varRefreshCmd": "cat(var_dic_list()) "
    }
   },
   "types_to_exclude": [
    "module",
    "function",
    "builtin_function_or_method",
    "instance",
    "_Feature"
   ],
   "window_display": false
  }
 },
 "nbformat": 4,
 "nbformat_minor": 5
}