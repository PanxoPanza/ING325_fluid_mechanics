{
 "cells": [
  {
   "cell_type": "markdown",
   "id": "4769825b",
   "metadata": {
    "slideshow": {
     "slide_type": "slide"
    }
   },
   "source": [
    "# Análisis diferencial de flujos"
   ]
  },
  {
   "cell_type": "markdown",
   "id": "56dcb86e",
   "metadata": {
    "slideshow": {
     "slide_type": "slide"
    }
   },
   "source": [
    "## Introducción\n",
    "\n",
    "Hasta ahora hemos utilizado un **enfoque integral**, donde aplicabamos las **ecuaciones de convervación a un volumen de control**. El análisis de volumen de control es útil cuando se esta interesado en las características globales de un flujo y los cuerpos con los que interactúa, por ejemplo: fuerzas de arrastre, energía de una bomba o turbina, velocidades promedio en un ducto, etc. El **análisis diferencial**, por otro lado, permite **determinar las interacciones de un fluido con una estructura en cada punto dentro del volúmen de control**.\n",
    "\n",
    "<img src=\"./figures/intro_figure.png\" width=\"650px\" align= center>"
   ]
  },
  {
   "cell_type": "markdown",
   "id": "8e60f1fd",
   "metadata": {
    "slideshow": {
     "slide_type": "slide"
    }
   },
   "source": [
    "En esta unidad revisaremos los aspectos generales del análisis diferencial de flujos. Comenzaremos por revisar los aspectos básicos de cálculo vectorial y cinemática de fluidos. Luego derivaremos las ecuaciones de conservación de masa y momento lineal en su forma diferencial."
   ]
  },
  {
   "cell_type": "markdown",
   "id": "109e2350",
   "metadata": {
    "slideshow": {
     "slide_type": "slide"
    }
   },
   "source": [
    "## Repaso de cálculo vectorial"
   ]
  },
  {
   "cell_type": "markdown",
   "id": "218f6818",
   "metadata": {
    "slideshow": {
     "slide_type": "slide"
    }
   },
   "source": [
    "### Descripción Euleriana y Lagrangiana\n",
    "\n",
    "El análisis en un volúmen de control utiliza la **descripción euleriana**. Este enfoque se basa en el análisis de la velocidad $\\vec{V}$ en función del tiempo y la posición, es decir $\\vec{V}(t,x,y,z)$. Este enfoque difiere de la **descripción lagrangiano**, comúnmente usada en estática y dinámica de sólidos, donde estudiamos la evolución de la posición $x$ en función del tiempo, es decir $x(t)$.\n",
    "\n",
    "<img src=\"./figures/lagrangian_eulerian.png\" width=\"650px\" align= center>"
   ]
  },
  {
   "cell_type": "markdown",
   "id": "c510b660",
   "metadata": {
    "slideshow": {
     "slide_type": "slide"
    }
   },
   "source": [
    "### Variables de campo en mecánica de fluidos\n",
    "\n",
    "El cálculo vectorial se transforma en la raíz del enfoque euleriano, ya que ahora trabajamos con **variables de campo**, específicamente:\n",
    "\n",
    "\\begin{align*}\n",
    "P(x,y,z,t) &\\quad\\quad\\mathrm{Campo~de~presión~(campo~escalar)}\\\\\n",
    "\\rho(x,y,z,t) &\\quad\\quad\\mathrm{Campo~de~densidad~(campo~escalar)}\\\\\n",
    "\\vec{V}(x,y,z,t) &\\quad\\quad\\mathrm{Campo~de~velocidad~(campo~vectorial)}\n",
    "\\end{align*}"
   ]
  },
  {
   "cell_type": "markdown",
   "id": "559ee46f",
   "metadata": {
    "slideshow": {
     "slide_type": "fragment"
    }
   },
   "source": [
    "El campo de velocidad, en particular, se define por tres componentes:\n",
    "\n",
    "\\begin{equation}\n",
    "\\vec{V} = u(x,y,z,t)~\\hat{x} + v(x,y,z,t)~\\hat{y} + w(x,y,z,t)~\\hat{z}\n",
    "\\end{equation}\n",
    "\n",
    "donde $u$, $v$ y $w$ son las componentes de la velocidad e direcciones $x$, $y$ y $z$, respectivamente."
   ]
  },
  {
   "cell_type": "markdown",
   "id": "e10f2118",
   "metadata": {
    "slideshow": {
     "slide_type": "slide"
    }
   },
   "source": [
    "### Operadores diferenciales\n",
    "\n",
    "Debido a la cantidad de variables independientes presentes en cada parámetro, es conveniente utilizar operadores para analizar tasas de cambio y otras caracteristicas."
   ]
  },
  {
   "cell_type": "markdown",
   "id": "b32c6401",
   "metadata": {
    "slideshow": {
     "slide_type": "fragment"
    }
   },
   "source": [
    "Para esto definimos el operador $\\nabla$ o \"del\", como:\n",
    "\n",
    "\\begin{equation}\n",
    "\\nabla= \\left( \\hat{x}\\frac{\\partial }{\\partial x} + \\hat{y}\\frac{\\partial }{\\partial y} + \\hat{z}\\frac{\\partial }{\\partial z} \\right)\n",
    "\\end{equation}"
   ]
  },
  {
   "cell_type": "markdown",
   "id": "860a2b7d",
   "metadata": {
    "slideshow": {
     "slide_type": "fragment"
    }
   },
   "source": [
    "El operador $\\nabla$ es un *vector que aplica una derivada espacial a una variable de campo*. **La forma que toma este operador depende del tipo de variable y del producto vectorial aplicado.**"
   ]
  },
  {
   "cell_type": "markdown",
   "id": "58a0a5e8",
   "metadata": {
    "slideshow": {
     "slide_type": "slide"
    }
   },
   "source": [
    "#### Gradiente. $\\nabla(\\quad)$\n",
    "\n",
    "Es equivalente a la derivada de una función, pero en múltiples dimenciones. Permite identificar zonas de crecimiento o decrecimiento de una variable de campo."
   ]
  },
  {
   "cell_type": "markdown",
   "id": "15b815f3",
   "metadata": {
    "slideshow": {
     "slide_type": "fragment"
    }
   },
   "source": [
    "**Si el gradiente se aplica a un campo escalar, el resultado es un campo vectorial.** Por ejemplo, el gradiente de la densidad es:\n",
    "\n",
    "\\begin{equation}\n",
    "\\nabla \\rho= \\frac{\\partial \\rho}{\\partial x}\\hat{x} + \\frac{\\partial \\rho}{\\partial y}\\hat{y}+ \\frac{\\partial \\rho}{\\partial z}\\hat{z}\n",
    "\\end{equation}"
   ]
  },
  {
   "cell_type": "markdown",
   "id": "dccf1b9b",
   "metadata": {
    "slideshow": {
     "slide_type": "slide"
    }
   },
   "source": [
    "**Si el gradiente se aplica a un campo vectorial, el resultado es un tensor de orden 2.** Por ejemplo, el gradiente de la velocidad es:\n",
    "\n",
    "\\begin{equation}\n",
    "\\nabla \\vec{V} = \n",
    "\\frac{\\partial \\vec{V}}{\\partial x}\\hat{x} + \\frac{\\partial \\vec{V}}{\\partial y}\\hat{y}+ \\frac{\\partial \\vec{V}}{\\partial z}\\hat{z}\n",
    "= \\begin{bmatrix}\n",
    "\\frac{\\partial u}{\\partial x} & \\frac{\\partial u}{\\partial y} & \\frac{\\partial u}{\\partial z} \\\\\n",
    "\\frac{\\partial v}{\\partial x} & \\frac{\\partial v}{\\partial y} & \\frac{\\partial v}{\\partial z} \\\\\n",
    "\\frac{\\partial w}{\\partial x} & \\frac{\\partial w}{\\partial y} & \\frac{\\partial w}{\\partial z} \n",
    "\\end{bmatrix}\n",
    "\\end{equation}"
   ]
  },
  {
   "cell_type": "markdown",
   "id": "882f258f",
   "metadata": {
    "slideshow": {
     "slide_type": "slide"
    }
   },
   "source": [
    "#### Divergente. $\\nabla\\cdot(\\quad)$\n",
    "\n",
    "**Solo se aplica a campos vectoriales**. Se define como el producto punto entre el operador Del y un campo vectorial:\n",
    "\n",
    "\\begin{equation}\n",
    "\\nabla \\cdot \\vec{V}= \\frac{\\partial u}{\\partial x} + \\frac{\\partial v}{\\partial y} + \\frac{\\partial w}{\\partial z}\n",
    "\\end{equation}"
   ]
  },
  {
   "cell_type": "markdown",
   "id": "1f99f115",
   "metadata": {
    "slideshow": {
     "slide_type": "fragment"
    }
   },
   "source": [
    "El divergente permite medir cuanto un campo vectorial diverge o converge respecto de un punto en cuestión."
   ]
  },
  {
   "cell_type": "markdown",
   "id": "e3a596c5",
   "metadata": {
    "slideshow": {
     "slide_type": "slide"
    }
   },
   "source": [
    "Por ejemplo:\n",
    "\n",
    "<img src=\"./figures/divergence.jpg\" width=\"71%\" align= center>\n",
    "\n",
    "(a) $\\nabla\\cdot\\vec{V} \\gt 0$ (el flujo se dirige hacia afuera del punto)\n",
    "\n",
    "(b) $\\nabla\\cdot\\vec{V} = 0$ (no se observa presencia de acumulaciones de flujo)\n",
    "\n",
    "(c) $\\nabla\\cdot\\vec{V} \\gt 0$ (el flujo diverge desde la base hacia arriba)"
   ]
  },
  {
   "cell_type": "markdown",
   "id": "f61f7480",
   "metadata": {
    "slideshow": {
     "slide_type": "slide"
    }
   },
   "source": [
    "#### Rotacional. $\\nabla\\times(\\quad)$ \n",
    "\n",
    "Solo se aplica a campos vectoriales. Se define como el producto cruz entre el operador Del y un campo vectorial:\n",
    "\n",
    "\\begin{equation}\n",
    "\\nabla \\times \\vec{V}= \n",
    "\\left(\\frac{\\partial w}{\\partial y} - \\frac{\\partial v}{\\partial z}\\right)\\hat{x}+\n",
    "\\left(\\frac{\\partial u}{\\partial z} - \\frac{\\partial w}{\\partial x}\\right)\\hat{y}+\n",
    "\\left(\\frac{\\partial v}{\\partial x} - \\frac{\\partial u}{\\partial y}\\right)\\hat{z}\n",
    "\\end{equation}"
   ]
  },
  {
   "cell_type": "markdown",
   "id": "c5231593",
   "metadata": {
    "slideshow": {
     "slide_type": "fragment"
    }
   },
   "source": [
    "El rotacional es una medida de cuanto un campo vectorial rota respecto de un punto en cuestión. "
   ]
  },
  {
   "cell_type": "markdown",
   "id": "962bd49e",
   "metadata": {
    "slideshow": {
     "slide_type": "slide"
    }
   },
   "source": [
    "Por ejemplo, el valor del rotacional en los siguientes campos vectoriales (ambos contenidos en el plano $xy$):\n",
    "\n",
    "<img src=\"./figures/curl.jpg\" width=\"650\"  align= center>\n",
    "\n",
    "(a) $\\nabla\\times\\vec{V} \\gt 0$ (el fluido rota en sentido $\\hat{z}>0$)\n",
    "\n",
    "(b) $\\nabla\\times\\vec{V} \\gt 0$ (Las lineas se mueven en sentido contrario, generando rotaciones con dirección $\\hat{z}>0$)\n",
    "\n",
    ">Notar que en la figura, el divergente, $\\nabla\\cdot\\vec{V} = 0$ en ambos casos."
   ]
  },
  {
   "cell_type": "markdown",
   "id": "f31ea16e",
   "metadata": {
    "slideshow": {
     "slide_type": "slide"
    }
   },
   "source": [
    "## Fundamentos de la cinemática de fluidos"
   ]
  },
  {
   "cell_type": "markdown",
   "id": "8be5ebb1",
   "metadata": {
    "slideshow": {
     "slide_type": "slide"
    }
   },
   "source": [
    "### Derivada material\n",
    "\n",
    "Debemos definir un nuevo operador, acorde al enfoque euleriano, para evaluar la tasa de cambio de una variable, $d/dt$."
   ]
  },
  {
   "cell_type": "markdown",
   "id": "406f7a40",
   "metadata": {
    "slideshow": {
     "slide_type": "slide"
    }
   },
   "source": [
    "Analicemos, por ejemplo, la aceleración ($\\vec{a}$) de una partícula de fluido considerando ambos enfoques."
   ]
  },
  {
   "cell_type": "markdown",
   "id": "6907734a",
   "metadata": {
    "slideshow": {
     "slide_type": "fragment"
    }
   },
   "source": [
    "- Según el **enfoque lagrangiano**, la aceleración de una partícula con velocidad $\\vec{V}$, es: $\\vec{a} = \\frac{d \\vec{V}}{dt}$"
   ]
  },
  {
   "cell_type": "markdown",
   "id": "368a6ec9",
   "metadata": {
    "slideshow": {
     "slide_type": "fragment"
    }
   },
   "source": [
    "- Según el **enfoque euleriano**, la aceleración de una partícual en un volumen de control:\n",
    "\n",
    "\\begin{align}\n",
    "\\vec{a}=\\frac{d\\vec{V}}{dt} &= \\frac{\\partial \\vec{V}}{\\partial t}\\frac{dt}{dt} +\n",
    "        \\frac{\\partial \\vec{V}}{\\partial x}\\frac{dx}{dt}\n",
    "        +\n",
    "        \\frac{\\partial \\vec{V}}{\\partial y}\\frac{dy}{dt}\n",
    "        +\n",
    "        \\frac{\\partial \\vec{V}}{\\partial z}\\frac{dz}{dt} \\notag\\\\\n",
    "        &= \\frac{\\partial \\vec{V}}{\\partial t} \n",
    "        +\n",
    "        u\\frac{\\partial \\vec{V}}{\\partial x}\n",
    "        +\n",
    "        v\\frac{\\partial \\vec{V}}{\\partial y}\n",
    "        +\n",
    "        w\\frac{\\partial \\vec{V}}{\\partial z}  \\notag\\\\\n",
    "        &= \\frac{\\partial \\vec{V}}{\\partial t} \n",
    "        +\n",
    "        \\vec{V}\\cdot\\nabla\\vec{V}\n",
    "\\end{align}"
   ]
  },
  {
   "cell_type": "markdown",
   "id": "0a46eb0c",
   "metadata": {
    "slideshow": {
     "slide_type": "slide"
    }
   },
   "source": [
    "En el desarrollo anterior, hemos definido un nuevo operador denominado **derivada material (o sustancial), $\\frac{D}{Dt}$ o $\\frac{d}{dt}$** que describe la *variación temporal de una partícula de fluido a medida que se mueve por el campo de flujo:*\n",
    "\n",
    "\\begin{equation}\n",
    "\\frac{d}{dt}(\\quad) = \\frac{\\partial}{\\partial t}(\\quad) + \\vec{V}\\cdot\\nabla(\\quad)\n",
    "\\end{equation}"
   ]
  },
  {
   "cell_type": "markdown",
   "id": "e34ba35c",
   "metadata": {
    "slideshow": {
     "slide_type": "fragment"
    }
   },
   "source": [
    "- El término $\\frac{\\partial}{\\partial t}(\\quad)$ se denomina **variación temporal local y *es cero para flujos estacionarios.***"
   ]
  },
  {
   "cell_type": "markdown",
   "id": "1e286680",
   "metadata": {
    "slideshow": {
     "slide_type": "fragment"
    }
   },
   "source": [
    "- El término $\\vec{V}\\cdot\\nabla(\\quad)$, se denomina **término convectivo, *este término puede ser diferente de cero inclusive para flujos estacionarios***"
   ]
  },
  {
   "cell_type": "markdown",
   "id": "a7197330",
   "metadata": {
    "slideshow": {
     "slide_type": "fragment"
    }
   },
   "source": [
    "La derivada material se puede aplicar a otras propiedades de fluidos, como por ejemplo, la densidad:\n",
    "\n",
    "\\begin{equation*}\n",
    "\\frac{d\\rho}{dt} = \\frac{\\partial\\rho}{\\partial t} + \\vec{V}\\cdot\\nabla\\rho\n",
    "\\end{equation*}"
   ]
  },
  {
   "cell_type": "markdown",
   "id": "4ae2d85e",
   "metadata": {
    "slideshow": {
     "slide_type": "slide"
    }
   },
   "source": [
    "### Líneas de corriente\n",
    "\n",
    "Otro concepto útil para identificar el movimiento del fluido en todo el campo de flujo es el de línea de corriente. Este define la **curva que, en todas partes, es *tangente a la velocidad local instantánea***."
   ]
  },
  {
   "cell_type": "markdown",
   "id": "684034c3",
   "metadata": {
    "slideshow": {
     "slide_type": "fragment"
    }
   },
   "source": [
    "<img src=\"./figures/linea_de_corriente.png\" width=\"750px\" align= center>"
   ]
  },
  {
   "cell_type": "markdown",
   "id": "a92f519c",
   "metadata": {
    "slideshow": {
     "slide_type": "slide"
    }
   },
   "source": [
    "## Ecuaciones de conservación en forma diferencial\n",
    "\n",
    "A partir de los conceptos revisados anteriormente podemos intepretar los patrones de flujo y perfiles de velocidad que caracterizan la interacción de un fluido con una estructura"
   ]
  },
  {
   "cell_type": "markdown",
   "id": "2424196b",
   "metadata": {
    "slideshow": {
     "slide_type": "fragment"
    }
   },
   "source": [
    "<img src=\"./figures/Ejemplo_CFD.png\" width=\"800px\" align= center>"
   ]
  },
  {
   "cell_type": "markdown",
   "id": "10171657",
   "metadata": {
    "slideshow": {
     "slide_type": "slide"
    }
   },
   "source": [
    "El objetivo de esta sección es derivar las leyes de conservación, en su forma diferencial, que rigen el comportamiento de estas variables de campo."
   ]
  },
  {
   "cell_type": "markdown",
   "id": "027fdf39",
   "metadata": {
    "slideshow": {
     "slide_type": "fragment"
    }
   },
   "source": [
    "Existen dos formas para derivar estas ecuaciones:"
   ]
  },
  {
   "cell_type": "markdown",
   "id": "2915b95a",
   "metadata": {
    "slideshow": {
     "slide_type": "fragment"
    }
   },
   "source": [
    "- Mediante un balance en un volúmen de control diferencial"
   ]
  },
  {
   "cell_type": "markdown",
   "id": "42b86228",
   "metadata": {
    "slideshow": {
     "slide_type": "fragment"
    }
   },
   "source": [
    "- Utilizando el *teorema de Gauss* o *teorema de la divergencia* que establece: \n",
    "    >**Teorema de la divergencia:** *la integral en una superficie cerrada $S$ de un campo vectorial $\\vec{f}$ es igual a la integral de la divergencia de $\\vec{f}$ sobre un volumen $V$ dentro de la superficie*\n",
    "    >    \\begin{equation}\n",
    "    \\oint_A \\vec{f}\\cdot\\hat{n} dA = \\int_V \\nabla\\cdot \\vec{f} d\\forall\n",
    "    \\end{equation}"
   ]
  },
  {
   "cell_type": "markdown",
   "id": "74a940eb",
   "metadata": {
    "slideshow": {
     "slide_type": "fragment"
    }
   },
   "source": [
    "En esta unidad usaremos el segundo método. "
   ]
  },
  {
   "cell_type": "markdown",
   "id": "3b79c7ff",
   "metadata": {
    "slideshow": {
     "slide_type": "slide"
    }
   },
   "source": [
    "### Ecuación de conservación de masa (continuidad)"
   ]
  },
  {
   "cell_type": "markdown",
   "id": "5be8692f",
   "metadata": {
    "slideshow": {
     "slide_type": "slide"
    }
   },
   "source": [
    "Comenzamos con la ecuación de conservación de masa aplicado sobre un volumen de control fijo e indeformable:"
   ]
  },
  {
   "cell_type": "markdown",
   "id": "480642f6",
   "metadata": {
    "slideshow": {
     "slide_type": "fragment"
    }
   },
   "source": [
    "\\begin{align*}\n",
    "0 &= \\frac{d}{dt}\\int_\\mathrm{VC} \\rho d\\forall + \\int_\\mathrm{VC} \\rho\\vec{V}\\cdot\\hat{n}dA \n",
    "\\\\[5pt]\n",
    "0 &= \\int_\\mathrm{VC} \\frac{\\partial\\rho}{\\partial t} d\\forall + \\int_\\mathrm{VC} \\nabla\\cdot\\left(\\rho\\vec{V} \\right) d\\forall  \n",
    "\\\\[5pt]\n",
    "0 &= \\int_\\mathrm{VC} \\left[\\frac{\\partial\\rho}{\\partial t} + \\nabla\\cdot\\left(\\rho\\vec{V} \\right) \\right]d\\forall \n",
    "\\end{align*}"
   ]
  },
  {
   "cell_type": "markdown",
   "id": "329985cb",
   "metadata": {
    "slideshow": {
     "slide_type": "slide"
    }
   },
   "source": [
    "Para satisfacer esta ecuación el integrando debe ser cero, y tenemos:\n",
    "\n",
    "\\begin{equation*}\n",
    "\\frac{\\partial\\rho}{\\partial t} + \\nabla\\cdot\\left(\\rho\\vec{V} \\right) = 0\n",
    "\\end{equation*}"
   ]
  },
  {
   "cell_type": "markdown",
   "id": "3d632efb",
   "metadata": {
    "slideshow": {
     "slide_type": "fragment"
    }
   },
   "source": [
    "A partir de la identidad, $ \\nabla\\cdot(\\rho\\vec{V}) = \\vec{V}\\cdot\\nabla\\rho + \\rho(\\nabla\\cdot\\vec{V})$, derivamos la **ecuación de conservación de masa en su forma diferencial**:\n",
    "\n",
    "\\begin{equation}\n",
    "\\frac{d\\rho}{dt} + \\rho\\left(\\nabla\\cdot\\vec{V}\\right) = 0\n",
    "\\end{equation}"
   ]
  },
  {
   "cell_type": "markdown",
   "id": "4a99411a",
   "metadata": {
    "slideshow": {
     "slide_type": "fragment"
    }
   },
   "source": [
    "Esta ecuación también se conoce como la **ecuación de continuidad**."
   ]
  },
  {
   "cell_type": "markdown",
   "id": "592f8d6b",
   "metadata": {
    "slideshow": {
     "slide_type": "slide"
    }
   },
   "source": [
    "Alternativamente, podemos derivar la ecuación de conservación de masa mediante el análisis de volúmen de control sobre un volúmen diferencial\n",
    "\n",
    "<img src=\"./figures/conservacion_de_masa.png\" width=\"650px\" align= center>"
   ]
  },
  {
   "cell_type": "markdown",
   "id": "763daba9",
   "metadata": {},
   "source": [
    "La demostración se deja como ejercicio (ver textos de referencia)."
   ]
  },
  {
   "cell_type": "markdown",
   "id": "219f4430",
   "metadata": {
    "slideshow": {
     "slide_type": "slide"
    }
   },
   "source": [
    "### Ecuación de conservación de momento lineal"
   ]
  },
  {
   "cell_type": "markdown",
   "id": "f753c672",
   "metadata": {
    "slideshow": {
     "slide_type": "fragment"
    }
   },
   "source": [
    "Podemos aplicar el teorema de Gauss sobre el lado derecho de la ecuación de conservación de momento lineal para determinar su forma diferencial:\n",
    "\n",
    "\\begin{align}\n",
    "\\sum\\vec{F}_\\mathrm{ext} &= \\frac{d}{dt}\\int_\\mathrm{VC} \\rho\\vec{V} d\\forall + \\int_\\mathrm{VC} \\rho\\vec{V}(\\vec{V}\\cdot\\hat{n})dA \\notag\n",
    "\\\\\n",
    " &= \\int_\\mathrm{VC} \\left[\\frac{\\partial}{\\partial t}\\left(\\rho\\vec{V}\\right)  + \\nabla\\cdot\\left(\\rho\\vec{V}\\vec{V}\\right)\\right]d\\forall\n",
    "\\end{align}"
   ]
  },
  {
   "cell_type": "markdown",
   "id": "76a878ce",
   "metadata": {
    "slideshow": {
     "slide_type": "fragment"
    }
   },
   "source": [
    "De igual forma que con la ecuación de conservación de masa, un análisis de momento lineal sobre un volúmen de control diferencial nos permite llegar a la misma expresión (ver referencias)."
   ]
  },
  {
   "cell_type": "markdown",
   "id": "fc5e23cd",
   "metadata": {
    "slideshow": {
     "slide_type": "slide"
    }
   },
   "source": [
    "Respecto a $\\sum F_\\mathrm{ext}$, debemos considerar el efecto de la distribución de **presiones ($p$)**, **tensiones de corte ($\\tau$)** y **gravedad ($\\vec{g}$)**. Por ejemplo, en el caso de un perfil aerodinámico, la suma de fuerzas externa da lugar al arrastre y sustentación.\n",
    "\n",
    "<img src=\"./figures/drag_and_lift_force.png\" width=\"700px\" align= center>\n"
   ]
  },
  {
   "cell_type": "markdown",
   "id": "3dce421c",
   "metadata": {
    "slideshow": {
     "slide_type": "slide"
    }
   },
   "source": [
    "Matemáticamente, podemos representar el efecto de las fuerzas externas como: \n",
    "\n",
    "\\begin{equation}\n",
    "\\sum\\vec{F}_\\mathrm{ext} = - \\int_A p~\\hat{n}dA + \\int_A \\bar{\\tau}\\cdot\\hat{n}dA  + \\int_\\mathrm{VC} \\rho\\vec{g}d\\forall\n",
    "\\end{equation}"
   ]
  },
  {
   "cell_type": "markdown",
   "id": "4d950637",
   "metadata": {
    "slideshow": {
     "slide_type": "fragment"
    }
   },
   "source": [
    "Donde $\\bar{\\tau}$ es el **tensor de esfuerzos**\n",
    "\n",
    "\\begin{equation}\n",
    "\\bar{\\tau} =\n",
    "\\begin{bmatrix}\n",
    "\\tau_{xx} & \\tau_{xy} & \\tau_{xz} \\\\\n",
    "\\tau_{yx} & \\tau_{yy} & \\tau_{yz} \\\\\n",
    "\\tau_{zx} & \\tau_{zy} & \\tau_{zz}\n",
    "\\end{bmatrix}\n",
    "\\end{equation}"
   ]
  },
  {
   "cell_type": "markdown",
   "id": "56026f5b",
   "metadata": {
    "slideshow": {
     "slide_type": "slide"
    }
   },
   "source": [
    "Usando el teorema de la divergencia, podemos reordenar la expresión (7.12) como:\n",
    "\n",
    "\\begin{equation}\n",
    "\\sum\\vec{F}_\\mathrm{ext} = \\int_\\mathrm{VC} \\left[\\nabla\\cdot\\left( - p\\bar{I} + \\bar{\\tau}\\right)  + \\rho\\vec{g}\\right]d\\forall \n",
    "\\end{equation}\n",
    "\n",
    "donde $\\bar{I}$ es el tensor identidad."
   ]
  },
  {
   "cell_type": "markdown",
   "id": "31a796d2",
   "metadata": {
    "slideshow": {
     "slide_type": "slide"
    }
   },
   "source": [
    "Combinando las ecuaciones (7.11) y (7.14), tenemos:\n",
    "\n",
    "\\begin{equation*}\n",
    "\\frac{\\partial}{\\partial t}\\left(\\rho\\vec{V}\\right)  + \\nabla\\cdot\\left(\\rho\\vec{V}\\vec{V}\\right) = - \\nabla p + \\nabla\\cdot\\bar{\\tau} +  \\rho\\vec{g}\n",
    "\\end{equation*}"
   ]
  },
  {
   "cell_type": "markdown",
   "id": "a4a8db1b",
   "metadata": {
    "slideshow": {
     "slide_type": "fragment"
    }
   },
   "source": [
    "Mediante la identidad  $ \\nabla\\cdot\\left(\\rho\\vec{V}\\vec{V}\\right) = \\vec{V}\\nabla\\cdot\\left(\\rho\\vec{V}\\right) + \\rho\\vec{V}\\cdot\\nabla\\vec{V} $ obtenemos:\n",
    "\n",
    "\\begin{equation*}\n",
    "\\vec{V}\\left[\\frac{\\partial\\rho}{\\partial t} + \\nabla\\cdot\\left(\\rho\\vec{V}\\right)\\right] + \\rho\\left[\\frac{\\partial\\vec{V}}{\\partial t}+ \\vec{V}\\cdot\\nabla\\vec{V}\\right] = - \\nabla p + \\nabla\\cdot\\bar{\\tau} +  \\rho\\vec{g}\n",
    "\\end{equation*}"
   ]
  },
  {
   "cell_type": "markdown",
   "id": "16156000",
   "metadata": {
    "slideshow": {
     "slide_type": "slide"
    }
   },
   "source": [
    "El primer término de la izquierda corresponde a la ecuación de continuidad (7.10). Así, la **ecuación de conservación de momento lineal en su forma diferencial** es:\n",
    "\n",
    "\\begin{equation}\n",
    "\\rho\\frac{d\\vec{V}}{dt} = - \\nabla p + \\nabla\\cdot\\bar{\\tau} + \\rho\\vec{g}\n",
    "\\end{equation}"
   ]
  },
  {
   "cell_type": "markdown",
   "id": "4b0a2cbf",
   "metadata": {
    "slideshow": {
     "slide_type": "fragment"
    }
   },
   "source": [
    "Esta ecuación también se conoce como la **Ecuación de Cauchy.**"
   ]
  },
  {
   "cell_type": "markdown",
   "id": "33d3b1b6",
   "metadata": {
    "slideshow": {
     "slide_type": "slide"
    }
   },
   "source": [
    "## Referencias\n",
    "**Çengel Y. A. y Cimbala M. J. *Mecánica de Fluidos: Fundamentos y Aplicaciones*, 4ta Ed., McGraw Hill, 2018**\n",
    "- Capitulo 4. Cinemática de fluidos\n",
    "- Capitulo 9. Análisis diferencial de flujo de fluidos\n",
    "\n",
    "**White F. M. *Mecánica de Fluidos*, 5ta Ed., McGraw Hill, 2004**\n",
    "- Capítulo 4. Relaciones diferenciales para una partícula fluida\n"
   ]
  }
 ],
 "metadata": {
  "celltoolbar": "Slideshow",
  "kernelspec": {
   "display_name": "Python 3 (ipykernel)",
   "language": "python",
   "name": "python3"
  },
  "language_info": {
   "codemirror_mode": {
    "name": "ipython",
    "version": 3
   },
   "file_extension": ".py",
   "mimetype": "text/x-python",
   "name": "python",
   "nbconvert_exporter": "python",
   "pygments_lexer": "ipython3",
   "version": "3.11.6"
  },
  "latex_envs": {
   "LaTeX_envs_menu_present": true,
   "autoclose": false,
   "autocomplete": true,
   "bibliofile": "biblio.bib",
   "cite_by": "apalike",
   "current_citInitial": 1,
   "eqLabelWithNumbers": true,
   "eqNumInitial": 1,
   "hotkeys": {
    "equation": "Ctrl-E",
    "itemize": "Ctrl-I"
   },
   "labels_anchors": false,
   "latex_user_defs": false,
   "report_style_numbering": false,
   "user_envs_cfg": false
  },
  "rise": {
   "height": "100%",
   "theme": "simple",
   "width": "100%"
  },
  "toc": {
   "base_numbering": "1",
   "nav_menu": {},
   "number_sections": true,
   "sideBar": true,
   "skip_h1_title": true,
   "title_cell": "Contenidos",
   "title_sidebar": "Contenidos",
   "toc_cell": false,
   "toc_position": {
    "height": "calc(100% - 180px)",
    "left": "10px",
    "top": "150px",
    "width": "303.833px"
   },
   "toc_section_display": true,
   "toc_window_display": false
  },
  "varInspector": {
   "cols": {
    "lenName": 16,
    "lenType": 16,
    "lenVar": 40
   },
   "kernels_config": {
    "python": {
     "delete_cmd_postfix": "",
     "delete_cmd_prefix": "del ",
     "library": "var_list.py",
     "varRefreshCmd": "print(var_dic_list())"
    },
    "r": {
     "delete_cmd_postfix": ") ",
     "delete_cmd_prefix": "rm(",
     "library": "var_list.r",
     "varRefreshCmd": "cat(var_dic_list()) "
    }
   },
   "types_to_exclude": [
    "module",
    "function",
    "builtin_function_or_method",
    "instance",
    "_Feature"
   ],
   "window_display": false
  }
 },
 "nbformat": 4,
 "nbformat_minor": 5
}