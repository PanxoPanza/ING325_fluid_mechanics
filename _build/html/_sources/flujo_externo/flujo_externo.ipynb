{
 "cells": [
  {
   "cell_type": "markdown",
   "id": "4769825b",
   "metadata": {
    "slideshow": {
     "slide_type": "slide"
    }
   },
   "source": [
    "# Flujo externo"
   ]
  },
  {
   "cell_type": "markdown",
   "id": "56dcb86e",
   "metadata": {
    "slideshow": {
     "slide_type": "slide"
    }
   },
   "source": [
    "## Introducción"
   ]
  },
  {
   "cell_type": "markdown",
   "id": "0a514ae7",
   "metadata": {
    "slideshow": {
     "slide_type": "fragment"
    }
   },
   "source": [
    "En este capítulo revisaremos el flujo alrededor de cuerpos que están inmersos en un fluido. Categorizamos este tipo de casos como *Flujo externo*."
   ]
  },
  {
   "cell_type": "markdown",
   "id": "5a38d7b7",
   "metadata": {
    "slideshow": {
     "slide_type": "-"
    }
   },
   "source": [
    "<img src=\"./figures/intro.jpg\" width=\"600px\" align= center>"
   ]
  },
  {
   "cell_type": "markdown",
   "id": "bfb64033",
   "metadata": {
    "slideshow": {
     "slide_type": "slide"
    }
   },
   "source": [
    "En el flujo externo estudiamos las **fuerzas resultantes** que ocurren en cuerpos producto de la presión y esfuerzo cortante en un cuerpo.\n",
    "\n",
    "<img src=\"./figures/drag_and_lift_force.png\" width=\"800px\" align= center>"
   ]
  },
  {
   "cell_type": "markdown",
   "id": "f3a282b6",
   "metadata": {
    "slideshow": {
     "slide_type": "fragment"
    }
   },
   "source": [
    "La fuerza resultante se descompone en: \n",
    "- **Fuerza de arrastre** ($F_D$) que corresponde a la componente en la dirección del flujo\n",
    "- **Fuerza de sustentación** ($F_L$) que  corresponde a la componente perpendicular al flujo\n",
    "\n",
    ">La fuerza resultante se asocia al movimiento relativo entre el flujo y el cuerpo. Es decir, un cuerpo en reposo sometido a un flujo externo, o un cuerpo moviendose dentro de un fluido en reposo"
   ]
  },
  {
   "cell_type": "markdown",
   "id": "eaa25384",
   "metadata": {
    "slideshow": {
     "slide_type": "slide"
    }
   },
   "source": [
    "En base a la figura anterior, ambas componentes se pueden expresar matemáticamente como:\n",
    "\n",
    "\\begin{align*}\n",
    "F_D &= \\int_A (-P\\cos\\theta + \\tau_w\\sin\\theta)dA\n",
    "\\\\\n",
    "F_L &= \\int_A (-P\\sin\\theta - \\tau_w\\cos\\theta)dA\n",
    "\\end{align*}"
   ]
  },
  {
   "cell_type": "markdown",
   "id": "9af50f05",
   "metadata": {
    "slideshow": {
     "slide_type": "fragment"
    }
   },
   "source": [
    "Las ecuaciones permiten entender conceptualmente el efecto de la presión ($P$) y esfuerzo cortante ($\\tau_w$) en el arrastre y sustentación."
   ]
  },
  {
   "cell_type": "markdown",
   "id": "137136ae",
   "metadata": {
    "slideshow": {
     "slide_type": "fragment"
    }
   },
   "source": [
    "Estas ecuaciones, sin embargo, tienen poca aplicación práctica debido a la dificultad de predecir la distribución de $P$ y $\\tau_w$."
   ]
  },
  {
   "cell_type": "markdown",
   "id": "9abf3202",
   "metadata": {
    "slideshow": {
     "slide_type": "slide"
    }
   },
   "source": [
    "En la práctica se utilizan coeficientes adimencionales, los cuales representan los efectos de arrastre y sustentación de forma generalizada considerando una combinación de parámetros."
   ]
  },
  {
   "cell_type": "markdown",
   "id": "4fbf23c3",
   "metadata": {
    "slideshow": {
     "slide_type": "-"
    }
   },
   "source": [
    "\\begin{align}\n",
    "\\begin{aligned}\n",
    "C_D &= \\frac{F_D}{\\frac{1}{2}\\rho V^2 A}\\quad\\quad\\quad \\mathrm{Coeficiente~de~arrastre}\n",
    "\\\\\n",
    "C_L &= \\frac{F_L}{\\frac{1}{2}\\rho V^2 A}\\quad\\quad\\quad \\mathrm{Coeficiente~de~sustentación}\n",
    "\\end{aligned}\n",
    "\\end{align}\n",
    "\n",
    "donde:\n",
    "- $A$ es el **área característica del cuerpo**\n",
    "- $\\rho$ densidad del fluido\n",
    "- $V$ velocidad del flujo"
   ]
  },
  {
   "cell_type": "markdown",
   "id": "1b4edce4",
   "metadata": {
    "slideshow": {
     "slide_type": "fragment"
    }
   },
   "source": [
    ">El **área característica** puede ser la **sección transversal o paralela proyectada en la dirección del flujo**, dependiendo del cuerpo y los efectos dominantes (presión o tensiones de corte). En el caso de embarcaciones marítima (como barcos o lanchas), se utiliza el área mojada."
   ]
  },
  {
   "cell_type": "markdown",
   "id": "c4e4f662",
   "metadata": {
    "slideshow": {
     "slide_type": "slide"
    }
   },
   "source": [
    "## Fuerzas de arrastre"
   ]
  },
  {
   "cell_type": "markdown",
   "id": "f84c42e5",
   "metadata": {
    "slideshow": {
     "slide_type": "fragment"
    }
   },
   "source": [
    "Como mencionamos anteriormente, el arrastre en cuerpos se debe a los efectos de presiones y tensiones de corte en la superficie de un cuerpo."
   ]
  },
  {
   "cell_type": "markdown",
   "id": "d2da2a15",
   "metadata": {
    "slideshow": {
     "slide_type": "fragment"
    }
   },
   "source": [
    "Así, podemos separar el coeficiente de arrastre en dos componentes:\n",
    "\n",
    "\\begin{equation}\n",
    "C_D = C_{D,~\\mathrm{fricción}} + C_{D,~\\mathrm{presión}}\n",
    "\\end{equation}"
   ]
  },
  {
   "cell_type": "markdown",
   "id": "f071eae2",
   "metadata": {
    "slideshow": {
     "slide_type": "fragment"
    }
   },
   "source": [
    "donde: \n",
    "- $C_{D,~\\mathrm{fricción}}$ representa la componente del arrastre asociada a las tensiones de corte\n",
    "- $C_{D,~\\mathrm{presión}}$ representa la componente del arrastre asociada a diferencia de presiones"
   ]
  },
  {
   "cell_type": "markdown",
   "id": "454e4804",
   "metadata": {
    "slideshow": {
     "slide_type": "slide"
    }
   },
   "source": [
    "Para entender la contribución de cada componente es conveniente analizar el arrastre en una placa plana:\n",
    "\n",
    "<img src=\"./figures/drag_flat_plate.png\" width=\"700px\" align= center>"
   ]
  },
  {
   "cell_type": "markdown",
   "id": "82807024",
   "metadata": {
    "slideshow": {
     "slide_type": "fragment"
    }
   },
   "source": [
    "- El **arrastre por fricción** depende mayormente de la componente de las tensiones de corte paralela al flujo. Así, $C_{D,~\\mathrm{fricción}}$ será máximo si la placa está orientada en la dirección del flujo, y mínimo si está orientada perpendicular al flujo.\n",
    "\n",
    "\n",
    "- El **arrastre por presión** es proporcinoal a la diferencia de presiones entre la cara frontal y trasera del cuerpo sumergido. Por lo tanto, $C_{D,~\\mathrm{presión}}$ será mínimo si la placa está orientada en la dirección del flujo, y máximo si está orientada perpendicular al flujo."
   ]
  },
  {
   "cell_type": "markdown",
   "id": "3f8dc1dc",
   "metadata": {
    "slideshow": {
     "slide_type": "slide"
    }
   },
   "source": [
    "> Notar que en ambos casos (placa paralela o perpendicular) el área característica ($A$) corresponde a la superficie de la placa. Esto debido a que, para cada caso, los efectos de fricción y diferencia de presiones son dominantes en esa cara."
   ]
  },
  {
   "cell_type": "markdown",
   "id": "4553d214",
   "metadata": {
    "slideshow": {
     "slide_type": "fragment"
    }
   },
   "source": [
    "Para otros cuerpos de forma arbitraria, como el flujo alrededor del cilindro mostrado en la figura, el efecto de fricción y presiones actúa de forma conjunta. Estos cuerpos se denominan **cuerpos romos**"
   ]
  },
  {
   "cell_type": "markdown",
   "id": "5a8c39f4",
   "metadata": {
    "slideshow": {
     "slide_type": "slide"
    }
   },
   "source": [
    "### Flujo paralelo sobre una placa plana"
   ]
  },
  {
   "cell_type": "markdown",
   "id": "0203776e",
   "metadata": {
    "slideshow": {
     "slide_type": "fragment"
    }
   },
   "source": [
    "Como mencionabamos anteriormente, el arrastre en flujo paralelo sobre una placa plana se debe principalmente al efecto de la fricción resultante por los esfuerzos de corte."
   ]
  },
  {
   "cell_type": "markdown",
   "id": "d1207464",
   "metadata": {
    "slideshow": {
     "slide_type": "fragment"
    }
   },
   "source": [
    "Recordando las discusiones del capítulo 1, tenemos que las tensiones de corte se deben a la tasa de deformación del fluido:\n",
    "\n",
    "\\begin{equation*}\n",
    "\\tau_w = \\mu \\frac{du}{dy}\n",
    "\\end{equation*}"
   ]
  },
  {
   "cell_type": "markdown",
   "id": "9af21721",
   "metadata": {
    "slideshow": {
     "slide_type": "fragment"
    }
   },
   "source": [
    "Sin embargo, si miramos la figura anterior, notamos que $du/dy = 0$. ¿Cómo se desarrolla el arrastre en una placa plana?"
   ]
  },
  {
   "cell_type": "markdown",
   "id": "0e6a786d",
   "metadata": {
    "slideshow": {
     "slide_type": "slide"
    }
   },
   "source": [
    "El efecto de tensiones de corte se debe a una pequeña capa viscosa en la superficie de la placa, denominada **capa límite**."
   ]
  },
  {
   "cell_type": "markdown",
   "id": "1b3508ad",
   "metadata": {
    "slideshow": {
     "slide_type": "fragment"
    }
   },
   "source": [
    "<img src=\"./figures/flat_plate_boundary_layer.png\" width=\"800px\" align= center>"
   ]
  },
  {
   "cell_type": "markdown",
   "id": "14436f37",
   "metadata": {
    "slideshow": {
     "slide_type": "fragment"
    }
   },
   "source": [
    "El **espesor de la capa límite $\\delta(x)$** define el límite que separa la región viscosa de la zona no viscosa. Como criterio $\\delta(x)$ se define como la distancia entre la superficie hasta el punto donde $u = 0.99V$"
   ]
  },
  {
   "cell_type": "markdown",
   "id": "1e24b3ce",
   "metadata": {
    "slideshow": {
     "slide_type": "fragment"
    }
   },
   "source": [
    "Notar, también, el desarrollo del flujo a medida que recorre la placa. Por un lado tenemos que el flujo pierde velocidad debido a la fricción (conservación de momento lineal). Esta pérdida de velocidad implica un crecimiento de la capa límite (conservación de masa). La pérdida de momento lineal, a su vez, induce inestabilidades en el flujo que se traducen en una transición de un régimen laminar a uno turbulento"
   ]
  },
  {
   "cell_type": "markdown",
   "id": "e1f15d30",
   "metadata": {
    "slideshow": {
     "slide_type": "slide"
    }
   },
   "source": [
    "Para establecer la región de transición utilizamos el siguiente criterio:\n",
    "\n",
    "\\begin{equation}\n",
    "\\mathrm{Re}_\\mathrm{cr} = \\frac{x_\\mathrm{cr}V}{\\nu} = 5\\times 10^5 \n",
    "\\end{equation}"
   ]
  },
  {
   "cell_type": "markdown",
   "id": "c9cd807e",
   "metadata": {
    "slideshow": {
     "slide_type": "fragment"
    }
   },
   "source": [
    "Matemáticamente, el espesor de capa límite está dado por:\n",
    "\n",
    "\\begin{align}\n",
    "\\begin{aligned}\n",
    "\\frac{\\delta}{x} &= \\frac{4.91}{\\mathrm{Re}_x^{1/2}}\\quad\\quad\\mathrm{Laminar}\n",
    "\\\\[10pt]\n",
    "\\frac{\\delta}{x} &= \\frac{0.38}{\\mathrm{Re}_x^{1/5}}\\quad\\quad\\mathrm{Turbulento}\n",
    "\\end{aligned}\n",
    "\\end{align}"
   ]
  },
  {
   "cell_type": "markdown",
   "id": "4bd52519",
   "metadata": {
    "slideshow": {
     "slide_type": "slide"
    }
   },
   "source": [
    "Notar, sin embargo que la extención de las regiones laminar y turbulentas dependen de la velocidad del flujo\n",
    "\n",
    "<img src=\"./figures/flat_plate_laminar_turbulent.png\" width=\"900px\" align= center>"
   ]
  },
  {
   "cell_type": "markdown",
   "id": "d56b134a",
   "metadata": {
    "slideshow": {
     "slide_type": "slide"
    }
   },
   "source": [
    "El arrastre en este caso se debe, únicamente, a los efectos de fricción. Así, $C_D = C_{D,~\\mathrm{fricción}} = C_f $, donde $C_f$ es el coeficiente de fricción dado por:\n",
    "\n",
    "\n",
    "\\begin{equation}\n",
    "C_f = \\frac{1}{L}\\int_0^L C_{f,x} dx\n",
    "\\end{equation}"
   ]
  },
  {
   "cell_type": "markdown",
   "id": "3a87b5ce",
   "metadata": {
    "slideshow": {
     "slide_type": "fragment"
    }
   },
   "source": [
    "donde $C_{f,x}$ es el coeficiente de fricción local:\n",
    "\n",
    "\\begin{align}\n",
    "\\begin{aligned}\n",
    "C_{f,x} &= \\frac{0.664}{\\mathrm{Re}_x^{1/2}}\\quad\\quad\\mathrm{Laminar}\n",
    "\\\\[10pt]\n",
    "C_{f,x} &= \\frac{0.059}{\\mathrm{Re}_x^{1/5}}\\quad\\quad\\mathrm{Turbulento}\n",
    "\\end{aligned}\n",
    "\\end{align}"
   ]
  },
  {
   "cell_type": "markdown",
   "id": "31fc66a2",
   "metadata": {
    "slideshow": {
     "slide_type": "fragment"
    }
   },
   "source": [
    "Reemplazando las ecuaciones (6.6) en (6.5) y aplicando la ecuación (6.3), tenemos una relación para el **coeficiente de fricción promedio**:\n",
    "\n",
    "\\begin{equation}\n",
    "C_f = \\frac{0.074}{\\mathrm{Re}_L^{1/5}} - \\frac{1742}{\\mathrm{Re}_L}\n",
    "\\end{equation}"
   ]
  },
  {
   "cell_type": "markdown",
   "id": "9e9bb2ce",
   "metadata": {
    "slideshow": {
     "slide_type": "slide"
    }
   },
   "source": [
    "A partir de las ecuaciones para $C_{f,x}$, podemos calcular el esfuerzo de corte local en la pared del fluido como:\n",
    "\n",
    "\\begin{equation}\n",
    "\\tau_w(x) = \\mu \\frac{\\partial u}{\\partial y}\\Big|_{y = 0} = \\frac{1}{2}\\rho U_0^2 C_{f,x}\n",
    "\\end{equation}\n"
   ]
  },
  {
   "cell_type": "markdown",
   "id": "7cbb390d",
   "metadata": {
    "slideshow": {
     "slide_type": "fragment"
    }
   },
   "source": [
    "Notar que el coeficiente de fricción local es mayor en flujo turbulento. Esto ocurre debido a que la tasa de deformación en la pared es mayor. \n",
    "\n",
    "<img src=\"./figures/boundary_layer_slope.png\" width=\"700px\" align= center>"
   ]
  },
  {
   "cell_type": "markdown",
   "id": "fda20934",
   "metadata": {
    "slideshow": {
     "slide_type": "fragment"
    }
   },
   "source": [
    "Así, el esfuerzo de corte en la pared es mayor para un flujo turbulento."
   ]
  },
  {
   "cell_type": "markdown",
   "id": "644d1a66",
   "metadata": {
    "slideshow": {
     "slide_type": "slide"
    }
   },
   "source": [
    "Por último, notar que el hecho de que el coeficiente de arrastre en la placa disminuye cuando la velocidad del fluido aumenta **no significa que la fuerza de arrastre disminuye con la velocidad.**"
   ]
  },
  {
   "cell_type": "markdown",
   "id": "3f5352c7",
   "metadata": {
    "slideshow": {
     "slide_type": "fragment"
    }
   },
   "source": [
    "Reemplazando la ecuación (6.7) en la expresión para $C_D$ (6.1), tenemos que la fuerza de arrastre para el caso de una placa plana está dada, explícitamente por:\n",
    "\n",
    "\\begin{equation*}\n",
    "F_D = C_D \\frac{1}{2}\\rho A V^2 = \\left(0.074L^{4/5} V^{9/5} - 1742 V\\right)\\frac{1}{2}\\mu w,\n",
    "\\end{equation*}\n",
    "\n",
    "donde $w$ es el ancho de la placa"
   ]
  },
  {
   "cell_type": "markdown",
   "id": "85f9d8ae",
   "metadata": {
    "slideshow": {
     "slide_type": "fragment"
    }
   },
   "source": [
    "Es decir, **la fuerza de arrastre siempre aumenta con la velocidad.**"
   ]
  },
  {
   "cell_type": "markdown",
   "id": "e3b43c5c",
   "metadata": {
    "slideshow": {
     "slide_type": "fragment"
    }
   },
   "source": [
    "Este fenómeno se repetirá en otros cuerpos que estudiaremos más adelante."
   ]
  },
  {
   "cell_type": "markdown",
   "id": "d278dc55",
   "metadata": {
    "slideshow": {
     "slide_type": "slide"
    }
   },
   "source": [
    "El efecto de la rugosidad es similar a lo discutido para flujo en tuberías (Diagrama de Moody). "
   ]
  },
  {
   "cell_type": "markdown",
   "id": "7e32beba",
   "metadata": {
    "cell_style": "split"
   },
   "source": [
    "<img src=\"./figures/flat_plate_friction_roughness.png\" width=\"400px\" align= center>"
   ]
  },
  {
   "cell_type": "markdown",
   "id": "7eaef14f",
   "metadata": {
    "cell_style": "split"
   },
   "source": [
    "El comportamiento de las curvas dice relación con el espesor de la subcapa viscosa. \n",
    "\n",
    "- Cuando la rugosidad es menor que el espesor de la subcapa viscosa el efecto en la fricción es despresiable. \n",
    "\n",
    "- A medida que $\\mathrm{Re}_L$ aumenta, el espesor de la subcapa viscosa es menor y el efecto de la rugosidad comienza a tomar mayor relevancia. \n",
    "\n",
    "- Cuando la rugosidad es significativamente mayor, la fricción se vuelve independiente de $\\mathrm{Re}_L$"
   ]
  },
  {
   "cell_type": "markdown",
   "id": "52823dcf",
   "metadata": {
    "slideshow": {
     "slide_type": "slide"
    }
   },
   "source": [
    "### Flujo sobre cuerpos romos"
   ]
  },
  {
   "cell_type": "markdown",
   "id": "edd5ab28",
   "metadata": {
    "slideshow": {
     "slide_type": "fragment"
    }
   },
   "source": [
    "En el caso de cuerpos romos, como cilindros o esferas, el efecto de gradiente de presión está presente en el desarrollo de la capa límite."
   ]
  },
  {
   "cell_type": "markdown",
   "id": "ec07dc55",
   "metadata": {
    "slideshow": {
     "slide_type": "slide"
    }
   },
   "source": [
    "El efecto del gradiente de presión se puede entender analizando el flujo en una tobera convergente-divergente.\n",
    "\n",
    "<img src=\"./figures/boundary_layer_pressure_gradient.png\" width=\"800px\" align= center>"
   ]
  },
  {
   "cell_type": "markdown",
   "id": "58fb525b",
   "metadata": {
    "slideshow": {
     "slide_type": "fragment"
    }
   },
   "source": [
    "Tal como indica la figura, cuando los gradientes de presión son favorables ($\\frac{dP}{dx} < 0$) el espesor de la capa límite crece a una tasa menor que el observado en una placa plana. Sin embargo, cuando $\\frac{dP}{dx} > 0$ se produce una pérdida de momento lineal en la superficie del cuerpo que produce la **separación de la capa límite**."
   ]
  },
  {
   "cell_type": "markdown",
   "id": "429339ce",
   "metadata": {
    "slideshow": {
     "slide_type": "slide"
    }
   },
   "source": [
    "El efecto es similar en cuerpos romos.\n",
    "\n",
    "<img src=\"./figures/flow_separation_sphere.jpg\" width=\"700px\" align= center>"
   ]
  },
  {
   "cell_type": "markdown",
   "id": "384e4d5c",
   "metadata": {
    "slideshow": {
     "slide_type": "slide"
    }
   },
   "source": [
    "El punto de separación de la capa límite cambia según el tipo de flujo\n",
    "\n",
    "<img src=\"./figures/presure_drop_sphere.png\" width=\"800px\" align= center>"
   ]
  },
  {
   "cell_type": "markdown",
   "id": "ce92fbf3",
   "metadata": {
    "slideshow": {
     "slide_type": "fragment"
    }
   },
   "source": [
    "Tal como indica la figura, pasado el punto de separación (región posterior) las presiones sobre el cuerpo caen."
   ]
  },
  {
   "cell_type": "markdown",
   "id": "76f39d1a",
   "metadata": {
    "slideshow": {
     "slide_type": "slide"
    }
   },
   "source": [
    " Este efecto influye la contribución entre las fuerzas de fricción y diferencia de presiones."
   ]
  },
  {
   "cell_type": "markdown",
   "id": "3e93690f",
   "metadata": {
    "slideshow": {
     "slide_type": "fragment"
    }
   },
   "source": [
    "<img src=\"./figures/drag_sphere.png\" width=\"800px\" align= center>"
   ]
  },
  {
   "cell_type": "markdown",
   "id": "5d3730df",
   "metadata": {
    "slideshow": {
     "slide_type": "slide"
    }
   },
   "source": [
    "- <b><span style=\"color:rgb(0,112,192)\">Región 1.</span></b> Para $\\mathrm{Re}\\lesssim 1$ el coeficiente de arrastre disminuye con $\\mathrm{Re}$. No hay separación de la capa límite, y por lo tanto el arrastre se debe, únicamente, a efectos de fricción. Este régimen se conoce como **Flujo de Stokes**. En el caso de una esfera, $C_\\mathrm{D} = 24/\\mathrm{Re}_D$.\n",
    "\n",
    "-  <b><span style=\"color:rgb(0,176,80)\">Región 2.</span></b>  En el rango $10 \\lesssim \\mathrm{Re} \\lesssim 10^3$ la separación comienza a ocurrir. La región de separación aumenta con $\\mathrm{Re}$ y con esto el arrastre debido a las presiones.\n",
    "\n",
    "-  <b><span style=\"color:rgb(255,0,0)\">Región 3.</span></b>  En el rango $10^3 \\lesssim \\mathrm{Re} \\lesssim 10^5$ la región de separación no aumenta y, como resultado, el valor de $C_D$ permanece relativamente constante. El flujo sigue siendo laminar, pero el flujo en la región separada  es sumamente turbulento.\n",
    "\n",
    "-  <b><span style=\"color:rgb(255,192,0)\">Región 4.</span></b>  En el rango  $10^5 \\lesssim \\mathrm{Re} \\lesssim 10^6$ se produce  la transición a flujo turbulento. En este rango, la región de separación vuelve a disminuir, lo que se traduce en  una caída en $C_D$.\n",
    "\n",
    "-  <b><span style=\"color:rgb(112,48,160)\">Región 5.</span></b> Para $10^6 \\lesssim \\mathrm{Re}$ el valor de $C_\\mathrm{D}$ aumenta hasta alcanzar su valor final de flujo turbulento."
   ]
  },
  {
   "cell_type": "markdown",
   "id": "5c707944",
   "metadata": {
    "slideshow": {
     "slide_type": "slide"
    }
   },
   "source": [
    "El fenómeno de separación se presenta en todos los cuerpos, y define el comportamiento del coeficiente de arrastre.\n",
    "\n",
    "<img src=\"./figures/drag_other_bodies.png\" width=\"800px\" align= center>"
   ]
  },
  {
   "cell_type": "markdown",
   "id": "97cd793a",
   "metadata": {
    "slideshow": {
     "slide_type": "fragment"
    }
   },
   "source": [
    "> Notar que para una placa perpendicular al flujo, el coeficiente de arrastre es constante. Esto debido que la separación de la capa límite ocurre en la misma región, independiente de $\\mathrm{Re}$."
   ]
  },
  {
   "cell_type": "markdown",
   "id": "d95c082d",
   "metadata": {
    "slideshow": {
     "slide_type": "slide"
    }
   },
   "source": [
    "Podemos concluir que una forma de controlar el arrastre en cuerpos romos es reducir la región de separación. Esto se consigue mediante el **fuselaje**, es decir, reduciendo los bordes afilados en la cara frontal y suavizando la reducción de área de la parte posterior. El efecto del fuselaje en el arrastre se visualiza a la izquierda de la figura anterior."
   ]
  },
  {
   "cell_type": "markdown",
   "id": "e3e31b75",
   "metadata": {
    "slideshow": {
     "slide_type": "fragment"
    }
   },
   "source": [
    "Al fuselar los cuerpos el arrastre por diferencia de presiones disminuye. Sin embargo, el arrastre por fricción aumenta, ya que la superficie de contacto con el fluido es mayor."
   ]
  },
  {
   "cell_type": "markdown",
   "id": "f8d88577",
   "metadata": {
    "slideshow": {
     "slide_type": "slide"
    }
   },
   "source": [
    "Tal como indica la figura de abajo, la contribución de la resistencia por presiones y fricción cambia al fuselar un cuerpo. El ejemplo muestra la resistencia de un cuerpo aerodinámico cilíndrico muy largo en posición perpendicular a la dirección del flujo ($\\mathrm{Re} = 1\\times 10^6$). El largo del cilindro es $c$ y el espesor $t$. "
   ]
  },
  {
   "cell_type": "markdown",
   "id": "890ac264",
   "metadata": {
    "slideshow": {
     "slide_type": "fragment"
    }
   },
   "source": [
    "<img src=\"./figures/drag_elongated_sphere.png\" width=\"900px\" align= center>"
   ]
  },
  {
   "cell_type": "markdown",
   "id": "3f49d4ba",
   "metadata": {
    "slideshow": {
     "slide_type": "fragment"
    }
   },
   "source": [
    "A la izquierda notamos que la contribución por fricción es máxima cuando $t/c = 0$ (placa plana) y alrededor de 3% cuando $t/c = 1$ (cilindro). A la derecha vemos el efecto combinado de ambos efectos, donde $C_D$ alcanza un mínimo cuando la relación entre el espesor ($t$) y el largo ($c$) es approximadamente 0.2 (curva celeste)."
   ]
  },
  {
   "cell_type": "markdown",
   "id": "6841cf93",
   "metadata": {
    "slideshow": {
     "slide_type": "slide"
    }
   },
   "source": [
    "La figura también muestra que $C_D$ varía de forma diferente según se base en el área frontal ($tb$) o en el área de la forma en planta ($cb$). En el caso extremo de la placa plana ($t/c\\rightarrow 0$), tenemos: \n",
    "\n",
    "1. $C_D \\rightarrow 0$ cuando usamos el área de la forma en planta ($cb$), debido a que $c\\rightarrow \\infty$.\n",
    "2. $C_D\\rightarrow \\infty$ cuando usamos el área frontal ($tb$), debido a que $t\\rightarrow 0$."
   ]
  },
  {
   "cell_type": "markdown",
   "id": "633dbab4",
   "metadata": {
    "slideshow": {
     "slide_type": "slide"
    }
   },
   "source": [
    "### Efecto de la rugosidad en el arrastre"
   ]
  },
  {
   "cell_type": "markdown",
   "id": "2d9981a5",
   "metadata": {},
   "source": [
    "La presencia de rugosidad en un cuerpo induce perturbaciones en el flujo, generando flujos turbulentos a menores números de Reynolds. Así, para un mismo valor de $\\mathrm{Re}$, la región de separación se reduce para el cuerpo rugoso, y como consecuencia el coeficiente de arrastre es menor."
   ]
  },
  {
   "cell_type": "markdown",
   "id": "721afb31",
   "metadata": {
    "slideshow": {
     "slide_type": "fragment"
    }
   },
   "source": [
    "\n",
    "<img src=\"./figures/drag_sphere_roughness.png\" width=\"900px\" align= center>"
   ]
  },
  {
   "cell_type": "markdown",
   "id": "5f803c14",
   "metadata": {
    "slideshow": {
     "slide_type": "fragment"
    }
   },
   "source": [
    "Para números de Reynolds altos ($\\mathrm{Re} \\gtrsim  5\\times 10^5$) el coeficiente de arrastre de una esfera lisa es menor."
   ]
  },
  {
   "cell_type": "markdown",
   "id": "1edd9ff5",
   "metadata": {
    "slideshow": {
     "slide_type": "slide"
    }
   },
   "source": [
    "Con estas consideraciones las pelotas de golf (y otros deportes) se diseñan con una superficie rugosa que permita inducir turbulencia en los números de Reynolds típicos de operación (por ejemplo, $V\\sim 15 - 150~\\mathrm{m/s}$ para pelotas de golf)"
   ]
  },
  {
   "cell_type": "code",
   "execution_count": 1,
   "id": "47f142fc",
   "metadata": {
    "slideshow": {
     "slide_type": "fragment"
    },
    "tags": [
     "remove-input"
    ]
   },
   "outputs": [
    {
     "data": {
      "text/html": [
       "\n",
       "        <iframe\n",
       "            width=\"700px\"\n",
       "            height=\"400px\"\n",
       "            src=\"https://www.tec-science.com/wp-content/uploads/2020/06/en-gases-liquids-fluid-mechanics-boundary-layer-flow-separation-cylinder-golf-ball-dimples.mp4\"\n",
       "            frameborder=\"0\"\n",
       "            allowfullscreen\n",
       "            \n",
       "        ></iframe>\n",
       "        "
      ],
      "text/plain": [
       "<IPython.lib.display.IFrame at 0x7f511676b460>"
      ]
     },
     "execution_count": 1,
     "metadata": {},
     "output_type": "execute_result"
    }
   ],
   "source": [
    "from IPython.display import IFrame\n",
    "IFrame('https://www.tec-science.com/wp-content/uploads/2020/06/en-gases-liquids-fluid-mechanics-boundary-layer-flow-separation-cylinder-golf-ball-dimples.mp4', '700px', '400px')"
   ]
  },
  {
   "cell_type": "markdown",
   "id": "914210c0",
   "metadata": {
    "slideshow": {
     "slide_type": "slide"
    }
   },
   "source": [
    "El siguiente video resume todo lo discutido sobre fuerzas de arrastre"
   ]
  },
  {
   "cell_type": "code",
   "execution_count": 2,
   "id": "4e0b01a3",
   "metadata": {
    "slideshow": {
     "slide_type": "fragment"
    },
    "tags": [
     "remove-input"
    ]
   },
   "outputs": [
    {
     "data": {
      "image/jpeg": "[encoded data removed]",
      "text/html": [
       "\n",
       "        <iframe\n",
       "            width=\"700\"\n",
       "            height=\"400\"\n",
       "            src=\"https://www.youtube.com/embed/GMmNKUlXXDs\"\n",
       "            frameborder=\"0\"\n",
       "            allowfullscreen\n",
       "            \n",
       "        ></iframe>\n",
       "        "
      ],
      "text/plain": [
       "<IPython.lib.display.YouTubeVideo at 0x7f5116768be0>"
      ]
     },
     "execution_count": 2,
     "metadata": {},
     "output_type": "execute_result"
    }
   ],
   "source": [
    "from IPython.display import YouTubeVideo\n",
    "YouTubeVideo('GMmNKUlXXDs', width=700, height=400)"
   ]
  },
  {
   "cell_type": "markdown",
   "id": "c2c51c8a",
   "metadata": {
    "slideshow": {
     "slide_type": "slide"
    }
   },
   "source": [
    "## Fuerza de sustentación\n",
    "\n",
    "El fenómeno de sustentación es un tópico complejo de explicar en términos simples debido a los múltiples efectos presentes.\n",
    "\n",
    "Comenzamos definiendo la términología principal de un perfil alar.\n",
    "<img src=\"./figures/pressure_distribution_airfoil.png\" width=\"800px\" align= center>"
   ]
  },
  {
   "cell_type": "markdown",
   "id": "d1e71563",
   "metadata": {
    "slideshow": {
     "slide_type": "fragment"
    }
   },
   "source": [
    "Para generar sustentación, lo principal es **inducir una diferencia de presiones considerable entre las caras inferior y superior del perfil**. El aporte de los efectos visosos, por otro lado, es despreciable."
   ]
  },
  {
   "cell_type": "markdown",
   "id": "1a6b0299",
   "metadata": {
    "slideshow": {
     "slide_type": "slide"
    }
   },
   "source": [
    "Existen diversas teorías que explican parcialmente el efecto de sustentación. La más común es a través de la ecuación de Bernoulli. En este sentido, la diferencia de presiones se genera por la diferencia en las velocidades en la cara superior e inferior del cuerpo."
   ]
  },
  {
   "cell_type": "markdown",
   "id": "5ff6b2a3",
   "metadata": {},
   "source": [
    "<img src=\"./figures/airfoil_bernoulli.png\" width=\"700px\" align= center>"
   ]
  },
  {
   "cell_type": "markdown",
   "id": "a9b23837",
   "metadata": {
    "slideshow": {
     "slide_type": "fragment"
    }
   },
   "source": [
    "En términos generales, cualquier cuerpo que genere una distribución de velocidades distinta en sus caras superior e inferior es capaz de generar sustentación, incluso una placa plana inclinada en dirección al flujo. La diferencia entre la placa plana y un cuerpo fuselado está en el arrastre, siendo menor en el caso de este último."
   ]
  },
  {
   "cell_type": "markdown",
   "id": "0120a639",
   "metadata": {
    "slideshow": {
     "slide_type": "fragment"
    }
   },
   "source": [
    "La clave para la sustentación, entonces, está en generar una velocidad de flujo mayor en la cara inferior. Así, si aumentamos el ángulo de ataque $\\alpha$, la sustentación también aumentará. "
   ]
  },
  {
   "cell_type": "markdown",
   "id": "2b27dff4",
   "metadata": {
    "slideshow": {
     "slide_type": "slide"
    }
   },
   "source": [
    "Este aumento, sin embargo, alcanza un límite cuando ocurre desprendimiento de la capa límite en la parte superior. En este punto, el arrastre aumenta significativamente, y el perfil pierde sustentación (también denominado *stall*).\n",
    "\n",
    "<img src=\"./figures/lift_stall.png\" width=\"800px\" align= center>"
   ]
  },
  {
   "cell_type": "markdown",
   "id": "44f10ea3",
   "metadata": {
    "slideshow": {
     "slide_type": "slide"
    }
   },
   "source": [
    "Una forma de aumentar la sustentación a bajos números de Reynols es mediante el uso de *flaps*. El principio de funcionamiento de estos elementos es similar a lo comentado anteriormente, es decir, **aumentar la velocidad de flujo en  la cara inferior del perfil**"
   ]
  },
  {
   "cell_type": "markdown",
   "id": "c46ff7ab",
   "metadata": {},
   "source": [
    "<img src=\"./figures/airfoil_flaps.png\" width=\"800px\" align= center>"
   ]
  },
  {
   "cell_type": "markdown",
   "id": "bdcb8967",
   "metadata": {
    "slideshow": {
     "slide_type": "slide"
    }
   },
   "source": [
    "El siguiente video explica en detalle el efecto de sustentación"
   ]
  },
  {
   "cell_type": "code",
   "execution_count": 3,
   "id": "008975b7",
   "metadata": {
    "tags": [
     "remove-input"
    ]
   },
   "outputs": [
    {
     "data": {
      "image/jpeg": "[encoded data removed]",
      "text/html": [
       "\n",
       "        <iframe\n",
       "            width=\"700\"\n",
       "            height=\"400\"\n",
       "            src=\"https://www.youtube.com/embed/E3i_XHlVCeU\"\n",
       "            frameborder=\"0\"\n",
       "            allowfullscreen\n",
       "            \n",
       "        ></iframe>\n",
       "        "
      ],
      "text/plain": [
       "<IPython.lib.display.YouTubeVideo at 0x7f511676bb50>"
      ]
     },
     "execution_count": 3,
     "metadata": {},
     "output_type": "execute_result"
    }
   ],
   "source": [
    "from IPython.display import YouTubeVideo\n",
    "YouTubeVideo('E3i_XHlVCeU', width=700, height=400)"
   ]
  },
  {
   "cell_type": "markdown",
   "id": "33d3b1b6",
   "metadata": {
    "slideshow": {
     "slide_type": "slide"
    }
   },
   "source": [
    "## Referencias\n",
    "**Çengel Y. A. y Cimbala M. J. *Mecánica de Fluidos: Fundamentos y Aplicaciones*, 4ta Ed., McGraw Hill, 2018**\n",
    "- Capitulo 11. Flujo externo: Arrastre y sustentación\n",
    "\n",
    "**White F. M. *Mecánica de Fluidos*, 5ta Ed., McGraw Hill, 2004**\n",
    "- Capítulo 7. Flujo alrededor de cuerpos\n",
    "\n",
    "**Tec-science (2020, May 05). Flow separation (boundary layer separation)** [www.tec-science.com/mechanics/gases-and-liquids/flow-separation-boundary-layer-separation/](https://www.tec-science.com/mechanics/gases-and-liquids/flow-separation-boundary-layer-separation/)"
   ]
  }
 ],
 "metadata": {
  "celltoolbar": "Slideshow",
  "kernelspec": {
   "display_name": "Python 3 (ipykernel)",
   "language": "python",
   "name": "python3"
  },
  "language_info": {
   "codemirror_mode": {
    "name": "ipython",
    "version": 3
   },
   "file_extension": ".py",
   "mimetype": "text/x-python",
   "name": "python",
   "nbconvert_exporter": "python",
   "pygments_lexer": "ipython3",
   "version": "3.9.13"
  },
  "latex_envs": {
   "LaTeX_envs_menu_present": true,
   "autoclose": false,
   "autocomplete": true,
   "bibliofile": "biblio.bib",
   "cite_by": "apalike",
   "current_citInitial": 1,
   "eqLabelWithNumbers": true,
   "eqNumInitial": 1,
   "hotkeys": {
    "equation": "Ctrl-E",
    "itemize": "Ctrl-I"
   },
   "labels_anchors": false,
   "latex_user_defs": false,
   "report_style_numbering": false,
   "user_envs_cfg": false
  },
  "rise": {
   "height": "100%",
   "theme": "simple",
   "width": "100%"
  },
  "toc": {
   "base_numbering": "1",
   "nav_menu": {},
   "number_sections": true,
   "sideBar": true,
   "skip_h1_title": true,
   "title_cell": "Contenidos",
   "title_sidebar": "Contenidos",
   "toc_cell": false,
   "toc_position": {
    "height": "calc(100% - 180px)",
    "left": "10px",
    "top": "150px",
    "width": "303.833px"
   },
   "toc_section_display": true,
   "toc_window_display": false
  },
  "varInspector": {
   "cols": {
    "lenName": 16,
    "lenType": 16,
    "lenVar": 40
   },
   "kernels_config": {
    "python": {
     "delete_cmd_postfix": "",
     "delete_cmd_prefix": "del ",
     "library": "var_list.py",
     "varRefreshCmd": "print(var_dic_list())"
    },
    "r": {
     "delete_cmd_postfix": ") ",
     "delete_cmd_prefix": "rm(",
     "library": "var_list.r",
     "varRefreshCmd": "cat(var_dic_list()) "
    }
   },
   "types_to_exclude": [
    "module",
    "function",
    "builtin_function_or_method",
    "instance",
    "_Feature"
   ],
   "window_display": false
  }
 },
 "nbformat": 4,
 "nbformat_minor": 5
}
