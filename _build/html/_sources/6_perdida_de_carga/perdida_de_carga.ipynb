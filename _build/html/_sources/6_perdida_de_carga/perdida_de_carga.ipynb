{
 "cells": [
  {
   "cell_type": "markdown",
   "id": "4769825b",
   "metadata": {
    "slideshow": {
     "slide_type": "slide"
    }
   },
   "source": [
    "# Flujo viscoso en ductos"
   ]
  },
  {
   "cell_type": "markdown",
   "id": "cc605386",
   "metadata": {
    "slideshow": {
     "slide_type": "slide"
    }
   },
   "source": [
    "## Ecuación de conservación de energía para una línea de flujo\n",
    "\n",
    "Recordando la unidad 3, tenemos que para **(1) flujo incompresible, (2) volúmen de control con una línea de corriente, y (3) flujo estacionario**, tenemos:\n",
    "\n",
    "\\begin{equation}\n",
    "\\left(\\frac{P}{\\rho g}+\\frac{V^2}{2g}+z\\right)_\\mathrm{entra} + h_\\mathrm{bomba} = \\left(\\frac{P}{\\rho g}+\\frac{V^2}{2g}+z\\right)_\\mathrm{sale} + h_\\mathrm{turbina} + h_L,\\quad(\\mathrm{m})\n",
    "\\end{equation}\n",
    "\n",
    "donde $h_\\mathrm{i} = \\frac{\\dot{W}_\\mathrm{i}}{\\rho Qg}$, ($i=$ $\\mathrm{bomba}$, $\\mathrm{turbina}$ y $L$) es la **altura de presión equivalente** asociada a la energía transferida por una bomba, turbina o viscosidad, respectivamente."
   ]
  },
  {
   "cell_type": "markdown",
   "id": "fe690d1c",
   "metadata": {
    "slideshow": {
     "slide_type": "fragment"
    }
   },
   "source": [
    "El término $h_\\mathrm{L}$ se conoce como la **pérdida de carga,** asociada al pérdida irreversible de energía mecánica por fricción y viscosidad."
   ]
  },
  {
   "cell_type": "markdown",
   "id": "7ff4acfc",
   "metadata": {
    "slideshow": {
     "slide_type": "slide"
    }
   },
   "source": [
    "La ecuación (4.7) representa la forma más utilizada de la ecuación de conservación energía mecánica. Se expresa en forma de **alturas hidrostáticas,** ya que permite facilmente identificar los cambios de presión en el ducto.\n",
    "\n",
    "<img src=\"./figures/mechanical_energy_conservation.png\" width=\"750px\" align= center>"
   ]
  },
  {
   "cell_type": "markdown",
   "id": "ce660d8b",
   "metadata": {
    "slideshow": {
     "slide_type": "slide"
    }
   },
   "source": [
    "## Número de Reynolds"
   ]
  },
  {
   "cell_type": "markdown",
   "id": "2083c53d",
   "metadata": {
    "slideshow": {
     "slide_type": "fragment"
    }
   },
   "source": [
    "Antes de discutir las relaciones matemáticas para la pérdida de carga es importante revisar nuevamente el concepto de flujo laminar y turbulento\n",
    "<img src=\"./figures/laminar_vs_turbulent_illustration.png\" width=\"800px\" align= center>"
   ]
  },
  {
   "cell_type": "markdown",
   "id": "57ed1a8f",
   "metadata": {
    "slideshow": {
     "slide_type": "fragment"
    }
   },
   "source": [
    "\n",
    "- **Flujo laminar**: flujo ordenado caracterizado por líneas suaves\n",
    "- **Flujo turbulento**: flujo desordenado, caracterizado por fluctuaciones en torno a valores promedio"
   ]
  },
  {
   "cell_type": "markdown",
   "id": "9c301f68",
   "metadata": {
    "slideshow": {
     "slide_type": "fragment"
    }
   },
   "source": [
    "Necesitamos un parámetro de referencia para distinguir el tipo de flujo con el que trabajamos"
   ]
  },
  {
   "cell_type": "markdown",
   "id": "1c981f4d",
   "metadata": {
    "slideshow": {
     "slide_type": "slide"
    }
   },
   "source": [
    "Físicamente, las características que definen si un flujo es laminar o turbulento son:\n",
    "- Viscosidad dinámica\n",
    "- Densidad\n",
    "- Velocidad del flujo"
   ]
  },
  {
   "cell_type": "markdown",
   "id": "7c8e4b4d",
   "metadata": {
    "slideshow": {
     "slide_type": "fragment"
    }
   },
   "source": [
    "La relación entre estos tres parámetros está dada por el **número de Reynolds**\n",
    "\n",
    "\\begin{equation}\n",
    "\\mathrm{Re} = \\frac{VL_c}{\\nu}\n",
    "\\end{equation}\n",
    "\n",
    "donde $\\nu = \\mu/\\rho,~(\\mathrm{m^2/s})$ es la viscosidad cinemática y **$L_c$ es una longitud caractéristica** relativa al problema estudiado."
   ]
  },
  {
   "cell_type": "markdown",
   "id": "23d0447d",
   "metadata": {
    "slideshow": {
     "slide_type": "slide"
    }
   },
   "source": [
    "En el caso de **flujo en ductos**, los límites para determinar el tipo de flujo son:\n",
    "\n",
    "\\begin{eqnarray*}\n",
    "&~\\mathrm{Re}_D &\\lesssim 2300,\\quad&&\\mathrm{Flujo~laminar}\\\\\n",
    "2300\\lesssim &~\\mathrm{Re}_D &\\lesssim 4000,\\quad&&\\mathrm{Flujo~en~transición}\\\\\n",
    "4000\\lesssim &~\\mathrm{Re}_D&\\quad&&\\mathrm{Flujo~turbulento}\\\\\n",
    "\\end{eqnarray*}"
   ]
  },
  {
   "cell_type": "markdown",
   "id": "2a09d1ba",
   "metadata": {
    "slideshow": {
     "slide_type": "slide"
    }
   },
   "source": [
    "### Longitud característica ($L_c$)\n",
    "En el caso de flujo en ductos circulares de diámetro $D$, la longitud característica $L_c = D$. "
   ]
  },
  {
   "cell_type": "markdown",
   "id": "20e7a5db",
   "metadata": {
    "slideshow": {
     "slide_type": "fragment"
    }
   },
   "source": [
    "En el caso de ductos no circulares, utilizamos el **diámetro hidráulico**:\n",
    "\n",
    "\\begin{equation}\n",
    "D_h = \\frac{4A}{P_h}\n",
    "\\end{equation}\n",
    "\n",
    "donde **$A$ es el área de la sección transversal del ducto** y **$P_h$ es el perímetro mojado** (perímetro del ducto en contacto con el fluido)."
   ]
  },
  {
   "cell_type": "markdown",
   "id": "55563805",
   "metadata": {
    "slideshow": {
     "slide_type": "slide"
    }
   },
   "source": [
    "<img src=\"./figures/diametro_hidraulico.png\" width=\"700px\" align= center>"
   ]
  },
  {
   "cell_type": "markdown",
   "id": "0faf2ba9",
   "metadata": {
    "slideshow": {
     "slide_type": "slide"
    }
   },
   "source": [
    "## Pérdida de carga\n",
    "\n",
    "Podemos diferenciar dos grandes grupos para la pérdida de carga en sistemas de tuberías:\n",
    "\n",
    "\\begin{equation}\n",
    "h_L = h_{L,\\mathrm{mayor}} + h_{L,\\mathrm{menor}}\n",
    "\\end{equation}\n",
    "\n",
    "Donde: \n",
    "- $h_{L,\\mathrm{mayor}}$: **pérdidas mayores**, asociadas a pérdidas por fricción en la longitud del ducto\n",
    "\n",
    "- $h_{L,\\mathrm{menor}}$: **pérdidas menores**, asociadas a pérdidas por fricción en singularidades, como: válvulas, codos, cambios de sección, etc."
   ]
  },
  {
   "cell_type": "markdown",
   "id": "ac625277",
   "metadata": {
    "slideshow": {
     "slide_type": "fragment"
    }
   },
   "source": [
    "> El término \"mayor\" y \"menor\" no está directamente relacionado con la magnitud de cada pérdida. Es decir, es posible encontrar casos donde las pérdidas menores sean superiores a las mayores, y viceversa."
   ]
  },
  {
   "cell_type": "markdown",
   "id": "a85fb021",
   "metadata": {
    "slideshow": {
     "slide_type": "slide"
    }
   },
   "source": [
    "### Pérdida de carga en la longitud (mayores)\n",
    "\n",
    "Es posible demostrar que, para ductos circulares de diámetro $D$, la pérdida de carga entre dos puntos separados por una longitud $L$ está dada por la **ecuación de Darcy-Weisbach:**\n",
    "\n",
    "\\begin{equation}\n",
    "h_L = f\\frac{L}{D}\\frac{V^2}{2g},\\quad(\\mathrm{m})\n",
    "\\end{equation}\n",
    "\n",
    "donde **$f$ es el factor de fricción de Darcy,** y $V$ es la velocidad promedio del flujo en el ducto"
   ]
  },
  {
   "cell_type": "markdown",
   "id": "e6763403",
   "metadata": {
    "slideshow": {
     "slide_type": "fragment"
    }
   },
   "source": [
    "La fórmula para el factor de fricción depende de si el flujo es laminar o turbulento."
   ]
  },
  {
   "cell_type": "markdown",
   "id": "6b56fd63",
   "metadata": {
    "slideshow": {
     "slide_type": "slide"
    }
   },
   "source": [
    "#### Factor de fricción para flujo laminar\n",
    "En el caso de flujo laminar, el factor de fricción está dado por:\n",
    "\n",
    "\\begin{equation}\n",
    "f = \\frac{64}{\\mathrm{Re}_D}\n",
    "\\end{equation}"
   ]
  },
  {
   "cell_type": "markdown",
   "id": "b0dd849b",
   "metadata": {
    "slideshow": {
     "slide_type": "slide"
    }
   },
   "source": [
    "Para ductos no circulares, usamos las siguientes relaciones en función del diámetro hidráulico ($D_h$)\n",
    "\n",
    "<img src=\"./figures/head_loss_laminar_non-circular.png\" width=\"850px\" align= center>"
   ]
  },
  {
   "cell_type": "markdown",
   "id": "6f97d1ea",
   "metadata": {
    "slideshow": {
     "slide_type": "slide"
    }
   },
   "source": [
    "#### Factor de fricción para flujo turbulento\n",
    "Para flujo en transición y turbulento, el factor de fricción depende de la rugosidad del ducto, $\\epsilon$. Esto porque *la inestabilidad del flujo será mayor cuando la rugosidad aumenta.*"
   ]
  },
  {
   "cell_type": "markdown",
   "id": "c459739f",
   "metadata": {
    "slideshow": {
     "slide_type": "fragment"
    }
   },
   "source": [
    "El factor de fricción, así, depende de $\\mathrm{Re}_D$ y la rugosidad relativa $\\epsilon_R =\\epsilon/D$, y se define por \n",
    "**ecuación de Colebrook:**\n",
    "\n",
    "\\begin{equation*}\n",
    "\\frac{1}{\\sqrt{f}} = - 2 \\log\\left(\\frac{\\epsilon_R}{3.7} + \\frac{2.51}{\\mathrm{Re}_D\\sqrt{f}}\\right)\n",
    "\\end{equation*}"
   ]
  },
  {
   "cell_type": "markdown",
   "id": "9c39ce27",
   "metadata": {
    "slideshow": {
     "slide_type": "fragment"
    }
   },
   "source": [
    "Esta ecuación es no lineal y su solución, por lo tanto, requiere de métodos númericos."
   ]
  },
  {
   "cell_type": "markdown",
   "id": "cdb9986a",
   "metadata": {
    "slideshow": {
     "slide_type": "slide"
    }
   },
   "source": [
    "Una alternativa a la ecuación de Colebrook es el diagrama de Moody.\n",
    "\n",
    "\n",
    "<div class=\"full-width\">\n",
    "    \n",
    "<img src=\"./figures/Moody_diagram.png\" width=\"1000px\" align= center>\n",
    "\n",
    "</div>"
   ]
  },
  {
   "cell_type": "markdown",
   "id": "fbacddf9",
   "metadata": {
    "slideshow": {
     "slide_type": "slide"
    }
   },
   "source": [
    "Otra alternativa es utilizar relaciones empíricas que expresan $f$ de forma explicita, pero aproximada. Por ejemplo:\n",
    "\n",
    "\\begin{eqnarray}\n",
    "f &=& 0.25\\left[\\log\\left(\\frac{\\epsilon_R}{3.7}+\\frac{5.74}{\\mathrm{Re}_D^{0.9}}\\right)\\right]^{-2}\\quad\\quad&&\\mathrm{Miller}\n",
    "\\\\[10pt]\n",
    "\\frac{1}{\\sqrt{f}} &=& -1.8\\log\\left[\\left(\\frac{\\epsilon_R}{3.7}\\right)^{1.11}+\\frac{6.9}{\\mathrm{Re}_D}\\right]\\quad\\quad&&\\mathrm{Haaland}\n",
    "\\end{eqnarray}"
   ]
  },
  {
   "cell_type": "markdown",
   "id": "38e30da5",
   "metadata": {
    "slideshow": {
     "slide_type": "slide"
    }
   },
   "source": [
    "### Pérdidas de carga por singularidades (menores)\n",
    "Estas pérdidas están dadas por singularidades, tales como: cambios de sección en el flujo, cambios de dirección en codos, válvulas, etc."
   ]
  },
  {
   "cell_type": "markdown",
   "id": "a977fffd",
   "metadata": {
    "slideshow": {
     "slide_type": "fragment"
    }
   },
   "source": [
    "La relación universal es:\n",
    "\\begin{equation}\n",
    "h_{L,\\mathrm{menores}} = \\sum_i K_i\\frac{V_i^2}{2g}\n",
    "\\end{equation}\n",
    "\n",
    "donde $K_i$ y $V_i$ son el coeficiente de pérdida y la velocidad en la singularidad $i$."
   ]
  },
  {
   "cell_type": "markdown",
   "id": "9ff64dfd",
   "metadata": {
    "slideshow": {
     "slide_type": "fragment"
    }
   },
   "source": [
    "> Notar que el valor de $V_i$ depende del tipo de singularidad."
   ]
  },
  {
   "cell_type": "markdown",
   "id": "1d5b769f",
   "metadata": {
    "slideshow": {
     "slide_type": "fragment"
    }
   },
   "source": [
    "A continuación mostramos algunos ejemplos"
   ]
  },
  {
   "cell_type": "markdown",
   "id": "67e2d74d",
   "metadata": {
    "slideshow": {
     "slide_type": "slide"
    }
   },
   "source": [
    "**Singularidad a la entrada y salida**\n",
    "\n",
    "<img src=\"./figures/singularidad1.png\" width=\"800px\" align= center>"
   ]
  },
  {
   "cell_type": "markdown",
   "id": "a560db0c",
   "metadata": {
    "slideshow": {
     "slide_type": "slide"
    }
   },
   "source": [
    "**Expansión y contracción brusca**\n",
    "\n",
    "<img src=\"./figures/singularidad2.png\" width=\"800px\" align= center>"
   ]
  },
  {
   "cell_type": "markdown",
   "id": "2d92c452",
   "metadata": {
    "slideshow": {
     "slide_type": "slide"
    }
   },
   "source": [
    "**Codos y \"tes\"**\n",
    "\n",
    "<img src=\"./figures/singularidad3.png\" width=\"800px\" align= center>"
   ]
  },
  {
   "cell_type": "markdown",
   "id": "f75e5ab6",
   "metadata": {
    "slideshow": {
     "slide_type": "slide"
    }
   },
   "source": [
    "**Válvulas**\n",
    "\n",
    "<img src=\"./figures/valves.png\" width=\"600px\" align= center>"
   ]
  },
  {
   "cell_type": "markdown",
   "id": "890f2d50",
   "metadata": {
    "slideshow": {
     "slide_type": "slide"
    }
   },
   "source": [
    "### Tuberías en serie y paralelo\n",
    "\n",
    "Los sistemas de cañerías a menudo consideran sistemas conectados en série y paralelo. En este caso, las relaciones para caudal y diferencia de presiones se ajustan como indica la figura:\n",
    "\n",
    "<img src=\"./figures/series_and_parallel_pipe.png\" width=\"700px\" align= center>"
   ]
  },
  {
   "cell_type": "markdown",
   "id": "33d3b1b6",
   "metadata": {
    "slideshow": {
     "slide_type": "slide"
    }
   },
   "source": [
    "## Referencias\n",
    "**Çengel Y. A. y Cimbala M. J. *Mecánica de Fluidos: Fundamentos y Aplicaciones*, 4ta Ed., McGraw Hill, 2018**\n",
    "- Capítulo 8: Flujo en tuberías\n",
    "\n",
    "**White F. M. *Mecánica de Fluidos*, 5ta Ed., McGraw Hill, 2004**\n",
    "- Capítulo 6: Flujo viscoso en conductos"
   ]
  }
 ],
 "metadata": {
  "celltoolbar": "Slideshow",
  "kernelspec": {
   "display_name": "Python 3 (ipykernel)",
   "language": "python",
   "name": "python3"
  },
  "language_info": {
   "codemirror_mode": {
    "name": "ipython",
    "version": 3
   },
   "file_extension": ".py",
   "mimetype": "text/x-python",
   "name": "python",
   "nbconvert_exporter": "python",
   "pygments_lexer": "ipython3",
   "version": "3.11.6"
  },
  "latex_envs": {
   "LaTeX_envs_menu_present": true,
   "autoclose": false,
   "autocomplete": true,
   "bibliofile": "biblio.bib",
   "cite_by": "apalike",
   "current_citInitial": 1,
   "eqLabelWithNumbers": true,
   "eqNumInitial": 1,
   "hotkeys": {
    "equation": "Ctrl-E",
    "itemize": "Ctrl-I"
   },
   "labels_anchors": false,
   "latex_user_defs": false,
   "report_style_numbering": false,
   "user_envs_cfg": false
  },
  "rise": {
   "height": "100%",
   "theme": "simple",
   "width": "100%"
  },
  "toc": {
   "base_numbering": "1",
   "nav_menu": {},
   "number_sections": true,
   "sideBar": true,
   "skip_h1_title": true,
   "title_cell": "Contenidos",
   "title_sidebar": "Contenidos",
   "toc_cell": false,
   "toc_position": {
    "height": "calc(100% - 180px)",
    "left": "10px",
    "top": "150px",
    "width": "303.833px"
   },
   "toc_section_display": true,
   "toc_window_display": false
  },
  "varInspector": {
   "cols": {
    "lenName": 16,
    "lenType": 16,
    "lenVar": 40
   },
   "kernels_config": {
    "python": {
     "delete_cmd_postfix": "",
     "delete_cmd_prefix": "del ",
     "library": "var_list.py",
     "varRefreshCmd": "print(var_dic_list())"
    },
    "r": {
     "delete_cmd_postfix": ") ",
     "delete_cmd_prefix": "rm(",
     "library": "var_list.r",
     "varRefreshCmd": "cat(var_dic_list()) "
    }
   },
   "types_to_exclude": [
    "module",
    "function",
    "builtin_function_or_method",
    "instance",
    "_Feature"
   ],
   "window_display": false
  }
 },
 "nbformat": 4,
 "nbformat_minor": 5
}
