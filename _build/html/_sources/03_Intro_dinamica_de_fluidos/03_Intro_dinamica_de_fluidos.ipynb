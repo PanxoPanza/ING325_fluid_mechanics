{
 "cells": [
  {
   "cell_type": "markdown",
   "id": "4769825b",
   "metadata": {
    "slideshow": {
     "slide_type": "slide"
    }
   },
   "source": [
    "# Introducción a la dinámica de fluidos"
   ]
  },
  {
   "cell_type": "markdown",
   "id": "6d47d103",
   "metadata": {
    "slideshow": {
     "slide_type": "slide"
    }
   },
   "source": [
    "## Sistema y volúmen de control"
   ]
  },
  {
   "cell_type": "markdown",
   "id": "c94fa83b",
   "metadata": {},
   "source": [
    "### Sistema"
   ]
  },
  {
   "cell_type": "markdown",
   "id": "5df16a02",
   "metadata": {
    "slideshow": {
     "slide_type": "fragment"
    }
   },
   "source": [
    "Definimos como **sistema** a una *cantidad de materia de masa fija elegida para el estudio*"
   ]
  },
  {
   "cell_type": "markdown",
   "id": "bad5174a",
   "metadata": {
    "slideshow": {
     "slide_type": "fragment"
    }
   },
   "source": [
    "En general, para el estudio de **sólidos**, la definición de sistema es sencilla, ya que este considera la interacción del cuerpo con las fuerzas externas."
   ]
  },
  {
   "cell_type": "markdown",
   "id": "530bea3f",
   "metadata": {
    "slideshow": {
     "slide_type": "fragment"
    }
   },
   "source": [
    "Sin embargo, en el caso de **fluidos**, la definición no es tan sensilla ya que el sistema ocupa un espacio infinito."
   ]
  },
  {
   "cell_type": "markdown",
   "id": "41ce440e",
   "metadata": {
    "slideshow": {
     "slide_type": "slide"
    }
   },
   "source": [
    "### Volumen de control"
   ]
  },
  {
   "cell_type": "markdown",
   "id": "ac017ed9",
   "metadata": {
    "slideshow": {
     "slide_type": "fragment"
    }
   },
   "source": [
    "Para estudiar dinámica de fluidos utilizamos el **volúmen de control**, *una región imagniaria en el espacio para analizar la dinámica de fluidos.*"
   ]
  },
  {
   "cell_type": "markdown",
   "id": "9e31d693",
   "metadata": {
    "cell_style": "center",
    "slideshow": {
     "slide_type": "fragment"
    }
   },
   "source": [
    "<img src=\"./figures/control_volume.png\" width=\"700px\" align= center>\n",
    "\n",
    ">**Nota.** Las frontera de un volumen de control pueden ser permeables o impermeables, móbiles o fijas."
   ]
  },
  {
   "cell_type": "markdown",
   "id": "a9b2ec5e",
   "metadata": {
    "slideshow": {
     "slide_type": "slide"
    }
   },
   "source": [
    "## Descripción lagrangiana y euleriana"
   ]
  },
  {
   "cell_type": "markdown",
   "id": "f3fe3249",
   "metadata": {
    "slideshow": {
     "slide_type": "fragment"
    }
   },
   "source": [
    " - **Descripción lagrangiana** consiste en hacer un seguimiento de las partículas materiales. Este enfoque es comúnmente utilizado en dinámica de sólidos.\n",
    "\n",
    "- **Descripción euleriana** consiste en medir lo que pasa en puntos fijos del espacio. Este enfoque es comúnmente utilizado en dinámica de fluidos."
   ]
  },
  {
   "cell_type": "markdown",
   "id": "fb6a135b",
   "metadata": {
    "slideshow": {
     "slide_type": "-"
    }
   },
   "source": [
    "<img src=\"./figures/lagrangian_eulerian.png\" width=\"800px\" align= center>"
   ]
  },
  {
   "cell_type": "markdown",
   "id": "ed7c558f",
   "metadata": {
    "slideshow": {
     "slide_type": "slide"
    }
   },
   "source": [
    "**En el análisis lagrangiano se rastrea la *trayectoria y la velocidad de cada sistema,*** las cuales dependen del tiempo ($t$), únicamente. Por ejemplo, considerando un sistema con múltiples objetos $A, B, C, \\cdots$\n",
    "\n",
    "\\begin{align*}\n",
    "\\vec{x}_A(t), \\vec{x}_B(t), \\vec{x}_C(t), \\cdots&\\quad\\quad\\mathrm{Trayectoria}\\\\\n",
    "\\vec{V}_A(t), \\vec{V}_B(t), \\vec{V}_C(t), \\cdots&\\quad\\quad\\mathrm{Velocidad}\n",
    "\\end{align*}\n"
   ]
  },
  {
   "cell_type": "markdown",
   "id": "9bbf0829",
   "metadata": {
    "slideshow": {
     "slide_type": "fragment"
    }
   },
   "source": [
    "**En el análisis euleriano se definen *variables de campo***, es decir, variables en funcion del tiempo y del espacio  dentro del volumen de control ($x, y,z$). Por ejemplo:\n",
    "\\begin{align*}\n",
    "P(x,y,z,t) &\\quad\\quad\\mathrm{Campo~de~presión}\\\\\n",
    "\\rho(x,y,z,t) &\\quad\\quad\\mathrm{Campo~de~densidad}\\\\\n",
    "\\vec{V}(x,y,z,t) &\\quad\\quad\\mathrm{Campo~de~velocidad}\n",
    "\\end{align*}"
   ]
  },
  {
   "cell_type": "markdown",
   "id": "f994c37b",
   "metadata": {
    "slideshow": {
     "slide_type": "fragment"
    }
   },
   "source": [
    "Notar que $P$ y $ \\rho$ son un **campo escalar *(valor escalar que cambia en el espacio)***, mientras que $\\vec{V}$ es un **campo vectorial *(vector cuya magnitud y dirección cambia en el espacio)***"
   ]
  },
  {
   "cell_type": "markdown",
   "id": "967e938b",
   "metadata": {
    "slideshow": {
     "slide_type": "fragment"
    }
   },
   "source": [
    "Así, $\\vec{V}$ se puede desarrollar, por ejemplo, en coordenadas cartesianas:\n",
    "\n",
    "\\begin{equation}\n",
    "\\vec{V} = u(x,y,z,t)~\\hat{x} + v(x,y,z,t)~\\hat{y} + w(x,y,z,t)~\\hat{z}\n",
    "\\end{equation}\n",
    "\n",
    "donde $u$, $v$ y $w$ son las componentes de la velocidad e direcciones $x$, $y$ y $z$, respectivamente."
   ]
  },
  {
   "cell_type": "markdown",
   "id": "02a4645d",
   "metadata": {
    "slideshow": {
     "slide_type": "slide"
    }
   },
   "source": [
    "## Teorema de transporte de Reynolds (TTR)"
   ]
  },
  {
   "cell_type": "markdown",
   "id": "7a90e634",
   "metadata": {
    "slideshow": {
     "slide_type": "slide"
    }
   },
   "source": [
    "### Leyes de conservación aplicadas a un sistema"
   ]
  },
  {
   "cell_type": "markdown",
   "id": "b18afbd7",
   "metadata": {
    "slideshow": {
     "slide_type": "fragment"
    }
   },
   "source": [
    "Consideremos algunas **leyes de conservación fundamentales** aplicadas a un sistema:"
   ]
  },
  {
   "cell_type": "markdown",
   "id": "f9138a4e",
   "metadata": {
    "cell_style": "split",
    "slideshow": {
     "slide_type": "fragment"
    }
   },
   "source": [
    "- Masa ($m_\\mathrm{sys}$), \n",
    "\n",
    "$$\\frac{d}{dt}m_\\mathrm{sys} = 0$$\n",
    "\n",
    "- Momento lineal $(m\\vec{V})_\\mathrm{sys}$, \n",
    "\n",
    "$$\\frac{d}{dt}(m\\vec{V})_\\mathrm{sys} = \\vec{F}_\\mathrm{neta}$$"
   ]
  },
  {
   "cell_type": "markdown",
   "id": "aa7ff1c3",
   "metadata": {
    "cell_style": "split",
    "slideshow": {
     "slide_type": "fragment"
    }
   },
   "source": [
    "- Momento angular $(\\vec{r}\\times m\\vec{V})_\\mathrm{sys}$, \n",
    "\n",
    "$$\\frac{d}{dt}(\\vec{r}\\times m\\vec{V})_\\mathrm{sys} = \\vec{M}_\\mathrm{neto}$$\n",
    "\n",
    "- Energía $E_\\mathrm{sys} =(m\\tilde{e})_\\mathrm{sys}$, \n",
    "\n",
    "$$\\frac{d}{dt}(m\\tilde{e})_\\mathrm{sys} = \\dot{Q} - \\dot{W}$$"
   ]
  },
  {
   "cell_type": "markdown",
   "id": "56cda09f",
   "metadata": {
    "slideshow": {
     "slide_type": "fragment"
    }
   },
   "source": [
    "donde $\\vec{F}_\\mathrm{neta}$ y $\\vec{M}_\\mathrm{neto}$ son, respectivamente, *la fuerza y torque aplicado sobre el sistema*, $\\tilde{e}$ es la *energía específica (energía por unidad de masa)*, $\\dot{Q}$ es la *tasa de transferencia de calor*, y $\\dot{W}$ es *potencia*."
   ]
  },
  {
   "cell_type": "markdown",
   "id": "89b93b58",
   "metadata": {
    "slideshow": {
     "slide_type": "slide"
    }
   },
   "source": [
    "En cada ley de conservación notamos que hay una ***propiedad extensiva (por ejemplo, $E_\\mathrm{sys}$)***, y una ***propiedad intensiva (por ejemplo, $\\tilde{e}_\\mathrm{sys} = E_\\mathrm{sys}/m_\\mathrm{sys}$)***"
   ]
  },
  {
   "cell_type": "markdown",
   "id": "da7e8e23",
   "metadata": {
    "cell_style": "center",
    "slideshow": {
     "slide_type": "slide"
    }
   },
   "source": [
    "### Formulación general\n",
    "\n",
    "El **teorema de transporte de Reynolds** establece una relación entre la **variación temporal de una propiedad extensiva del sistema ($B_\\mathrm{sys}$)** y su respectiva **propiedad intensiva dentro del volumen de control ($\\beta$)**"
   ]
  },
  {
   "cell_type": "markdown",
   "id": "6e34c707",
   "metadata": {
    "cell_style": "center",
    "slideshow": {
     "slide_type": "slide"
    }
   },
   "source": [
    "En su forma más general, para un **volumen de control móvil y deformable**:\n",
    "\n",
    "\\begin{equation}\n",
    "\\frac{d}{dt}B_\\mathrm{sys} = \\frac{d}{dt}\\int_\\mathrm{VC} \\rho\\beta d\\forall + \\int_\\mathrm{VC} \\rho\\beta\\vec{V}\\cdot\\hat{n}dA\n",
    "\\end{equation}"
   ]
  },
  {
   "cell_type": "markdown",
   "id": "cffdffd2",
   "metadata": {
    "cell_style": "split",
    "slideshow": {
     "slide_type": "fragment"
    }
   },
   "source": [
    "- El término a la izquierda representa la **tasa de cambio de $B_\\mathrm{sys}$ en el sistema.**\n",
    "\n",
    "- El primer término a la derecha representa la **tasa de cambio de $\\beta$ en el volúmen de control $\\mathrm{VC}$.**\n",
    "\n",
    "- El segundo término a la derecha representa el **flujo de $\\beta$ a través de las fronteras del volúmen de control ($\\mathrm{VC}$)**\n",
    "\n",
    "- **$\\vec{V}$ es la *velocidad relativa* del flujo que cruza la frontera del volúmen de control,** respecto de la velocidad de la frontera$\\vec{V}_s$."
   ]
  },
  {
   "cell_type": "markdown",
   "id": "5246b046",
   "metadata": {
    "cell_style": "split"
   },
   "source": [
    "<img src=\"./figures/Reynolds_theorem_general.png\" width=\"400px\" align= center>"
   ]
  },
  {
   "cell_type": "markdown",
   "id": "738b4372",
   "metadata": {
    "slideshow": {
     "slide_type": "slide"
    }
   },
   "source": [
    "Notar que el rol de la normal a la superficie del volumen de control ($\\hat{n}$) en la ecuación, que define un **valor positivo para flujos que salen del volúmen de control**, y un **valor negativo para los flujos que entran**."
   ]
  },
  {
   "cell_type": "markdown",
   "id": "6c635ce6",
   "metadata": {
    "slideshow": {
     "slide_type": "fragment"
    }
   },
   "source": [
    "Matemáticamente, el flujo neto de la propiedad $B$ en el volúmen de control:\n",
    "\n",
    "\\begin{equation*}\n",
    "\\dot{B}_\\mathrm{neto} = \\dot{B}_\\mathrm{sale} - \\dot{B}_\\mathrm{entra} = \\int_\\mathrm{VC} \\rho\\beta\\vec{V}\\cdot\\hat{n}dA\n",
    "\\end{equation*}"
   ]
  },
  {
   "cell_type": "markdown",
   "id": "84777f91",
   "metadata": {
    "slideshow": {
     "slide_type": "slide"
    }
   },
   "source": [
    "### Formulación simplificada\n",
    "\n",
    "En muchas aplicaciones prácticas de ingeniería solo se conocen valores promedios del flujo, obtenidos a través de mediciones. En estos casos, las siguientes aproximaciones son útiles:"
   ]
  },
  {
   "cell_type": "markdown",
   "id": "13892e50",
   "metadata": {
    "cell_style": "split",
    "slideshow": {
     "slide_type": "fragment"
    }
   },
   "source": [
    "- **Propiedades approximadamente uniformes dentro del volúmen de control**\n",
    "\n",
    "\\begin{equation}\n",
    "\\frac{d}{dt}\\int_\\mathrm{VC} \\rho\\beta d\\forall \\approx \\frac{d}{dt}(\\rho\\beta \\forall)\n",
    "\\end{equation}"
   ]
  },
  {
   "cell_type": "markdown",
   "id": "52d69c70",
   "metadata": {
    "cell_style": "split",
    "slideshow": {
     "slide_type": "fragment"
    }
   },
   "source": [
    "- **Valores promedio en la entrada y salida**\n",
    "\n",
    "\\begin{equation}\\int_\\mathrm{VC} \\rho\\beta\\vec{V}\\cdot\\hat{n}dA \\approx \\sum_\\mathrm{sale}\\overline{\\rho}\\overline{\\beta}~\\overline{V}A - \\sum_\\mathrm{entra}\\overline{\\rho}\\overline{\\beta}~\\overline{V}A\n",
    "\\end{equation}"
   ]
  },
  {
   "cell_type": "markdown",
   "id": "c19334ca",
   "metadata": {
    "cell_style": "center",
    "slideshow": {
     "slide_type": "fragment"
    }
   },
   "source": [
    "donde $\\bar{\\beta}$ y $\\overline{\\rho}$ representan, respectivamente, el **valor promedio por área de la propiedad intensiva $\\beta$ y de la densidad $\\rho$**\n",
    "\n",
    "\\begin{equation}\n",
    "\\begin{aligned}\n",
    "\\bar{\\beta} &= \\frac{1}{A}\\int_A \\beta dA \\\\\n",
    "\\bar{\\rho} &= \\frac{1}{A}\\int_A \\rho dA,\n",
    "\\end{aligned}\n",
    "\\end{equation}"
   ]
  },
  {
   "cell_type": "markdown",
   "id": "350d1b77",
   "metadata": {
    "cell_style": "split",
    "slideshow": {
     "slide_type": "slide"
    }
   },
   "source": [
    "y $\\overline{V}$ es la **velocidad promedio respecto al área $A$**\n",
    "\n",
    "\\begin{equation}\n",
    "\\overline{V} = \\frac{1}{A}\\int_A \\vec{V}\\cdot\\hat{n}dA.\n",
    "\\end{equation}"
   ]
  },
  {
   "cell_type": "markdown",
   "id": "80cce7a7",
   "metadata": {
    "cell_style": "split"
   },
   "source": [
    "<img src=\"./figures/average_velocity.png\" width=\"250px\" align= center>"
   ]
  },
  {
   "cell_type": "markdown",
   "id": "a543b344",
   "metadata": {
    "cell_style": "center",
    "slideshow": {
     "slide_type": "slide"
    }
   },
   "source": [
    "A partir de estas aproximaciones deducimos la formulación simplificada del teorema de transporte de Reynolds:\n",
    "\n",
    "\\begin{equation}\n",
    "\\frac{d}{dt}B_\\mathrm{sys} = \\frac{d}{dt}(\\rho\\beta \\forall) + \\sum_\\mathrm{sale}\\overline{\\rho}\\overline{\\beta}~\\overline{V}A - \\sum_\\mathrm{entra}\\overline{\\rho}\\overline{\\beta}~\\overline{V}A\n",
    "\\end{equation}"
   ]
  },
  {
   "cell_type": "markdown",
   "id": "28a8fcc1",
   "metadata": {
    "slideshow": {
     "slide_type": "slide"
    }
   },
   "source": [
    "## Ecuación de conservación de masa"
   ]
  },
  {
   "cell_type": "markdown",
   "id": "967351bc",
   "metadata": {},
   "source": [
    "### Formulación general"
   ]
  },
  {
   "cell_type": "markdown",
   "id": "f500a022",
   "metadata": {
    "cell_style": "center",
    "slideshow": {
     "slide_type": "fragment"
    }
   },
   "source": [
    "En el caso de la conservación de masa del sistema\n",
    "\n",
    "$$\\frac{d}{dt}m_\\mathrm{sys} = 0$$"
   ]
  },
  {
   "cell_type": "markdown",
   "id": "3c30466c",
   "metadata": {
    "cell_style": "center",
    "slideshow": {
     "slide_type": "fragment"
    }
   },
   "source": [
    "Aplicando el teorema de transporte de Reynold con $B_\\mathrm{sys} = m_\\mathrm{sys}$ y $\\beta = 1$, deducimos la ecuación de **conservación de masa para un volúmen de control**:\n",
    "\n",
    "\\begin{equation}\n",
    "0 = \\frac{d}{dt}\\int_\\mathrm{VC} \\rho d\\forall + \\int_\\mathrm{VC} \\rho\\vec{V}\\cdot\\hat{n}dA\n",
    "\\end{equation}"
   ]
  },
  {
   "cell_type": "markdown",
   "id": "23a84b1b",
   "metadata": {
    "slideshow": {
     "slide_type": "slide"
    }
   },
   "source": [
    "Lidiamos con la ecuación de conservación de masa a menúdo en nuestra vida cotidiana\n",
    "\n",
    "<img src=\"./figures/conservacion_masa_manguera.png\" width=\"700px\" align= center>"
   ]
  },
  {
   "cell_type": "markdown",
   "id": "6160ca54",
   "metadata": {
    "cell_style": "split",
    "slideshow": {
     "slide_type": "fragment"
    }
   },
   "source": [
    "Aplicando la ecuación de conservación de masa al ejemplo, tenemos:\n",
    "\n",
    "\\begin{equation*}\n",
    "0 = 0 + \\rho V_2 A_2 - \\rho V_1 A_1 \\Rightarrow \n",
    "V_2 = V_1 \\frac{A_1}{A_2}\n",
    "\\end{equation*}"
   ]
  },
  {
   "cell_type": "markdown",
   "id": "11cb34a4",
   "metadata": {
    "cell_style": "split",
    "slideshow": {
     "slide_type": "fragment"
    }
   },
   "source": [
    "Debido a que $A_1 > A_2$, entonces:\n",
    "\n",
    "\\begin{equation*}\n",
    "V_2 > V_1\n",
    "\\end{equation*}"
   ]
  },
  {
   "cell_type": "markdown",
   "id": "b69cbd12",
   "metadata": {
    "slideshow": {
     "slide_type": "slide"
    }
   },
   "source": [
    "### Variables relevantes\n",
    "\n",
    "Aprovechamos esta ecuación para definir algunas variables relevantes:"
   ]
  },
  {
   "cell_type": "markdown",
   "id": "d4554bb3",
   "metadata": {
    "slideshow": {
     "slide_type": "fragment"
    }
   },
   "source": [
    "**Caudal ($Q$),** se define como la tasa de cambio del volúmen de fluido que cruza un área, matemáticamente:\n",
    "\n",
    "\\begin{eqnarray}\n",
    "\\begin{split}\n",
    "Q &= \\int_A \\vec{V}\\cdot\\hat{n}dA&\\quad\\left(\\mathrm{\\frac{m^3}{s}}\\right) &\\quad\\mathrm{(fórmula~general)}\n",
    "\\\\\n",
    "Q &=  \\overline{V}A &\\quad\\left(\\mathrm{\\frac{m^3}{s}}\\right) &\\quad\\mathrm{(valores~promedio)}\n",
    "\\end{split}\n",
    "\\end{eqnarray}"
   ]
  },
  {
   "cell_type": "markdown",
   "id": "c3b62d2b",
   "metadata": {
    "slideshow": {
     "slide_type": "fragment"
    }
   },
   "source": [
    "**Flujo másico ($\\dot{m}$),** se define como la tasa de cambio de la mása que cruza un área, matemáticamente:\n",
    "\n",
    "\\begin{eqnarray}\n",
    "\\begin{split}\n",
    "\\dot{m} &= \\int_A \\rho \\vec{V}\\cdot\\hat{n}dA &\\quad\\left(\\mathrm{\\frac{kg}{s}}\\right) &\\quad\\mathrm{(fórmula~general)}\n",
    "\\\\\n",
    "\\dot{m} &= \\overline{\\rho} \\overline{V}A = \\rho Q &\\quad\\left(\\mathrm{\\frac{kg}{s}}\\right) &\\quad\\mathrm{(valores~promedio)}\n",
    "\\end{split}\n",
    "\\end{eqnarray}"
   ]
  },
  {
   "cell_type": "markdown",
   "id": "47eb2549",
   "metadata": {
    "slideshow": {
     "slide_type": "slide"
    }
   },
   "source": [
    "Si aplicamos esto considerando valores promedio y que la densidad dentro del volúmen de controle es uniforme, tenemos la siguiente expresión para la ecuación de conservación de masa:\n",
    "\n",
    "\\begin{equation}\n",
    "0 = \\frac{d}{d t} \\rho \\forall + \\sum_\\mathrm{sale}\\dot{m} - \\sum_\\mathrm{entra}\\dot{m}\n",
    "\\end{equation}"
   ]
  },
  {
   "cell_type": "markdown",
   "id": "b6baa7af",
   "metadata": {
    "slideshow": {
     "slide_type": "fragment"
    }
   },
   "source": [
    "En el caso de un fluido incompresible:\n",
    "\n",
    "\\begin{equation}\n",
    "0 = \\frac{d}{d t} \\forall + \\sum_\\mathrm{sale}Q - \\sum_\\mathrm{entra}Q\n",
    "\\end{equation}"
   ]
  },
  {
   "cell_type": "markdown",
   "id": "faf3c77a",
   "metadata": {
    "slideshow": {
     "slide_type": "slide"
    }
   },
   "source": [
    "### Ejemplo"
   ]
  },
  {
   "cell_type": "markdown",
   "id": "b587f3be",
   "metadata": {
    "cell_style": "split"
   },
   "source": [
    "Un tanque cilíndrico abierto a la atmósfera está lleno con agua. Al quitar el tapón de descarga, la velocidad promedio a la salida es $V = \\sqrt{2gh}$, donde $h$ es el nivel instantáneo de agua en el tanque\n",
    "medida desde el centro del agujero, y $g$ es la aceleración de gravedad. **Determíne el tiempo para que el nivel del agua descienda de $h_0$ hasta $h_2$.**"
   ]
  },
  {
   "cell_type": "markdown",
   "id": "2c4c5c93",
   "metadata": {
    "cell_style": "split",
    "slideshow": {
     "slide_type": "-"
    }
   },
   "source": [
    "<img src=\"./figures/estanque.png\" width=\"350px\" align= center>"
   ]
  },
  {
   "cell_type": "markdown",
   "id": "64792fcd",
   "metadata": {
    "slideshow": {
     "slide_type": "slide"
    }
   },
   "source": [
    "## Ecuación de conservación de momentum lineal"
   ]
  },
  {
   "cell_type": "markdown",
   "id": "f1706fcf",
   "metadata": {
    "slideshow": {
     "slide_type": "slide"
    }
   },
   "source": [
    "### Formulación general"
   ]
  },
  {
   "cell_type": "markdown",
   "id": "99a96446",
   "metadata": {},
   "source": [
    "Según la ley de Newton, la **ecuación de conservación de momento lineal,** es:\n",
    "\n",
    "\\begin{equation*}\n",
    "\\frac{d}{dt}(m\\vec{V})_\\mathrm{sys} = \\sum\\vec{F}_\\mathrm{ext}\n",
    "\\end{equation*}\n",
    "\n",
    "donde $\\vec{F}_\\mathrm{ext}$ representa la fuerza externa neta sobre el sistema."
   ]
  },
  {
   "cell_type": "markdown",
   "id": "b0581153",
   "metadata": {
    "slideshow": {
     "slide_type": "fragment"
    }
   },
   "source": [
    "Aplicamos el teorema de transporte de Reynolds considerando: \n",
    "- Propiedad intensiva del momento lineal, $\\beta = \\vec{V}$\n",
    "- Conservación de momento lineal aplicado al sistema $\\frac{d}{dt}B_\\mathrm{sys} = \\frac{d}{dt}(m\\vec{V})_\\mathrm{sys} = \\sum\\vec{F}_\\mathrm{ext}$."
   ]
  },
  {
   "cell_type": "markdown",
   "id": "fe51bbb7",
   "metadata": {
    "slideshow": {
     "slide_type": "slide"
    }
   },
   "source": [
    "La **ecuación de conservación de momento lineal para un V.C.** es:\n",
    "\n",
    "\\begin{equation}\n",
    "\\sum\\vec{F}_\\mathrm{ext} = \\frac{d}{dt}\\int_\\mathrm{VC} \\rho\\vec{V} d\\forall + \\int_\\mathrm{VC} \\rho\\vec{V}(\\vec{V}\\cdot\\hat{n})dA\n",
    "\\end{equation}\n",
    "\n",
    "*la suma de fuerzas externas aplicadas en un V.C. es igual a la tasa de cambio de momento lineal dentro del V.C. y al balance de momento lineal en la entrada y salida del V.C.*"
   ]
  },
  {
   "cell_type": "markdown",
   "id": "4c552b1b",
   "metadata": {
    "slideshow": {
     "slide_type": "fragment"
    }
   },
   "source": [
    "Si aplicamos esto considerando valores promedio y que la densidad dentro del volúmen de controle es uniforme, tenemos la siguiente expresión para la ecuación de conservación de masa:\n",
    "\n",
    "\\begin{equation}\n",
    "\\sum \\vec{F}_\\mathrm{ext} = \\frac{d}{d t} \\rho \\vec{V}\\forall + \\sum_\\mathrm{sale}\\dot{m}\\vec{V} - \\sum_\\mathrm{entra}\\dot{m}\\vec{V}\n",
    "\\end{equation}"
   ]
  },
  {
   "cell_type": "markdown",
   "id": "f01ba4e1",
   "metadata": {
    "slideshow": {
     "slide_type": "slide"
    }
   },
   "source": [
    "### Ejemplo"
   ]
  },
  {
   "cell_type": "markdown",
   "id": "012eb23e",
   "metadata": {
    "cell_style": "split"
   },
   "source": [
    "Un chorro de agua de velocidad $V_j$ incide perpendicularmente a una placa plana que se mueve hacia la derecha a velocidad $V_c$. **Calcule la fuerza necesaria para mantener la placa en movimiento a velocidad constante si la densidad del chorro es $1000~\\mathrm{kg/m^3}$, la sección del chorro es $3~\\mathrm{cm^2}$ y $V_j$ y $V_c$ son $20$ y $15~\\mathrm{m/s}$, respectivamente.** *Desprecie el peso del chorro y de la placa y suponga que el chorro se divide en dos chorros iguales,\n",
    "uno hacia arriba y otro hacia abajo.*"
   ]
  },
  {
   "cell_type": "markdown",
   "id": "adf9a616",
   "metadata": {
    "cell_style": "split",
    "slideshow": {
     "slide_type": "-"
    }
   },
   "source": [
    "<img src=\"./figures/momento_lineal_ejercicio.png\" width=\"350px\" align= center>"
   ]
  },
  {
   "cell_type": "markdown",
   "id": "33d3b1b6",
   "metadata": {
    "slideshow": {
     "slide_type": "slide"
    }
   },
   "source": [
    "## Referencias\n",
    "**Çengel Y. A. y Cimbala M. J. *Mecánica de Fluidos: Fundamentos y Aplicaciones*, 4ta Ed., McGraw Hill, 2018**\n",
    "- Capitulo 4.1: Descripciones lagrangiana y euleriana\n",
    "- Capítulo 4.6: Teorema de transporte de Reynolds\n",
    "- Capítulo 5.2: Conservación de la masa\n",
    "- Capítulo 6.1: Leyes de Newton\n",
    "- Capítulo 6.4: La ecuación de conservación de la canrtidad de movimiento lineal\n",
    "\n",
    "\n",
    "**White F. M. *Mecánica de Fluidos*, 5ta Ed., McGraw Hill, 2004**\n",
    "- Capítulo 3.1: Leyes básicas de la mecánica de fluidos\n",
    "- Capítulo 3.2: Teorema de transporte de Reynolds\n",
    "- Capítulo 3.3: Conservación de masa\n",
    "- Capítulo 3.4: Conservación de cantidad de movimiento"
   ]
  }
 ],
 "metadata": {
  "celltoolbar": "Slideshow",
  "kernelspec": {
   "display_name": "Python 3 (ipykernel)",
   "language": "python",
   "name": "python3"
  },
  "language_info": {
   "codemirror_mode": {
    "name": "ipython",
    "version": 3
   },
   "file_extension": ".py",
   "mimetype": "text/x-python",
   "name": "python",
   "nbconvert_exporter": "python",
   "pygments_lexer": "ipython3",
   "version": "3.10.8"
  },
  "latex_envs": {
   "LaTeX_envs_menu_present": true,
   "autoclose": false,
   "autocomplete": true,
   "bibliofile": "biblio.bib",
   "cite_by": "apalike",
   "current_citInitial": 1,
   "eqLabelWithNumbers": true,
   "eqNumInitial": 1,
   "hotkeys": {
    "equation": "Ctrl-E",
    "itemize": "Ctrl-I"
   },
   "labels_anchors": false,
   "latex_user_defs": false,
   "report_style_numbering": false,
   "user_envs_cfg": false
  },
  "rise": {
   "height": "100%",
   "theme": "simple",
   "width": "100%"
  },
  "toc": {
   "base_numbering": "1",
   "nav_menu": {},
   "number_sections": true,
   "sideBar": true,
   "skip_h1_title": true,
   "title_cell": "Contenidos",
   "title_sidebar": "Contenidos",
   "toc_cell": false,
   "toc_position": {
    "height": "calc(100% - 180px)",
    "left": "10px",
    "top": "150px",
    "width": "303.833px"
   },
   "toc_section_display": true,
   "toc_window_display": false
  },
  "varInspector": {
   "cols": {
    "lenName": 16,
    "lenType": 16,
    "lenVar": 40
   },
   "kernels_config": {
    "python": {
     "delete_cmd_postfix": "",
     "delete_cmd_prefix": "del ",
     "library": "var_list.py",
     "varRefreshCmd": "print(var_dic_list())"
    },
    "r": {
     "delete_cmd_postfix": ") ",
     "delete_cmd_prefix": "rm(",
     "library": "var_list.r",
     "varRefreshCmd": "cat(var_dic_list()) "
    }
   },
   "types_to_exclude": [
    "module",
    "function",
    "builtin_function_or_method",
    "instance",
    "_Feature"
   ],
   "window_display": false
  }
 },
 "nbformat": 4,
 "nbformat_minor": 5
}
