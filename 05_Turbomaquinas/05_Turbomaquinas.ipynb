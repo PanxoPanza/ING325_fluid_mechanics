{
 "cells": [
  {
   "cell_type": "markdown",
   "id": "4769825b",
   "metadata": {
    "slideshow": {
     "slide_type": "slide"
    }
   },
   "source": [
    "# Turbomáquinas"
   ]
  },
  {
   "cell_type": "markdown",
   "id": "02a4645d",
   "metadata": {
    "slideshow": {
     "slide_type": "slide"
    }
   },
   "source": [
    "## Introducción"
   ]
  },
  {
   "cell_type": "markdown",
   "id": "2d48dac4",
   "metadata": {
    "slideshow": {
     "slide_type": "fragment"
    }
   },
   "source": [
    "Definimos como **bomba** a cualquier máquina hidráulica que *entrega* energía a un fluido. Por otro lado, definimos como **turbina** a las máquinas que *extraen* energía de un fluido."
   ]
  },
  {
   "cell_type": "markdown",
   "id": "3f932ef2",
   "metadata": {},
   "source": [
    "<img src=\"./figures/bombas_vs_turbinas.png\" width=\"800px\" align= center>"
   ]
  },
  {
   "cell_type": "markdown",
   "id": "7f293ab7",
   "metadata": {
    "slideshow": {
     "slide_type": "slide"
    }
   },
   "source": [
    "En el caso de interacción de turbomáquinas con líquidos:\n",
    "\n",
    "- **La energía suministrada por bombas se manifiesta como un aumento de presión del fluido**. La velocidad del fluido no aumenta, necesariamente.\n",
    "\n",
    "- **La energía extraida por turbinas se manifiesta como un aumento de presión del fluido**. La velocidad del fluido no disminuye, necesariamente."
   ]
  },
  {
   "cell_type": "markdown",
   "id": "a7e474f6",
   "metadata": {
    "slideshow": {
     "slide_type": "slide"
    }
   },
   "source": [
    "En el caso de gases, la clasificación del tipo de bomba depende de la función:\n",
    "- **Ventilador** diseñado para aumentar el caudal ($\\Delta Q$, alto), con un aumento mínimo en la presión ($\\Delta P$, bajo).\n",
    "- **Compresor** diseñado para aumentar la presión ($\\Delta P$, alto), con bajo aumento en el caudal ($\\Delta Q$, bajo)."
   ]
  },
  {
   "cell_type": "markdown",
   "id": "53f01c9b",
   "metadata": {},
   "source": [
    "<img src=\"./figures/gas_pump.png\" width=\"800px\" align= center>"
   ]
  },
  {
   "cell_type": "markdown",
   "id": "860e0b3a",
   "metadata": {},
   "source": [
    "Similar, en el "
   ]
  },
  {
   "cell_type": "markdown",
   "id": "33d3b1b6",
   "metadata": {
    "slideshow": {
     "slide_type": "slide"
    }
   },
   "source": [
    "## Referencias\n",
    "**Çengel Y. A. y Cimbala M. J. *Mecánica de Fluidos: Fundamentos y Aplicaciones*, 4ta Ed., McGraw Hill, 2018**\n",
    "- Capitulo 5: Ecuaciones de Bernoulli y de la energía\n",
    "- Capítulo 8: Flujo en tuberías\n",
    "\n",
    "**White F. M. *Mecánica de Fluidos*, 5ta Ed., McGraw Hill, 2004**\n",
    "- Capítulo 3.6: Ecuación de la energía\n",
    "- Capítulo 3.7: Flujo sin fricción: La ecuación de Bernoulli\n",
    "- Capítulo 6: Flujo viscoso en conductos"
   ]
  }
 ],
 "metadata": {
  "celltoolbar": "Slideshow",
  "kernelspec": {
   "display_name": "Python 3 (ipykernel)",
   "language": "python",
   "name": "python3"
  },
  "language_info": {
   "codemirror_mode": {
    "name": "ipython",
    "version": 3
   },
   "file_extension": ".py",
   "mimetype": "text/x-python",
   "name": "python",
   "nbconvert_exporter": "python",
   "pygments_lexer": "ipython3",
   "version": "3.9.13"
  },
  "latex_envs": {
   "LaTeX_envs_menu_present": true,
   "autoclose": false,
   "autocomplete": true,
   "bibliofile": "biblio.bib",
   "cite_by": "apalike",
   "current_citInitial": 1,
   "eqLabelWithNumbers": true,
   "eqNumInitial": 1,
   "hotkeys": {
    "equation": "Ctrl-E",
    "itemize": "Ctrl-I"
   },
   "labels_anchors": false,
   "latex_user_defs": false,
   "report_style_numbering": false,
   "user_envs_cfg": false
  },
  "rise": {
   "height": "100%",
   "theme": "simple",
   "width": "100%"
  },
  "toc": {
   "base_numbering": "1",
   "nav_menu": {},
   "number_sections": true,
   "sideBar": true,
   "skip_h1_title": true,
   "title_cell": "Contenidos",
   "title_sidebar": "Contenidos",
   "toc_cell": false,
   "toc_position": {
    "height": "calc(100% - 180px)",
    "left": "10px",
    "top": "150px",
    "width": "303.833px"
   },
   "toc_section_display": true,
   "toc_window_display": false
  },
  "varInspector": {
   "cols": {
    "lenName": 16,
    "lenType": 16,
    "lenVar": 40
   },
   "kernels_config": {
    "python": {
     "delete_cmd_postfix": "",
     "delete_cmd_prefix": "del ",
     "library": "var_list.py",
     "varRefreshCmd": "print(var_dic_list())"
    },
    "r": {
     "delete_cmd_postfix": ") ",
     "delete_cmd_prefix": "rm(",
     "library": "var_list.r",
     "varRefreshCmd": "cat(var_dic_list()) "
    }
   },
   "types_to_exclude": [
    "module",
    "function",
    "builtin_function_or_method",
    "instance",
    "_Feature"
   ],
   "window_display": false
  }
 },
 "nbformat": 4,
 "nbformat_minor": 5
}
