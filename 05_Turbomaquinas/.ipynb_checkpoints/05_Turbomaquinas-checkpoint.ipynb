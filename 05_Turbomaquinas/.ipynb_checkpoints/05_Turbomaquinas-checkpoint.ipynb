{
 "cells": [
  {
   "cell_type": "markdown",
   "id": "4769825b",
   "metadata": {
    "slideshow": {
     "slide_type": "slide"
    }
   },
   "source": [
    "# Máquinas hidráulicas"
   ]
  },
  {
   "cell_type": "markdown",
   "id": "02a4645d",
   "metadata": {
    "slideshow": {
     "slide_type": "slide"
    }
   },
   "source": [
    "## Introducción"
   ]
  },
  {
   "cell_type": "markdown",
   "id": "2d48dac4",
   "metadata": {
    "slideshow": {
     "slide_type": "fragment"
    }
   },
   "source": [
    "Definimos como **bomba** a cualquier máquina hidráulica que *entrega* energía a un fluido. Por otro lado, definimos como **turbina** a las máquinas que *extraen* energía de un fluido."
   ]
  },
  {
   "cell_type": "markdown",
   "id": "3f932ef2",
   "metadata": {},
   "source": [
    "<img src=\"./figures/bombas_vs_turbinas.png\" width=\"800px\" align= center>"
   ]
  },
  {
   "cell_type": "markdown",
   "id": "7f293ab7",
   "metadata": {
    "slideshow": {
     "slide_type": "slide"
    }
   },
   "source": [
    "### Máquinas hidráulicas para líquidos\n",
    "En el caso de interacción con líquidos:\n",
    "\n",
    "- **La energía suministrada por bombas se manifiesta como un aumento de presión del fluido**. La velocidad del fluido no aumenta, necesariamente.\n",
    "\n",
    "- **La energía extraida por turbinas se manifiesta como un aumento de presión del fluido**. La velocidad del fluido no disminuye, necesariamente."
   ]
  },
  {
   "cell_type": "markdown",
   "id": "9d786a47",
   "metadata": {},
   "source": [
    "<img src=\"./figures/hydraulic_pump_turbine.png\" width=\"800px\" align= center>"
   ]
  },
  {
   "cell_type": "markdown",
   "id": "a7e474f6",
   "metadata": {
    "slideshow": {
     "slide_type": "slide"
    }
   },
   "source": [
    "### Máquinas hidráulicas para gases\n",
    "\n",
    "En el caso de gases, la clasificación del tipo de bomba depende de la función:\n",
    "- **Ventilador** diseñado para aumentar la velocidad ($V_\\mathrm{sale}\\gg V_\\mathrm{entra}$), con un aumento mínimo en la presión ($\\Delta P$, bajo).\n",
    "- **Compresor** diseñado para aumentar la presión ($\\Delta P$, alto), con bajo aumento en la velocidad ($V_\\mathrm{sale}\\sim V_\\mathrm{entra}$)."
   ]
  },
  {
   "cell_type": "markdown",
   "id": "57158b09",
   "metadata": {},
   "source": [
    "<img src=\"./figures/gas_pump.png\" width=\"800px\" align= center>"
   ]
  },
  {
   "cell_type": "markdown",
   "id": "2366e18b",
   "metadata": {
    "slideshow": {
     "slide_type": "slide"
    }
   },
   "source": [
    "En el caso de turbinas para gases, la transferencia de energía generalmente se manifiesta en una disminución de la velocidad.\n",
    "\n",
    "<img src=\"./figures/wind_turbine.png\" width=\"800px\" align= center>"
   ]
  },
  {
   "cell_type": "markdown",
   "id": "39ace571",
   "metadata": {
    "slideshow": {
     "slide_type": "slide"
    }
   },
   "source": [
    "### Clasificación de máquinas hidráulicas\n",
    "\n",
    "Existen dos grandes tipos de máquinas hidráulicas"
   ]
  },
  {
   "cell_type": "markdown",
   "id": "030b04bd",
   "metadata": {
    "slideshow": {
     "slide_type": "slide"
    }
   },
   "source": [
    "**Máquinas de desplazamiento positivo**\n",
    "El fluido se dirige hacia adentro de un *volúmen cerrado* deformable o con fronteras móviles, que permite la succión o impulsión del fluído."
   ]
  },
  {
   "cell_type": "markdown",
   "id": "7b0ae75c",
   "metadata": {
    "slideshow": {
     "slide_type": "fragment"
    }
   },
   "source": [
    "<img src=\"./figures/desplazamiento_positivo.png\" width=\"800px\" align= center>"
   ]
  },
  {
   "cell_type": "markdown",
   "id": "b736b0da",
   "metadata": {
    "slideshow": {
     "slide_type": "slide"
    }
   },
   "source": [
    "**Máquinas dinámicas** En este caso, el volúmen no es cerrrado. Los álabes rotatorios suministran energía al fluido o la extraen de él."
   ]
  },
  {
   "cell_type": "markdown",
   "id": "0580d881",
   "metadata": {
    "slideshow": {
     "slide_type": "fragment"
    }
   },
   "source": [
    "Ejemplos de máquinas dinámicas son las bombas centrífugas y las turbínas hidráulicas."
   ]
  },
  {
   "cell_type": "markdown",
   "id": "e96cca10",
   "metadata": {
    "slideshow": {
     "slide_type": "slide"
    }
   },
   "source": [
    "## Bombas"
   ]
  },
  {
   "cell_type": "markdown",
   "id": "8485a7cd",
   "metadata": {
    "slideshow": {
     "slide_type": "slide"
    }
   },
   "source": [
    "### Análisis teórico\n",
    "\n",
    "Los **parámetros fundamentales** para caracterizar una bomba son:"
   ]
  },
  {
   "cell_type": "markdown",
   "id": "42694894",
   "metadata": {
    "cell_style": "split"
   },
   "source": [
    "<img src=\"./figures/pump_analysis.png\" width=\"350px\" align= center>"
   ]
  },
  {
   "cell_type": "markdown",
   "id": "a6c63d6d",
   "metadata": {
    "cell_style": "split"
   },
   "source": [
    "- Gasto volumétrico, $Q = \\dot{m}/\\rho,\\quad(\\mathrm{m}^3/s)$\n",
    "\n",
    "- Carga hidrostática neta, $H_\\mathrm{b} \\approx \\Delta P/\\rho g,\\quad(\\mathrm{m})$\n",
    "\n",
    "- Potencia útil: $\n",
    "\\dot{W}_\\mathrm{util} = \\rho g QH_\\mathrm{b},\\quad(\\mathrm{W})$\n",
    "\n",
    "- Potencia al freno o de accionamiento $\\dot{W}_\\mathrm{bhp} = \\omega M_\\mathrm{flecha},\\quad(\\mathrm{W})$\n",
    "\n",
    "- Eficiencia de la bomba $\\eta_\\mathrm{bomba} = \\dot{W}_\\mathrm{util}/\\dot{W}_\\mathrm{bhp}$"
   ]
  },
  {
   "cell_type": "markdown",
   "id": "100416e9",
   "metadata": {
    "slideshow": {
     "slide_type": "slide"
    }
   },
   "source": [
    "Estos parámetros están interrelacionados, y cambian según el caudal a suministrar. La gráfica está representada por las **curvas de rendimiento**"
   ]
  },
  {
   "attachments": {},
   "cell_type": "markdown",
   "id": "8db80b3e",
   "metadata": {
    "cell_style": "split"
   },
   "source": [
    "<img src=\"./figures/curva_característica_bomba.png\" width=\"350px\" align= center>"
   ]
  },
  {
   "cell_type": "markdown",
   "id": "cf9e520f",
   "metadata": {
    "cell_style": "split"
   },
   "source": [
    "De está gráfica distinguimos tres puntos importantes:\n",
    "- Carga al cierre, $Q = 0$\n",
    "- Descarga libre, $H_b = 0$\n",
    "- Punto de máxima eficiencia o nominal, $\\mathrm{PME}$"
   ]
  },
  {
   "cell_type": "markdown",
   "id": "292dd8b5",
   "metadata": {
    "slideshow": {
     "slide_type": "slide"
    }
   },
   "source": [
    "En condiciones estacionarias, la bomba operará en su curva de rendimiento. Así, **el punto de operación** en un sistema de cañerías se determina cuando la **curva de demanda del sistema coincide con la curva de rendimiento de la bomba**. "
   ]
  },
  {
   "cell_type": "markdown",
   "id": "45b163f6",
   "metadata": {
    "cell_style": "split"
   },
   "source": [
    "<img src=\"./figures/punto_de_operacion.png\" width=\"350px\" align= center>"
   ]
  },
  {
   "cell_type": "markdown",
   "id": "4b803159",
   "metadata": {
    "cell_style": "split"
   },
   "source": [
    "En el punto de operación, la altura hidrostática necesaria para impulsar el fluido por las cañerías, $H_\\mathrm{necesaria}$ y la altura hidrostática disponible por la bomba, $H_\\mathrm{disponible}$\n",
    "\n",
    "\\begin{equation*}\n",
    "H_\\mathrm{necesaria} = H_\\mathrm{disponible}\n",
    "\\end{equation*}"
   ]
  },
  {
   "cell_type": "markdown",
   "id": "559d9909",
   "metadata": {
    "slideshow": {
     "slide_type": "slide"
    }
   },
   "source": [
    "Consideremos el siguiente ejemplo"
   ]
  },
  {
   "attachments": {},
   "cell_type": "markdown",
   "id": "be39b093",
   "metadata": {
    "cell_style": "split"
   },
   "source": [
    "<img src=\"./figures/ejemplo_punto_operacion.png\" width=\"400px\" align= center>"
   ]
  },
  {
   "cell_type": "markdown",
   "id": "67652380",
   "metadata": {
    "cell_style": "split",
    "slideshow": {
     "slide_type": "fragment"
    }
   },
   "source": [
    "Por balance de energía tenemos:\n",
    "\\begin{equation*}\n",
    "H_\\mathrm{b} = \\left(\\frac{V^2}{2g} + \\frac{P}{\\rho g} + z\\right)\\Bigg|_\\mathrm{~entra}^\\mathrm{~sale} + h_L\n",
    "\\end{equation*}"
   ]
  },
  {
   "cell_type": "markdown",
   "id": "f1ad744a",
   "metadata": {
    "cell_style": "split",
    "slideshow": {
     "slide_type": "fragment"
    }
   },
   "source": [
    "Considerando las condiciones a la entrada y salida, y la relación $Q = V_\\mathrm{sale}A_d$, donde $A_d$ es el área transversal del ducto:\n",
    "\n",
    "\\begin{equation*}\n",
    "H_\\mathrm{necesaria}(Q) = \\frac{Q^2}{2gA_d^2} + \\Delta z+\\left(f\\frac{L}{D}+\\sum_i K_i\\right)\\frac{Q^2}{2gA_d^2}\n",
    "\\end{equation*}"
   ]
  },
  {
   "cell_type": "markdown",
   "id": "6e5a45e4",
   "metadata": {
    "cell_style": "split",
    "slideshow": {
     "slide_type": "fragment"
    }
   },
   "source": [
    "Esta curva tiene la forma de una función cuadrática que aumenta con $Q$. El punto de operación estará en la intersección de esta curva con la curva de rendimiento de la bomba"
   ]
  },
  {
   "cell_type": "markdown",
   "id": "23e1b157",
   "metadata": {
    "slideshow": {
     "slide_type": "slide"
    }
   },
   "source": [
    "### Tipos de bombas"
   ]
  },
  {
   "cell_type": "markdown",
   "id": "66c8f1f5",
   "metadata": {
    "slideshow": {
     "slide_type": "slide"
    }
   },
   "source": [
    "#### Bombas de desplazamiento positivo\n",
    "Ideales cuando se necesitan altas presiones, como el bombeo de líquidos viscosos o mezclas, lodos, etc. También son útiles cuando se necesita despachar cantidades de líquido con precisión (aplicaciones médicas).\n",
    "\n",
    "<img src=\"./figures/Bombas_de_desplazamiento_positivo.png\" width=\"800px\" align= center>"
   ]
  },
  {
   "cell_type": "markdown",
   "id": "3b120ada",
   "metadata": {
    "slideshow": {
     "slide_type": "slide"
    }
   },
   "source": [
    "**Ventajas**\n",
    "- Menor esfuerzo cortante inducido (mejor para líquidos sensibles al esfuerzo cortante, como sangre)\n",
    "- Es capaz de elevar un líquido varios metros debajo de la bomba (bombas de autocebado)\n",
    "- Menor velocidad de funcionamiento lo que prolonga la vida útil de los sellos"
   ]
  },
  {
   "cell_type": "markdown",
   "id": "04002dcc",
   "metadata": {
    "slideshow": {
     "slide_type": "fragment"
    }
   },
   "source": [
    "**Desventajas**\n",
    "- Se requiere cambiar la velocidad de rotación para cambiar  V ̇ (difícil)\n",
    "- Muy sensible a fallas por bloqueo en el flujo. Se necesitan válvulas de seguridad"
   ]
  },
  {
   "cell_type": "markdown",
   "id": "e1a14302",
   "metadata": {},
   "source": [
    "#### Bombas dinámicas"
   ]
  },
  {
   "cell_type": "markdown",
   "id": "33d3b1b6",
   "metadata": {
    "slideshow": {
     "slide_type": "slide"
    }
   },
   "source": [
    "## Referencias\n",
    "**Çengel Y. A. y Cimbala M. J. *Mecánica de Fluidos: Fundamentos y Aplicaciones*, 4ta Ed., McGraw Hill, 2018**\n",
    "- Capitulo 5: Ecuaciones de Bernoulli y de la energía\n",
    "- Capítulo 8: Flujo en tuberías\n",
    "\n",
    "**White F. M. *Mecánica de Fluidos*, 5ta Ed., McGraw Hill, 2004**\n",
    "- Capítulo 3.6: Ecuación de la energía\n",
    "- Capítulo 3.7: Flujo sin fricción: La ecuación de Bernoulli\n",
    "- Capítulo 6: Flujo viscoso en conductos"
   ]
  }
 ],
 "metadata": {
  "celltoolbar": "Slideshow",
  "kernelspec": {
   "display_name": "Python 3 (ipykernel)",
   "language": "python",
   "name": "python3"
  },
  "language_info": {
   "codemirror_mode": {
    "name": "ipython",
    "version": 3
   },
   "file_extension": ".py",
   "mimetype": "text/x-python",
   "name": "python",
   "nbconvert_exporter": "python",
   "pygments_lexer": "ipython3",
   "version": "3.10.8"
  },
  "latex_envs": {
   "LaTeX_envs_menu_present": true,
   "autoclose": false,
   "autocomplete": true,
   "bibliofile": "biblio.bib",
   "cite_by": "apalike",
   "current_citInitial": 1,
   "eqLabelWithNumbers": true,
   "eqNumInitial": 1,
   "hotkeys": {
    "equation": "Ctrl-E",
    "itemize": "Ctrl-I"
   },
   "labels_anchors": false,
   "latex_user_defs": false,
   "report_style_numbering": false,
   "user_envs_cfg": false
  },
  "rise": {
   "height": "100%",
   "theme": "simple",
   "width": "100%"
  },
  "toc": {
   "base_numbering": "1",
   "nav_menu": {},
   "number_sections": true,
   "sideBar": true,
   "skip_h1_title": true,
   "title_cell": "Contenidos",
   "title_sidebar": "Contenidos",
   "toc_cell": false,
   "toc_position": {
    "height": "calc(100% - 180px)",
    "left": "10px",
    "top": "150px",
    "width": "303.833px"
   },
   "toc_section_display": true,
   "toc_window_display": false
  },
  "varInspector": {
   "cols": {
    "lenName": 16,
    "lenType": 16,
    "lenVar": 40
   },
   "kernels_config": {
    "python": {
     "delete_cmd_postfix": "",
     "delete_cmd_prefix": "del ",
     "library": "var_list.py",
     "varRefreshCmd": "print(var_dic_list())"
    },
    "r": {
     "delete_cmd_postfix": ") ",
     "delete_cmd_prefix": "rm(",
     "library": "var_list.r",
     "varRefreshCmd": "cat(var_dic_list()) "
    }
   },
   "types_to_exclude": [
    "module",
    "function",
    "builtin_function_or_method",
    "instance",
    "_Feature"
   ],
   "window_display": false
  }
 },
 "nbformat": 4,
 "nbformat_minor": 5
}
