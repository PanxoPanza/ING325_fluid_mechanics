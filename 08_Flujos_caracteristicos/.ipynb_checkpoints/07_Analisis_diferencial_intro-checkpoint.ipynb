{
 "cells": [
  {
   "cell_type": "markdown",
   "id": "4769825b",
   "metadata": {
    "slideshow": {
     "slide_type": "slide"
    }
   },
   "source": [
    "# Análisis diferencial de flujos"
   ]
  },
  {
   "cell_type": "markdown",
   "id": "56dcb86e",
   "metadata": {
    "slideshow": {
     "slide_type": "slide"
    }
   },
   "source": [
    "## Introducción\n",
    "\n",
    "Hasta ahora hemos utilizado un enfoque integral, donde aplicabamos las ecuaciones de convervación a un volumen de control. El análisis de volumen de control es útil cuando se esta interesado en las características globales de un flujo y los cuerpos con los que interactúa, por ejemplo: fuerzas de arrastre, energía de una bomba o turbina, velocidades promedio en un ducto, etc.\n",
    "\n",
    "<img src=\"./figures/intro_figure.png\" width=\"700px\" align= center>"
   ]
  },
  {
   "cell_type": "markdown",
   "id": "db126a22",
   "metadata": {
    "slideshow": {
     "slide_type": "slide"
    }
   },
   "source": [
    "El análisis diferencial, por otro lado, permite determinar las interacciones de un fluido con una estructura en cada punto dentro del volúmen de control."
   ]
  },
  {
   "cell_type": "markdown",
   "id": "8e60f1fd",
   "metadata": {
    "slideshow": {
     "slide_type": "fragment"
    }
   },
   "source": [
    "En esta unidad revisaremos los aspectos generales del análisis diferencial de flujos. Comenzaremos por revisar los aspectos básicos de cálculo vectorial y cinemática de fluidos. Luego derivaremos las ecuaciones de conservación de masa y momento lineal en su forma diferencial. Finalizaremos con las ecuaciones de Navier Stokes, que definen la piedra angular de la mecánica de fluidos"
   ]
  },
  {
   "cell_type": "markdown",
   "id": "109e2350",
   "metadata": {
    "slideshow": {
     "slide_type": "slide"
    }
   },
   "source": [
    "## Repaso de cálculo vectorial"
   ]
  },
  {
   "cell_type": "markdown",
   "id": "218f6818",
   "metadata": {
    "slideshow": {
     "slide_type": "fragment"
    }
   },
   "source": [
    "### Campo vectorial y escalar\n",
    "\n",
    "Como vimos en la [unidad 3](../03_Intro_dinamica_de_fluidos/03_Intro_dinamica_de_fluidos.ipynb) del curso, en el **análisis euleriano** de mecánica de fluidos trabajamos con *variables de campo*, es decir, variables que dependen del tiempo ($t$) y el espacio dentro del volumen de control ($x, y,z$). Las principales son:\n",
    "\n",
    "\\begin{align*}\n",
    "P(x,y,z,t) &\\quad\\quad\\mathrm{Campo~de~presión~(campo~escalar)}\\\\\n",
    "\\rho(x,y,z,t) &\\quad\\quad\\mathrm{Campo~de~densidad~(campo~escalar)}\\\\\n",
    "\\vec{V}(x,y,z,t) &\\quad\\quad\\mathrm{Campo~de~velocidad~(campo~vectorial)}\n",
    "\\end{align*}"
   ]
  },
  {
   "cell_type": "markdown",
   "id": "559ee46f",
   "metadata": {
    "slideshow": {
     "slide_type": "fragment"
    }
   },
   "source": [
    "Donde el campo de velocidad se define por la componente de tres vectores:\n",
    "\n",
    "\\begin{equation}\n",
    "\\vec{V} = u(x,y,z,t)~\\hat{x} + v(x,y,z,t)~\\hat{y} + w(x,y,z,t)~\\hat{z}\n",
    "\\end{equation}\n",
    "\n",
    "donde $u$, $v$ y $w$ son las componentes de la velocidad e direcciones $x$, $y$ y $z$, respectivamente."
   ]
  },
  {
   "cell_type": "markdown",
   "id": "e10f2118",
   "metadata": {
    "slideshow": {
     "slide_type": "slide"
    }
   },
   "source": [
    "### Operadores diferenciales\n",
    "\n",
    "Debido a la cantidad de variables independientes presentes en cada variable, es conveniente utilizar operadores para analizar tasas de cambio y otras caracteristicas de una variable de campo."
   ]
  },
  {
   "cell_type": "markdown",
   "id": "b32c6401",
   "metadata": {
    "slideshow": {
     "slide_type": "fragment"
    }
   },
   "source": [
    "Para esto definimos el operador $\\nabla$ o \"del\", como:\n",
    "\n",
    "\\begin{equation}\n",
    "\\nabla= \\left( \\hat{x}\\frac{\\partial }{\\partial x} + \\hat{y}\\frac{\\partial }{\\partial y} + \\hat{z}\\frac{\\partial }{\\partial z} \\right)\n",
    "\\end{equation}"
   ]
  },
  {
   "cell_type": "markdown",
   "id": "860a2b7d",
   "metadata": {
    "slideshow": {
     "slide_type": "fragment"
    }
   },
   "source": [
    "El operador $\\nabla$ es un *vector que aplica una derivada espacial a una variable de campo*. **La forma que toma este operador depende del tipo de variable y del producto vectorial aplicado.**"
   ]
  },
  {
   "cell_type": "markdown",
   "id": "ee3b05cb",
   "metadata": {
    "slideshow": {
     "slide_type": "slide"
    }
   },
   "source": [
    "Algunos ejemplos son:"
   ]
  },
  {
   "cell_type": "markdown",
   "id": "58a0a5e8",
   "metadata": {
    "slideshow": {
     "slide_type": "fragment"
    }
   },
   "source": [
    "#### Gradiente. $\\nabla(\\quad)$\n",
    "\n",
    "Es equivalente a la derivada de una función, pero en múltiples dimenciones. Permite identificar zonas de crecimiento o decrecimiento de una variable de campo."
   ]
  },
  {
   "cell_type": "markdown",
   "id": "15b815f3",
   "metadata": {
    "slideshow": {
     "slide_type": "fragment"
    }
   },
   "source": [
    "**Si el gradiente se aplica a un campo escalar, el resultado es un campo vectorial.** Por ejemplo, el gradiente de la densidad es:\n",
    "\n",
    "\\begin{equation}\n",
    "\\nabla \\rho= \\frac{\\partial \\rho}{\\partial x}\\hat{x} + \\frac{\\partial \\rho}{\\partial y}\\hat{y}+ \\frac{\\partial \\rho}{\\partial z}\\hat{z}\n",
    "\\end{equation}"
   ]
  },
  {
   "cell_type": "markdown",
   "id": "dccf1b9b",
   "metadata": {
    "slideshow": {
     "slide_type": "fragment"
    }
   },
   "source": [
    "**Si el gradiente se aplica a un campo vectorial, el resultado es un tensor de orden 2.** Por ejemplo, el gradiente de la velocidad es:\n",
    "\n",
    "\\begin{equation}\n",
    "\\nabla \\vec{V} = \n",
    "\\frac{\\partial \\vec{V}}{\\partial x}\\hat{x} + \\frac{\\partial \\vec{V}}{\\partial y}\\hat{y}+ \\frac{\\partial \\vec{V}}{\\partial z}\\hat{z}\n",
    "= \\begin{bmatrix}\n",
    "\\frac{\\partial u}{\\partial x} & \\frac{\\partial u}{\\partial y} & \\frac{\\partial u}{\\partial z} \\\\\n",
    "\\frac{\\partial v}{\\partial x} & \\frac{\\partial v}{\\partial y} & \\frac{\\partial v}{\\partial z} \\\\\n",
    "\\frac{\\partial w}{\\partial x} & \\frac{\\partial w}{\\partial y} & \\frac{\\partial w}{\\partial z} \n",
    "\\end{bmatrix}\n",
    "\\end{equation}"
   ]
  },
  {
   "cell_type": "markdown",
   "id": "882f258f",
   "metadata": {
    "slideshow": {
     "slide_type": "slide"
    }
   },
   "source": [
    "#### Divergente. $\\nabla\\cdot(\\quad)$\n",
    "\n",
    "**Solo se aplica a campos vectoriales**. Se define como el producto punto entre el operador Del y un campo vectorial:\n",
    "\n",
    "\\begin{equation}\n",
    "\\nabla \\cdot \\vec{V}= \\frac{\\partial u}{\\partial x} + \\frac{\\partial v}{\\partial y} + \\frac{\\partial w}{\\partial z}\n",
    "\\end{equation}"
   ]
  },
  {
   "cell_type": "markdown",
   "id": "1f99f115",
   "metadata": {
    "slideshow": {
     "slide_type": "fragment"
    }
   },
   "source": [
    "El divergente permite medir cuanto un campo vectorial diverge o converge respecto de un punto en cuestión."
   ]
  },
  {
   "cell_type": "markdown",
   "id": "e3a596c5",
   "metadata": {
    "slideshow": {
     "slide_type": "slide"
    }
   },
   "source": [
    "Por ejemplo:\n",
    "\n",
    "<img src=\"./figures/divergence.jpg\" width=\"71%\" align= center>\n",
    "\n",
    "(a) $\\nabla\\cdot\\vec{V} \\gt 0$\n",
    "\n",
    "(b) $\\nabla\\cdot\\vec{V} = 0$\n",
    "\n",
    "(c) $\\nabla\\cdot\\vec{V} \\gt 0$"
   ]
  },
  {
   "cell_type": "markdown",
   "id": "f61f7480",
   "metadata": {
    "slideshow": {
     "slide_type": "slide"
    }
   },
   "source": [
    "#### Rotacional. $\\nabla\\times(\\quad)$ \n",
    "\n",
    "Solo se aplica a campos vectoriales. Se define como el producto cruz entre el operador Del y un campo vectorial:\n",
    "\n",
    "\\begin{equation}\n",
    "\\nabla \\times \\vec{V}= \n",
    "\\left(\\frac{\\partial w}{\\partial y} - \\frac{\\partial v}{\\partial z}\\right)\\hat{x}+\n",
    "\\left(\\frac{\\partial u}{\\partial z} - \\frac{\\partial w}{\\partial x}\\right)\\hat{y}+\n",
    "\\left(\\frac{\\partial v}{\\partial x} - \\frac{\\partial u}{\\partial y}\\right)\\hat{z}\n",
    "\\end{equation}"
   ]
  },
  {
   "cell_type": "markdown",
   "id": "c5231593",
   "metadata": {
    "slideshow": {
     "slide_type": "fragment"
    }
   },
   "source": [
    "El rotacional una medida de cuanto un campo vectorial rota respecto de un punto en cuestión. "
   ]
  },
  {
   "cell_type": "markdown",
   "id": "962bd49e",
   "metadata": {
    "slideshow": {
     "slide_type": "slide"
    }
   },
   "source": [
    "Por ejemplo:\n",
    "\n",
    "<img src=\"./figures/curl.jpg\" width=\"650\"  align= center>\n",
    "\n",
    "(a) $\\nabla\\times\\vec{V} \\gt 0$\n",
    "\n",
    "(b) $\\nabla\\times\\vec{V} \\gt 0$\n",
    "\n",
    ">Notar que en la figura, el divergente, $\\nabla\\cdot\\vec{V} = 0$ en todos los casos."
   ]
  },
  {
   "cell_type": "markdown",
   "id": "f31ea16e",
   "metadata": {
    "slideshow": {
     "slide_type": "slide"
    }
   },
   "source": [
    "## Fundamentos de la cinemática de fluidos"
   ]
  },
  {
   "cell_type": "markdown",
   "id": "8be5ebb1",
   "metadata": {
    "slideshow": {
     "slide_type": "slide"
    }
   },
   "source": [
    "### Derivada material\n",
    "\n",
    "En el enfoque euleriano las variables dependen del tiempo y del espacio. Así, debemos definir un nuevo operador para evaluar la tasa de cambio de una variable. Este operador será equivalente a la derivada temporal $d/dt$ utilizado en el enfoque lagranfiano."
   ]
  },
  {
   "cell_type": "markdown",
   "id": "406f7a40",
   "metadata": {
    "slideshow": {
     "slide_type": "slide"
    }
   },
   "source": [
    "Analicemos, por ejemplo, la aceleración ($\\vec{a}$) de una partícula de fluido considerando ambos enfoques."
   ]
  },
  {
   "cell_type": "markdown",
   "id": "6907734a",
   "metadata": {
    "slideshow": {
     "slide_type": "fragment"
    }
   },
   "source": [
    "- Según el **enfoque lagrangiano**, la aceleración de una partícula con velocidad $\\vec{V}$, es: $\\vec{a} = \\frac{d \\vec{V}}{dt}$"
   ]
  },
  {
   "cell_type": "markdown",
   "id": "368a6ec9",
   "metadata": {
    "slideshow": {
     "slide_type": "fragment"
    }
   },
   "source": [
    "- Según el **enfoque euleriano**, la aceleración de una partícual en un volumen de control:\n",
    "\n",
    "\\begin{align}\n",
    "\\vec{a}=\\frac{d\\vec{V}}{dt} &= \\frac{\\partial \\vec{V}}{\\partial t}\\frac{dt}{dt} +\n",
    "        \\frac{\\partial \\vec{V}}{\\partial x}\\frac{dx}{dt}\n",
    "        +\n",
    "        \\frac{\\partial \\vec{V}}{\\partial y}\\frac{dy}{dt}\n",
    "        +\n",
    "        \\frac{\\partial \\vec{V}}{\\partial z}\\frac{dz}{dt} \\notag\\\\\n",
    "        &= \\frac{\\partial \\vec{V}}{\\partial t} \n",
    "        +\n",
    "        u\\frac{\\partial \\vec{V}}{\\partial x}\n",
    "        +\n",
    "        v\\frac{\\partial \\vec{V}}{\\partial y}\n",
    "        +\n",
    "        w\\frac{\\partial \\vec{V}}{\\partial z}  \\notag\\\\\n",
    "        &= \\frac{\\partial \\vec{V}}{\\partial t} \n",
    "        +\n",
    "        \\vec{V}\\cdot\\nabla\\vec{V}\n",
    "\\end{align}"
   ]
  },
  {
   "cell_type": "markdown",
   "id": "0a46eb0c",
   "metadata": {
    "slideshow": {
     "slide_type": "slide"
    }
   },
   "source": [
    "Hemos definido un nuevo operador, denominado **derivada material (o sustancial), $\\frac{D}{Dt}$ o $\\frac{d}{dt}$** que describe la *variación temporal de una partícula de fluido a medida que se mueve por el campo de flujo:*\n",
    "\n",
    "\\begin{equation}\n",
    "\\frac{d}{dt}(\\quad) = \\frac{\\partial}{\\partial t}(\\quad) + \\vec{V}\\cdot\\nabla(\\quad)\n",
    "\\end{equation}"
   ]
  },
  {
   "cell_type": "markdown",
   "id": "e34ba35c",
   "metadata": {
    "slideshow": {
     "slide_type": "fragment"
    }
   },
   "source": [
    "- El término $\\frac{\\partial}{\\partial t}(\\quad)$ se denomina **variación temporal local y *es cero para flujos estacionarios.***"
   ]
  },
  {
   "cell_type": "markdown",
   "id": "1e286680",
   "metadata": {
    "slideshow": {
     "slide_type": "fragment"
    }
   },
   "source": [
    "- El término $\\vec{V}\\cdot\\nabla(\\quad)$, se denomina **término convectivo, *este término puede ser diferente de cero inclusive para flujos estacionarios***"
   ]
  },
  {
   "cell_type": "markdown",
   "id": "a7197330",
   "metadata": {
    "slideshow": {
     "slide_type": "fragment"
    }
   },
   "source": [
    "La derivada material se puede aplicar a otras propiedades de fluidos, como por ejemplo, la densidad:\n",
    "\n",
    "\\begin{equation*}\n",
    "\\frac{d\\rho}{dt} = \\frac{\\partial\\rho}{\\partial t} + \\vec{V}\\cdot\\nabla\\rho\n",
    "\\end{equation*}"
   ]
  },
  {
   "cell_type": "markdown",
   "id": "9481749f",
   "metadata": {
    "slideshow": {
     "slide_type": "slide"
    }
   },
   "source": [
    "### Tipos de movimiento o deformación de un elemento fluido\n",
    "\n",
    "Un elemento fluido puede pasar por cuatro tipos fundamentales de movimiento."
   ]
  },
  {
   "cell_type": "markdown",
   "id": "d41b1e7f",
   "metadata": {},
   "source": [
    "<img src=\"./figures/movimiento_fluido.png\" width=\"750px\" align= center>"
   ]
  },
  {
   "cell_type": "markdown",
   "id": "db941fdc",
   "metadata": {
    "slideshow": {
     "slide_type": "fragment"
    }
   },
   "source": [
    "La **traslación** está simplemente dada por $\\vec{V}$."
   ]
  },
  {
   "cell_type": "markdown",
   "id": "50e32ce5",
   "metadata": {
    "slideshow": {
     "slide_type": "fragment"
    }
   },
   "source": [
    "La **razón de rotación** está caracterizada como el promedio del operador rotacional, on $\\omega = \\frac{1}{2}\\nabla\\times \\vec{V}$"
   ]
  },
  {
   "cell_type": "markdown",
   "id": "eed2c98c",
   "metadata": {
    "slideshow": {
     "slide_type": "slide"
    }
   },
   "source": [
    "En el caso de los esfuerzos, utilizamos un **tensor de deformación**:\n",
    "\n",
    "\\begin{equation}\n",
    "\\bar{\\varepsilon} = \\frac{1}{2}\\left[\\left(\\nabla\\vec{V}\\right) + \\left(\\nabla\\vec{V}\\right)^T \\right] \n",
    "\\end{equation}"
   ]
  },
  {
   "cell_type": "markdown",
   "id": "30da8fd2",
   "metadata": {
    "slideshow": {
     "slide_type": "fragment"
    }
   },
   "source": [
    "En coordenadas cartesianas:\n",
    "\n",
    "\\begin{equation*}\n",
    "\\bar{\\varepsilon} =\n",
    "\\begin{bmatrix}\n",
    "\\varepsilon_{xx} & \\varepsilon_{xy} & \\varepsilon_{xz} \\\\\n",
    "\\varepsilon_{yx} & \\varepsilon_{yy} & \\varepsilon_{yz} \\\\\n",
    "\\varepsilon_{zx} & \\varepsilon_{zy} & \\varepsilon_{zz}\n",
    "\\end{bmatrix} = \n",
    "\\begin{bmatrix}\n",
    "\\frac{\\partial u}{\\partial x} & \n",
    "\\frac{1}{2}\\left(\\frac{\\partial u}{\\partial y} + \\frac{\\partial v}{\\partial x}\\right) & \n",
    "\\frac{1}{2}\\left(\\frac{\\partial u}{\\partial z} + \\frac{\\partial w}{\\partial x}\\right) \n",
    "\\\\\n",
    "\\frac{1}{2}\\left(\\frac{\\partial v}{\\partial x} + \\frac{\\partial u}{\\partial y}\\right) & \n",
    "\\frac{\\partial v}{\\partial y} & \n",
    "\\frac{1}{2}\\left(\\frac{\\partial v}{\\partial z}  + \\frac{\\partial w}{\\partial y}\\right)\n",
    "\\\\\n",
    "\\frac{1}{2}\\left(\\frac{\\partial w}{\\partial x} + \\frac{\\partial u}{\\partial z}\\right) & \n",
    "\\frac{1}{2}\\left(\\frac{\\partial w}{\\partial y} + \\frac{\\partial v}{\\partial z}\\right) & \n",
    "\\frac{\\partial w}{\\partial z}\n",
    "\\end{bmatrix}\n",
    "\\end{equation*}"
   ]
  },
  {
   "cell_type": "markdown",
   "id": "a00a6e39",
   "metadata": {
    "slideshow": {
     "slide_type": "fragment"
    }
   },
   "source": [
    "Los **elementos de la diagonal** ($\\varepsilon_{xx}$, $\\varepsilon_{yy}$ y $\\varepsilon_{zz}$) representan la **deformación por esfuerzos normales**. El **resto de los elementos**, corresponde a la **deformación por esfuerzos cortantes**."
   ]
  },
  {
   "cell_type": "markdown",
   "id": "a92f519c",
   "metadata": {
    "slideshow": {
     "slide_type": "slide"
    }
   },
   "source": [
    "## Ecuaciones de conservación en forma diferencial\n",
    "\n",
    "A partir de los conceptos revisados anteriormente podemos intepretar los patrones de flujo y perfiles de velocidad que caracterizan la interacción de un fluido con una estructura"
   ]
  },
  {
   "cell_type": "markdown",
   "id": "2424196b",
   "metadata": {
    "slideshow": {
     "slide_type": "fragment"
    }
   },
   "source": [
    "<img src=\"./figures/Ejemplo_CFD.png\" width=\"800px\" align= center>"
   ]
  },
  {
   "cell_type": "markdown",
   "id": "3deb4c89",
   "metadata": {
    "slideshow": {
     "slide_type": "fragment"
    }
   },
   "source": [
    "A continuación derivaremos las ecuaciones diferenciales que gobiernan estos patrones de flujo."
   ]
  },
  {
   "cell_type": "markdown",
   "id": "904ecc18",
   "metadata": {
    "slideshow": {
     "slide_type": "slide"
    }
   },
   "source": [
    "La derivación de cada ecuación fundamental puede ser realizado de dos formas:"
   ]
  },
  {
   "cell_type": "markdown",
   "id": "027fdf39",
   "metadata": {
    "slideshow": {
     "slide_type": "fragment"
    }
   },
   "source": [
    "- Mediante un balance en un volúmen de control diferencial (revisar referencias)\n",
    "- Utilizando el *teorema de Gauss* o *teorema de la divergencia* que establece: \n",
    "    >*la integral en una superficie cerrada $S$ de un campo vectorial $\\vec{f}$ es igual a la integral de la divergencia de $\\vec{f}$ sobre un volumen $V$ dentro de la superficie*\n",
    "\n",
    "    Matemáticamente:\n",
    "    \\begin{equation}\n",
    "    \\oint_A \\vec{f}\\cdot\\hat{n} dA = \\int_V \\nabla\\cdot \\vec{f} d\\forall\n",
    "    \\end{equation}"
   ]
  },
  {
   "cell_type": "markdown",
   "id": "3b79c7ff",
   "metadata": {
    "slideshow": {
     "slide_type": "slide"
    }
   },
   "source": [
    "### Ecuación de conservación de masa (continuidad)"
   ]
  },
  {
   "cell_type": "markdown",
   "id": "5be8692f",
   "metadata": {
    "slideshow": {
     "slide_type": "slide"
    }
   },
   "source": [
    "Comenzamos con la ecuación de conservación de masa aplicado sobre un volumen de control fijo e indeformable:"
   ]
  },
  {
   "cell_type": "markdown",
   "id": "480642f6",
   "metadata": {
    "slideshow": {
     "slide_type": "fragment"
    }
   },
   "source": [
    "\\begin{align*}\n",
    "0 &= \\frac{d}{dt}\\int_\\mathrm{VC} \\rho d\\forall + \\int_\\mathrm{VC} \\rho\\vec{V}\\cdot\\hat{n}dA \n",
    "\\\\[5pt]\n",
    "0 &= \\int_\\mathrm{VC} \\frac{\\partial\\rho}{\\partial t} d\\forall + \\int_\\mathrm{VC} \\nabla\\cdot\\left(\\rho\\vec{V} \\right) d\\forall  \n",
    "\\\\[5pt]\n",
    "0 &= \\int_\\mathrm{VC} \\left[\\frac{\\partial\\rho}{\\partial t} + \\nabla\\cdot\\left(\\rho\\vec{V} \\right) \\right]d\\forall \n",
    "\\end{align*}"
   ]
  },
  {
   "cell_type": "markdown",
   "id": "a14e5e08",
   "metadata": {
    "slideshow": {
     "slide_type": "slide"
    }
   },
   "source": [
    "Para satisfacer esta ecuación el integrando debe ser cero. Después de unas operaciones matemáticas, derivamos la **ecuación de conservación de masa en su forma diferencial**:\n",
    "\\begin{equation}\n",
    "\\frac{d\\rho}{dt} + \\rho\\left(\\nabla\\cdot\\vec{V}\\right) = 0\n",
    "\\end{equation}"
   ]
  },
  {
   "cell_type": "markdown",
   "id": "4a99411a",
   "metadata": {
    "slideshow": {
     "slide_type": "fragment"
    }
   },
   "source": [
    "Esta ecuación también se conoce como la **ecuación de continuidad**."
   ]
  },
  {
   "cell_type": "markdown",
   "id": "219f4430",
   "metadata": {
    "slideshow": {
     "slide_type": "slide"
    }
   },
   "source": [
    "### Ecuación de conservación de momento lineal"
   ]
  },
  {
   "cell_type": "markdown",
   "id": "f753c672",
   "metadata": {
    "slideshow": {
     "slide_type": "fragment"
    }
   },
   "source": [
    "Podemos aplicar el mismo criterio sobre la ecuación de conservación de momento lineal:\n",
    "\n",
    "\\begin{align}\n",
    "\\sum\\vec{F}_\\mathrm{ext} &= \\frac{d}{dt}\\int_\\mathrm{VC} \\rho\\vec{V} d\\forall + \\int_\\mathrm{VC} \\rho\\vec{V}(\\vec{V}\\cdot\\hat{n})dA \\notag\n",
    "\\\\\n",
    " &= \\int_\\mathrm{VC} \\left[\\frac{\\partial}{\\partial t}\\left(\\rho\\vec{V}\\right)  + \\nabla\\cdot\\left(\\rho\\vec{V}\\vec{V}\\right)\\right]d\\forall\n",
    "\\end{align}"
   ]
  },
  {
   "cell_type": "markdown",
   "id": "fc5e23cd",
   "metadata": {
    "slideshow": {
     "slide_type": "slide"
    }
   },
   "source": [
    "Como vimos en la [unidad 6](../06_Flujo_externo/06_Flujo_externo.ipynb), la fuerza externa sobre un volumen de control es el resultado de la distribución de presiones y tensiones de corte. Matemáticamente: \n",
    "\n",
    "\\begin{equation}\n",
    "\\sum\\vec{F}_\\mathrm{ext} = - \\int_A p~\\hat{n}dA + \\int_A \\bar{\\tau}\\cdot\\hat{n}dA  + \\int_\\mathrm{VC} \\rho\\vec{g}d\\forall\n",
    "\\end{equation}"
   ]
  },
  {
   "cell_type": "markdown",
   "id": "4d950637",
   "metadata": {
    "slideshow": {
     "slide_type": "fragment"
    }
   },
   "source": [
    "Donde $\\bar{\\tau}$ es el **tensor de esfuerzos**\n",
    "\n",
    "\\begin{equation}\n",
    "\\bar{\\tau} =\n",
    "\\begin{bmatrix}\n",
    "\\tau_{xx} & \\tau_{xy} & \\tau_{xz} \\\\\n",
    "\\tau_{yx} & \\tau_{yy} & \\tau_{yz} \\\\\n",
    "\\tau_{zx} & \\tau_{zy} & \\tau_{zz}\n",
    "\\end{bmatrix}\n",
    "\\end{equation}"
   ]
  },
  {
   "cell_type": "markdown",
   "id": "56026f5b",
   "metadata": {
    "slideshow": {
     "slide_type": "fragment"
    }
   },
   "source": [
    "Usando el teorema de la divergencia, podemos reordenar la expresión (7.13) como:\n",
    "\n",
    "\\begin{equation}\n",
    "\\sum\\vec{F}_\\mathrm{ext} = \\int_\\mathrm{VC} \\left[\\nabla\\cdot\\left( - p\\bar{I} + \\bar{\\tau}\\right)  + \\rho\\vec{g}\\right]d\\forall \n",
    "\\end{equation}\n",
    "\n",
    "donde $\\bar{I}$ es el tensor identidad."
   ]
  },
  {
   "cell_type": "markdown",
   "id": "31a796d2",
   "metadata": {
    "slideshow": {
     "slide_type": "slide"
    }
   },
   "source": [
    "Combinando las ecuaciones (7.12) y (7.16), tenemos:\n",
    "\n",
    "\\begin{equation*}\n",
    "\\frac{\\partial}{\\partial t}\\left(\\rho\\vec{V}\\right)  + \\nabla\\cdot\\left(\\rho\\vec{V}\\vec{V}\\right) = - \\nabla p + \\nabla\\cdot\\bar{\\tau} +  \\rho\\vec{g}\n",
    "\\end{equation*}"
   ]
  },
  {
   "cell_type": "markdown",
   "id": "16156000",
   "metadata": {
    "slideshow": {
     "slide_type": "fragment"
    }
   },
   "source": [
    "El termino de la izquierda se puede simplificar a partir de la ecuación de continuidad (7.11) para, finalmente, derivar la **ecuación de conservación de momento lineal en su forma diferencial**:\n",
    "\n",
    "\\begin{equation}\n",
    "\\rho\\frac{d\\vec{V}}{dt} = - \\nabla p + \\nabla\\cdot\\bar{\\tau} + \\rho\\vec{g}\n",
    "\\end{equation}"
   ]
  },
  {
   "cell_type": "markdown",
   "id": "4b0a2cbf",
   "metadata": {
    "slideshow": {
     "slide_type": "fragment"
    }
   },
   "source": [
    "Esta ecuación también se conoce como la **Ecuación de Cauchy.**"
   ]
  },
  {
   "cell_type": "markdown",
   "id": "f152d82f",
   "metadata": {
    "slideshow": {
     "slide_type": "slide"
    }
   },
   "source": [
    "## Ecuacion de Navier-Stokes"
   ]
  },
  {
   "cell_type": "markdown",
   "id": "ac80a1c3",
   "metadata": {
    "slideshow": {
     "slide_type": "fragment"
    }
   },
   "source": [
    "En el caso particular de un flujo incompresible, la ecuación de coservación de masa es:\n",
    "\n",
    "\\begin{equation}\n",
    "\\nabla\\cdot\\vec{V} = 0\n",
    "\\end{equation}"
   ]
  },
  {
   "cell_type": "markdown",
   "id": "bb1f9ad9",
   "metadata": {
    "slideshow": {
     "slide_type": "slide"
    }
   },
   "source": [
    "Si el fluido es newtoniano, el tensor esfuerzos de corte es directamente proporcional a la razón de deformación:\n",
    "\n",
    "\\begin{equation}\n",
    "\\bar{\\tau} = 2\\mu \\bar{\\varepsilon}= \\mu\\left[\\left(\\nabla\\vec{V}\\right) + \\left(\\nabla\\vec{V}\\right)^T \\right]\n",
    "\\end{equation}"
   ]
  },
  {
   "cell_type": "markdown",
   "id": "1953b2a5",
   "metadata": {
    "slideshow": {
     "slide_type": "fragment"
    }
   },
   "source": [
    "Es posible demostrar que:\n",
    "\\begin{align*}\n",
    "\\nabla\\cdot\\bar{\\tau} = \\mu\\left[\\nabla^2\\vec{V} + \\vec{V}\\left(\\nabla\\cdot\\vec{V}\\right)\\right]\n",
    "\\end{align*}"
   ]
  },
  {
   "cell_type": "markdown",
   "id": "3167b3bb",
   "metadata": {
    "slideshow": {
     "slide_type": "slide"
    }
   },
   "source": [
    "A partir de esta relación, en combinación con la ecuación (7.17), la ecuación de convervación de momento lineal es:\n",
    "\n",
    "\\begin{equation}\n",
    "\\rho\\frac{d\\vec{V}}{dt} = - \\nabla p + \\mu\\nabla^2\\vec{V} + \\rho\\vec{g}\n",
    "\\end{equation}"
   ]
  },
  {
   "cell_type": "markdown",
   "id": "19ed5af9",
   "metadata": {
    "slideshow": {
     "slide_type": "fragment"
    }
   },
   "source": [
    "Esta es la **ecuacion de Navier-Stokes.** Corresponde a una ecuación diferencial parcial de segundo orden, no lineal y no estacionaria. Debido a su complejidad es muy dificil de resolver de forma analítica, y solo se conocen algunas soluciones que revisaremos en la unidad 7."
   ]
  },
  {
   "cell_type": "markdown",
   "id": "3ff2270f",
   "metadata": {
    "slideshow": {
     "slide_type": "fragment"
    }
   },
   "source": [
    "Notar que la ecuación de Navier Stokes es una ecuación vectorial y por lo tanto, está conformada por 3 ecuaciones. "
   ]
  },
  {
   "cell_type": "markdown",
   "id": "23c72407",
   "metadata": {
    "slideshow": {
     "slide_type": "fragment"
    }
   },
   "source": [
    "Sin embargo, el problema de fluidos tiene 4 incognitas $p$, $u$, $v$ y $w$. La cuarta ecuación viene de la ecuación de continuidad para flujo incompresible."
   ]
  },
  {
   "cell_type": "markdown",
   "id": "6a80d8fb",
   "metadata": {
    "slideshow": {
     "slide_type": "slide"
    }
   },
   "source": [
    "### Navier-Stokes en coordenadas cartesianas"
   ]
  },
  {
   "cell_type": "markdown",
   "id": "486ce942",
   "metadata": {
    "slideshow": {
     "slide_type": "fragment"
    }
   },
   "source": [
    "**Encuación de continuidad flujo incompresible**\n",
    "\n",
    "\\begin{equation*}\n",
    "\\frac{\\partial u}{\\partial x} + \\frac{\\partial v}{\\partial y} + \\frac{\\partial w}{\\partial z} = 0\n",
    "\\end{equation*}"
   ]
  },
  {
   "cell_type": "markdown",
   "id": "f7013ba6",
   "metadata": {
    "slideshow": {
     "slide_type": "fragment"
    }
   },
   "source": [
    "**Navier-Stokes**\n",
    "\n",
    "\\begin{align*}\n",
    "\\rho \\left(\\frac{\\partial u}{\\partial t} + u\\frac{\\partial u}{\\partial x} + v\\frac{\\partial u}{\\partial y} + w\\frac{\\partial u}{\\partial z}\\right) &= -\\frac{\\partial p}{\\partial x} + \\mu \\left(\\frac{\\partial^2 u}{\\partial x^2} + \\frac{\\partial^2 u}{\\partial y^2} + \\frac{\\partial^2 u}{\\partial z^2}\\right) + g_x\n",
    "\\\\\n",
    "\\rho \\left(\\frac{\\partial v}{\\partial t} + u\\frac{\\partial v}{\\partial x} + v\\frac{\\partial v}{\\partial y} + w\\frac{\\partial v}{\\partial z}\\right) &= -\\frac{\\partial p}{\\partial y} + \\mu \\left(\\frac{\\partial^2 v}{\\partial x^2} + \\frac{\\partial^2 v}{\\partial y^2} + \\frac{\\partial^2 v}{\\partial z^2}\\right) + g_y\n",
    "\\\\\n",
    "\\rho \\left(\\frac{\\partial w}{\\partial t} + u\\frac{\\partial w}{\\partial x} + v\\frac{\\partial w}{\\partial y} + w\\frac{\\partial w}{\\partial z}\\right) &= -\\frac{\\partial p}{\\partial z} + \\mu \\left(\\frac{\\partial^2 w}{\\partial x^2} + \\frac{\\partial^2 w}{\\partial y^2} + \\frac{\\partial^2 w}{\\partial z^2}\\right) + g_z\n",
    "\\end{align*}\n"
   ]
  },
  {
   "cell_type": "markdown",
   "id": "62916f63",
   "metadata": {
    "slideshow": {
     "slide_type": "slide"
    }
   },
   "source": [
    "### Navier-Stokes en coordenadas cilindricas"
   ]
  },
  {
   "cell_type": "markdown",
   "id": "436e24dc",
   "metadata": {
    "slideshow": {
     "slide_type": "fragment"
    }
   },
   "source": [
    "**Encuación de continuidad flujo incompresible**\n",
    "\n",
    "\\begin{equation*}\n",
    "\\frac{1}{r^2}\\frac{\\partial}{\\partial r}\\left(r^2 u\\right) + \\frac{1}{r\\sin{\\theta}}\\frac{\\partial}{\\partial \\theta}\\left(\\sin{\\theta} v\\right) + \\frac{1}{r\\sin{\\theta}}\\frac{\\partial w}{\\partial \\phi} = 0\n",
    "\\end{equation*}"
   ]
  },
  {
   "cell_type": "markdown",
   "id": "d5b8b9cf",
   "metadata": {
    "slideshow": {
     "slide_type": "fragment"
    }
   },
   "source": [
    "**Navier-Stokes**\n",
    "<div class=\"full-width\">\n",
    "<p style=\"line-height:2.0em;\"></p>\n",
    "    \n",
    "\\begin{align*}\n",
    "\\rho \\left(\\frac{\\partial u}{\\partial t} + u\\frac{\\partial u}{\\partial r} + \\frac{v}{r}\\frac{\\partial u}{\\partial \\theta} + \\frac{v}{r\\sin{\\theta}}\\frac{\\partial u}{\\partial \\phi} - \\frac{v^2}{r}\\right) &= -\\frac{1}{r^2}\\frac{\\partial p}{\\partial r} + \\mu\\left(\\frac{1}{r^2}\\frac{\\partial}{\\partial r}\\left(r^2\\frac{\\partial u}{\\partial r}\\right) + \\frac{1}{r^2\\sin{\\theta}}\\frac{\\partial}{\\partial \\theta}\\left(\\sin{\\theta}\\frac{\\partial u}{\\partial \\theta}\\right) + \\frac{1}{r^2\\sin^2{\\theta}}\\frac{\\partial^2 u}{\\partial \\phi^2}\\right) + \\frac{g_r}{\\rho} \n",
    "\\\\\n",
    "\\rho \\left(\\frac{\\partial v}{\\partial t} + u\\frac{\\partial v}{\\partial r} + \\frac{v}{r}\\frac{\\partial v}{\\partial \\theta} + \\frac{v}{r\\sin{\\theta}}\\frac{\\partial v}{\\partial \\phi} + \\frac{u v}{r}\\right) &= -\\frac{1}{r^2\\sin{\\theta}}\\frac{\\partial p}{\\partial \\theta} + \\mu\\left(\\frac{1}{r^2}\\frac{\\partial}{\\partial r}\\left(r^2\\frac{\\partial v}{\\partial r}\\right) + \\frac{1}{r^2\\sin{\\theta}}\\frac{\\partial}{\\partial \\theta}\\left(\\sin{\\theta}\\frac{\\partial v}{\\partial \\theta}\\right) + \\frac{1}{r^2\\sin^2{\\theta}}\\frac{\\partial^2 v}{\\partial \\phi^2}\\right) + \\frac{g_\\theta}{\\rho} \n",
    "\\\\\n",
    "\\rho \\left(\\frac{\\partial w}{\\partial t} + u\\frac{\\partial w}{\\partial r} + \\frac{v}{r}\\frac{\\partial w}{\\partial \\theta} + \\frac{v}{r\\sin{\\theta}}\\frac{\\partial w}{\\partial \\phi}\\right) &= -\\frac{1}{r^2\\sin{\\theta}}\\frac{\\partial p}{\\partial \\phi} + \\mu\\left(\\frac{1}{r^2}\\frac{\\partial}{\\partial r}\\left(r^2\\frac{\\partial w}{\\partial r}\\right) + \\frac{1}{r^2\\sin{\\theta}}\\frac{\\partial}{\\partial \\theta}\\left(\\sin{\\theta}\\frac{\\partial w}{\\partial \\theta}\\right) + \\frac{1}{r^2\\sin^2{\\theta}}\\frac{\\partial^2 w}{\\partial \\phi^2}\\right) + \\frac{g_\\phi}{\\rho}\n",
    "\\end{align*}\n",
    "\n",
    "</div>"
   ]
  },
  {
   "cell_type": "markdown",
   "id": "33d3b1b6",
   "metadata": {
    "slideshow": {
     "slide_type": "slide"
    }
   },
   "source": [
    "## Referencias\n",
    "**Çengel Y. A. y Cimbala M. J. *Mecánica de Fluidos: Fundamentos y Aplicaciones*, 4ta Ed., McGraw Hill, 2018**\n",
    "- Capitulo 4. Cinemática de fluidos\n",
    "- Capitulo 9. Análisis diferencial de flujo de fluidos\n",
    "\n",
    "**White F. M. *Mecánica de Fluidos*, 5ta Ed., McGraw Hill, 2004**\n",
    "- Capítulo 4. Relaciones diferenciales para una partícula fluida\n"
   ]
  }
 ],
 "metadata": {
  "celltoolbar": "Slideshow",
  "kernelspec": {
   "display_name": "Python 3 (ipykernel)",
   "language": "python",
   "name": "python3"
  },
  "language_info": {
   "codemirror_mode": {
    "name": "ipython",
    "version": 3
   },
   "file_extension": ".py",
   "mimetype": "text/x-python",
   "name": "python",
   "nbconvert_exporter": "python",
   "pygments_lexer": "ipython3",
   "version": "3.9.13"
  },
  "latex_envs": {
   "LaTeX_envs_menu_present": true,
   "autoclose": false,
   "autocomplete": true,
   "bibliofile": "biblio.bib",
   "cite_by": "apalike",
   "current_citInitial": 1,
   "eqLabelWithNumbers": true,
   "eqNumInitial": 1,
   "hotkeys": {
    "equation": "Ctrl-E",
    "itemize": "Ctrl-I"
   },
   "labels_anchors": false,
   "latex_user_defs": false,
   "report_style_numbering": false,
   "user_envs_cfg": false
  },
  "rise": {
   "height": "100%",
   "theme": "simple",
   "width": "100%"
  },
  "toc": {
   "base_numbering": "1",
   "nav_menu": {},
   "number_sections": true,
   "sideBar": true,
   "skip_h1_title": true,
   "title_cell": "Contenidos",
   "title_sidebar": "Contenidos",
   "toc_cell": false,
   "toc_position": {
    "height": "calc(100% - 180px)",
    "left": "10px",
    "top": "150px",
    "width": "303.833px"
   },
   "toc_section_display": true,
   "toc_window_display": false
  },
  "varInspector": {
   "cols": {
    "lenName": 16,
    "lenType": 16,
    "lenVar": 40
   },
   "kernels_config": {
    "python": {
     "delete_cmd_postfix": "",
     "delete_cmd_prefix": "del ",
     "library": "var_list.py",
     "varRefreshCmd": "print(var_dic_list())"
    },
    "r": {
     "delete_cmd_postfix": ") ",
     "delete_cmd_prefix": "rm(",
     "library": "var_list.r",
     "varRefreshCmd": "cat(var_dic_list()) "
    }
   },
   "types_to_exclude": [
    "module",
    "function",
    "builtin_function_or_method",
    "instance",
    "_Feature"
   ],
   "window_display": false
  }
 },
 "nbformat": 4,
 "nbformat_minor": 5
}
