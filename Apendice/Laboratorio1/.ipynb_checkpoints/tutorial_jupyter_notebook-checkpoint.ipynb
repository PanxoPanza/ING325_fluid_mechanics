{
 "cells": [
  {
   "cell_type": "markdown",
   "id": "0c69496a",
   "metadata": {},
   "source": [
    "import numpy as np"
   ]
  },
  {
   "cell_type": "markdown",
   "id": "2981a4f6",
   "metadata": {},
   "source": [
    "esto es una prueba"
   ]
  },
  {
   "cell_type": "markdown",
   "id": "90f97fb6",
   "metadata": {},
   "source": [
    "# titulo 1\n",
    "## titulo 2\n",
    "### titulo 3\n",
    "Texto normal"
   ]
  },
  {
   "cell_type": "markdown",
   "id": "a773606e",
   "metadata": {},
   "source": [
    "Escribir una ecuación\n",
    "\\begin{equation}\n",
    "x = x^2+1\n",
    "\\end{equation}"
   ]
  },
  {
   "cell_type": "markdown",
   "id": "3b44d548",
   "metadata": {},
   "source": [
    "Tengo un texto y una ecuación dentro del texto $\\sin x = 3\\pi$"
   ]
  },
  {
   "cell_type": "markdown",
   "id": "97155bf6",
   "metadata": {},
   "source": [
    "Tabulaciones\n",
    "- item 1\n",
    "- item 2\n",
    "- item 3"
   ]
  },
  {
   "cell_type": "markdown",
   "id": "88c1640f",
   "metadata": {},
   "source": [
    "Item numerado\n",
    "1. primer 1\n",
    "\n",
    "    1.1. otra cosa\n",
    "\n",
    "- otra cosa\n",
    "2. segundo item\n",
    "3. tercer item"
   ]
  },
  {
   "cell_type": "code",
   "execution_count": null,
   "id": "51a063e2",
   "metadata": {},
   "outputs": [],
   "source": []
  }
 ],
 "metadata": {
  "kernelspec": {
   "display_name": "Python 3 (ipykernel)",
   "language": "python",
   "name": "python3"
  },
  "language_info": {
   "codemirror_mode": {
    "name": "ipython",
    "version": 3
   },
   "file_extension": ".py",
   "mimetype": "text/x-python",
   "name": "python",
   "nbconvert_exporter": "python",
   "pygments_lexer": "ipython3",
   "version": "3.9.12"
  },
  "toc": {
   "base_numbering": 1,
   "nav_menu": {},
   "number_sections": true,
   "sideBar": true,
   "skip_h1_title": false,
   "title_cell": "Table of Contents",
   "title_sidebar": "Contents",
   "toc_cell": false,
   "toc_position": {},
   "toc_section_display": true,
   "toc_window_display": false
  }
 },
 "nbformat": 4,
 "nbformat_minor": 5
}
