{
 "cells": [
  {
   "cell_type": "markdown",
   "id": "f31ea16e",
   "metadata": {
    "slideshow": {
     "slide_type": "slide"
    }
   },
   "source": [
    "## Aproximación para regiones no viscosas\n",
    "\n",
    "Es interesante analizar las ecuaciones de Navier-Stokes en regiones no viscosas. Como veremos, a partir de este análisis podemos evaluar la conservación de energía a lo largo de una línea de corriente. \n",
    "\n",
    "Primero, revisaremos algunos conceptos."
   ]
  },
  {
   "cell_type": "markdown",
   "id": "4ae2d85e",
   "metadata": {
    "slideshow": {
     "slide_type": "slide"
    }
   },
   "source": [
    "### Líneas de corriente\n",
    "\n",
    "Una **línea de corriente es una curva que, en todas partes, es *tangente a la velocidad local instantánea***. Son útiles para identificar el movimiento del fluido en todo el campo de flujo. "
   ]
  },
  {
   "cell_type": "markdown",
   "id": "684034c3",
   "metadata": {
    "slideshow": {
     "slide_type": "fragment"
    }
   },
   "source": [
    "<img src=\"./figures/linea_de_corriente.png\" width=\"750px\" align= center>"
   ]
  },
  {
   "cell_type": "markdown",
   "id": "8d208f18",
   "metadata": {
    "slideshow": {
     "slide_type": "slide"
    }
   },
   "source": [
    "### Vorticidad y rotacionalidad\n",
    "\n",
    "Es importante aclarar el concepto de rotación de una partícula fluida. Un flujo es rotacional si $\\nabla\\times\\vec{V} \\neq 0$. En este caso, los elementos de fluido giran."
   ]
  },
  {
   "cell_type": "markdown",
   "id": "c29bad66",
   "metadata": {},
   "source": [
    "<img src=\"./figures/flujo_viscoso_no-viscoso.png\" width=\"650px\" align= center>"
   ]
  },
  {
   "cell_type": "markdown",
   "id": "4f8d4cd0",
   "metadata": {
    "slideshow": {
     "slide_type": "slide"
    }
   },
   "source": [
    "Notar que no todos los flujos circulares son rotacionales:\n",
    "\n",
    "<img src=\"./figures/flujo_rotacional.png\" width=\"650px\" align= center>"
   ]
  },
  {
   "cell_type": "markdown",
   "id": "97291576",
   "metadata": {
    "slideshow": {
     "slide_type": "slide"
    }
   },
   "source": [
    "### Conservación de energía en regiones no viscosas"
   ]
  },
  {
   "cell_type": "markdown",
   "id": "652c29bb",
   "metadata": {
    "slideshow": {
     "slide_type": "fragment"
    }
   },
   "source": [
    "Como revisamos en la unidad de [flujo externo](../06_Flujo_externo/06_Flujo_externo.ipynb) el desarrollo de la capa límite alrededor del cuerpo permite separar el flujo en una región viscosa y otra no viscosa"
   ]
  },
  {
   "cell_type": "markdown",
   "id": "eea36558",
   "metadata": {},
   "source": [
    "<img src=\"./figures/viscous_non-viscous.png\" width=\"650px\" align= center>"
   ]
  },
  {
   "cell_type": "markdown",
   "id": "9e04abce",
   "metadata": {
    "slideshow": {
     "slide_type": "slide"
    }
   },
   "source": [
    "En la región fuera de la capa límite, las fuerzas viscosas son despresiables, es decir $\\mu\\nabla^2\\vec{V} \\approx 0$, y la ecuación de Navier-Stokes se convierte en la **ecuación de Euler:**\n",
    "\n",
    "\\begin{equation}\n",
    "\\rho\\left[\\frac{\\partial\\vec{V}}{\\partial t} + \\vec{V}\\cdot\\nabla\\vec{V}\\right] = - \\nabla p + \\rho\\vec{g}\n",
    "\\end{equation}"
   ]
  },
  {
   "cell_type": "markdown",
   "id": "41b2c19a",
   "metadata": {
    "slideshow": {
     "slide_type": "fragment"
    }
   },
   "source": [
    "A partir de las siguientes identidades:\n",
    "\n",
    "- $\\vec{g} = - g\\hat{z} = - g\\nabla(z) = \\nabla(-gz)$\n",
    "- $\\vec{V}\\cdot\\nabla\\vec{V} = \\nabla\\left(\\frac{1}{2} V^2\\right) - \\vec{V}\\times\\nabla\\times\\vec{V}$ (*donde $V = |\\vec{V}|$*)"
   ]
  },
  {
   "cell_type": "markdown",
   "id": "541f0f6d",
   "metadata": {
    "slideshow": {
     "slide_type": "fragment"
    }
   },
   "source": [
    "Tenemos:\n",
    "\\begin{equation*}\n",
    "\\nabla\\left(\\frac{1}{2}V^2 + \\frac{p}{\\rho} + gz\\right) = \\vec{V}\\times\\nabla\\times\\vec{V}\n",
    "\\end{equation*}"
   ]
  },
  {
   "cell_type": "markdown",
   "id": "6ddc887c",
   "metadata": {
    "cell_style": "center",
    "slideshow": {
     "slide_type": "slide"
    }
   },
   "source": [
    "Luego, si integramos esta ecuación a lo largo de una línea de corriente:\n",
    "\n",
    "\\begin{align}\n",
    "\\int \\nabla\\left(\\frac{1}{2}V^2 + \\frac{p}{\\rho} + gz\\right) \\cdot d\\vec{r} &= \\int\\vec{V}\\times\\nabla\\times\\vec{V}\\cdot d\\vec{r} \\notag\n",
    "\\\\\n",
    "\\int d\\left(\\frac{1}{2}V^2 + \\frac{p}{\\rho} + gz\\right) &= 0 \\notag \\Rightarrow\n",
    "\\\\\n",
    "\\frac{1}{2}V^2 + \\frac{p}{\\rho} + gz &= C\n",
    "\\end{align}"
   ]
  },
  {
   "cell_type": "markdown",
   "id": "42c4a927",
   "metadata": {
    "slideshow": {
     "slide_type": "fragment"
    }
   },
   "source": [
    "donde:\n",
    " - $\\vec{r}$ corresponde al vector de posición a lo largo de la línea de corriente\n",
    " - El lado derecho de la ecuación $\\int\\vec{V}\\times\\nabla\\times\\vec{V}\\cdot d\\vec{r} = 0$, por definición de línea de corriente.\n",
    " - Para un escalar $f$, tenemos que $\\nabla f\\cdot d\\vec{r} = df$."
   ]
  },
  {
   "cell_type": "markdown",
   "id": "9dcb9bf2",
   "metadata": {
    "slideshow": {
     "slide_type": "slide"
    }
   },
   "source": [
    "La ecuación (8.2) es la **ecuación de Bernoulli a lo largo de una línea de corriente en la región no viscosa.** La ecuación indica que, a lo largo de una línea de corriente en la región no viscosa, la energía se conserva. Esta relación es de utilizada, por ejemplo, para analizar los efectos de sustentación en perfiles aerodinámicos."
   ]
  }
 ],
 "metadata": {
  "kernelspec": {
   "display_name": "Python 3 (ipykernel)",
   "language": "python",
   "name": "python3"
  },
  "language_info": {
   "codemirror_mode": {
    "name": "ipython",
    "version": 3
   },
   "file_extension": ".py",
   "mimetype": "text/x-python",
   "name": "python",
   "nbconvert_exporter": "python",
   "pygments_lexer": "ipython3",
   "version": "3.9.13"
  },
  "toc": {
   "base_numbering": 1,
   "nav_menu": {},
   "number_sections": true,
   "sideBar": true,
   "skip_h1_title": true,
   "title_cell": "Tabla de contenidos",
   "title_sidebar": "Contenidos",
   "toc_cell": false,
   "toc_position": {},
   "toc_section_display": true,
   "toc_window_display": false
  }
 },
 "nbformat": 4,
 "nbformat_minor": 5
}
